{
 "cells": [
  {
   "cell_type": "markdown",
   "id": "173f1d26-91a7-45ab-acf1-bd5f0a095cea",
   "metadata": {},
   "source": [
    "# jupyterNodebook"
   ]
  },
  {
   "cell_type": "markdown",
   "id": "ca781b96-5c2f-4c7b-a2f1-9a20cd63762c",
   "metadata": {},
   "source": [
    "数据分析的最终目的是“讲述一个数据的故事”。Jupyter 允许你将：\n",
    "1.代码\n",
    "2.代码的输出（表格、图表）\n",
    "3.文字说明（使用 Markdown）\n",
    "4.数学公式（使用 LaTeX）\n",
    "全部整合在同一个文档里。这使得你的分析过程本身就是一份清晰、可读、可复现的报告。而且它可以指定各部分代码运行，而不是一运行就全身！"
   ]
  },
  {
   "cell_type": "markdown",
   "id": "38a57124-5dd2-49c3-b86c-0baab0a5a5a0",
   "metadata": {},
   "source": [
    ">Jupyter Notebook 的单元格结构允许用户分块执行代码，并立即查看结果。这意味着你可以加载一小部分数据，进行清洗或转换，然后马上检查结果是否符合预期，而无需每次都从头运行整个脚本<br>数据分析的最终目的往往是从数据中提炼见解并讲给他人听。Jupyter Notebook 支持将代码、执行结果、Markdown文本、数学公式和可视化图表整合在同一个文档中。这使得数据分析师可以像写报告一样，在代码旁边添加文字说明、解释思路、嵌入图表，最终形成一个逻辑清晰、图文并茂的分析报告。<br>Jupyter Notebook 能够无缝集成Python数据科学栈的核心库，使其成为一个强大的工作台<br>对于数据分析项目的核心阶段（探索、分析、建模、展示），在 Jupyter Notebook 上进行通常是更好的选择。<br>它本身是个json文件，可以同时使用python代码以及简单交互式指令，最终还是要从 Notebook 迁移到结构化的 Python 脚本中。"
   ]
  },
  {
   "cell_type": "markdown",
   "id": "e0e12411-25e2-44a5-9d94-140c9b9ef175",
   "metadata": {},
   "source": [
    "#### 四级标题（能管住6管不住3）"
   ]
  },
  {
   "cell_type": "markdown",
   "id": "08467282-e89a-4113-9bce-e7d6fa50e537",
   "metadata": {},
   "source": [
    "$$ x^3+y^5=z^6 $$"
   ]
  },
  {
   "cell_type": "markdown",
   "id": "17503c65-484b-4ce8-81d0-bde5bfdfec62",
   "metadata": {},
   "source": [
    "**选中code单元格后按m即可快速转为markdown<br>选中单元格后按b即可新建一个code单元格**"
   ]
  },
  {
   "cell_type": "markdown",
   "id": "8e26b986-2c75-44f3-a042-ab02036266cf",
   "metadata": {},
   "source": [
    "c是复制v粘贴x为剪贴，ctrl+f find"
   ]
  },
  {
   "cell_type": "markdown",
   "id": "6008ca32-ceb0-4bb4-9518-dc0045868e79",
   "metadata": {},
   "source": [
    "esc退出编辑enter进入编辑 ctrl+shift+上下实现单元格移动"
   ]
  },
  {
   "cell_type": "markdown",
   "id": "c772a5e1-15e1-4321-94d2-ffb8c5496cfc",
   "metadata": {},
   "source": []
  },
  {
   "cell_type": "markdown",
   "id": "309942f7-bc12-4e83-a7f8-8a5535216786",
   "metadata": {},
   "source": []
  },
  {
   "cell_type": "markdown",
   "id": "3d47595b-5613-4179-950e-f87fc2fc9ecf",
   "metadata": {},
   "source": [
    "$ x^2+y!=z*j*i $"
   ]
  },
  {
   "cell_type": "markdown",
   "id": "0b57c37e-632d-40ba-81e5-efa2a633d8de",
   "metadata": {},
   "source": [
    "###### 六级标题 "
   ]
  },
  {
   "cell_type": "markdown",
   "id": "e6949fc5-9e55-435f-8796-8bfd3fae0da7",
   "metadata": {},
   "source": [
    "### 三级标题"
   ]
  },
  {
   "cell_type": "code",
   "execution_count": 1,
   "id": "da3b448d-3726-46bb-b7d2-6ad20992387f",
   "metadata": {},
   "outputs": [
    {
     "name": "stdout",
     "output_type": "stream",
     "text": [
      "hello\n"
     ]
    }
   ],
   "source": [
    "print(\"hello\")"
   ]
  },
  {
   "cell_type": "code",
   "execution_count": 2,
   "id": "668b379c-45f2-4078-be0f-58559bf1fc70",
   "metadata": {},
   "outputs": [
    {
     "name": "stdout",
     "output_type": "stream",
     "text": [
      "注意：运行后左边[]内数字记录当前框内是第几次运行\n"
     ]
    }
   ],
   "source": [
    "print(\"注意：运行后左边[]内数字记录当前框内是第几次运行\")"
   ]
  },
  {
   "cell_type": "code",
   "execution_count": 3,
   "id": "3374c3ec-923f-456e-9559-5f1b0c7d78eb",
   "metadata": {},
   "outputs": [
    {
     "name": "stdout",
     "output_type": "stream",
     "text": [
      "jupyter\n"
     ]
    }
   ],
   "source": [
    "print(\"jupyter\")"
   ]
  },
  {
   "cell_type": "code",
   "execution_count": 4,
   "id": "b0d4b402-aab1-4540-9d0c-628b8ae3d24d",
   "metadata": {},
   "outputs": [
    {
     "name": "stdout",
     "output_type": "stream",
     "text": [
      "注意：多条交互式命令在同一个框内则只会显示最后一条运行结果，要想都显示只能都print\n"
     ]
    }
   ],
   "source": [
    "print(\"注意：多条交互式命令在同一个框内则只会显示最后一条运行结果，要想都显示可通过print\")"
   ]
  },
  {
   "cell_type": "code",
   "execution_count": 5,
   "id": "21165ea3-ecda-4938-9ad6-9a04c3bcdd36",
   "metadata": {},
   "outputs": [
    {
     "data": {
      "text/plain": [
       "'hello'"
      ]
     },
     "execution_count": 5,
     "metadata": {},
     "output_type": "execute_result"
    }
   ],
   "source": [
    "1+2\n",
    "\"hello\""
   ]
  },
  {
   "cell_type": "code",
   "execution_count": 6,
   "id": "cc3e41a3-a7d2-448f-9ab6-5cac289fbefa",
   "metadata": {},
   "outputs": [
    {
     "name": "stdout",
     "output_type": "stream",
     "text": [
      "1+2\n",
      "hello\n"
     ]
    }
   ],
   "source": [
    "print(\"1+2\")\n",
    "print(\"hello\")"
   ]
  },
  {
   "cell_type": "code",
   "execution_count": 7,
   "id": "827b1815-42d1-4159-ac87-037419aa67ac",
   "metadata": {},
   "outputs": [
    {
     "name": "stdout",
     "output_type": "stream",
     "text": [
      "未重启时对a赋值会在下次输出3，在重启后则会未命名\n"
     ]
    }
   ],
   "source": [
    "print(\"未重启时对a赋值会在下次输出3，在重启后则会未命名\")"
   ]
  },
  {
   "cell_type": "markdown",
   "id": "0ec6f9fb-6b2d-439a-b3a1-271e0325ebcc",
   "metadata": {},
   "source": [
    "#### 未重启a"
   ]
  },
  {
   "cell_type": "code",
   "execution_count": 8,
   "id": "29f54805-9b95-4816-bba8-2e4adee70716",
   "metadata": {},
   "outputs": [],
   "source": [
    "a=3"
   ]
  },
  {
   "cell_type": "code",
   "execution_count": 9,
   "id": "93a14bea-563c-4683-ac59-85a4428affee",
   "metadata": {},
   "outputs": [
    {
     "data": {
      "text/plain": [
       "3"
      ]
     },
     "execution_count": 9,
     "metadata": {},
     "output_type": "execute_result"
    }
   ],
   "source": [
    "a"
   ]
  },
  {
   "cell_type": "markdown",
   "id": "f0a710cb-8a44-4abc-9686-b0511c2bbe33",
   "metadata": {},
   "source": [
    "#### 重启a"
   ]
  },
  {
   "cell_type": "code",
   "execution_count": 10,
   "id": "e7262dcd-adcc-4f29-b2f3-e18f5645003e",
   "metadata": {},
   "outputs": [],
   "source": [
    "a=3"
   ]
  },
  {
   "cell_type": "code",
   "execution_count": 11,
   "id": "859fcf5d-0dea-4609-ba5e-ae7e01e30717",
   "metadata": {},
   "outputs": [
    {
     "data": {
      "text/plain": [
       "3"
      ]
     },
     "execution_count": 11,
     "metadata": {},
     "output_type": "execute_result"
    }
   ],
   "source": [
    "a"
   ]
  },
  {
   "cell_type": "markdown",
   "id": "252d88ed-c214-4a24-ac5c-15ec9e5cee35",
   "metadata": {},
   "source": [
    "*在命令模式下（esc）dd是删除当前单元格，a在当前单元格上方插入b是下方，shift+enter执行当前单元格并跳到下一个单元格-这是一个斜体*"
   ]
  },
  {
   "cell_type": "markdown",
   "id": "9d99a7f6-7478-4e18-8575-c2b31841a471",
   "metadata": {},
   "source": [
    "[B站](https://www.bilibili.com/)"
   ]
  },
  {
   "cell_type": "code",
   "execution_count": null,
   "id": "6d69bfbc-b196-4b7e-b7af-c24965acf215",
   "metadata": {},
   "outputs": [],
   "source": []
  },
  {
   "cell_type": "code",
   "execution_count": null,
   "id": "1922a9ee-9755-41fa-ab39-52311a05abe8",
   "metadata": {},
   "outputs": [],
   "source": []
  },
  {
   "cell_type": "markdown",
   "id": "c2eb6f0b-380d-425b-b432-a3359c06328c",
   "metadata": {},
   "source": [
    "# **以下下是*markdown*的具体用法，单元格必须是markdown格式否则会报错**"
   ]
  },
  {
   "cell_type": "markdown",
   "id": "e1881d36-9fa7-40ea-a205-1a1fbc8cac78",
   "metadata": {},
   "source": [
    "# 大标题包住小标题"
   ]
  },
  {
   "cell_type": "markdown",
   "id": "7e361fcb-ebc3-4a90-be65-38f749069563",
   "metadata": {},
   "source": [
    "## 2"
   ]
  },
  {
   "cell_type": "markdown",
   "id": "cec9818e-8be3-40e5-b073-3c19c8742bbf",
   "metadata": {},
   "source": [
    "### 3"
   ]
  },
  {
   "cell_type": "markdown",
   "id": "40acc926-8f54-4a0c-9e95-585e429f947f",
   "metadata": {},
   "source": [
    "#### 4"
   ]
  },
  {
   "cell_type": "markdown",
   "id": "91e63298-5021-4cfc-9a77-817ebd8a8b12",
   "metadata": {},
   "source": [
    "##### 5"
   ]
  },
  {
   "cell_type": "markdown",
   "id": "f9a9a356-c00c-4239-851c-e70de1e94bab",
   "metadata": {},
   "source": [
    "###### 6"
   ]
  },
  {
   "cell_type": "markdown",
   "id": "91b99cfd-7f77-41e9-87f4-a3a988227b33",
   "metadata": {},
   "source": [
    "**粗体**"
   ]
  },
  {
   "cell_type": "markdown",
   "id": "ece266d2-a382-4fd4-804f-6f16bebff2ce",
   "metadata": {},
   "source": [
    "*斜体*"
   ]
  },
  {
   "cell_type": "code",
   "execution_count": 12,
   "id": "2663aca8-2ea1-4f16-ba48-b65e9d0eedd1",
   "metadata": {},
   "outputs": [
    {
     "name": "stdout",
     "output_type": "stream",
     "text": [
      "注意#后要加空格，*或**后不要加空格要连着写\n"
     ]
    }
   ],
   "source": [
    "print('注意#后要加空格，*或**后不要加空格要连着写') "
   ]
  },
  {
   "cell_type": "markdown",
   "id": "897b1b1a-6f91-4cb3-a387-9572c79a9bbb",
   "metadata": {},
   "source": [
    "~~内容~~被划了"
   ]
  },
  {
   "cell_type": "markdown",
   "id": "9e5080e8-8d50-49a9-a436-77b162d54c5c",
   "metadata": {},
   "source": [
    "- 这是第一行，空格勿忘\n",
    "- 这是第二行\n",
    "- 这是第三行"
   ]
  },
  {
   "cell_type": "markdown",
   "id": "847f4563-3c3f-4856-954e-cccdee897eb6",
   "metadata": {},
   "source": [
    "1. 1th空格勿忘\n",
    "2. 2th\n",
    "3. 3th"
   ]
  },
  {
   "cell_type": "markdown",
   "id": "4a83aaee-7503-4a32-8e20-d6f976158aed",
   "metadata": {},
   "source": [
    "[B站](https://www.bilibili.com/)"
   ]
  },
  {
   "cell_type": "markdown",
   "id": "4235990b-3463-4260-b78a-c77a15f41928",
   "metadata": {},
   "source": [
    "- ![python图标](https://imgapi.imooc.com/67370e1f09df3d6310241024.jpg)\n",
    "- 网上找到图片后右击选择复制图像链接并粘贴至()内即可\n",
    "- []内的内容用于当图片显示不了时候作为输出,正常显示则不会显示\n",
    "- ![python图标]()"
   ]
  },
  {
   "cell_type": "markdown",
   "id": "5e5f4e78-8d6c-4b04-8381-dec5707637c5",
   "metadata": {},
   "source": [
    "> 不会因为你换行\n",
    "> 而且显示为换行"
   ]
  },
  {
   "cell_type": "markdown",
   "id": "c217abd4-8ff7-4cb3-9b79-be735976e158",
   "metadata": {},
   "source": [
    "> 此时可以 <br>换行"
   ]
  },
  {
   "cell_type": "markdown",
   "id": "a14c8925-85e4-455a-9540-f6e5657d6085",
   "metadata": {},
   "source": [
    "这里通过反引号`print(\"nihao\")`来显示代码内容"
   ]
  },
  {
   "cell_type": "markdown",
   "id": "3023c1c8-fda6-4155-be42-a7866d6cf897",
   "metadata": {},
   "source": [
    "```python\n",
    "\n",
    "def f:\n",
    "    return print(\"我们可以通过三个反引号包裹代码段一定是英文＋语言名称来显示该语言的语法高亮\")\n",
    "    \n",
    "```"
   ]
  },
  {
   "cell_type": "markdown",
   "id": "10a2d1e5-279b-4d60-bcc3-02865e8f35d4",
   "metadata": {},
   "source": [
    "显示在同一行：$      x^2+y^3  $"
   ]
  },
  {
   "cell_type": "markdown",
   "id": "6110a0a0-2d56-4c77-be6e-864d6ac61d98",
   "metadata": {},
   "source": [
    "显示在下一行: $$           x^3+y^2 $$"
   ]
  },
  {
   "cell_type": "markdown",
   "id": "e37ad11d-1de1-4afd-a553-c535f155a1cc",
   "metadata": {},
   "source": [
    "# *latex是一个排版系统但对数学公式的格式化显示很好，所以我们常在 jupyter notebook中用latex在markdown中插入数学公式*"
   ]
  },
  {
   "cell_type": "markdown",
   "id": "9ae7822d-cbec-4c10-af72-7c93cff93f5b",
   "metadata": {},
   "source": [
    "> $x+y$    <br>$x-y$ <br>$x \\times y$   <br>$x \\div y$"
   ]
  },
  {
   "cell_type": "markdown",
   "id": "27e105c2-ed74-43c6-b7ec-922cd2580268",
   "metadata": {},
   "source": [
    "$$ x^3$$ $$H_2O$$ $$S_{input}$$"
   ]
  },
  {
   "cell_type": "markdown",
   "id": "d1a1573d-6bd3-4b05-8f1a-4b6a76f3a9db",
   "metadata": {},
   "source": [
    "$$\\sum(x^2)$$ $$\\sqrt[4]x$$ $$\\sqrt[3]{a^2m^3}$$ $$\\sqrt[3]a^2m^3$$"
   ]
  },
  {
   "cell_type": "markdown",
   "id": "6b4f710c-ef36-4d6e-8b36-98ad0b765c01",
   "metadata": {},
   "source": [
    "$$\\frac{x+y}{x^3}$$"
   ]
  },
  {
   "cell_type": "markdown",
   "id": "904cf5df-8009-486a-946f-bfb0ac7f5da8",
   "metadata": {},
   "source": [
    "## **以上是常用的，不常用的遇到后问ai，相关latex表示即可**"
   ]
  },
  {
   "cell_type": "code",
   "execution_count": null,
   "id": "642b560a-880d-47d3-be9a-ec94e0258831",
   "metadata": {},
   "outputs": [],
   "source": []
  }
 ],
 "metadata": {
  "kernelspec": {
   "display_name": "Python 3 (ipykernel)",
   "language": "python",
   "name": "python3"
  },
  "language_info": {
   "codemirror_mode": {
    "name": "ipython",
    "version": 3
   },
   "file_extension": ".py",
   "mimetype": "text/x-python",
   "name": "python",
   "nbconvert_exporter": "python",
   "pygments_lexer": "ipython3",
   "version": "3.12.0"
  }
 },
 "nbformat": 4,
 "nbformat_minor": 5
}
