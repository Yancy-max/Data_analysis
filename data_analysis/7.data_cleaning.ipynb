{
 "cells": [
  {
   "cell_type": "markdown",
   "id": "ef925a04-c7cf-4817-a673-edfab29ca167",
   "metadata": {
    "jp-MarkdownHeadingCollapsed": true
   },
   "source": [
    "# 前言"
   ]
  },
  {
   "cell_type": "markdown",
   "id": "9de87e76-51ae-46d6-8552-a7f5ee796d44",
   "metadata": {},
   "source": [
    "1. 先做简单的“数据评估”—用df.head()看前几行数据结构、df.info()查看数据类型和缺失值分布、df.describe()了解数值型数据的统计特征（如是否有异常值），这一步能帮你精准定位“脏数据”在哪，避免后续清洗盲目操作。\n",
    "2. 读取文件（如CSV，Excel,json）生成DataFrame（由多个Series组成的二维表）,通过pandas库中提供的方法对df/s数据从数据结构，内容方面进行清理\n",
    "3. 最后，写入文件保存前，建议增加“清洗验证”环节。避免清洗后仍有遗漏：比如用df.isnull().sum()再次检查是否还有未处理的缺失值，用df.duplicated().sum()确认重复值已清除，用df.dtypes验证数据格式是否符合预期。确认无误后，再用df.to_csv()或df.to_excel()写入文件，形成“评估→清洗→验证→保存”的完整闭环。\n"
   ]
  },
  {
   "cell_type": "markdown",
   "id": "393d790b-50e1-4b18-ad22-283d99a802fb",
   "metadata": {},
   "source": [
    "\n",
    "1. [Pandas 官方文档主页](https://pandas.pydata.org/docs/reference/)\n",
    "2. [Series 方法相关文档](https://pandas.pydata.org/docs/reference/api/pandas.Series.html)\n",
    "3. [DataFrame 方法相关文档](https://pandas.pydata.org/docs/reference/api/pandas.DataFrame.html)\n"
   ]
  },
  {
   "cell_type": "markdown",
   "id": "b6f62153-dff4-4e46-8df9-128b4746f4fb",
   "metadata": {},
   "source": [
    "pandas库下的一些默认操作：<br>\n",
    "axis=0 是默认值对每一列进行操作<br>大多数Pandas方法的inplace参数默认为False即会返回一个新的对象，而不修改原始数据<br>在去重复值中keep='first' 即默认保留第一次出现的重复项<br>df.sum()默认跳过NaN值进行计算<br>df.to_csv(\"file.csv\")默认会保存索引列从而导致再读取的时候会把该列当作属性列处理这就需要我们写入时df.to_csv(\"file.csv\", index=False)手动确保不默认保存标签列"
   ]
  },
  {
   "cell_type": "code",
   "execution_count": 1,
   "id": "4ffd2dd4-e2b9-4db0-b4b7-d18d14594e35",
   "metadata": {},
   "outputs": [],
   "source": [
    "import pandas as pd"
   ]
  },
  {
   "cell_type": "markdown",
   "id": "a5231129-4c75-4b47-9b52-ac5bd33d5cb1",
   "metadata": {},
   "source": [
    "# 清洗索引与列名"
   ]
  },
  {
   "cell_type": "markdown",
   "id": "75125bf2-cbbb-4d23-9b74-301add57e7d4",
   "metadata": {
    "jp-MarkdownHeadingCollapsed": true
   },
   "source": [
    "## 对索引和列名重命名（使用字典）"
   ]
  },
  {
   "cell_type": "markdown",
   "id": "43f0b68a-e286-4fe6-9e98-9b72fcb3dcd5",
   "metadata": {},
   "source": [
    "在读取数据后若发现数据的索引亦或是列名乱七八糟则可以用dataframe的rename方法\n",
    "- 改索引：df1.rename(index={})\n",
    "- 改列名: df1.rename(columns={})"
   ]
  },
  {
   "cell_type": "code",
   "execution_count": 7,
   "id": "fb499ff2-55db-4bb4-927f-d3c3c02edff7",
   "metadata": {},
   "outputs": [
    {
     "data": {
      "text/html": [
       "<div>\n",
       "<style scoped>\n",
       "    .dataframe tbody tr th:only-of-type {\n",
       "        vertical-align: middle;\n",
       "    }\n",
       "\n",
       "    .dataframe tbody tr th {\n",
       "        vertical-align: top;\n",
       "    }\n",
       "\n",
       "    .dataframe thead th {\n",
       "        text-align: right;\n",
       "    }\n",
       "</style>\n",
       "<table border=\"1\" class=\"dataframe\">\n",
       "  <thead>\n",
       "    <tr style=\"text-align: right;\">\n",
       "      <th></th>\n",
       "      <th>Unnamed: 0</th>\n",
       "      <th>客户_姓名</th>\n",
       "      <th>客户 性别</th>\n",
       "      <th>age</th>\n",
       "      <th>邮箱</th>\n",
       "    </tr>\n",
       "  </thead>\n",
       "  <tbody>\n",
       "    <tr>\n",
       "      <th>0</th>\n",
       "      <td>1</td>\n",
       "      <td>李十</td>\n",
       "      <td>女</td>\n",
       "      <td>58</td>\n",
       "      <td>yVaQXekW@example.com</td>\n",
       "    </tr>\n",
       "    <tr>\n",
       "      <th>1</th>\n",
       "      <td>2_</td>\n",
       "      <td>冯三</td>\n",
       "      <td>男</td>\n",
       "      <td>27</td>\n",
       "      <td>LctXbrEM@example.com</td>\n",
       "    </tr>\n",
       "    <tr>\n",
       "      <th>2</th>\n",
       "      <td>3</td>\n",
       "      <td>吴十</td>\n",
       "      <td>男</td>\n",
       "      <td>32</td>\n",
       "      <td>UyTYBzUZ@example.com</td>\n",
       "    </tr>\n",
       "    <tr>\n",
       "      <th>3</th>\n",
       "      <td>4</td>\n",
       "      <td>王十</td>\n",
       "      <td>女</td>\n",
       "      <td>58</td>\n",
       "      <td>KCixgciF@example.com</td>\n",
       "    </tr>\n",
       "    <tr>\n",
       "      <th>4</th>\n",
       "      <td>_5</td>\n",
       "      <td>钱十</td>\n",
       "      <td>女</td>\n",
       "      <td>27</td>\n",
       "      <td>nqRBXOtA@example.com</td>\n",
       "    </tr>\n",
       "    <tr>\n",
       "      <th>5</th>\n",
       "      <td>6*</td>\n",
       "      <td>赵八</td>\n",
       "      <td>女</td>\n",
       "      <td>51</td>\n",
       "      <td>GyKwILAL@example.com</td>\n",
       "    </tr>\n",
       "  </tbody>\n",
       "</table>\n",
       "</div>"
      ],
      "text/plain": [
       "  Unnamed: 0 客户_姓名 客户 性别  age                    邮箱\n",
       "0          1    李十     女   58  yVaQXekW@example.com\n",
       "1         2_    冯三     男   27  LctXbrEM@example.com\n",
       "2          3    吴十     男   32  UyTYBzUZ@example.com\n",
       "3          4    王十     女   58  KCixgciF@example.com\n",
       "4         _5    钱十     女   27  nqRBXOtA@example.com\n",
       "5         6*    赵八     女   51  GyKwILAL@example.com"
      ]
     },
     "execution_count": 7,
     "metadata": {},
     "output_type": "execute_result"
    }
   ],
   "source": [
    "df1 = pd.read_csv(r\"F:\\BaiduNetdiskDownload\\数据分析课程操作的文件\\04数据评估与清洗篇\\example1.csv\")\n",
    "df1"
   ]
  },
  {
   "cell_type": "markdown",
   "id": "db4d13ae-2b0a-4606-9045-fecb8ddf3874",
   "metadata": {},
   "source": [
    "*在对json文件与csv文件使用read函数时候，当文件中没有表头的时候要加入可选参数header = None可以让pandas不以第一行数据作为表头当你不想用默认的下标012来索引每一行数据可以加入可选参数index_col=0 <br>意思是：把 CSV 文件里的第一列（第0列）当作 DataFrame 的行索引（行标签），而不是当作普通的数据列。*"
   ]
  },
  {
   "cell_type": "code",
   "execution_count": 8,
   "id": "e402d41e-01dc-4609-8482-3a7831d82c42",
   "metadata": {},
   "outputs": [
    {
     "data": {
      "text/html": [
       "<div>\n",
       "<style scoped>\n",
       "    .dataframe tbody tr th:only-of-type {\n",
       "        vertical-align: middle;\n",
       "    }\n",
       "\n",
       "    .dataframe tbody tr th {\n",
       "        vertical-align: top;\n",
       "    }\n",
       "\n",
       "    .dataframe thead th {\n",
       "        text-align: right;\n",
       "    }\n",
       "</style>\n",
       "<table border=\"1\" class=\"dataframe\">\n",
       "  <thead>\n",
       "    <tr style=\"text-align: right;\">\n",
       "      <th></th>\n",
       "      <th>客户_姓名</th>\n",
       "      <th>客户 性别</th>\n",
       "      <th>age</th>\n",
       "      <th>邮箱</th>\n",
       "    </tr>\n",
       "  </thead>\n",
       "  <tbody>\n",
       "    <tr>\n",
       "      <th>1</th>\n",
       "      <td>李十</td>\n",
       "      <td>女</td>\n",
       "      <td>58</td>\n",
       "      <td>yVaQXekW@example.com</td>\n",
       "    </tr>\n",
       "    <tr>\n",
       "      <th>2_</th>\n",
       "      <td>冯三</td>\n",
       "      <td>男</td>\n",
       "      <td>27</td>\n",
       "      <td>LctXbrEM@example.com</td>\n",
       "    </tr>\n",
       "    <tr>\n",
       "      <th>3</th>\n",
       "      <td>吴十</td>\n",
       "      <td>男</td>\n",
       "      <td>32</td>\n",
       "      <td>UyTYBzUZ@example.com</td>\n",
       "    </tr>\n",
       "    <tr>\n",
       "      <th>4</th>\n",
       "      <td>王十</td>\n",
       "      <td>女</td>\n",
       "      <td>58</td>\n",
       "      <td>KCixgciF@example.com</td>\n",
       "    </tr>\n",
       "    <tr>\n",
       "      <th>_5</th>\n",
       "      <td>钱十</td>\n",
       "      <td>女</td>\n",
       "      <td>27</td>\n",
       "      <td>nqRBXOtA@example.com</td>\n",
       "    </tr>\n",
       "    <tr>\n",
       "      <th>6*</th>\n",
       "      <td>赵八</td>\n",
       "      <td>女</td>\n",
       "      <td>51</td>\n",
       "      <td>GyKwILAL@example.com</td>\n",
       "    </tr>\n",
       "  </tbody>\n",
       "</table>\n",
       "</div>"
      ],
      "text/plain": [
       "   客户_姓名 客户 性别  age                    邮箱\n",
       "1     李十     女   58  yVaQXekW@example.com\n",
       "2_    冯三     男   27  LctXbrEM@example.com\n",
       "3     吴十     男   32  UyTYBzUZ@example.com\n",
       "4     王十     女   58  KCixgciF@example.com\n",
       "_5    钱十     女   27  nqRBXOtA@example.com\n",
       "6*    赵八     女   51  GyKwILAL@example.com"
      ]
     },
     "execution_count": 8,
     "metadata": {},
     "output_type": "execute_result"
    }
   ],
   "source": [
    "df2 = pd.read_csv(r\"F:\\BaiduNetdiskDownload\\数据分析课程操作的文件\\04数据评估与清洗篇\\example1.csv\",index_col=0)\n",
    "df2"
   ]
  },
  {
   "cell_type": "code",
   "execution_count": 9,
   "id": "24656eff-b5d0-4053-916b-dadb14186754",
   "metadata": {},
   "outputs": [
    {
     "data": {
      "text/html": [
       "<div>\n",
       "<style scoped>\n",
       "    .dataframe tbody tr th:only-of-type {\n",
       "        vertical-align: middle;\n",
       "    }\n",
       "\n",
       "    .dataframe tbody tr th {\n",
       "        vertical-align: top;\n",
       "    }\n",
       "\n",
       "    .dataframe thead th {\n",
       "        text-align: right;\n",
       "    }\n",
       "</style>\n",
       "<table border=\"1\" class=\"dataframe\">\n",
       "  <thead>\n",
       "    <tr style=\"text-align: right;\">\n",
       "      <th></th>\n",
       "      <th>客户_姓名</th>\n",
       "      <th>客户 性别</th>\n",
       "      <th>age</th>\n",
       "      <th>邮箱</th>\n",
       "    </tr>\n",
       "  </thead>\n",
       "  <tbody>\n",
       "    <tr>\n",
       "      <th>1</th>\n",
       "      <td>李十</td>\n",
       "      <td>女</td>\n",
       "      <td>58</td>\n",
       "      <td>yVaQXekW@example.com</td>\n",
       "    </tr>\n",
       "    <tr>\n",
       "      <th>2</th>\n",
       "      <td>冯三</td>\n",
       "      <td>男</td>\n",
       "      <td>27</td>\n",
       "      <td>LctXbrEM@example.com</td>\n",
       "    </tr>\n",
       "    <tr>\n",
       "      <th>3</th>\n",
       "      <td>吴十</td>\n",
       "      <td>男</td>\n",
       "      <td>32</td>\n",
       "      <td>UyTYBzUZ@example.com</td>\n",
       "    </tr>\n",
       "    <tr>\n",
       "      <th>4</th>\n",
       "      <td>王十</td>\n",
       "      <td>女</td>\n",
       "      <td>58</td>\n",
       "      <td>KCixgciF@example.com</td>\n",
       "    </tr>\n",
       "    <tr>\n",
       "      <th>5</th>\n",
       "      <td>钱十</td>\n",
       "      <td>女</td>\n",
       "      <td>27</td>\n",
       "      <td>nqRBXOtA@example.com</td>\n",
       "    </tr>\n",
       "    <tr>\n",
       "      <th>6</th>\n",
       "      <td>赵八</td>\n",
       "      <td>女</td>\n",
       "      <td>51</td>\n",
       "      <td>GyKwILAL@example.com</td>\n",
       "    </tr>\n",
       "  </tbody>\n",
       "</table>\n",
       "</div>"
      ],
      "text/plain": [
       "  客户_姓名 客户 性别  age                    邮箱\n",
       "1    李十     女   58  yVaQXekW@example.com\n",
       "2    冯三     男   27  LctXbrEM@example.com\n",
       "3    吴十     男   32  UyTYBzUZ@example.com\n",
       "4    王十     女   58  KCixgciF@example.com\n",
       "5    钱十     女   27  nqRBXOtA@example.com\n",
       "6    赵八     女   51  GyKwILAL@example.com"
      ]
     },
     "execution_count": 9,
     "metadata": {},
     "output_type": "execute_result"
    }
   ],
   "source": [
    "df2.rename(index={'2_':'2','_5':5,'6*':6})"
   ]
  },
  {
   "cell_type": "code",
   "execution_count": 10,
   "id": "492649c1-249c-43e6-aa52-22c8f7fa9fdd",
   "metadata": {},
   "outputs": [
    {
     "data": {
      "text/html": [
       "<div>\n",
       "<style scoped>\n",
       "    .dataframe tbody tr th:only-of-type {\n",
       "        vertical-align: middle;\n",
       "    }\n",
       "\n",
       "    .dataframe tbody tr th {\n",
       "        vertical-align: top;\n",
       "    }\n",
       "\n",
       "    .dataframe thead th {\n",
       "        text-align: right;\n",
       "    }\n",
       "</style>\n",
       "<table border=\"1\" class=\"dataframe\">\n",
       "  <thead>\n",
       "    <tr style=\"text-align: right;\">\n",
       "      <th></th>\n",
       "      <th>客户_姓名</th>\n",
       "      <th>客户 性别</th>\n",
       "      <th>age</th>\n",
       "      <th>邮箱</th>\n",
       "    </tr>\n",
       "  </thead>\n",
       "  <tbody>\n",
       "    <tr>\n",
       "      <th>1</th>\n",
       "      <td>李十</td>\n",
       "      <td>女</td>\n",
       "      <td>58</td>\n",
       "      <td>yVaQXekW@example.com</td>\n",
       "    </tr>\n",
       "    <tr>\n",
       "      <th>2_</th>\n",
       "      <td>冯三</td>\n",
       "      <td>男</td>\n",
       "      <td>27</td>\n",
       "      <td>LctXbrEM@example.com</td>\n",
       "    </tr>\n",
       "    <tr>\n",
       "      <th>3</th>\n",
       "      <td>吴十</td>\n",
       "      <td>男</td>\n",
       "      <td>32</td>\n",
       "      <td>UyTYBzUZ@example.com</td>\n",
       "    </tr>\n",
       "    <tr>\n",
       "      <th>4</th>\n",
       "      <td>王十</td>\n",
       "      <td>女</td>\n",
       "      <td>58</td>\n",
       "      <td>KCixgciF@example.com</td>\n",
       "    </tr>\n",
       "    <tr>\n",
       "      <th>_5</th>\n",
       "      <td>钱十</td>\n",
       "      <td>女</td>\n",
       "      <td>27</td>\n",
       "      <td>nqRBXOtA@example.com</td>\n",
       "    </tr>\n",
       "    <tr>\n",
       "      <th>6*</th>\n",
       "      <td>赵八</td>\n",
       "      <td>女</td>\n",
       "      <td>51</td>\n",
       "      <td>GyKwILAL@example.com</td>\n",
       "    </tr>\n",
       "  </tbody>\n",
       "</table>\n",
       "</div>"
      ],
      "text/plain": [
       "   客户_姓名 客户 性别  age                    邮箱\n",
       "1     李十     女   58  yVaQXekW@example.com\n",
       "2_    冯三     男   27  LctXbrEM@example.com\n",
       "3     吴十     男   32  UyTYBzUZ@example.com\n",
       "4     王十     女   58  KCixgciF@example.com\n",
       "_5    钱十     女   27  nqRBXOtA@example.com\n",
       "6*    赵八     女   51  GyKwILAL@example.com"
      ]
     },
     "execution_count": 10,
     "metadata": {},
     "output_type": "execute_result"
    }
   ],
   "source": [
    "df2"
   ]
  },
  {
   "cell_type": "markdown",
   "id": "07da0722-4b8a-4385-b49b-e78c08d42bff",
   "metadata": {},
   "source": [
    "**此时你会发现并不改变原先df的值，此时你可用inplace=True或者对df2再赋值方法实现改变原df中数据（只改变df不变原文件）**"
   ]
  },
  {
   "cell_type": "code",
   "execution_count": 14,
   "id": "9c25f096-0134-42e4-960c-c117272f3f26",
   "metadata": {},
   "outputs": [
    {
     "data": {
      "text/html": [
       "<div>\n",
       "<style scoped>\n",
       "    .dataframe tbody tr th:only-of-type {\n",
       "        vertical-align: middle;\n",
       "    }\n",
       "\n",
       "    .dataframe tbody tr th {\n",
       "        vertical-align: top;\n",
       "    }\n",
       "\n",
       "    .dataframe thead th {\n",
       "        text-align: right;\n",
       "    }\n",
       "</style>\n",
       "<table border=\"1\" class=\"dataframe\">\n",
       "  <thead>\n",
       "    <tr style=\"text-align: right;\">\n",
       "      <th></th>\n",
       "      <th>客户_姓名</th>\n",
       "      <th>客户 性别</th>\n",
       "      <th>age</th>\n",
       "      <th>邮箱</th>\n",
       "    </tr>\n",
       "  </thead>\n",
       "  <tbody>\n",
       "    <tr>\n",
       "      <th>1</th>\n",
       "      <td>李十</td>\n",
       "      <td>女</td>\n",
       "      <td>58</td>\n",
       "      <td>yVaQXekW@example.com</td>\n",
       "    </tr>\n",
       "    <tr>\n",
       "      <th>2</th>\n",
       "      <td>冯三</td>\n",
       "      <td>男</td>\n",
       "      <td>27</td>\n",
       "      <td>LctXbrEM@example.com</td>\n",
       "    </tr>\n",
       "    <tr>\n",
       "      <th>3</th>\n",
       "      <td>吴十</td>\n",
       "      <td>男</td>\n",
       "      <td>32</td>\n",
       "      <td>UyTYBzUZ@example.com</td>\n",
       "    </tr>\n",
       "    <tr>\n",
       "      <th>4</th>\n",
       "      <td>王十</td>\n",
       "      <td>女</td>\n",
       "      <td>58</td>\n",
       "      <td>KCixgciF@example.com</td>\n",
       "    </tr>\n",
       "    <tr>\n",
       "      <th>5</th>\n",
       "      <td>钱十</td>\n",
       "      <td>女</td>\n",
       "      <td>27</td>\n",
       "      <td>nqRBXOtA@example.com</td>\n",
       "    </tr>\n",
       "    <tr>\n",
       "      <th>6</th>\n",
       "      <td>赵八</td>\n",
       "      <td>女</td>\n",
       "      <td>51</td>\n",
       "      <td>GyKwILAL@example.com</td>\n",
       "    </tr>\n",
       "  </tbody>\n",
       "</table>\n",
       "</div>"
      ],
      "text/plain": [
       "  客户_姓名 客户 性别  age                    邮箱\n",
       "1    李十     女   58  yVaQXekW@example.com\n",
       "2    冯三     男   27  LctXbrEM@example.com\n",
       "3    吴十     男   32  UyTYBzUZ@example.com\n",
       "4    王十     女   58  KCixgciF@example.com\n",
       "5    钱十     女   27  nqRBXOtA@example.com\n",
       "6    赵八     女   51  GyKwILAL@example.com"
      ]
     },
     "execution_count": 14,
     "metadata": {},
     "output_type": "execute_result"
    }
   ],
   "source": [
    "df2.rename(index={'2_':'2','_5':5,'6*':6},inplace=True)\n",
    "df2"
   ]
  },
  {
   "cell_type": "code",
   "execution_count": 15,
   "id": "0729e4b1-a8e8-4db8-a0e9-ee511f290dd6",
   "metadata": {},
   "outputs": [
    {
     "data": {
      "text/html": [
       "<div>\n",
       "<style scoped>\n",
       "    .dataframe tbody tr th:only-of-type {\n",
       "        vertical-align: middle;\n",
       "    }\n",
       "\n",
       "    .dataframe tbody tr th {\n",
       "        vertical-align: top;\n",
       "    }\n",
       "\n",
       "    .dataframe thead th {\n",
       "        text-align: right;\n",
       "    }\n",
       "</style>\n",
       "<table border=\"1\" class=\"dataframe\">\n",
       "  <thead>\n",
       "    <tr style=\"text-align: right;\">\n",
       "      <th></th>\n",
       "      <th>客户姓名</th>\n",
       "      <th>客户性别</th>\n",
       "      <th>客户年龄</th>\n",
       "      <th>客户邮箱</th>\n",
       "    </tr>\n",
       "  </thead>\n",
       "  <tbody>\n",
       "    <tr>\n",
       "      <th>1</th>\n",
       "      <td>李十</td>\n",
       "      <td>女</td>\n",
       "      <td>58</td>\n",
       "      <td>yVaQXekW@example.com</td>\n",
       "    </tr>\n",
       "    <tr>\n",
       "      <th>2</th>\n",
       "      <td>冯三</td>\n",
       "      <td>男</td>\n",
       "      <td>27</td>\n",
       "      <td>LctXbrEM@example.com</td>\n",
       "    </tr>\n",
       "    <tr>\n",
       "      <th>3</th>\n",
       "      <td>吴十</td>\n",
       "      <td>男</td>\n",
       "      <td>32</td>\n",
       "      <td>UyTYBzUZ@example.com</td>\n",
       "    </tr>\n",
       "    <tr>\n",
       "      <th>4</th>\n",
       "      <td>王十</td>\n",
       "      <td>女</td>\n",
       "      <td>58</td>\n",
       "      <td>KCixgciF@example.com</td>\n",
       "    </tr>\n",
       "    <tr>\n",
       "      <th>5</th>\n",
       "      <td>钱十</td>\n",
       "      <td>女</td>\n",
       "      <td>27</td>\n",
       "      <td>nqRBXOtA@example.com</td>\n",
       "    </tr>\n",
       "    <tr>\n",
       "      <th>6</th>\n",
       "      <td>赵八</td>\n",
       "      <td>女</td>\n",
       "      <td>51</td>\n",
       "      <td>GyKwILAL@example.com</td>\n",
       "    </tr>\n",
       "  </tbody>\n",
       "</table>\n",
       "</div>"
      ],
      "text/plain": [
       "  客户姓名 客户性别  客户年龄                  客户邮箱\n",
       "1   李十    女    58  yVaQXekW@example.com\n",
       "2   冯三    男    27  LctXbrEM@example.com\n",
       "3   吴十    男    32  UyTYBzUZ@example.com\n",
       "4   王十    女    58  KCixgciF@example.com\n",
       "5   钱十    女    27  nqRBXOtA@example.com\n",
       "6   赵八    女    51  GyKwILAL@example.com"
      ]
     },
     "execution_count": 15,
     "metadata": {},
     "output_type": "execute_result"
    }
   ],
   "source": [
    "df2 = df2.rename(columns={'客户_姓名':'客户姓名','客户 性别':'客户性别','age':'客户年龄','邮箱':'客户邮箱'})\n",
    "df2"
   ]
  },
  {
   "cell_type": "markdown",
   "id": "9cfc6c66-3ab2-49f5-96e5-7475db743b07",
   "metadata": {
    "jp-MarkdownHeadingCollapsed": true
   },
   "source": [
    "## 对索引和列名重命名（使用方法/函数）-可以是pandas自带的也可以自定义"
   ]
  },
  {
   "cell_type": "markdown",
   "id": "18360f95-f495-45d8-ab6d-3dcf836af0ef",
   "metadata": {},
   "source": [
    "df.rename(index=函数/方法)\n",
    "df.rename(columns=函数/方法)"
   ]
  },
  {
   "cell_type": "code",
   "execution_count": 16,
   "id": "61355136-0579-4974-bf30-744a749108fd",
   "metadata": {},
   "outputs": [
    {
     "data": {
      "text/plain": [
       "0    hello\n",
       "1     this\n",
       "2       is\n",
       "3      Lin\n",
       "dtype: object"
      ]
     },
     "execution_count": 16,
     "metadata": {},
     "output_type": "execute_result"
    }
   ],
   "source": [
    "s1 = pd.Series([\"hello\", \"this\", \"is\", \"Lin\"])\n",
    "s1"
   ]
  },
  {
   "cell_type": "code",
   "execution_count": 17,
   "id": "f6673799-bb80-4f33-8c42-7356bc9f23ac",
   "metadata": {},
   "outputs": [
    {
     "data": {
      "text/plain": [
       "<pandas.core.strings.accessor.StringMethods at 0x1dc75508c20>"
      ]
     },
     "execution_count": 17,
     "metadata": {},
     "output_type": "execute_result"
    }
   ],
   "source": [
    "s1.str"
   ]
  },
  {
   "cell_type": "code",
   "execution_count": 18,
   "id": "bf558c7c-26ec-4ff0-b0a5-c4182988d474",
   "metadata": {},
   "outputs": [
    {
     "data": {
      "text/plain": [
       "0    HELLO\n",
       "1     THIS\n",
       "2       IS\n",
       "3      LIN\n",
       "dtype: object"
      ]
     },
     "execution_count": 18,
     "metadata": {},
     "output_type": "execute_result"
    }
   ],
   "source": [
    "s1.str.upper()"
   ]
  },
  {
   "cell_type": "code",
   "execution_count": 19,
   "id": "b59b5f85-8e42-4c43-a180-97a0ff257ef4",
   "metadata": {},
   "outputs": [
    {
     "data": {
      "text/html": [
       "<div>\n",
       "<style scoped>\n",
       "    .dataframe tbody tr th:only-of-type {\n",
       "        vertical-align: middle;\n",
       "    }\n",
       "\n",
       "    .dataframe tbody tr th {\n",
       "        vertical-align: top;\n",
       "    }\n",
       "\n",
       "    .dataframe thead th {\n",
       "        text-align: right;\n",
       "    }\n",
       "</style>\n",
       "<table border=\"1\" class=\"dataframe\">\n",
       "  <thead>\n",
       "    <tr style=\"text-align: right;\">\n",
       "      <th></th>\n",
       "      <th>Date</th>\n",
       "      <th>Amount</th>\n",
       "      <th>Salesperson</th>\n",
       "      <th>Location</th>\n",
       "    </tr>\n",
       "  </thead>\n",
       "  <tbody>\n",
       "    <tr>\n",
       "      <th>0</th>\n",
       "      <td>2022-01-01</td>\n",
       "      <td>1000</td>\n",
       "      <td>Alice</td>\n",
       "      <td>New York</td>\n",
       "    </tr>\n",
       "    <tr>\n",
       "      <th>1</th>\n",
       "      <td>2022-01-02</td>\n",
       "      <td>1500</td>\n",
       "      <td>Bob</td>\n",
       "      <td>San Francisco</td>\n",
       "    </tr>\n",
       "    <tr>\n",
       "      <th>2</th>\n",
       "      <td>2022-01-03</td>\n",
       "      <td>800</td>\n",
       "      <td>Charlie</td>\n",
       "      <td>New York</td>\n",
       "    </tr>\n",
       "    <tr>\n",
       "      <th>3</th>\n",
       "      <td>2022-01-04</td>\n",
       "      <td>1200</td>\n",
       "      <td>David</td>\n",
       "      <td>San Francisco</td>\n",
       "    </tr>\n",
       "  </tbody>\n",
       "</table>\n",
       "</div>"
      ],
      "text/plain": [
       "         Date  Amount Salesperson       Location\n",
       "0  2022-01-01    1000       Alice       New York\n",
       "1  2022-01-02    1500         Bob  San Francisco\n",
       "2  2022-01-03     800     Charlie       New York\n",
       "3  2022-01-04    1200       David  San Francisco"
      ]
     },
     "execution_count": 19,
     "metadata": {},
     "output_type": "execute_result"
    }
   ],
   "source": [
    "df3 = pd.read_csv(r\"F:\\BaiduNetdiskDownload\\数据分析课程操作的文件\\04数据评估与清洗篇\\example2.csv\")\n",
    "df3"
   ]
  },
  {
   "cell_type": "code",
   "execution_count": 24,
   "id": "3d5e4906-8b4c-4407-8ae3-406f8545ec34",
   "metadata": {},
   "outputs": [
    {
     "data": {
      "text/html": [
       "<div>\n",
       "<style scoped>\n",
       "    .dataframe tbody tr th:only-of-type {\n",
       "        vertical-align: middle;\n",
       "    }\n",
       "\n",
       "    .dataframe tbody tr th {\n",
       "        vertical-align: top;\n",
       "    }\n",
       "\n",
       "    .dataframe thead th {\n",
       "        text-align: right;\n",
       "    }\n",
       "</style>\n",
       "<table border=\"1\" class=\"dataframe\">\n",
       "  <thead>\n",
       "    <tr style=\"text-align: right;\">\n",
       "      <th></th>\n",
       "      <th>DATE</th>\n",
       "      <th>AMOUNT</th>\n",
       "      <th>SALESPERSON</th>\n",
       "      <th>LOCATION</th>\n",
       "    </tr>\n",
       "  </thead>\n",
       "  <tbody>\n",
       "    <tr>\n",
       "      <th>0</th>\n",
       "      <td>2022-01-01</td>\n",
       "      <td>1000</td>\n",
       "      <td>Alice</td>\n",
       "      <td>New York</td>\n",
       "    </tr>\n",
       "    <tr>\n",
       "      <th>1</th>\n",
       "      <td>2022-01-02</td>\n",
       "      <td>1500</td>\n",
       "      <td>Bob</td>\n",
       "      <td>San Francisco</td>\n",
       "    </tr>\n",
       "    <tr>\n",
       "      <th>2</th>\n",
       "      <td>2022-01-03</td>\n",
       "      <td>800</td>\n",
       "      <td>Charlie</td>\n",
       "      <td>New York</td>\n",
       "    </tr>\n",
       "    <tr>\n",
       "      <th>3</th>\n",
       "      <td>2022-01-04</td>\n",
       "      <td>1200</td>\n",
       "      <td>David</td>\n",
       "      <td>San Francisco</td>\n",
       "    </tr>\n",
       "  </tbody>\n",
       "</table>\n",
       "</div>"
      ],
      "text/plain": [
       "         DATE  AMOUNT SALESPERSON       LOCATION\n",
       "0  2022-01-01    1000       Alice       New York\n",
       "1  2022-01-02    1500         Bob  San Francisco\n",
       "2  2022-01-03     800     Charlie       New York\n",
       "3  2022-01-04    1200       David  San Francisco"
      ]
     },
     "execution_count": 24,
     "metadata": {},
     "output_type": "execute_result"
    }
   ],
   "source": [
    "df3.rename(columns=str.upper,inplace=True)\n",
    "df3"
   ]
  },
  {
   "cell_type": "markdown",
   "id": "379390e2-f2b0-47d1-94f4-f236da8d6fe0",
   "metadata": {
    "jp-MarkdownHeadingCollapsed": true
   },
   "source": [
    "## 把某列设为索引"
   ]
  },
  {
   "cell_type": "code",
   "execution_count": 25,
   "id": "edceab0b-65ba-4388-9895-c7b5e8e92f2b",
   "metadata": {},
   "outputs": [
    {
     "data": {
      "text/html": [
       "<div>\n",
       "<style scoped>\n",
       "    .dataframe tbody tr th:only-of-type {\n",
       "        vertical-align: middle;\n",
       "    }\n",
       "\n",
       "    .dataframe tbody tr th {\n",
       "        vertical-align: top;\n",
       "    }\n",
       "\n",
       "    .dataframe thead th {\n",
       "        text-align: right;\n",
       "    }\n",
       "</style>\n",
       "<table border=\"1\" class=\"dataframe\">\n",
       "  <thead>\n",
       "    <tr style=\"text-align: right;\">\n",
       "      <th></th>\n",
       "      <th>DATE</th>\n",
       "      <th>AMOUNT</th>\n",
       "      <th>SALESPERSON</th>\n",
       "      <th>LOCATION</th>\n",
       "    </tr>\n",
       "  </thead>\n",
       "  <tbody>\n",
       "    <tr>\n",
       "      <th>0</th>\n",
       "      <td>2022-01-01</td>\n",
       "      <td>1000</td>\n",
       "      <td>Alice</td>\n",
       "      <td>New York</td>\n",
       "    </tr>\n",
       "    <tr>\n",
       "      <th>1</th>\n",
       "      <td>2022-01-02</td>\n",
       "      <td>1500</td>\n",
       "      <td>Bob</td>\n",
       "      <td>San Francisco</td>\n",
       "    </tr>\n",
       "    <tr>\n",
       "      <th>2</th>\n",
       "      <td>2022-01-03</td>\n",
       "      <td>800</td>\n",
       "      <td>Charlie</td>\n",
       "      <td>New York</td>\n",
       "    </tr>\n",
       "    <tr>\n",
       "      <th>3</th>\n",
       "      <td>2022-01-04</td>\n",
       "      <td>1200</td>\n",
       "      <td>David</td>\n",
       "      <td>San Francisco</td>\n",
       "    </tr>\n",
       "  </tbody>\n",
       "</table>\n",
       "</div>"
      ],
      "text/plain": [
       "         DATE  AMOUNT SALESPERSON       LOCATION\n",
       "0  2022-01-01    1000       Alice       New York\n",
       "1  2022-01-02    1500         Bob  San Francisco\n",
       "2  2022-01-03     800     Charlie       New York\n",
       "3  2022-01-04    1200       David  San Francisco"
      ]
     },
     "execution_count": 25,
     "metadata": {},
     "output_type": "execute_result"
    }
   ],
   "source": [
    "df3"
   ]
  },
  {
   "cell_type": "code",
   "execution_count": 29,
   "id": "12693778-b97c-48f0-9a3b-7087a7e30be1",
   "metadata": {},
   "outputs": [
    {
     "data": {
      "text/html": [
       "<div>\n",
       "<style scoped>\n",
       "    .dataframe tbody tr th:only-of-type {\n",
       "        vertical-align: middle;\n",
       "    }\n",
       "\n",
       "    .dataframe tbody tr th {\n",
       "        vertical-align: top;\n",
       "    }\n",
       "\n",
       "    .dataframe thead th {\n",
       "        text-align: right;\n",
       "    }\n",
       "</style>\n",
       "<table border=\"1\" class=\"dataframe\">\n",
       "  <thead>\n",
       "    <tr style=\"text-align: right;\">\n",
       "      <th></th>\n",
       "      <th>DATE</th>\n",
       "      <th>AMOUNT</th>\n",
       "      <th>LOCATION</th>\n",
       "    </tr>\n",
       "    <tr>\n",
       "      <th>SALESPERSON</th>\n",
       "      <th></th>\n",
       "      <th></th>\n",
       "      <th></th>\n",
       "    </tr>\n",
       "  </thead>\n",
       "  <tbody>\n",
       "    <tr>\n",
       "      <th>Alice</th>\n",
       "      <td>2022-01-01</td>\n",
       "      <td>1000</td>\n",
       "      <td>New York</td>\n",
       "    </tr>\n",
       "    <tr>\n",
       "      <th>Bob</th>\n",
       "      <td>2022-01-02</td>\n",
       "      <td>1500</td>\n",
       "      <td>San Francisco</td>\n",
       "    </tr>\n",
       "    <tr>\n",
       "      <th>Charlie</th>\n",
       "      <td>2022-01-03</td>\n",
       "      <td>800</td>\n",
       "      <td>New York</td>\n",
       "    </tr>\n",
       "    <tr>\n",
       "      <th>David</th>\n",
       "      <td>2022-01-04</td>\n",
       "      <td>1200</td>\n",
       "      <td>San Francisco</td>\n",
       "    </tr>\n",
       "  </tbody>\n",
       "</table>\n",
       "</div>"
      ],
      "text/plain": [
       "                   DATE  AMOUNT       LOCATION\n",
       "SALESPERSON                                   \n",
       "Alice        2022-01-01    1000       New York\n",
       "Bob          2022-01-02    1500  San Francisco\n",
       "Charlie      2022-01-03     800       New York\n",
       "David        2022-01-04    1200  San Francisco"
      ]
     },
     "execution_count": 29,
     "metadata": {},
     "output_type": "execute_result"
    }
   ],
   "source": [
    "df4 = df3.set_index(str.upper(\"Salesperson\"))\n",
    "df4"
   ]
  },
  {
   "cell_type": "markdown",
   "id": "d48db4bf-2d8b-4153-aa56-4dd0573bde54",
   "metadata": {
    "jp-MarkdownHeadingCollapsed": true
   },
   "source": [
    "## 重设索引"
   ]
  },
  {
   "cell_type": "code",
   "execution_count": 31,
   "id": "5dcfb12a-fd1a-4fdc-80ab-04d1d1b0193f",
   "metadata": {},
   "outputs": [
    {
     "data": {
      "text/html": [
       "<div>\n",
       "<style scoped>\n",
       "    .dataframe tbody tr th:only-of-type {\n",
       "        vertical-align: middle;\n",
       "    }\n",
       "\n",
       "    .dataframe tbody tr th {\n",
       "        vertical-align: top;\n",
       "    }\n",
       "\n",
       "    .dataframe thead th {\n",
       "        text-align: right;\n",
       "    }\n",
       "</style>\n",
       "<table border=\"1\" class=\"dataframe\">\n",
       "  <thead>\n",
       "    <tr style=\"text-align: right;\">\n",
       "      <th></th>\n",
       "      <th>SALESPERSON</th>\n",
       "      <th>DATE</th>\n",
       "      <th>AMOUNT</th>\n",
       "      <th>LOCATION</th>\n",
       "    </tr>\n",
       "  </thead>\n",
       "  <tbody>\n",
       "    <tr>\n",
       "      <th>0</th>\n",
       "      <td>Alice</td>\n",
       "      <td>2022-01-01</td>\n",
       "      <td>1000</td>\n",
       "      <td>New York</td>\n",
       "    </tr>\n",
       "    <tr>\n",
       "      <th>1</th>\n",
       "      <td>Bob</td>\n",
       "      <td>2022-01-02</td>\n",
       "      <td>1500</td>\n",
       "      <td>San Francisco</td>\n",
       "    </tr>\n",
       "    <tr>\n",
       "      <th>2</th>\n",
       "      <td>Charlie</td>\n",
       "      <td>2022-01-03</td>\n",
       "      <td>800</td>\n",
       "      <td>New York</td>\n",
       "    </tr>\n",
       "    <tr>\n",
       "      <th>3</th>\n",
       "      <td>David</td>\n",
       "      <td>2022-01-04</td>\n",
       "      <td>1200</td>\n",
       "      <td>San Francisco</td>\n",
       "    </tr>\n",
       "  </tbody>\n",
       "</table>\n",
       "</div>"
      ],
      "text/plain": [
       "  SALESPERSON        DATE  AMOUNT       LOCATION\n",
       "0       Alice  2022-01-01    1000       New York\n",
       "1         Bob  2022-01-02    1500  San Francisco\n",
       "2     Charlie  2022-01-03     800       New York\n",
       "3       David  2022-01-04    1200  San Francisco"
      ]
     },
     "execution_count": 31,
     "metadata": {},
     "output_type": "execute_result"
    }
   ],
   "source": [
    "df4.reset_index()"
   ]
  },
  {
   "cell_type": "markdown",
   "id": "b134b878-8961-4107-8302-d60849195b6b",
   "metadata": {
    "jp-MarkdownHeadingCollapsed": true
   },
   "source": [
    "## 对索引和列名重新排序"
   ]
  },
  {
   "cell_type": "code",
   "execution_count": 36,
   "id": "392f3426-dc1b-48a5-8d91-8f9811ade4ca",
   "metadata": {},
   "outputs": [
    {
     "data": {
      "text/html": [
       "<div>\n",
       "<style scoped>\n",
       "    .dataframe tbody tr th:only-of-type {\n",
       "        vertical-align: middle;\n",
       "    }\n",
       "\n",
       "    .dataframe tbody tr th {\n",
       "        vertical-align: top;\n",
       "    }\n",
       "\n",
       "    .dataframe thead th {\n",
       "        text-align: right;\n",
       "    }\n",
       "</style>\n",
       "<table border=\"1\" class=\"dataframe\">\n",
       "  <thead>\n",
       "    <tr style=\"text-align: right;\">\n",
       "      <th></th>\n",
       "      <th>Unnamed: 0</th>\n",
       "      <th>客户姓名</th>\n",
       "      <th>客户性别</th>\n",
       "      <th>客户年龄</th>\n",
       "      <th>客户邮箱</th>\n",
       "    </tr>\n",
       "  </thead>\n",
       "  <tbody>\n",
       "    <tr>\n",
       "      <th>0</th>\n",
       "      <td>a</td>\n",
       "      <td>李十</td>\n",
       "      <td>女</td>\n",
       "      <td>58</td>\n",
       "      <td>yVaQXekW@example.com</td>\n",
       "    </tr>\n",
       "    <tr>\n",
       "      <th>1</th>\n",
       "      <td>c</td>\n",
       "      <td>冯三</td>\n",
       "      <td>男</td>\n",
       "      <td>27</td>\n",
       "      <td>LctXbrEM@example.com</td>\n",
       "    </tr>\n",
       "    <tr>\n",
       "      <th>2</th>\n",
       "      <td>b</td>\n",
       "      <td>吴十</td>\n",
       "      <td>男</td>\n",
       "      <td>32</td>\n",
       "      <td>UyTYBzUZ@example.com</td>\n",
       "    </tr>\n",
       "    <tr>\n",
       "      <th>3</th>\n",
       "      <td>e</td>\n",
       "      <td>王十</td>\n",
       "      <td>女</td>\n",
       "      <td>58</td>\n",
       "      <td>KCixgciF@example.com</td>\n",
       "    </tr>\n",
       "    <tr>\n",
       "      <th>4</th>\n",
       "      <td>d</td>\n",
       "      <td>钱十</td>\n",
       "      <td>女</td>\n",
       "      <td>27</td>\n",
       "      <td>nqRBXOtA@example.com</td>\n",
       "    </tr>\n",
       "    <tr>\n",
       "      <th>5</th>\n",
       "      <td>f</td>\n",
       "      <td>赵八</td>\n",
       "      <td>女</td>\n",
       "      <td>51</td>\n",
       "      <td>GyKwILAL@example.com</td>\n",
       "    </tr>\n",
       "  </tbody>\n",
       "</table>\n",
       "</div>"
      ],
      "text/plain": [
       "  Unnamed: 0 客户姓名 客户性别  客户年龄                  客户邮箱\n",
       "0          a   李十    女    58  yVaQXekW@example.com\n",
       "1          c   冯三    男    27  LctXbrEM@example.com\n",
       "2          b   吴十    男    32  UyTYBzUZ@example.com\n",
       "3          e   王十    女    58  KCixgciF@example.com\n",
       "4          d   钱十    女    27  nqRBXOtA@example.com\n",
       "5          f   赵八    女    51  GyKwILAL@example.com"
      ]
     },
     "execution_count": 36,
     "metadata": {},
     "output_type": "execute_result"
    }
   ],
   "source": [
    "df5 = pd.read_csv(r\"F:\\BaiduNetdiskDownload\\数据分析课程操作的文件\\04数据评估与清洗篇\\example3.csv\")\n",
    "df5"
   ]
  },
  {
   "cell_type": "markdown",
   "id": "db686b91-7853-46ec-8b24-836e1390aa87",
   "metadata": {},
   "source": [
    "**原数据中已用标签abc进行索引但是由于pandas会把数据集中每一列均当作属性处理并用默认012去索引所以此时会产生以上情况，\n",
    "原为标签索引的列abc转为df后被当作没有属性名的一列此时需要用index=0来修改**"
   ]
  },
  {
   "cell_type": "code",
   "execution_count": 38,
   "id": "f74a3bd7-2f60-44d6-8997-007ffc0aacb5",
   "metadata": {},
   "outputs": [
    {
     "data": {
      "text/html": [
       "<div>\n",
       "<style scoped>\n",
       "    .dataframe tbody tr th:only-of-type {\n",
       "        vertical-align: middle;\n",
       "    }\n",
       "\n",
       "    .dataframe tbody tr th {\n",
       "        vertical-align: top;\n",
       "    }\n",
       "\n",
       "    .dataframe thead th {\n",
       "        text-align: right;\n",
       "    }\n",
       "</style>\n",
       "<table border=\"1\" class=\"dataframe\">\n",
       "  <thead>\n",
       "    <tr style=\"text-align: right;\">\n",
       "      <th></th>\n",
       "      <th>客户姓名</th>\n",
       "      <th>客户性别</th>\n",
       "      <th>客户年龄</th>\n",
       "      <th>客户邮箱</th>\n",
       "    </tr>\n",
       "  </thead>\n",
       "  <tbody>\n",
       "    <tr>\n",
       "      <th>a</th>\n",
       "      <td>李十</td>\n",
       "      <td>女</td>\n",
       "      <td>58</td>\n",
       "      <td>yVaQXekW@example.com</td>\n",
       "    </tr>\n",
       "    <tr>\n",
       "      <th>c</th>\n",
       "      <td>冯三</td>\n",
       "      <td>男</td>\n",
       "      <td>27</td>\n",
       "      <td>LctXbrEM@example.com</td>\n",
       "    </tr>\n",
       "    <tr>\n",
       "      <th>b</th>\n",
       "      <td>吴十</td>\n",
       "      <td>男</td>\n",
       "      <td>32</td>\n",
       "      <td>UyTYBzUZ@example.com</td>\n",
       "    </tr>\n",
       "    <tr>\n",
       "      <th>e</th>\n",
       "      <td>王十</td>\n",
       "      <td>女</td>\n",
       "      <td>58</td>\n",
       "      <td>KCixgciF@example.com</td>\n",
       "    </tr>\n",
       "    <tr>\n",
       "      <th>d</th>\n",
       "      <td>钱十</td>\n",
       "      <td>女</td>\n",
       "      <td>27</td>\n",
       "      <td>nqRBXOtA@example.com</td>\n",
       "    </tr>\n",
       "    <tr>\n",
       "      <th>f</th>\n",
       "      <td>赵八</td>\n",
       "      <td>女</td>\n",
       "      <td>51</td>\n",
       "      <td>GyKwILAL@example.com</td>\n",
       "    </tr>\n",
       "  </tbody>\n",
       "</table>\n",
       "</div>"
      ],
      "text/plain": [
       "  客户姓名 客户性别  客户年龄                  客户邮箱\n",
       "a   李十    女    58  yVaQXekW@example.com\n",
       "c   冯三    男    27  LctXbrEM@example.com\n",
       "b   吴十    男    32  UyTYBzUZ@example.com\n",
       "e   王十    女    58  KCixgciF@example.com\n",
       "d   钱十    女    27  nqRBXOtA@example.com\n",
       "f   赵八    女    51  GyKwILAL@example.com"
      ]
     },
     "execution_count": 38,
     "metadata": {},
     "output_type": "execute_result"
    }
   ],
   "source": [
    "df5 = pd.read_csv(r\"F:\\BaiduNetdiskDownload\\数据分析课程操作的文件\\04数据评估与清洗篇\\example3.csv\",index_col=0)\n",
    "df5"
   ]
  },
  {
   "cell_type": "code",
   "execution_count": 41,
   "id": "d3e1f39b-44dd-491b-9e52-7c464c6f0624",
   "metadata": {},
   "outputs": [
    {
     "data": {
      "text/html": [
       "<div>\n",
       "<style scoped>\n",
       "    .dataframe tbody tr th:only-of-type {\n",
       "        vertical-align: middle;\n",
       "    }\n",
       "\n",
       "    .dataframe tbody tr th {\n",
       "        vertical-align: top;\n",
       "    }\n",
       "\n",
       "    .dataframe thead th {\n",
       "        text-align: right;\n",
       "    }\n",
       "</style>\n",
       "<table border=\"1\" class=\"dataframe\">\n",
       "  <thead>\n",
       "    <tr style=\"text-align: right;\">\n",
       "      <th></th>\n",
       "      <th>客户姓名</th>\n",
       "      <th>客户性别</th>\n",
       "      <th>客户年龄</th>\n",
       "      <th>客户邮箱</th>\n",
       "    </tr>\n",
       "  </thead>\n",
       "  <tbody>\n",
       "    <tr>\n",
       "      <th>a</th>\n",
       "      <td>李十</td>\n",
       "      <td>女</td>\n",
       "      <td>58</td>\n",
       "      <td>yVaQXekW@example.com</td>\n",
       "    </tr>\n",
       "    <tr>\n",
       "      <th>b</th>\n",
       "      <td>吴十</td>\n",
       "      <td>男</td>\n",
       "      <td>32</td>\n",
       "      <td>UyTYBzUZ@example.com</td>\n",
       "    </tr>\n",
       "    <tr>\n",
       "      <th>c</th>\n",
       "      <td>冯三</td>\n",
       "      <td>男</td>\n",
       "      <td>27</td>\n",
       "      <td>LctXbrEM@example.com</td>\n",
       "    </tr>\n",
       "    <tr>\n",
       "      <th>d</th>\n",
       "      <td>钱十</td>\n",
       "      <td>女</td>\n",
       "      <td>27</td>\n",
       "      <td>nqRBXOtA@example.com</td>\n",
       "    </tr>\n",
       "    <tr>\n",
       "      <th>e</th>\n",
       "      <td>王十</td>\n",
       "      <td>女</td>\n",
       "      <td>58</td>\n",
       "      <td>KCixgciF@example.com</td>\n",
       "    </tr>\n",
       "    <tr>\n",
       "      <th>f</th>\n",
       "      <td>赵八</td>\n",
       "      <td>女</td>\n",
       "      <td>51</td>\n",
       "      <td>GyKwILAL@example.com</td>\n",
       "    </tr>\n",
       "  </tbody>\n",
       "</table>\n",
       "</div>"
      ],
      "text/plain": [
       "  客户姓名 客户性别  客户年龄                  客户邮箱\n",
       "a   李十    女    58  yVaQXekW@example.com\n",
       "b   吴十    男    32  UyTYBzUZ@example.com\n",
       "c   冯三    男    27  LctXbrEM@example.com\n",
       "d   钱十    女    27  nqRBXOtA@example.com\n",
       "e   王十    女    58  KCixgciF@example.com\n",
       "f   赵八    女    51  GyKwILAL@example.com"
      ]
     },
     "execution_count": 41,
     "metadata": {},
     "output_type": "execute_result"
    }
   ],
   "source": [
    "df5.sort_index(inplace=True)\n",
    "df5"
   ]
  },
  {
   "cell_type": "code",
   "execution_count": 42,
   "id": "75a659a0-0693-40f6-9d54-40e4316ecbbc",
   "metadata": {},
   "outputs": [
    {
     "data": {
      "text/html": [
       "<div>\n",
       "<style scoped>\n",
       "    .dataframe tbody tr th:only-of-type {\n",
       "        vertical-align: middle;\n",
       "    }\n",
       "\n",
       "    .dataframe tbody tr th {\n",
       "        vertical-align: top;\n",
       "    }\n",
       "\n",
       "    .dataframe thead th {\n",
       "        text-align: right;\n",
       "    }\n",
       "</style>\n",
       "<table border=\"1\" class=\"dataframe\">\n",
       "  <thead>\n",
       "    <tr style=\"text-align: right;\">\n",
       "      <th></th>\n",
       "      <th>客户姓名</th>\n",
       "      <th>客户年龄</th>\n",
       "      <th>客户性别</th>\n",
       "      <th>客户邮箱</th>\n",
       "    </tr>\n",
       "  </thead>\n",
       "  <tbody>\n",
       "    <tr>\n",
       "      <th>a</th>\n",
       "      <td>李十</td>\n",
       "      <td>58</td>\n",
       "      <td>女</td>\n",
       "      <td>yVaQXekW@example.com</td>\n",
       "    </tr>\n",
       "    <tr>\n",
       "      <th>b</th>\n",
       "      <td>吴十</td>\n",
       "      <td>32</td>\n",
       "      <td>男</td>\n",
       "      <td>UyTYBzUZ@example.com</td>\n",
       "    </tr>\n",
       "    <tr>\n",
       "      <th>c</th>\n",
       "      <td>冯三</td>\n",
       "      <td>27</td>\n",
       "      <td>男</td>\n",
       "      <td>LctXbrEM@example.com</td>\n",
       "    </tr>\n",
       "    <tr>\n",
       "      <th>d</th>\n",
       "      <td>钱十</td>\n",
       "      <td>27</td>\n",
       "      <td>女</td>\n",
       "      <td>nqRBXOtA@example.com</td>\n",
       "    </tr>\n",
       "    <tr>\n",
       "      <th>e</th>\n",
       "      <td>王十</td>\n",
       "      <td>58</td>\n",
       "      <td>女</td>\n",
       "      <td>KCixgciF@example.com</td>\n",
       "    </tr>\n",
       "    <tr>\n",
       "      <th>f</th>\n",
       "      <td>赵八</td>\n",
       "      <td>51</td>\n",
       "      <td>女</td>\n",
       "      <td>GyKwILAL@example.com</td>\n",
       "    </tr>\n",
       "  </tbody>\n",
       "</table>\n",
       "</div>"
      ],
      "text/plain": [
       "  客户姓名  客户年龄 客户性别                  客户邮箱\n",
       "a   李十    58    女  yVaQXekW@example.com\n",
       "b   吴十    32    男  UyTYBzUZ@example.com\n",
       "c   冯三    27    男  LctXbrEM@example.com\n",
       "d   钱十    27    女  nqRBXOtA@example.com\n",
       "e   王十    58    女  KCixgciF@example.com\n",
       "f   赵八    51    女  GyKwILAL@example.com"
      ]
     },
     "execution_count": 42,
     "metadata": {},
     "output_type": "execute_result"
    }
   ],
   "source": [
    "df5.sort_index(axis=1)"
   ]
  },
  {
   "cell_type": "code",
   "execution_count": 43,
   "id": "db6e2b15-0f57-45c4-9805-80bed6236597",
   "metadata": {},
   "outputs": [
    {
     "data": {
      "text/html": [
       "<div>\n",
       "<style scoped>\n",
       "    .dataframe tbody tr th:only-of-type {\n",
       "        vertical-align: middle;\n",
       "    }\n",
       "\n",
       "    .dataframe tbody tr th {\n",
       "        vertical-align: top;\n",
       "    }\n",
       "\n",
       "    .dataframe thead th {\n",
       "        text-align: right;\n",
       "    }\n",
       "</style>\n",
       "<table border=\"1\" class=\"dataframe\">\n",
       "  <thead>\n",
       "    <tr style=\"text-align: right;\">\n",
       "      <th></th>\n",
       "      <th>客户姓名</th>\n",
       "      <th>客户性别</th>\n",
       "      <th>客户年龄</th>\n",
       "      <th>客户邮箱</th>\n",
       "    </tr>\n",
       "  </thead>\n",
       "  <tbody>\n",
       "    <tr>\n",
       "      <th>d</th>\n",
       "      <td>钱十</td>\n",
       "      <td>女</td>\n",
       "      <td>27</td>\n",
       "      <td>nqRBXOtA@example.com</td>\n",
       "    </tr>\n",
       "    <tr>\n",
       "      <th>c</th>\n",
       "      <td>冯三</td>\n",
       "      <td>男</td>\n",
       "      <td>27</td>\n",
       "      <td>LctXbrEM@example.com</td>\n",
       "    </tr>\n",
       "    <tr>\n",
       "      <th>b</th>\n",
       "      <td>吴十</td>\n",
       "      <td>男</td>\n",
       "      <td>32</td>\n",
       "      <td>UyTYBzUZ@example.com</td>\n",
       "    </tr>\n",
       "    <tr>\n",
       "      <th>f</th>\n",
       "      <td>赵八</td>\n",
       "      <td>女</td>\n",
       "      <td>51</td>\n",
       "      <td>GyKwILAL@example.com</td>\n",
       "    </tr>\n",
       "    <tr>\n",
       "      <th>a</th>\n",
       "      <td>李十</td>\n",
       "      <td>女</td>\n",
       "      <td>58</td>\n",
       "      <td>yVaQXekW@example.com</td>\n",
       "    </tr>\n",
       "    <tr>\n",
       "      <th>e</th>\n",
       "      <td>王十</td>\n",
       "      <td>女</td>\n",
       "      <td>58</td>\n",
       "      <td>KCixgciF@example.com</td>\n",
       "    </tr>\n",
       "  </tbody>\n",
       "</table>\n",
       "</div>"
      ],
      "text/plain": [
       "  客户姓名 客户性别  客户年龄                  客户邮箱\n",
       "d   钱十    女    27  nqRBXOtA@example.com\n",
       "c   冯三    男    27  LctXbrEM@example.com\n",
       "b   吴十    男    32  UyTYBzUZ@example.com\n",
       "f   赵八    女    51  GyKwILAL@example.com\n",
       "a   李十    女    58  yVaQXekW@example.com\n",
       "e   王十    女    58  KCixgciF@example.com"
      ]
     },
     "execution_count": 43,
     "metadata": {},
     "output_type": "execute_result"
    }
   ],
   "source": [
    "df5.sort_values(by='客户年龄')"
   ]
  },
  {
   "cell_type": "code",
   "execution_count": 44,
   "id": "eec8ff26-bf2f-44ab-b356-8ca0614af784",
   "metadata": {},
   "outputs": [
    {
     "data": {
      "text/html": [
       "<div>\n",
       "<style scoped>\n",
       "    .dataframe tbody tr th:only-of-type {\n",
       "        vertical-align: middle;\n",
       "    }\n",
       "\n",
       "    .dataframe tbody tr th {\n",
       "        vertical-align: top;\n",
       "    }\n",
       "\n",
       "    .dataframe thead th {\n",
       "        text-align: right;\n",
       "    }\n",
       "</style>\n",
       "<table border=\"1\" class=\"dataframe\">\n",
       "  <thead>\n",
       "    <tr style=\"text-align: right;\">\n",
       "      <th></th>\n",
       "      <th>客户姓名</th>\n",
       "      <th>客户性别</th>\n",
       "      <th>客户年龄</th>\n",
       "      <th>客户邮箱</th>\n",
       "    </tr>\n",
       "  </thead>\n",
       "  <tbody>\n",
       "    <tr>\n",
       "      <th>a</th>\n",
       "      <td>李十</td>\n",
       "      <td>女</td>\n",
       "      <td>58</td>\n",
       "      <td>yVaQXekW@example.com</td>\n",
       "    </tr>\n",
       "    <tr>\n",
       "      <th>e</th>\n",
       "      <td>王十</td>\n",
       "      <td>女</td>\n",
       "      <td>58</td>\n",
       "      <td>KCixgciF@example.com</td>\n",
       "    </tr>\n",
       "    <tr>\n",
       "      <th>f</th>\n",
       "      <td>赵八</td>\n",
       "      <td>女</td>\n",
       "      <td>51</td>\n",
       "      <td>GyKwILAL@example.com</td>\n",
       "    </tr>\n",
       "    <tr>\n",
       "      <th>b</th>\n",
       "      <td>吴十</td>\n",
       "      <td>男</td>\n",
       "      <td>32</td>\n",
       "      <td>UyTYBzUZ@example.com</td>\n",
       "    </tr>\n",
       "    <tr>\n",
       "      <th>d</th>\n",
       "      <td>钱十</td>\n",
       "      <td>女</td>\n",
       "      <td>27</td>\n",
       "      <td>nqRBXOtA@example.com</td>\n",
       "    </tr>\n",
       "    <tr>\n",
       "      <th>c</th>\n",
       "      <td>冯三</td>\n",
       "      <td>男</td>\n",
       "      <td>27</td>\n",
       "      <td>LctXbrEM@example.com</td>\n",
       "    </tr>\n",
       "  </tbody>\n",
       "</table>\n",
       "</div>"
      ],
      "text/plain": [
       "  客户姓名 客户性别  客户年龄                  客户邮箱\n",
       "a   李十    女    58  yVaQXekW@example.com\n",
       "e   王十    女    58  KCixgciF@example.com\n",
       "f   赵八    女    51  GyKwILAL@example.com\n",
       "b   吴十    男    32  UyTYBzUZ@example.com\n",
       "d   钱十    女    27  nqRBXOtA@example.com\n",
       "c   冯三    男    27  LctXbrEM@example.com"
      ]
     },
     "execution_count": 44,
     "metadata": {},
     "output_type": "execute_result"
    }
   ],
   "source": [
    "df5.sort_values(by='客户年龄', ascending=False)"
   ]
  },
  {
   "cell_type": "code",
   "execution_count": 46,
   "id": "634fdaa4-20aa-429c-9666-ae7b213975f5",
   "metadata": {},
   "outputs": [
    {
     "data": {
      "text/html": [
       "<div>\n",
       "<style scoped>\n",
       "    .dataframe tbody tr th:only-of-type {\n",
       "        vertical-align: middle;\n",
       "    }\n",
       "\n",
       "    .dataframe tbody tr th {\n",
       "        vertical-align: top;\n",
       "    }\n",
       "\n",
       "    .dataframe thead th {\n",
       "        text-align: right;\n",
       "    }\n",
       "</style>\n",
       "<table border=\"1\" class=\"dataframe\">\n",
       "  <thead>\n",
       "    <tr style=\"text-align: right;\">\n",
       "      <th></th>\n",
       "      <th>客户姓名</th>\n",
       "      <th>客户性别</th>\n",
       "      <th>客户年龄</th>\n",
       "      <th>客户邮箱</th>\n",
       "    </tr>\n",
       "  </thead>\n",
       "  <tbody>\n",
       "    <tr>\n",
       "      <th>d</th>\n",
       "      <td>钱十</td>\n",
       "      <td>女</td>\n",
       "      <td>27</td>\n",
       "      <td>nqRBXOtA@example.com</td>\n",
       "    </tr>\n",
       "    <tr>\n",
       "      <th>f</th>\n",
       "      <td>赵八</td>\n",
       "      <td>女</td>\n",
       "      <td>51</td>\n",
       "      <td>GyKwILAL@example.com</td>\n",
       "    </tr>\n",
       "    <tr>\n",
       "      <th>a</th>\n",
       "      <td>李十</td>\n",
       "      <td>女</td>\n",
       "      <td>58</td>\n",
       "      <td>yVaQXekW@example.com</td>\n",
       "    </tr>\n",
       "    <tr>\n",
       "      <th>e</th>\n",
       "      <td>王十</td>\n",
       "      <td>女</td>\n",
       "      <td>58</td>\n",
       "      <td>KCixgciF@example.com</td>\n",
       "    </tr>\n",
       "    <tr>\n",
       "      <th>c</th>\n",
       "      <td>冯三</td>\n",
       "      <td>男</td>\n",
       "      <td>27</td>\n",
       "      <td>LctXbrEM@example.com</td>\n",
       "    </tr>\n",
       "    <tr>\n",
       "      <th>b</th>\n",
       "      <td>吴十</td>\n",
       "      <td>男</td>\n",
       "      <td>32</td>\n",
       "      <td>UyTYBzUZ@example.com</td>\n",
       "    </tr>\n",
       "  </tbody>\n",
       "</table>\n",
       "</div>"
      ],
      "text/plain": [
       "  客户姓名 客户性别  客户年龄                  客户邮箱\n",
       "d   钱十    女    27  nqRBXOtA@example.com\n",
       "f   赵八    女    51  GyKwILAL@example.com\n",
       "a   李十    女    58  yVaQXekW@example.com\n",
       "e   王十    女    58  KCixgciF@example.com\n",
       "c   冯三    男    27  LctXbrEM@example.com\n",
       "b   吴十    男    32  UyTYBzUZ@example.com"
      ]
     },
     "execution_count": 46,
     "metadata": {},
     "output_type": "execute_result"
    }
   ],
   "source": [
    "df5.sort_values(by=['客户性别', '客户年龄'])"
   ]
  },
  {
   "cell_type": "markdown",
   "id": "79fbfc29-0caf-45a1-94cf-18dad40794c7",
   "metadata": {},
   "source": [
    "*先按性别后按年龄<br>df.sort_values(by='列名', na_position='first'默认升序且将NaN放前面<br>列1升序，列2降序*"
   ]
  },
  {
   "cell_type": "code",
   "execution_count": 47,
   "id": "257cb9cc-c294-4765-b360-b2502f6132a6",
   "metadata": {},
   "outputs": [
    {
     "data": {
      "text/html": [
       "<div>\n",
       "<style scoped>\n",
       "    .dataframe tbody tr th:only-of-type {\n",
       "        vertical-align: middle;\n",
       "    }\n",
       "\n",
       "    .dataframe tbody tr th {\n",
       "        vertical-align: top;\n",
       "    }\n",
       "\n",
       "    .dataframe thead th {\n",
       "        text-align: right;\n",
       "    }\n",
       "</style>\n",
       "<table border=\"1\" class=\"dataframe\">\n",
       "  <thead>\n",
       "    <tr style=\"text-align: right;\">\n",
       "      <th></th>\n",
       "      <th>客户姓名</th>\n",
       "      <th>客户性别</th>\n",
       "      <th>客户年龄</th>\n",
       "      <th>客户邮箱</th>\n",
       "    </tr>\n",
       "  </thead>\n",
       "  <tbody>\n",
       "    <tr>\n",
       "      <th>a</th>\n",
       "      <td>李十</td>\n",
       "      <td>女</td>\n",
       "      <td>58</td>\n",
       "      <td>yVaQXekW@example.com</td>\n",
       "    </tr>\n",
       "    <tr>\n",
       "      <th>e</th>\n",
       "      <td>王十</td>\n",
       "      <td>女</td>\n",
       "      <td>58</td>\n",
       "      <td>KCixgciF@example.com</td>\n",
       "    </tr>\n",
       "    <tr>\n",
       "      <th>f</th>\n",
       "      <td>赵八</td>\n",
       "      <td>女</td>\n",
       "      <td>51</td>\n",
       "      <td>GyKwILAL@example.com</td>\n",
       "    </tr>\n",
       "    <tr>\n",
       "      <th>d</th>\n",
       "      <td>钱十</td>\n",
       "      <td>女</td>\n",
       "      <td>27</td>\n",
       "      <td>nqRBXOtA@example.com</td>\n",
       "    </tr>\n",
       "    <tr>\n",
       "      <th>b</th>\n",
       "      <td>吴十</td>\n",
       "      <td>男</td>\n",
       "      <td>32</td>\n",
       "      <td>UyTYBzUZ@example.com</td>\n",
       "    </tr>\n",
       "    <tr>\n",
       "      <th>c</th>\n",
       "      <td>冯三</td>\n",
       "      <td>男</td>\n",
       "      <td>27</td>\n",
       "      <td>LctXbrEM@example.com</td>\n",
       "    </tr>\n",
       "  </tbody>\n",
       "</table>\n",
       "</div>"
      ],
      "text/plain": [
       "  客户姓名 客户性别  客户年龄                  客户邮箱\n",
       "a   李十    女    58  yVaQXekW@example.com\n",
       "e   王十    女    58  KCixgciF@example.com\n",
       "f   赵八    女    51  GyKwILAL@example.com\n",
       "d   钱十    女    27  nqRBXOtA@example.com\n",
       "b   吴十    男    32  UyTYBzUZ@example.com\n",
       "c   冯三    男    27  LctXbrEM@example.com"
      ]
     },
     "execution_count": 47,
     "metadata": {},
     "output_type": "execute_result"
    }
   ],
   "source": [
    "df5.sort_values(by=['客户性别', '客户年龄'], ascending=[True, False])"
   ]
  },
  {
   "cell_type": "code",
   "execution_count": 48,
   "id": "fbf160e2-4259-4495-80ce-2656836e0749",
   "metadata": {},
   "outputs": [
    {
     "data": {
      "text/html": [
       "<div>\n",
       "<style scoped>\n",
       "    .dataframe tbody tr th:only-of-type {\n",
       "        vertical-align: middle;\n",
       "    }\n",
       "\n",
       "    .dataframe tbody tr th {\n",
       "        vertical-align: top;\n",
       "    }\n",
       "\n",
       "    .dataframe thead th {\n",
       "        text-align: right;\n",
       "    }\n",
       "</style>\n",
       "<table border=\"1\" class=\"dataframe\">\n",
       "  <thead>\n",
       "    <tr style=\"text-align: right;\">\n",
       "      <th></th>\n",
       "      <th>客户姓名</th>\n",
       "      <th>客户性别</th>\n",
       "      <th>客户年龄</th>\n",
       "      <th>客户邮箱</th>\n",
       "    </tr>\n",
       "  </thead>\n",
       "  <tbody>\n",
       "    <tr>\n",
       "      <th>a</th>\n",
       "      <td>李十</td>\n",
       "      <td>女</td>\n",
       "      <td>58</td>\n",
       "      <td>yVaQXekW@example.com</td>\n",
       "    </tr>\n",
       "    <tr>\n",
       "      <th>b</th>\n",
       "      <td>吴十</td>\n",
       "      <td>男</td>\n",
       "      <td>32</td>\n",
       "      <td>UyTYBzUZ@example.com</td>\n",
       "    </tr>\n",
       "    <tr>\n",
       "      <th>c</th>\n",
       "      <td>冯三</td>\n",
       "      <td>男</td>\n",
       "      <td>27</td>\n",
       "      <td>LctXbrEM@example.com</td>\n",
       "    </tr>\n",
       "    <tr>\n",
       "      <th>d</th>\n",
       "      <td>钱十</td>\n",
       "      <td>女</td>\n",
       "      <td>27</td>\n",
       "      <td>nqRBXOtA@example.com</td>\n",
       "    </tr>\n",
       "    <tr>\n",
       "      <th>e</th>\n",
       "      <td>王十</td>\n",
       "      <td>女</td>\n",
       "      <td>58</td>\n",
       "      <td>KCixgciF@example.com</td>\n",
       "    </tr>\n",
       "    <tr>\n",
       "      <th>f</th>\n",
       "      <td>赵八</td>\n",
       "      <td>女</td>\n",
       "      <td>51</td>\n",
       "      <td>GyKwILAL@example.com</td>\n",
       "    </tr>\n",
       "  </tbody>\n",
       "</table>\n",
       "</div>"
      ],
      "text/plain": [
       "  客户姓名 客户性别  客户年龄                  客户邮箱\n",
       "a   李十    女    58  yVaQXekW@example.com\n",
       "b   吴十    男    32  UyTYBzUZ@example.com\n",
       "c   冯三    男    27  LctXbrEM@example.com\n",
       "d   钱十    女    27  nqRBXOtA@example.com\n",
       "e   王十    女    58  KCixgciF@example.com\n",
       "f   赵八    女    51  GyKwILAL@example.com"
      ]
     },
     "execution_count": 48,
     "metadata": {},
     "output_type": "execute_result"
    }
   ],
   "source": [
    "df5"
   ]
  },
  {
   "cell_type": "code",
   "execution_count": 49,
   "id": "31a70349-beaf-4ebd-a939-5e59456417f9",
   "metadata": {},
   "outputs": [
    {
     "data": {
      "text/html": [
       "<div>\n",
       "<style scoped>\n",
       "    .dataframe tbody tr th:only-of-type {\n",
       "        vertical-align: middle;\n",
       "    }\n",
       "\n",
       "    .dataframe tbody tr th {\n",
       "        vertical-align: top;\n",
       "    }\n",
       "\n",
       "    .dataframe thead th {\n",
       "        text-align: right;\n",
       "    }\n",
       "</style>\n",
       "<table border=\"1\" class=\"dataframe\">\n",
       "  <thead>\n",
       "    <tr style=\"text-align: right;\">\n",
       "      <th></th>\n",
       "      <th>客户姓名</th>\n",
       "      <th>客户性别</th>\n",
       "      <th>客户年龄</th>\n",
       "      <th>客户邮箱</th>\n",
       "    </tr>\n",
       "  </thead>\n",
       "  <tbody>\n",
       "    <tr>\n",
       "      <th>d</th>\n",
       "      <td>钱十</td>\n",
       "      <td>女</td>\n",
       "      <td>27</td>\n",
       "      <td>nqRBXOtA@example.com</td>\n",
       "    </tr>\n",
       "    <tr>\n",
       "      <th>f</th>\n",
       "      <td>赵八</td>\n",
       "      <td>女</td>\n",
       "      <td>51</td>\n",
       "      <td>GyKwILAL@example.com</td>\n",
       "    </tr>\n",
       "    <tr>\n",
       "      <th>a</th>\n",
       "      <td>李十</td>\n",
       "      <td>女</td>\n",
       "      <td>58</td>\n",
       "      <td>yVaQXekW@example.com</td>\n",
       "    </tr>\n",
       "    <tr>\n",
       "      <th>e</th>\n",
       "      <td>王十</td>\n",
       "      <td>女</td>\n",
       "      <td>58</td>\n",
       "      <td>KCixgciF@example.com</td>\n",
       "    </tr>\n",
       "    <tr>\n",
       "      <th>c</th>\n",
       "      <td>冯三</td>\n",
       "      <td>男</td>\n",
       "      <td>27</td>\n",
       "      <td>LctXbrEM@example.com</td>\n",
       "    </tr>\n",
       "    <tr>\n",
       "      <th>b</th>\n",
       "      <td>吴十</td>\n",
       "      <td>男</td>\n",
       "      <td>32</td>\n",
       "      <td>UyTYBzUZ@example.com</td>\n",
       "    </tr>\n",
       "  </tbody>\n",
       "</table>\n",
       "</div>"
      ],
      "text/plain": [
       "  客户姓名 客户性别  客户年龄                  客户邮箱\n",
       "d   钱十    女    27  nqRBXOtA@example.com\n",
       "f   赵八    女    51  GyKwILAL@example.com\n",
       "a   李十    女    58  yVaQXekW@example.com\n",
       "e   王十    女    58  KCixgciF@example.com\n",
       "c   冯三    男    27  LctXbrEM@example.com\n",
       "b   吴十    男    32  UyTYBzUZ@example.com"
      ]
     },
     "execution_count": 49,
     "metadata": {},
     "output_type": "execute_result"
    }
   ],
   "source": [
    "df5.sort_values(by=['客户性别', '客户年龄'],inplace=True)\n",
    "df5"
   ]
  },
  {
   "cell_type": "markdown",
   "id": "38996c1c-4542-41e3-9e4c-7a8d74084b09",
   "metadata": {
    "jp-MarkdownHeadingCollapsed": true
   },
   "source": [
    "# 对数据进行转置"
   ]
  },
  {
   "cell_type": "code",
   "execution_count": 2,
   "id": "dc3bb34f-576c-4fce-9776-a916399d94ad",
   "metadata": {},
   "outputs": [],
   "source": [
    "import pandas as pd"
   ]
  },
  {
   "cell_type": "code",
   "execution_count": 4,
   "id": "9418f530-abc5-4135-8cad-9ea987e1d07a",
   "metadata": {},
   "outputs": [
    {
     "data": {
      "text/html": [
       "<div>\n",
       "<style scoped>\n",
       "    .dataframe tbody tr th:only-of-type {\n",
       "        vertical-align: middle;\n",
       "    }\n",
       "\n",
       "    .dataframe tbody tr th {\n",
       "        vertical-align: top;\n",
       "    }\n",
       "\n",
       "    .dataframe thead th {\n",
       "        text-align: right;\n",
       "    }\n",
       "</style>\n",
       "<table border=\"1\" class=\"dataframe\">\n",
       "  <thead>\n",
       "    <tr style=\"text-align: right;\">\n",
       "      <th></th>\n",
       "      <th>0</th>\n",
       "      <th>1</th>\n",
       "      <th>2</th>\n",
       "    </tr>\n",
       "  </thead>\n",
       "  <tbody>\n",
       "    <tr>\n",
       "      <th>姓名</th>\n",
       "      <td>张三</td>\n",
       "      <td>李四</td>\n",
       "      <td>王五</td>\n",
       "    </tr>\n",
       "    <tr>\n",
       "      <th>年龄</th>\n",
       "      <td>30</td>\n",
       "      <td>25</td>\n",
       "      <td>28</td>\n",
       "    </tr>\n",
       "    <tr>\n",
       "      <th>地址</th>\n",
       "      <td>北京</td>\n",
       "      <td>上海</td>\n",
       "      <td>广州</td>\n",
       "    </tr>\n",
       "  </tbody>\n",
       "</table>\n",
       "</div>"
      ],
      "text/plain": [
       "     0   1   2\n",
       "姓名  张三  李四  王五\n",
       "年龄  30  25  28\n",
       "地址  北京  上海  广州"
      ]
     },
     "execution_count": 4,
     "metadata": {},
     "output_type": "execute_result"
    }
   ],
   "source": [
    "df6 = pd.read_csv(r\"F:\\BaiduNetdiskDownload\\数据分析课程操作的文件\\04数据评估与清洗篇\\example4.csv\", index_col=0)\n",
    "df6 "
   ]
  },
  {
   "cell_type": "code",
   "execution_count": 5,
   "id": "e495b047-e79e-48cc-bbe8-73ed1482bc19",
   "metadata": {},
   "outputs": [
    {
     "data": {
      "text/html": [
       "<div>\n",
       "<style scoped>\n",
       "    .dataframe tbody tr th:only-of-type {\n",
       "        vertical-align: middle;\n",
       "    }\n",
       "\n",
       "    .dataframe tbody tr th {\n",
       "        vertical-align: top;\n",
       "    }\n",
       "\n",
       "    .dataframe thead th {\n",
       "        text-align: right;\n",
       "    }\n",
       "</style>\n",
       "<table border=\"1\" class=\"dataframe\">\n",
       "  <thead>\n",
       "    <tr style=\"text-align: right;\">\n",
       "      <th></th>\n",
       "      <th>姓名</th>\n",
       "      <th>年龄</th>\n",
       "      <th>地址</th>\n",
       "    </tr>\n",
       "  </thead>\n",
       "  <tbody>\n",
       "    <tr>\n",
       "      <th>0</th>\n",
       "      <td>张三</td>\n",
       "      <td>30</td>\n",
       "      <td>北京</td>\n",
       "    </tr>\n",
       "    <tr>\n",
       "      <th>1</th>\n",
       "      <td>李四</td>\n",
       "      <td>25</td>\n",
       "      <td>上海</td>\n",
       "    </tr>\n",
       "    <tr>\n",
       "      <th>2</th>\n",
       "      <td>王五</td>\n",
       "      <td>28</td>\n",
       "      <td>广州</td>\n",
       "    </tr>\n",
       "  </tbody>\n",
       "</table>\n",
       "</div>"
      ],
      "text/plain": [
       "   姓名  年龄  地址\n",
       "0  张三  30  北京\n",
       "1  李四  25  上海\n",
       "2  王五  28  广州"
      ]
     },
     "execution_count": 5,
     "metadata": {},
     "output_type": "execute_result"
    }
   ],
   "source": [
    "df6 = df6.T\n",
    "df6"
   ]
  },
  {
   "cell_type": "markdown",
   "id": "51446bcb-4570-46d5-ad82-db15e2828bef",
   "metadata": {
    "jp-MarkdownHeadingCollapsed": true
   },
   "source": [
    "# 对列进行拆分"
   ]
  },
  {
   "cell_type": "code",
   "execution_count": 7,
   "id": "feac99e4-664a-472f-8874-8657ed51f4be",
   "metadata": {},
   "outputs": [
    {
     "data": {
      "text/html": [
       "<div>\n",
       "<style scoped>\n",
       "    .dataframe tbody tr th:only-of-type {\n",
       "        vertical-align: middle;\n",
       "    }\n",
       "\n",
       "    .dataframe tbody tr th {\n",
       "        vertical-align: top;\n",
       "    }\n",
       "\n",
       "    .dataframe thead th {\n",
       "        text-align: right;\n",
       "    }\n",
       "</style>\n",
       "<table border=\"1\" class=\"dataframe\">\n",
       "  <thead>\n",
       "    <tr style=\"text-align: right;\">\n",
       "      <th></th>\n",
       "      <th>城市</th>\n",
       "      <th>人口密度</th>\n",
       "    </tr>\n",
       "  </thead>\n",
       "  <tbody>\n",
       "    <tr>\n",
       "      <th>0</th>\n",
       "      <td>城市A</td>\n",
       "      <td>28.53万人/0.87平方公里</td>\n",
       "    </tr>\n",
       "    <tr>\n",
       "      <th>1</th>\n",
       "      <td>城市B</td>\n",
       "      <td>37.83万人/2.19平方公里</td>\n",
       "    </tr>\n",
       "    <tr>\n",
       "      <th>2</th>\n",
       "      <td>城市C</td>\n",
       "      <td>15.3万人/1.57平方公里</td>\n",
       "    </tr>\n",
       "  </tbody>\n",
       "</table>\n",
       "</div>"
      ],
      "text/plain": [
       "    城市              人口密度\n",
       "0  城市A  28.53万人/0.87平方公里\n",
       "1  城市B  37.83万人/2.19平方公里\n",
       "2  城市C   15.3万人/1.57平方公里"
      ]
     },
     "execution_count": 7,
     "metadata": {},
     "output_type": "execute_result"
    }
   ],
   "source": [
    "df7 = pd.read_csv(r\"F:\\BaiduNetdiskDownload\\数据分析课程操作的文件\\04数据评估与清洗篇\\example5.csv\")\n",
    "df7"
   ]
  },
  {
   "cell_type": "code",
   "execution_count": 8,
   "id": "c53d9199-f7b4-4823-aa9a-402b5c536e17",
   "metadata": {},
   "outputs": [
    {
     "data": {
      "text/plain": [
       "['28.53万人', '0.87平方公里']"
      ]
     },
     "execution_count": 8,
     "metadata": {},
     "output_type": "execute_result"
    }
   ],
   "source": [
    "\"28.53万人/0.87平方公里\".split(\"/\")"
   ]
  },
  {
   "cell_type": "code",
   "execution_count": 9,
   "id": "523d5f3c-6d73-4656-bc69-0a9842b1aee7",
   "metadata": {},
   "outputs": [
    {
     "data": {
      "text/plain": [
       "['28.53万人', '0.87平方公里']"
      ]
     },
     "execution_count": 9,
     "metadata": {},
     "output_type": "execute_result"
    }
   ],
   "source": [
    "\"28.53万人和0.87平方公里\".split(\"和\")"
   ]
  },
  {
   "cell_type": "code",
   "execution_count": 10,
   "id": "841ffaca-4d2f-4146-859b-b89b18bd8b26",
   "metadata": {},
   "outputs": [
    {
     "data": {
      "text/plain": [
       "0    28.53万人/0.87平方公里\n",
       "1    37.83万人/2.19平方公里\n",
       "2     15.3万人/1.57平方公里\n",
       "Name: 人口密度, dtype: object"
      ]
     },
     "execution_count": 10,
     "metadata": {},
     "output_type": "execute_result"
    }
   ],
   "source": [
    "df7[\"人口密度\"]"
   ]
  },
  {
   "cell_type": "code",
   "execution_count": 12,
   "id": "a4c84369-9a38-465b-86b1-342bd48f452a",
   "metadata": {},
   "outputs": [
    {
     "data": {
      "text/plain": [
       "0    [28.53万人, 0.87平方公里]\n",
       "1    [37.83万人, 2.19平方公里]\n",
       "2     [15.3万人, 1.57平方公里]\n",
       "Name: 人口密度, dtype: object"
      ]
     },
     "execution_count": 12,
     "metadata": {},
     "output_type": "execute_result"
    }
   ],
   "source": [
    "df7[\"人口密度\"].str.split(\"/\")"
   ]
  },
  {
   "cell_type": "code",
   "execution_count": 13,
   "id": "117a1cc1-502e-4005-bfe1-762af3d7bde0",
   "metadata": {},
   "outputs": [
    {
     "data": {
      "text/plain": [
       "pandas.core.series.Series"
      ]
     },
     "execution_count": 13,
     "metadata": {},
     "output_type": "execute_result"
    }
   ],
   "source": [
    "type(df7[\"人口密度\"].str.split(\"/\"))"
   ]
  },
  {
   "cell_type": "code",
   "execution_count": 14,
   "id": "3b7dc76d-de9e-4d2a-a43b-53680351f975",
   "metadata": {},
   "outputs": [
    {
     "data": {
      "text/html": [
       "<div>\n",
       "<style scoped>\n",
       "    .dataframe tbody tr th:only-of-type {\n",
       "        vertical-align: middle;\n",
       "    }\n",
       "\n",
       "    .dataframe tbody tr th {\n",
       "        vertical-align: top;\n",
       "    }\n",
       "\n",
       "    .dataframe thead th {\n",
       "        text-align: right;\n",
       "    }\n",
       "</style>\n",
       "<table border=\"1\" class=\"dataframe\">\n",
       "  <thead>\n",
       "    <tr style=\"text-align: right;\">\n",
       "      <th></th>\n",
       "      <th>0</th>\n",
       "      <th>1</th>\n",
       "    </tr>\n",
       "  </thead>\n",
       "  <tbody>\n",
       "    <tr>\n",
       "      <th>0</th>\n",
       "      <td>28.53万人</td>\n",
       "      <td>0.87平方公里</td>\n",
       "    </tr>\n",
       "    <tr>\n",
       "      <th>1</th>\n",
       "      <td>37.83万人</td>\n",
       "      <td>2.19平方公里</td>\n",
       "    </tr>\n",
       "    <tr>\n",
       "      <th>2</th>\n",
       "      <td>15.3万人</td>\n",
       "      <td>1.57平方公里</td>\n",
       "    </tr>\n",
       "  </tbody>\n",
       "</table>\n",
       "</div>"
      ],
      "text/plain": [
       "         0         1\n",
       "0  28.53万人  0.87平方公里\n",
       "1  37.83万人  2.19平方公里\n",
       "2   15.3万人  1.57平方公里"
      ]
     },
     "execution_count": 14,
     "metadata": {},
     "output_type": "execute_result"
    }
   ],
   "source": [
    "df7[\"人口密度\"].str.split(\"/\", expand=True)"
   ]
  },
  {
   "cell_type": "code",
   "execution_count": 15,
   "id": "26e7f08a-5ac1-4d83-a558-8753b5a5f230",
   "metadata": {},
   "outputs": [
    {
     "data": {
      "text/plain": [
       "pandas.core.frame.DataFrame"
      ]
     },
     "execution_count": 15,
     "metadata": {},
     "output_type": "execute_result"
    }
   ],
   "source": [
    "type(df7[\"人口密度\"].str.split(\"/\", expand=True))"
   ]
  },
  {
   "cell_type": "code",
   "execution_count": 16,
   "id": "3dfba1a7-617c-4d2d-856f-48f85296b186",
   "metadata": {},
   "outputs": [
    {
     "data": {
      "text/html": [
       "<div>\n",
       "<style scoped>\n",
       "    .dataframe tbody tr th:only-of-type {\n",
       "        vertical-align: middle;\n",
       "    }\n",
       "\n",
       "    .dataframe tbody tr th {\n",
       "        vertical-align: top;\n",
       "    }\n",
       "\n",
       "    .dataframe thead th {\n",
       "        text-align: right;\n",
       "    }\n",
       "</style>\n",
       "<table border=\"1\" class=\"dataframe\">\n",
       "  <thead>\n",
       "    <tr style=\"text-align: right;\">\n",
       "      <th></th>\n",
       "      <th>城市</th>\n",
       "      <th>人口密度</th>\n",
       "    </tr>\n",
       "  </thead>\n",
       "  <tbody>\n",
       "    <tr>\n",
       "      <th>0</th>\n",
       "      <td>城市A</td>\n",
       "      <td>28.53万人/0.87平方公里</td>\n",
       "    </tr>\n",
       "    <tr>\n",
       "      <th>1</th>\n",
       "      <td>城市B</td>\n",
       "      <td>37.83万人/2.19平方公里</td>\n",
       "    </tr>\n",
       "    <tr>\n",
       "      <th>2</th>\n",
       "      <td>城市C</td>\n",
       "      <td>15.3万人/1.57平方公里</td>\n",
       "    </tr>\n",
       "  </tbody>\n",
       "</table>\n",
       "</div>"
      ],
      "text/plain": [
       "    城市              人口密度\n",
       "0  城市A  28.53万人/0.87平方公里\n",
       "1  城市B  37.83万人/2.19平方公里\n",
       "2  城市C   15.3万人/1.57平方公里"
      ]
     },
     "execution_count": 16,
     "metadata": {},
     "output_type": "execute_result"
    }
   ],
   "source": [
    "df7"
   ]
  },
  {
   "cell_type": "code",
   "execution_count": 17,
   "id": "a0a8dab1-c080-4932-81ca-11244ec62ff7",
   "metadata": {},
   "outputs": [
    {
     "data": {
      "text/html": [
       "<div>\n",
       "<style scoped>\n",
       "    .dataframe tbody tr th:only-of-type {\n",
       "        vertical-align: middle;\n",
       "    }\n",
       "\n",
       "    .dataframe tbody tr th {\n",
       "        vertical-align: top;\n",
       "    }\n",
       "\n",
       "    .dataframe thead th {\n",
       "        text-align: right;\n",
       "    }\n",
       "</style>\n",
       "<table border=\"1\" class=\"dataframe\">\n",
       "  <thead>\n",
       "    <tr style=\"text-align: right;\">\n",
       "      <th></th>\n",
       "      <th>城市</th>\n",
       "      <th>人口密度</th>\n",
       "      <th>人口</th>\n",
       "      <th>面积</th>\n",
       "    </tr>\n",
       "  </thead>\n",
       "  <tbody>\n",
       "    <tr>\n",
       "      <th>0</th>\n",
       "      <td>城市A</td>\n",
       "      <td>28.53万人/0.87平方公里</td>\n",
       "      <td>28.53万人</td>\n",
       "      <td>0.87平方公里</td>\n",
       "    </tr>\n",
       "    <tr>\n",
       "      <th>1</th>\n",
       "      <td>城市B</td>\n",
       "      <td>37.83万人/2.19平方公里</td>\n",
       "      <td>37.83万人</td>\n",
       "      <td>2.19平方公里</td>\n",
       "    </tr>\n",
       "    <tr>\n",
       "      <th>2</th>\n",
       "      <td>城市C</td>\n",
       "      <td>15.3万人/1.57平方公里</td>\n",
       "      <td>15.3万人</td>\n",
       "      <td>1.57平方公里</td>\n",
       "    </tr>\n",
       "  </tbody>\n",
       "</table>\n",
       "</div>"
      ],
      "text/plain": [
       "    城市              人口密度       人口        面积\n",
       "0  城市A  28.53万人/0.87平方公里  28.53万人  0.87平方公里\n",
       "1  城市B  37.83万人/2.19平方公里  37.83万人  2.19平方公里\n",
       "2  城市C   15.3万人/1.57平方公里   15.3万人  1.57平方公里"
      ]
     },
     "execution_count": 17,
     "metadata": {},
     "output_type": "execute_result"
    }
   ],
   "source": [
    "df7[[\"人口\", \"面积\"]] = df7[\"人口密度\"].str.split(\"/\", expand=True)\n",
    "df7"
   ]
  },
  {
   "cell_type": "markdown",
   "id": "95faebb4-62df-47b1-805a-65a2ec31fb1d",
   "metadata": {},
   "source": [
    "**对不存在的列名赋值就是再创建新列<br>很多情况函数都默认axis=o(对↓方向进行操作)<br>很多情况下函数都默认不操作原df只显示操作后的结果<br>这需要我们手动传参**"
   ]
  },
  {
   "cell_type": "code",
   "execution_count": 18,
   "id": "9dff7b2a-05b5-4356-982d-f71a242ea142",
   "metadata": {},
   "outputs": [
    {
     "data": {
      "text/html": [
       "<div>\n",
       "<style scoped>\n",
       "    .dataframe tbody tr th:only-of-type {\n",
       "        vertical-align: middle;\n",
       "    }\n",
       "\n",
       "    .dataframe tbody tr th {\n",
       "        vertical-align: top;\n",
       "    }\n",
       "\n",
       "    .dataframe thead th {\n",
       "        text-align: right;\n",
       "    }\n",
       "</style>\n",
       "<table border=\"1\" class=\"dataframe\">\n",
       "  <thead>\n",
       "    <tr style=\"text-align: right;\">\n",
       "      <th></th>\n",
       "      <th>城市</th>\n",
       "      <th>人口</th>\n",
       "      <th>面积</th>\n",
       "    </tr>\n",
       "  </thead>\n",
       "  <tbody>\n",
       "    <tr>\n",
       "      <th>0</th>\n",
       "      <td>城市A</td>\n",
       "      <td>28.53万人</td>\n",
       "      <td>0.87平方公里</td>\n",
       "    </tr>\n",
       "    <tr>\n",
       "      <th>1</th>\n",
       "      <td>城市B</td>\n",
       "      <td>37.83万人</td>\n",
       "      <td>2.19平方公里</td>\n",
       "    </tr>\n",
       "    <tr>\n",
       "      <th>2</th>\n",
       "      <td>城市C</td>\n",
       "      <td>15.3万人</td>\n",
       "      <td>1.57平方公里</td>\n",
       "    </tr>\n",
       "  </tbody>\n",
       "</table>\n",
       "</div>"
      ],
      "text/plain": [
       "    城市       人口        面积\n",
       "0  城市A  28.53万人  0.87平方公里\n",
       "1  城市B  37.83万人  2.19平方公里\n",
       "2  城市C   15.3万人  1.57平方公里"
      ]
     },
     "execution_count": 18,
     "metadata": {},
     "output_type": "execute_result"
    }
   ],
   "source": [
    "df7 = df7.drop(\"人口密度\", axis=1)\n",
    "df7"
   ]
  },
  {
   "cell_type": "markdown",
   "id": "4608fdbc-88eb-44ff-8618-e62fabe8c74f",
   "metadata": {
    "jp-MarkdownHeadingCollapsed": true
   },
   "source": [
    "# 把不同列合并成一列"
   ]
  },
  {
   "cell_type": "code",
   "execution_count": 49,
   "id": "080a9c88-9c74-4469-926b-b554529bb5a9",
   "metadata": {},
   "outputs": [
    {
     "data": {
      "text/html": [
       "<div>\n",
       "<style scoped>\n",
       "    .dataframe tbody tr th:only-of-type {\n",
       "        vertical-align: middle;\n",
       "    }\n",
       "\n",
       "    .dataframe tbody tr th {\n",
       "        vertical-align: top;\n",
       "    }\n",
       "\n",
       "    .dataframe thead th {\n",
       "        text-align: right;\n",
       "    }\n",
       "</style>\n",
       "<table border=\"1\" class=\"dataframe\">\n",
       "  <thead>\n",
       "    <tr style=\"text-align: right;\">\n",
       "      <th></th>\n",
       "      <th>姓</th>\n",
       "      <th>名</th>\n",
       "      <th>年龄</th>\n",
       "    </tr>\n",
       "  </thead>\n",
       "  <tbody>\n",
       "    <tr>\n",
       "      <th>0</th>\n",
       "      <td>张</td>\n",
       "      <td>三</td>\n",
       "      <td>30</td>\n",
       "    </tr>\n",
       "    <tr>\n",
       "      <th>1</th>\n",
       "      <td>李</td>\n",
       "      <td>四</td>\n",
       "      <td>25</td>\n",
       "    </tr>\n",
       "    <tr>\n",
       "      <th>2</th>\n",
       "      <td>王</td>\n",
       "      <td>五</td>\n",
       "      <td>35</td>\n",
       "    </tr>\n",
       "  </tbody>\n",
       "</table>\n",
       "</div>"
      ],
      "text/plain": [
       "   姓  名  年龄\n",
       "0  张  三  30\n",
       "1  李  四  25\n",
       "2  王  五  35"
      ]
     },
     "execution_count": 49,
     "metadata": {},
     "output_type": "execute_result"
    }
   ],
   "source": [
    "df8 = pd.DataFrame({'姓': ['张', '李', '王'], '名': ['三', '四', '五'], '年龄': [30, 25, 35]})\n",
    "df8"
   ]
  },
  {
   "cell_type": "code",
   "execution_count": 50,
   "id": "c1a94453-7b03-40ec-8ec5-5fc48ec4ee91",
   "metadata": {},
   "outputs": [
    {
     "data": {
      "text/plain": [
       "0    张\n",
       "1    李\n",
       "2    王\n",
       "Name: 姓, dtype: object"
      ]
     },
     "execution_count": 50,
     "metadata": {},
     "output_type": "execute_result"
    }
   ],
   "source": [
    "df8[\"姓\"]"
   ]
  },
  {
   "cell_type": "code",
   "execution_count": 51,
   "id": "f7b24881-7bbc-448d-a390-39658d63dfa0",
   "metadata": {},
   "outputs": [
    {
     "data": {
      "text/plain": [
       "0    张三\n",
       "1    李四\n",
       "2    王五\n",
       "Name: 姓, dtype: object"
      ]
     },
     "execution_count": 51,
     "metadata": {},
     "output_type": "execute_result"
    }
   ],
   "source": [
    "df8[\"姓\"].str.cat(df8[\"名\"])"
   ]
  },
  {
   "cell_type": "code",
   "execution_count": 52,
   "id": "4b15a757-b62a-4670-890e-153eadfe92f4",
   "metadata": {},
   "outputs": [
    {
     "data": {
      "text/plain": [
       "0    张-三\n",
       "1    李-四\n",
       "2    王-五\n",
       "Name: 姓, dtype: object"
      ]
     },
     "execution_count": 52,
     "metadata": {},
     "output_type": "execute_result"
    }
   ],
   "source": [
    "df8[\"姓\"].str.cat(df8[\"名\"], sep=\"-\")"
   ]
  },
  {
   "cell_type": "code",
   "execution_count": 53,
   "id": "c47ae474-25af-45a9-8387-512a5c5f0661",
   "metadata": {},
   "outputs": [
    {
     "data": {
      "text/plain": [
       "pandas.core.series.Series"
      ]
     },
     "execution_count": 53,
     "metadata": {},
     "output_type": "execute_result"
    }
   ],
   "source": [
    "type(df8[\"姓\"].str.cat(df8[\"名\"], sep=\"-\"))"
   ]
  },
  {
   "cell_type": "code",
   "execution_count": 54,
   "id": "95f1eeff-c5a1-4f67-b64b-26ef5d36a782",
   "metadata": {},
   "outputs": [
    {
     "data": {
      "text/html": [
       "<div>\n",
       "<style scoped>\n",
       "    .dataframe tbody tr th:only-of-type {\n",
       "        vertical-align: middle;\n",
       "    }\n",
       "\n",
       "    .dataframe tbody tr th {\n",
       "        vertical-align: top;\n",
       "    }\n",
       "\n",
       "    .dataframe thead th {\n",
       "        text-align: right;\n",
       "    }\n",
       "</style>\n",
       "<table border=\"1\" class=\"dataframe\">\n",
       "  <thead>\n",
       "    <tr style=\"text-align: right;\">\n",
       "      <th></th>\n",
       "      <th>姓</th>\n",
       "      <th>名</th>\n",
       "      <th>年龄</th>\n",
       "      <th>姓名</th>\n",
       "    </tr>\n",
       "  </thead>\n",
       "  <tbody>\n",
       "    <tr>\n",
       "      <th>0</th>\n",
       "      <td>张</td>\n",
       "      <td>三</td>\n",
       "      <td>30</td>\n",
       "      <td>张三</td>\n",
       "    </tr>\n",
       "    <tr>\n",
       "      <th>1</th>\n",
       "      <td>李</td>\n",
       "      <td>四</td>\n",
       "      <td>25</td>\n",
       "      <td>李四</td>\n",
       "    </tr>\n",
       "    <tr>\n",
       "      <th>2</th>\n",
       "      <td>王</td>\n",
       "      <td>五</td>\n",
       "      <td>35</td>\n",
       "      <td>王五</td>\n",
       "    </tr>\n",
       "  </tbody>\n",
       "</table>\n",
       "</div>"
      ],
      "text/plain": [
       "   姓  名  年龄  姓名\n",
       "0  张  三  30  张三\n",
       "1  李  四  25  李四\n",
       "2  王  五  35  王五"
      ]
     },
     "execution_count": 54,
     "metadata": {},
     "output_type": "execute_result"
    }
   ],
   "source": [
    "df8[\"姓名\"] = df8[\"姓\"].str.cat(df8[\"名\"])\n",
    "df8"
   ]
  },
  {
   "cell_type": "code",
   "execution_count": 55,
   "id": "051b2f13-9cda-4b31-b4d5-910adf292a91",
   "metadata": {},
   "outputs": [
    {
     "data": {
      "text/html": [
       "<div>\n",
       "<style scoped>\n",
       "    .dataframe tbody tr th:only-of-type {\n",
       "        vertical-align: middle;\n",
       "    }\n",
       "\n",
       "    .dataframe tbody tr th {\n",
       "        vertical-align: top;\n",
       "    }\n",
       "\n",
       "    .dataframe thead th {\n",
       "        text-align: right;\n",
       "    }\n",
       "</style>\n",
       "<table border=\"1\" class=\"dataframe\">\n",
       "  <thead>\n",
       "    <tr style=\"text-align: right;\">\n",
       "      <th></th>\n",
       "      <th>年龄</th>\n",
       "      <th>姓名</th>\n",
       "    </tr>\n",
       "  </thead>\n",
       "  <tbody>\n",
       "    <tr>\n",
       "      <th>0</th>\n",
       "      <td>30</td>\n",
       "      <td>张三</td>\n",
       "    </tr>\n",
       "    <tr>\n",
       "      <th>1</th>\n",
       "      <td>25</td>\n",
       "      <td>李四</td>\n",
       "    </tr>\n",
       "    <tr>\n",
       "      <th>2</th>\n",
       "      <td>35</td>\n",
       "      <td>王五</td>\n",
       "    </tr>\n",
       "  </tbody>\n",
       "</table>\n",
       "</div>"
      ],
      "text/plain": [
       "   年龄  姓名\n",
       "0  30  张三\n",
       "1  25  李四\n",
       "2  35  王五"
      ]
     },
     "execution_count": 55,
     "metadata": {},
     "output_type": "execute_result"
    }
   ],
   "source": [
    "df8.drop([\"姓\", \"名\"], axis=1,inplace=True)\n",
    "df8"
   ]
  },
  {
   "cell_type": "markdown",
   "id": "ef71be58-7da3-4801-a359-9120578b7159",
   "metadata": {
    "jp-MarkdownHeadingCollapsed": true
   },
   "source": [
    "# 把宽数据转换成长数据-使用melt函数将多列变量转换为一列"
   ]
  },
  {
   "cell_type": "code",
   "execution_count": 2,
   "id": "d2c0b915-bb83-4e66-ab61-a57c9bde135e",
   "metadata": {},
   "outputs": [
    {
     "data": {
      "text/html": [
       "<div>\n",
       "<style scoped>\n",
       "    .dataframe tbody tr th:only-of-type {\n",
       "        vertical-align: middle;\n",
       "    }\n",
       "\n",
       "    .dataframe tbody tr th {\n",
       "        vertical-align: top;\n",
       "    }\n",
       "\n",
       "    .dataframe thead th {\n",
       "        text-align: right;\n",
       "    }\n",
       "</style>\n",
       "<table border=\"1\" class=\"dataframe\">\n",
       "  <thead>\n",
       "    <tr style=\"text-align: right;\">\n",
       "      <th></th>\n",
       "      <th>国家代码</th>\n",
       "      <th>年份</th>\n",
       "      <th>男性年龄组（0-4岁）</th>\n",
       "      <th>男性年龄组（5-14岁）</th>\n",
       "      <th>男性年龄组（15-24岁）</th>\n",
       "      <th>女性年龄组（0-4岁）</th>\n",
       "      <th>女性年龄组（5-14岁）</th>\n",
       "      <th>女性年龄组（15-24岁）</th>\n",
       "    </tr>\n",
       "  </thead>\n",
       "  <tbody>\n",
       "    <tr>\n",
       "      <th>0</th>\n",
       "      <td>CN</td>\n",
       "      <td>2019</td>\n",
       "      <td>100</td>\n",
       "      <td>200</td>\n",
       "      <td>500</td>\n",
       "      <td>80</td>\n",
       "      <td>150</td>\n",
       "      <td>400</td>\n",
       "    </tr>\n",
       "    <tr>\n",
       "      <th>1</th>\n",
       "      <td>US</td>\n",
       "      <td>2019</td>\n",
       "      <td>50</td>\n",
       "      <td>150</td>\n",
       "      <td>300</td>\n",
       "      <td>40</td>\n",
       "      <td>100</td>\n",
       "      <td>200</td>\n",
       "    </tr>\n",
       "    <tr>\n",
       "      <th>2</th>\n",
       "      <td>JP</td>\n",
       "      <td>2019</td>\n",
       "      <td>30</td>\n",
       "      <td>120</td>\n",
       "      <td>250</td>\n",
       "      <td>20</td>\n",
       "      <td>80</td>\n",
       "      <td>150</td>\n",
       "    </tr>\n",
       "    <tr>\n",
       "      <th>3</th>\n",
       "      <td>IN</td>\n",
       "      <td>2019</td>\n",
       "      <td>80</td>\n",
       "      <td>180</td>\n",
       "      <td>400</td>\n",
       "      <td>60</td>\n",
       "      <td>120</td>\n",
       "      <td>300</td>\n",
       "    </tr>\n",
       "  </tbody>\n",
       "</table>\n",
       "</div>"
      ],
      "text/plain": [
       "  国家代码    年份  男性年龄组（0-4岁）  男性年龄组（5-14岁）  男性年龄组（15-24岁）  女性年龄组（0-4岁）  \\\n",
       "0   CN  2019          100           200            500           80   \n",
       "1   US  2019           50           150            300           40   \n",
       "2   JP  2019           30           120            250           20   \n",
       "3   IN  2019           80           180            400           60   \n",
       "\n",
       "   女性年龄组（5-14岁）  女性年龄组（15-24岁）  \n",
       "0           150            400  \n",
       "1           100            200  \n",
       "2            80            150  \n",
       "3           120            300  "
      ]
     },
     "execution_count": 2,
     "metadata": {},
     "output_type": "execute_result"
    }
   ],
   "source": [
    "import pandas as pd\n",
    "df9 = pd.read_csv(r\"F:\\BaiduNetdiskDownload\\数据分析课程操作的文件\\04数据评估与清洗篇\\example6.csv\")\n",
    "df9"
   ]
  },
  {
   "cell_type": "code",
   "execution_count": 4,
   "id": "7ee79689-4763-40d1-8b71-fdee5bf75349",
   "metadata": {},
   "outputs": [
    {
     "data": {
      "text/html": [
       "<div>\n",
       "<style scoped>\n",
       "    .dataframe tbody tr th:only-of-type {\n",
       "        vertical-align: middle;\n",
       "    }\n",
       "\n",
       "    .dataframe tbody tr th {\n",
       "        vertical-align: top;\n",
       "    }\n",
       "\n",
       "    .dataframe thead th {\n",
       "        text-align: right;\n",
       "    }\n",
       "</style>\n",
       "<table border=\"1\" class=\"dataframe\">\n",
       "  <thead>\n",
       "    <tr style=\"text-align: right;\">\n",
       "      <th></th>\n",
       "      <th>国家代码</th>\n",
       "      <th>年份</th>\n",
       "      <th>年龄组</th>\n",
       "      <th>肺结核病例数</th>\n",
       "    </tr>\n",
       "  </thead>\n",
       "  <tbody>\n",
       "    <tr>\n",
       "      <th>0</th>\n",
       "      <td>CN</td>\n",
       "      <td>2019</td>\n",
       "      <td>男性年龄组（0-4岁）</td>\n",
       "      <td>100</td>\n",
       "    </tr>\n",
       "    <tr>\n",
       "      <th>1</th>\n",
       "      <td>US</td>\n",
       "      <td>2019</td>\n",
       "      <td>男性年龄组（0-4岁）</td>\n",
       "      <td>50</td>\n",
       "    </tr>\n",
       "    <tr>\n",
       "      <th>2</th>\n",
       "      <td>JP</td>\n",
       "      <td>2019</td>\n",
       "      <td>男性年龄组（0-4岁）</td>\n",
       "      <td>30</td>\n",
       "    </tr>\n",
       "    <tr>\n",
       "      <th>3</th>\n",
       "      <td>IN</td>\n",
       "      <td>2019</td>\n",
       "      <td>男性年龄组（0-4岁）</td>\n",
       "      <td>80</td>\n",
       "    </tr>\n",
       "    <tr>\n",
       "      <th>4</th>\n",
       "      <td>CN</td>\n",
       "      <td>2019</td>\n",
       "      <td>男性年龄组（5-14岁）</td>\n",
       "      <td>200</td>\n",
       "    </tr>\n",
       "    <tr>\n",
       "      <th>5</th>\n",
       "      <td>US</td>\n",
       "      <td>2019</td>\n",
       "      <td>男性年龄组（5-14岁）</td>\n",
       "      <td>150</td>\n",
       "    </tr>\n",
       "    <tr>\n",
       "      <th>6</th>\n",
       "      <td>JP</td>\n",
       "      <td>2019</td>\n",
       "      <td>男性年龄组（5-14岁）</td>\n",
       "      <td>120</td>\n",
       "    </tr>\n",
       "    <tr>\n",
       "      <th>7</th>\n",
       "      <td>IN</td>\n",
       "      <td>2019</td>\n",
       "      <td>男性年龄组（5-14岁）</td>\n",
       "      <td>180</td>\n",
       "    </tr>\n",
       "    <tr>\n",
       "      <th>8</th>\n",
       "      <td>CN</td>\n",
       "      <td>2019</td>\n",
       "      <td>男性年龄组（15-24岁）</td>\n",
       "      <td>500</td>\n",
       "    </tr>\n",
       "    <tr>\n",
       "      <th>9</th>\n",
       "      <td>US</td>\n",
       "      <td>2019</td>\n",
       "      <td>男性年龄组（15-24岁）</td>\n",
       "      <td>300</td>\n",
       "    </tr>\n",
       "    <tr>\n",
       "      <th>10</th>\n",
       "      <td>JP</td>\n",
       "      <td>2019</td>\n",
       "      <td>男性年龄组（15-24岁）</td>\n",
       "      <td>250</td>\n",
       "    </tr>\n",
       "    <tr>\n",
       "      <th>11</th>\n",
       "      <td>IN</td>\n",
       "      <td>2019</td>\n",
       "      <td>男性年龄组（15-24岁）</td>\n",
       "      <td>400</td>\n",
       "    </tr>\n",
       "    <tr>\n",
       "      <th>12</th>\n",
       "      <td>CN</td>\n",
       "      <td>2019</td>\n",
       "      <td>女性年龄组（0-4岁）</td>\n",
       "      <td>80</td>\n",
       "    </tr>\n",
       "    <tr>\n",
       "      <th>13</th>\n",
       "      <td>US</td>\n",
       "      <td>2019</td>\n",
       "      <td>女性年龄组（0-4岁）</td>\n",
       "      <td>40</td>\n",
       "    </tr>\n",
       "    <tr>\n",
       "      <th>14</th>\n",
       "      <td>JP</td>\n",
       "      <td>2019</td>\n",
       "      <td>女性年龄组（0-4岁）</td>\n",
       "      <td>20</td>\n",
       "    </tr>\n",
       "    <tr>\n",
       "      <th>15</th>\n",
       "      <td>IN</td>\n",
       "      <td>2019</td>\n",
       "      <td>女性年龄组（0-4岁）</td>\n",
       "      <td>60</td>\n",
       "    </tr>\n",
       "    <tr>\n",
       "      <th>16</th>\n",
       "      <td>CN</td>\n",
       "      <td>2019</td>\n",
       "      <td>女性年龄组（5-14岁）</td>\n",
       "      <td>150</td>\n",
       "    </tr>\n",
       "    <tr>\n",
       "      <th>17</th>\n",
       "      <td>US</td>\n",
       "      <td>2019</td>\n",
       "      <td>女性年龄组（5-14岁）</td>\n",
       "      <td>100</td>\n",
       "    </tr>\n",
       "    <tr>\n",
       "      <th>18</th>\n",
       "      <td>JP</td>\n",
       "      <td>2019</td>\n",
       "      <td>女性年龄组（5-14岁）</td>\n",
       "      <td>80</td>\n",
       "    </tr>\n",
       "    <tr>\n",
       "      <th>19</th>\n",
       "      <td>IN</td>\n",
       "      <td>2019</td>\n",
       "      <td>女性年龄组（5-14岁）</td>\n",
       "      <td>120</td>\n",
       "    </tr>\n",
       "    <tr>\n",
       "      <th>20</th>\n",
       "      <td>CN</td>\n",
       "      <td>2019</td>\n",
       "      <td>女性年龄组（15-24岁）</td>\n",
       "      <td>400</td>\n",
       "    </tr>\n",
       "    <tr>\n",
       "      <th>21</th>\n",
       "      <td>US</td>\n",
       "      <td>2019</td>\n",
       "      <td>女性年龄组（15-24岁）</td>\n",
       "      <td>200</td>\n",
       "    </tr>\n",
       "    <tr>\n",
       "      <th>22</th>\n",
       "      <td>JP</td>\n",
       "      <td>2019</td>\n",
       "      <td>女性年龄组（15-24岁）</td>\n",
       "      <td>150</td>\n",
       "    </tr>\n",
       "    <tr>\n",
       "      <th>23</th>\n",
       "      <td>IN</td>\n",
       "      <td>2019</td>\n",
       "      <td>女性年龄组（15-24岁）</td>\n",
       "      <td>300</td>\n",
       "    </tr>\n",
       "  </tbody>\n",
       "</table>\n",
       "</div>"
      ],
      "text/plain": [
       "   国家代码    年份            年龄组  肺结核病例数\n",
       "0    CN  2019    男性年龄组（0-4岁）     100\n",
       "1    US  2019    男性年龄组（0-4岁）      50\n",
       "2    JP  2019    男性年龄组（0-4岁）      30\n",
       "3    IN  2019    男性年龄组（0-4岁）      80\n",
       "4    CN  2019   男性年龄组（5-14岁）     200\n",
       "5    US  2019   男性年龄组（5-14岁）     150\n",
       "6    JP  2019   男性年龄组（5-14岁）     120\n",
       "7    IN  2019   男性年龄组（5-14岁）     180\n",
       "8    CN  2019  男性年龄组（15-24岁）     500\n",
       "9    US  2019  男性年龄组（15-24岁）     300\n",
       "10   JP  2019  男性年龄组（15-24岁）     250\n",
       "11   IN  2019  男性年龄组（15-24岁）     400\n",
       "12   CN  2019    女性年龄组（0-4岁）      80\n",
       "13   US  2019    女性年龄组（0-4岁）      40\n",
       "14   JP  2019    女性年龄组（0-4岁）      20\n",
       "15   IN  2019    女性年龄组（0-4岁）      60\n",
       "16   CN  2019   女性年龄组（5-14岁）     150\n",
       "17   US  2019   女性年龄组（5-14岁）     100\n",
       "18   JP  2019   女性年龄组（5-14岁）      80\n",
       "19   IN  2019   女性年龄组（5-14岁）     120\n",
       "20   CN  2019  女性年龄组（15-24岁）     400\n",
       "21   US  2019  女性年龄组（15-24岁）     200\n",
       "22   JP  2019  女性年龄组（15-24岁）     150\n",
       "23   IN  2019  女性年龄组（15-24岁）     300"
      ]
     },
     "execution_count": 4,
     "metadata": {},
     "output_type": "execute_result"
    }
   ],
   "source": [
    "pd.melt(\n",
    "    df9,\n",
    "    id_vars=['国家代码', '年份'],  \n",
    "    var_name='年龄组',  \n",
    "    value_name='肺结核病例数'  \n",
    ")"
   ]
  },
  {
   "cell_type": "markdown",
   "id": "1c395a70-b44c-4768-ac1e-36f3ccbd3399",
   "metadata": {},
   "source": [
    "melt 的过程就像“融化”数据。它会将你指定的某些列（代表变量）的列名变成一个新列（var_name），同时将这些列中的值变成另一个新列（value_name）。<br>id_vars指定了哪些列是标识符，这些列在转换过程中保持不变<br>\n",
    "var_name指定了新列的名称，这个新列将用来存放被“融化”的那些列的列名即：未被id_vars选中的列会被融化<br>value_name 指定了另一个新列的名称，这个新列将用来存放被“融化”的那些列中的数值                                                                               "
   ]
  },
  {
   "cell_type": "markdown",
   "id": "0d157150-fb5e-407b-9e57-da17ac4dabad",
   "metadata": {
    "jp-MarkdownHeadingCollapsed": true
   },
   "source": [
    "# 对行进行拆分"
   ]
  },
  {
   "cell_type": "code",
   "execution_count": 19,
   "id": "9728be30-657f-43b5-bfd3-98b51b9c62c1",
   "metadata": {},
   "outputs": [
    {
     "data": {
      "text/html": [
       "<div>\n",
       "<style scoped>\n",
       "    .dataframe tbody tr th:only-of-type {\n",
       "        vertical-align: middle;\n",
       "    }\n",
       "\n",
       "    .dataframe tbody tr th {\n",
       "        vertical-align: top;\n",
       "    }\n",
       "\n",
       "    .dataframe thead th {\n",
       "        text-align: right;\n",
       "    }\n",
       "</style>\n",
       "<table border=\"1\" class=\"dataframe\">\n",
       "  <thead>\n",
       "    <tr style=\"text-align: right;\">\n",
       "      <th></th>\n",
       "      <th>学生姓名</th>\n",
       "      <th>学号</th>\n",
       "      <th>课程列表</th>\n",
       "    </tr>\n",
       "  </thead>\n",
       "  <tbody>\n",
       "    <tr>\n",
       "      <th>0</th>\n",
       "      <td>张三</td>\n",
       "      <td>1</td>\n",
       "      <td>['数学', '物理']</td>\n",
       "    </tr>\n",
       "    <tr>\n",
       "      <th>1</th>\n",
       "      <td>李四</td>\n",
       "      <td>2</td>\n",
       "      <td>['英语', '化学', '历史']</td>\n",
       "    </tr>\n",
       "    <tr>\n",
       "      <th>2</th>\n",
       "      <td>王五</td>\n",
       "      <td>3</td>\n",
       "      <td>['语文', '数学', '英语', '政治']</td>\n",
       "    </tr>\n",
       "    <tr>\n",
       "      <th>3</th>\n",
       "      <td>赵六</td>\n",
       "      <td>4</td>\n",
       "      <td>['物理', '生物']</td>\n",
       "    </tr>\n",
       "  </tbody>\n",
       "</table>\n",
       "</div>"
      ],
      "text/plain": [
       "  学生姓名  学号                      课程列表\n",
       "0   张三   1              ['数学', '物理']\n",
       "1   李四   2        ['英语', '化学', '历史']\n",
       "2   王五   3  ['语文', '数学', '英语', '政治']\n",
       "3   赵六   4              ['物理', '生物']"
      ]
     },
     "execution_count": 19,
     "metadata": {},
     "output_type": "execute_result"
    }
   ],
   "source": [
    "import pandas as pd\n",
    "df10 = pd.read_csv(r\"F:\\BaiduNetdiskDownload\\数据分析课程操作的文件\\04数据评估与清洗篇\\example7.csv\")\n",
    "df10"
   ]
  },
  {
   "cell_type": "markdown",
   "id": "5bad7d5e-3c4d-47d2-8e9f-5d06472558c6",
   "metadata": {},
   "source": [
    " 虽然上面的课程列表变量看起来像是列表，但实际上是字符串<br>\n",
    " 比如第一行里的课程列表实际为字符串\"['数学', '物理']\"，而不是列表['数学', '物理']<br>\n",
    " 所以我们需要先将字符串形式的列表转换为实际的列表对象，这样explode才能对列表进行拆分<br>\n",
    " 这里我们可以使用Python内置的`eval`函数，它可以把字符串转换成表达式，所以可以帮我们把表示列表的字符串转换成列表本身<br>"
   ]
  },
  {
   "cell_type": "code",
   "execution_count": 20,
   "id": "a902d9d2-9ba8-4dc2-8bd7-4b22dcfcc378",
   "metadata": {},
   "outputs": [],
   "source": [
    "df10['课程列表'] = df10['课程列表'].apply(lambda x: eval(x))"
   ]
  },
  {
   "cell_type": "code",
   "execution_count": 21,
   "id": "d28736b4-e089-44bc-ae85-77ba012d44b9",
   "metadata": {},
   "outputs": [
    {
     "data": {
      "text/html": [
       "<div>\n",
       "<style scoped>\n",
       "    .dataframe tbody tr th:only-of-type {\n",
       "        vertical-align: middle;\n",
       "    }\n",
       "\n",
       "    .dataframe tbody tr th {\n",
       "        vertical-align: top;\n",
       "    }\n",
       "\n",
       "    .dataframe thead th {\n",
       "        text-align: right;\n",
       "    }\n",
       "</style>\n",
       "<table border=\"1\" class=\"dataframe\">\n",
       "  <thead>\n",
       "    <tr style=\"text-align: right;\">\n",
       "      <th></th>\n",
       "      <th>学生姓名</th>\n",
       "      <th>学号</th>\n",
       "      <th>课程列表</th>\n",
       "    </tr>\n",
       "  </thead>\n",
       "  <tbody>\n",
       "    <tr>\n",
       "      <th>0</th>\n",
       "      <td>张三</td>\n",
       "      <td>1</td>\n",
       "      <td>[数学, 物理]</td>\n",
       "    </tr>\n",
       "    <tr>\n",
       "      <th>1</th>\n",
       "      <td>李四</td>\n",
       "      <td>2</td>\n",
       "      <td>[英语, 化学, 历史]</td>\n",
       "    </tr>\n",
       "    <tr>\n",
       "      <th>2</th>\n",
       "      <td>王五</td>\n",
       "      <td>3</td>\n",
       "      <td>[语文, 数学, 英语, 政治]</td>\n",
       "    </tr>\n",
       "    <tr>\n",
       "      <th>3</th>\n",
       "      <td>赵六</td>\n",
       "      <td>4</td>\n",
       "      <td>[物理, 生物]</td>\n",
       "    </tr>\n",
       "  </tbody>\n",
       "</table>\n",
       "</div>"
      ],
      "text/plain": [
       "  学生姓名  学号              课程列表\n",
       "0   张三   1          [数学, 物理]\n",
       "1   李四   2      [英语, 化学, 历史]\n",
       "2   王五   3  [语文, 数学, 英语, 政治]\n",
       "3   赵六   4          [物理, 生物]"
      ]
     },
     "execution_count": 21,
     "metadata": {},
     "output_type": "execute_result"
    }
   ],
   "source": [
    "df10"
   ]
  },
  {
   "cell_type": "code",
   "execution_count": 22,
   "id": "b515fd23-e5dc-4a4e-a03b-afa08e37cbd4",
   "metadata": {},
   "outputs": [
    {
     "data": {
      "text/html": [
       "<div>\n",
       "<style scoped>\n",
       "    .dataframe tbody tr th:only-of-type {\n",
       "        vertical-align: middle;\n",
       "    }\n",
       "\n",
       "    .dataframe tbody tr th {\n",
       "        vertical-align: top;\n",
       "    }\n",
       "\n",
       "    .dataframe thead th {\n",
       "        text-align: right;\n",
       "    }\n",
       "</style>\n",
       "<table border=\"1\" class=\"dataframe\">\n",
       "  <thead>\n",
       "    <tr style=\"text-align: right;\">\n",
       "      <th></th>\n",
       "      <th>学生姓名</th>\n",
       "      <th>学号</th>\n",
       "      <th>课程列表</th>\n",
       "    </tr>\n",
       "  </thead>\n",
       "  <tbody>\n",
       "    <tr>\n",
       "      <th>0</th>\n",
       "      <td>张三</td>\n",
       "      <td>1</td>\n",
       "      <td>数学</td>\n",
       "    </tr>\n",
       "    <tr>\n",
       "      <th>0</th>\n",
       "      <td>张三</td>\n",
       "      <td>1</td>\n",
       "      <td>物理</td>\n",
       "    </tr>\n",
       "    <tr>\n",
       "      <th>1</th>\n",
       "      <td>李四</td>\n",
       "      <td>2</td>\n",
       "      <td>英语</td>\n",
       "    </tr>\n",
       "    <tr>\n",
       "      <th>1</th>\n",
       "      <td>李四</td>\n",
       "      <td>2</td>\n",
       "      <td>化学</td>\n",
       "    </tr>\n",
       "    <tr>\n",
       "      <th>1</th>\n",
       "      <td>李四</td>\n",
       "      <td>2</td>\n",
       "      <td>历史</td>\n",
       "    </tr>\n",
       "    <tr>\n",
       "      <th>2</th>\n",
       "      <td>王五</td>\n",
       "      <td>3</td>\n",
       "      <td>语文</td>\n",
       "    </tr>\n",
       "    <tr>\n",
       "      <th>2</th>\n",
       "      <td>王五</td>\n",
       "      <td>3</td>\n",
       "      <td>数学</td>\n",
       "    </tr>\n",
       "    <tr>\n",
       "      <th>2</th>\n",
       "      <td>王五</td>\n",
       "      <td>3</td>\n",
       "      <td>英语</td>\n",
       "    </tr>\n",
       "    <tr>\n",
       "      <th>2</th>\n",
       "      <td>王五</td>\n",
       "      <td>3</td>\n",
       "      <td>政治</td>\n",
       "    </tr>\n",
       "    <tr>\n",
       "      <th>3</th>\n",
       "      <td>赵六</td>\n",
       "      <td>4</td>\n",
       "      <td>物理</td>\n",
       "    </tr>\n",
       "    <tr>\n",
       "      <th>3</th>\n",
       "      <td>赵六</td>\n",
       "      <td>4</td>\n",
       "      <td>生物</td>\n",
       "    </tr>\n",
       "  </tbody>\n",
       "</table>\n",
       "</div>"
      ],
      "text/plain": [
       "  学生姓名  学号 课程列表\n",
       "0   张三   1   数学\n",
       "0   张三   1   物理\n",
       "1   李四   2   英语\n",
       "1   李四   2   化学\n",
       "1   李四   2   历史\n",
       "2   王五   3   语文\n",
       "2   王五   3   数学\n",
       "2   王五   3   英语\n",
       "2   王五   3   政治\n",
       "3   赵六   4   物理\n",
       "3   赵六   4   生物"
      ]
     },
     "execution_count": 22,
     "metadata": {},
     "output_type": "execute_result"
    }
   ],
   "source": [
    "df10.explode(\"课程列表\")"
   ]
  },
  {
   "cell_type": "markdown",
   "id": "b5dca7fe-6bae-420b-8e99-12f613a9363d",
   "metadata": {
    "jp-MarkdownHeadingCollapsed": true
   },
   "source": [
    "# 对行或列进行删除"
   ]
  },
  {
   "cell_type": "code",
   "execution_count": 23,
   "id": "eeb83f4c-7001-44d7-b93a-762c0f05e23e",
   "metadata": {},
   "outputs": [
    {
     "data": {
      "text/html": [
       "<div>\n",
       "<style scoped>\n",
       "    .dataframe tbody tr th:only-of-type {\n",
       "        vertical-align: middle;\n",
       "    }\n",
       "\n",
       "    .dataframe tbody tr th {\n",
       "        vertical-align: top;\n",
       "    }\n",
       "\n",
       "    .dataframe thead th {\n",
       "        text-align: right;\n",
       "    }\n",
       "</style>\n",
       "<table border=\"1\" class=\"dataframe\">\n",
       "  <thead>\n",
       "    <tr style=\"text-align: right;\">\n",
       "      <th></th>\n",
       "      <th>姓名</th>\n",
       "      <th>考试1</th>\n",
       "      <th>考试2</th>\n",
       "      <th>考试3</th>\n",
       "    </tr>\n",
       "  </thead>\n",
       "  <tbody>\n",
       "    <tr>\n",
       "      <th>0</th>\n",
       "      <td>小陈</td>\n",
       "      <td>85</td>\n",
       "      <td>95</td>\n",
       "      <td>92</td>\n",
       "    </tr>\n",
       "    <tr>\n",
       "      <th>1</th>\n",
       "      <td>小李</td>\n",
       "      <td>91</td>\n",
       "      <td>92</td>\n",
       "      <td>94</td>\n",
       "    </tr>\n",
       "    <tr>\n",
       "      <th>2</th>\n",
       "      <td>小王</td>\n",
       "      <td>86</td>\n",
       "      <td>81</td>\n",
       "      <td>89</td>\n",
       "    </tr>\n",
       "    <tr>\n",
       "      <th>3</th>\n",
       "      <td>小张</td>\n",
       "      <td>79</td>\n",
       "      <td>89</td>\n",
       "      <td>95</td>\n",
       "    </tr>\n",
       "    <tr>\n",
       "      <th>4</th>\n",
       "      <td>小赵</td>\n",
       "      <td>96</td>\n",
       "      <td>91</td>\n",
       "      <td>91</td>\n",
       "    </tr>\n",
       "    <tr>\n",
       "      <th>5</th>\n",
       "      <td>小周</td>\n",
       "      <td>81</td>\n",
       "      <td>89</td>\n",
       "      <td>92</td>\n",
       "    </tr>\n",
       "  </tbody>\n",
       "</table>\n",
       "</div>"
      ],
      "text/plain": [
       "   姓名  考试1  考试2  考试3\n",
       "0  小陈   85   95   92\n",
       "1  小李   91   92   94\n",
       "2  小王   86   81   89\n",
       "3  小张   79   89   95\n",
       "4  小赵   96   91   91\n",
       "5  小周   81   89   92"
      ]
     },
     "execution_count": 23,
     "metadata": {},
     "output_type": "execute_result"
    }
   ],
   "source": [
    "df11 = pd.read_csv(r\"F:\\BaiduNetdiskDownload\\数据分析课程操作的文件\\04数据评估与清洗篇\\example8.csv\")\n",
    "df11"
   ]
  },
  {
   "cell_type": "code",
   "execution_count": 11,
   "id": "ca95c6cd-f748-4fd9-8a23-bc782095cbe3",
   "metadata": {},
   "outputs": [
    {
     "data": {
      "text/html": [
       "<div>\n",
       "<style scoped>\n",
       "    .dataframe tbody tr th:only-of-type {\n",
       "        vertical-align: middle;\n",
       "    }\n",
       "\n",
       "    .dataframe tbody tr th {\n",
       "        vertical-align: top;\n",
       "    }\n",
       "\n",
       "    .dataframe thead th {\n",
       "        text-align: right;\n",
       "    }\n",
       "</style>\n",
       "<table border=\"1\" class=\"dataframe\">\n",
       "  <thead>\n",
       "    <tr style=\"text-align: right;\">\n",
       "      <th></th>\n",
       "      <th>姓名</th>\n",
       "      <th>考试1</th>\n",
       "      <th>考试2</th>\n",
       "      <th>考试3</th>\n",
       "    </tr>\n",
       "  </thead>\n",
       "  <tbody>\n",
       "    <tr>\n",
       "      <th>0</th>\n",
       "      <td>小陈</td>\n",
       "      <td>85</td>\n",
       "      <td>95</td>\n",
       "      <td>92</td>\n",
       "    </tr>\n",
       "    <tr>\n",
       "      <th>1</th>\n",
       "      <td>小李</td>\n",
       "      <td>91</td>\n",
       "      <td>92</td>\n",
       "      <td>94</td>\n",
       "    </tr>\n",
       "    <tr>\n",
       "      <th>3</th>\n",
       "      <td>小张</td>\n",
       "      <td>79</td>\n",
       "      <td>89</td>\n",
       "      <td>95</td>\n",
       "    </tr>\n",
       "    <tr>\n",
       "      <th>4</th>\n",
       "      <td>小赵</td>\n",
       "      <td>96</td>\n",
       "      <td>91</td>\n",
       "      <td>91</td>\n",
       "    </tr>\n",
       "    <tr>\n",
       "      <th>5</th>\n",
       "      <td>小周</td>\n",
       "      <td>81</td>\n",
       "      <td>89</td>\n",
       "      <td>92</td>\n",
       "    </tr>\n",
       "  </tbody>\n",
       "</table>\n",
       "</div>"
      ],
      "text/plain": [
       "   姓名  考试1  考试2  考试3\n",
       "0  小陈   85   95   92\n",
       "1  小李   91   92   94\n",
       "3  小张   79   89   95\n",
       "4  小赵   96   91   91\n",
       "5  小周   81   89   92"
      ]
     },
     "execution_count": 11,
     "metadata": {},
     "output_type": "execute_result"
    }
   ],
   "source": [
    "df11.drop(2)"
   ]
  },
  {
   "cell_type": "code",
   "execution_count": 12,
   "id": "72a0de7c-faee-4c08-b6ef-64306c0d53e7",
   "metadata": {},
   "outputs": [
    {
     "data": {
      "text/html": [
       "<div>\n",
       "<style scoped>\n",
       "    .dataframe tbody tr th:only-of-type {\n",
       "        vertical-align: middle;\n",
       "    }\n",
       "\n",
       "    .dataframe tbody tr th {\n",
       "        vertical-align: top;\n",
       "    }\n",
       "\n",
       "    .dataframe thead th {\n",
       "        text-align: right;\n",
       "    }\n",
       "</style>\n",
       "<table border=\"1\" class=\"dataframe\">\n",
       "  <thead>\n",
       "    <tr style=\"text-align: right;\">\n",
       "      <th></th>\n",
       "      <th>姓名</th>\n",
       "      <th>考试1</th>\n",
       "      <th>考试3</th>\n",
       "    </tr>\n",
       "  </thead>\n",
       "  <tbody>\n",
       "    <tr>\n",
       "      <th>0</th>\n",
       "      <td>小陈</td>\n",
       "      <td>85</td>\n",
       "      <td>92</td>\n",
       "    </tr>\n",
       "    <tr>\n",
       "      <th>1</th>\n",
       "      <td>小李</td>\n",
       "      <td>91</td>\n",
       "      <td>94</td>\n",
       "    </tr>\n",
       "    <tr>\n",
       "      <th>2</th>\n",
       "      <td>小王</td>\n",
       "      <td>86</td>\n",
       "      <td>89</td>\n",
       "    </tr>\n",
       "    <tr>\n",
       "      <th>3</th>\n",
       "      <td>小张</td>\n",
       "      <td>79</td>\n",
       "      <td>95</td>\n",
       "    </tr>\n",
       "    <tr>\n",
       "      <th>4</th>\n",
       "      <td>小赵</td>\n",
       "      <td>96</td>\n",
       "      <td>91</td>\n",
       "    </tr>\n",
       "    <tr>\n",
       "      <th>5</th>\n",
       "      <td>小周</td>\n",
       "      <td>81</td>\n",
       "      <td>92</td>\n",
       "    </tr>\n",
       "  </tbody>\n",
       "</table>\n",
       "</div>"
      ],
      "text/plain": [
       "   姓名  考试1  考试3\n",
       "0  小陈   85   92\n",
       "1  小李   91   94\n",
       "2  小王   86   89\n",
       "3  小张   79   95\n",
       "4  小赵   96   91\n",
       "5  小周   81   92"
      ]
     },
     "execution_count": 12,
     "metadata": {},
     "output_type": "execute_result"
    }
   ],
   "source": [
    "df11.drop(\"考试2\", axis=1)"
   ]
  },
  {
   "cell_type": "code",
   "execution_count": 13,
   "id": "b1869f17-c35a-4551-9f12-91968c9a1106",
   "metadata": {},
   "outputs": [
    {
     "data": {
      "text/html": [
       "<div>\n",
       "<style scoped>\n",
       "    .dataframe tbody tr th:only-of-type {\n",
       "        vertical-align: middle;\n",
       "    }\n",
       "\n",
       "    .dataframe tbody tr th {\n",
       "        vertical-align: top;\n",
       "    }\n",
       "\n",
       "    .dataframe thead th {\n",
       "        text-align: right;\n",
       "    }\n",
       "</style>\n",
       "<table border=\"1\" class=\"dataframe\">\n",
       "  <thead>\n",
       "    <tr style=\"text-align: right;\">\n",
       "      <th></th>\n",
       "      <th>姓名</th>\n",
       "      <th>考试1</th>\n",
       "      <th>考试2</th>\n",
       "      <th>考试3</th>\n",
       "    </tr>\n",
       "  </thead>\n",
       "  <tbody>\n",
       "    <tr>\n",
       "      <th>0</th>\n",
       "      <td>小陈</td>\n",
       "      <td>85</td>\n",
       "      <td>95</td>\n",
       "      <td>92</td>\n",
       "    </tr>\n",
       "    <tr>\n",
       "      <th>1</th>\n",
       "      <td>小李</td>\n",
       "      <td>91</td>\n",
       "      <td>92</td>\n",
       "      <td>94</td>\n",
       "    </tr>\n",
       "    <tr>\n",
       "      <th>3</th>\n",
       "      <td>小张</td>\n",
       "      <td>79</td>\n",
       "      <td>89</td>\n",
       "      <td>95</td>\n",
       "    </tr>\n",
       "    <tr>\n",
       "      <th>5</th>\n",
       "      <td>小周</td>\n",
       "      <td>81</td>\n",
       "      <td>89</td>\n",
       "      <td>92</td>\n",
       "    </tr>\n",
       "  </tbody>\n",
       "</table>\n",
       "</div>"
      ],
      "text/plain": [
       "   姓名  考试1  考试2  考试3\n",
       "0  小陈   85   95   92\n",
       "1  小李   91   92   94\n",
       "3  小张   79   89   95\n",
       "5  小周   81   89   92"
      ]
     },
     "execution_count": 13,
     "metadata": {},
     "output_type": "execute_result"
    }
   ],
   "source": [
    "df11.drop([2, 4])"
   ]
  },
  {
   "cell_type": "code",
   "execution_count": 14,
   "id": "2a3e04a4-f6a7-4a65-b383-2e7472d956d2",
   "metadata": {},
   "outputs": [
    {
     "data": {
      "text/html": [
       "<div>\n",
       "<style scoped>\n",
       "    .dataframe tbody tr th:only-of-type {\n",
       "        vertical-align: middle;\n",
       "    }\n",
       "\n",
       "    .dataframe tbody tr th {\n",
       "        vertical-align: top;\n",
       "    }\n",
       "\n",
       "    .dataframe thead th {\n",
       "        text-align: right;\n",
       "    }\n",
       "</style>\n",
       "<table border=\"1\" class=\"dataframe\">\n",
       "  <thead>\n",
       "    <tr style=\"text-align: right;\">\n",
       "      <th></th>\n",
       "      <th>姓名</th>\n",
       "      <th>考试1</th>\n",
       "    </tr>\n",
       "  </thead>\n",
       "  <tbody>\n",
       "    <tr>\n",
       "      <th>0</th>\n",
       "      <td>小陈</td>\n",
       "      <td>85</td>\n",
       "    </tr>\n",
       "    <tr>\n",
       "      <th>1</th>\n",
       "      <td>小李</td>\n",
       "      <td>91</td>\n",
       "    </tr>\n",
       "    <tr>\n",
       "      <th>2</th>\n",
       "      <td>小王</td>\n",
       "      <td>86</td>\n",
       "    </tr>\n",
       "    <tr>\n",
       "      <th>3</th>\n",
       "      <td>小张</td>\n",
       "      <td>79</td>\n",
       "    </tr>\n",
       "    <tr>\n",
       "      <th>4</th>\n",
       "      <td>小赵</td>\n",
       "      <td>96</td>\n",
       "    </tr>\n",
       "    <tr>\n",
       "      <th>5</th>\n",
       "      <td>小周</td>\n",
       "      <td>81</td>\n",
       "    </tr>\n",
       "  </tbody>\n",
       "</table>\n",
       "</div>"
      ],
      "text/plain": [
       "   姓名  考试1\n",
       "0  小陈   85\n",
       "1  小李   91\n",
       "2  小王   86\n",
       "3  小张   79\n",
       "4  小赵   96\n",
       "5  小周   81"
      ]
     },
     "execution_count": 14,
     "metadata": {},
     "output_type": "execute_result"
    }
   ],
   "source": [
    "df11.drop([\"考试2\", \"考试3\"], axis=1)"
   ]
  },
  {
   "cell_type": "code",
   "execution_count": 15,
   "id": "eb61ed25-287e-43c0-99a0-4ead2869a51f",
   "metadata": {},
   "outputs": [
    {
     "data": {
      "text/html": [
       "<div>\n",
       "<style scoped>\n",
       "    .dataframe tbody tr th:only-of-type {\n",
       "        vertical-align: middle;\n",
       "    }\n",
       "\n",
       "    .dataframe tbody tr th {\n",
       "        vertical-align: top;\n",
       "    }\n",
       "\n",
       "    .dataframe thead th {\n",
       "        text-align: right;\n",
       "    }\n",
       "</style>\n",
       "<table border=\"1\" class=\"dataframe\">\n",
       "  <thead>\n",
       "    <tr style=\"text-align: right;\">\n",
       "      <th></th>\n",
       "      <th>姓名</th>\n",
       "      <th>考试1</th>\n",
       "      <th>考试2</th>\n",
       "      <th>考试3</th>\n",
       "    </tr>\n",
       "  </thead>\n",
       "  <tbody>\n",
       "    <tr>\n",
       "      <th>0</th>\n",
       "      <td>小陈</td>\n",
       "      <td>85</td>\n",
       "      <td>95</td>\n",
       "      <td>92</td>\n",
       "    </tr>\n",
       "    <tr>\n",
       "      <th>1</th>\n",
       "      <td>小李</td>\n",
       "      <td>91</td>\n",
       "      <td>92</td>\n",
       "      <td>94</td>\n",
       "    </tr>\n",
       "    <tr>\n",
       "      <th>2</th>\n",
       "      <td>小王</td>\n",
       "      <td>86</td>\n",
       "      <td>81</td>\n",
       "      <td>89</td>\n",
       "    </tr>\n",
       "    <tr>\n",
       "      <th>3</th>\n",
       "      <td>小张</td>\n",
       "      <td>79</td>\n",
       "      <td>89</td>\n",
       "      <td>95</td>\n",
       "    </tr>\n",
       "    <tr>\n",
       "      <th>4</th>\n",
       "      <td>小赵</td>\n",
       "      <td>96</td>\n",
       "      <td>91</td>\n",
       "      <td>91</td>\n",
       "    </tr>\n",
       "    <tr>\n",
       "      <th>5</th>\n",
       "      <td>小周</td>\n",
       "      <td>81</td>\n",
       "      <td>89</td>\n",
       "      <td>92</td>\n",
       "    </tr>\n",
       "  </tbody>\n",
       "</table>\n",
       "</div>"
      ],
      "text/plain": [
       "   姓名  考试1  考试2  考试3\n",
       "0  小陈   85   95   92\n",
       "1  小李   91   92   94\n",
       "2  小王   86   81   89\n",
       "3  小张   79   89   95\n",
       "4  小赵   96   91   91\n",
       "5  小周   81   89   92"
      ]
     },
     "execution_count": 15,
     "metadata": {},
     "output_type": "execute_result"
    }
   ],
   "source": [
    "df11"
   ]
  },
  {
   "cell_type": "code",
   "execution_count": 24,
   "id": "99151b2c-09c6-4844-a5eb-48c8408f9134",
   "metadata": {},
   "outputs": [
    {
     "data": {
      "text/html": [
       "<div>\n",
       "<style scoped>\n",
       "    .dataframe tbody tr th:only-of-type {\n",
       "        vertical-align: middle;\n",
       "    }\n",
       "\n",
       "    .dataframe tbody tr th {\n",
       "        vertical-align: top;\n",
       "    }\n",
       "\n",
       "    .dataframe thead th {\n",
       "        text-align: right;\n",
       "    }\n",
       "</style>\n",
       "<table border=\"1\" class=\"dataframe\">\n",
       "  <thead>\n",
       "    <tr style=\"text-align: right;\">\n",
       "      <th></th>\n",
       "      <th>考试1</th>\n",
       "      <th>考试2</th>\n",
       "      <th>考试3</th>\n",
       "    </tr>\n",
       "    <tr>\n",
       "      <th>姓名</th>\n",
       "      <th></th>\n",
       "      <th></th>\n",
       "      <th></th>\n",
       "    </tr>\n",
       "  </thead>\n",
       "  <tbody>\n",
       "    <tr>\n",
       "      <th>小陈</th>\n",
       "      <td>85</td>\n",
       "      <td>95</td>\n",
       "      <td>92</td>\n",
       "    </tr>\n",
       "    <tr>\n",
       "      <th>小李</th>\n",
       "      <td>91</td>\n",
       "      <td>92</td>\n",
       "      <td>94</td>\n",
       "    </tr>\n",
       "    <tr>\n",
       "      <th>小王</th>\n",
       "      <td>86</td>\n",
       "      <td>81</td>\n",
       "      <td>89</td>\n",
       "    </tr>\n",
       "    <tr>\n",
       "      <th>小张</th>\n",
       "      <td>79</td>\n",
       "      <td>89</td>\n",
       "      <td>95</td>\n",
       "    </tr>\n",
       "    <tr>\n",
       "      <th>小赵</th>\n",
       "      <td>96</td>\n",
       "      <td>91</td>\n",
       "      <td>91</td>\n",
       "    </tr>\n",
       "    <tr>\n",
       "      <th>小周</th>\n",
       "      <td>81</td>\n",
       "      <td>89</td>\n",
       "      <td>92</td>\n",
       "    </tr>\n",
       "  </tbody>\n",
       "</table>\n",
       "</div>"
      ],
      "text/plain": [
       "    考试1  考试2  考试3\n",
       "姓名               \n",
       "小陈   85   95   92\n",
       "小李   91   92   94\n",
       "小王   86   81   89\n",
       "小张   79   89   95\n",
       "小赵   96   91   91\n",
       "小周   81   89   92"
      ]
     },
     "execution_count": 24,
     "metadata": {},
     "output_type": "execute_result"
    }
   ],
   "source": [
    "df12 = pd.read_csv(r\"F:\\BaiduNetdiskDownload\\数据分析课程操作的文件\\04数据评估与清洗篇\\example8.csv\",index_col=0)\n",
    "df12"
   ]
  },
  {
   "cell_type": "code",
   "execution_count": 25,
   "id": "b64d3444-5ae3-4fa5-810f-3a1d4143deff",
   "metadata": {},
   "outputs": [
    {
     "data": {
      "text/html": [
       "<div>\n",
       "<style scoped>\n",
       "    .dataframe tbody tr th:only-of-type {\n",
       "        vertical-align: middle;\n",
       "    }\n",
       "\n",
       "    .dataframe tbody tr th {\n",
       "        vertical-align: top;\n",
       "    }\n",
       "\n",
       "    .dataframe thead th {\n",
       "        text-align: right;\n",
       "    }\n",
       "</style>\n",
       "<table border=\"1\" class=\"dataframe\">\n",
       "  <thead>\n",
       "    <tr style=\"text-align: right;\">\n",
       "      <th></th>\n",
       "      <th>考试1</th>\n",
       "      <th>考试2</th>\n",
       "      <th>考试3</th>\n",
       "    </tr>\n",
       "    <tr>\n",
       "      <th>姓名</th>\n",
       "      <th></th>\n",
       "      <th></th>\n",
       "      <th></th>\n",
       "    </tr>\n",
       "  </thead>\n",
       "  <tbody>\n",
       "    <tr>\n",
       "      <th>小陈</th>\n",
       "      <td>85</td>\n",
       "      <td>95</td>\n",
       "      <td>92</td>\n",
       "    </tr>\n",
       "    <tr>\n",
       "      <th>小张</th>\n",
       "      <td>79</td>\n",
       "      <td>89</td>\n",
       "      <td>95</td>\n",
       "    </tr>\n",
       "    <tr>\n",
       "      <th>小赵</th>\n",
       "      <td>96</td>\n",
       "      <td>91</td>\n",
       "      <td>91</td>\n",
       "    </tr>\n",
       "    <tr>\n",
       "      <th>小周</th>\n",
       "      <td>81</td>\n",
       "      <td>89</td>\n",
       "      <td>92</td>\n",
       "    </tr>\n",
       "  </tbody>\n",
       "</table>\n",
       "</div>"
      ],
      "text/plain": [
       "    考试1  考试2  考试3\n",
       "姓名               \n",
       "小陈   85   95   92\n",
       "小张   79   89   95\n",
       "小赵   96   91   91\n",
       "小周   81   89   92"
      ]
     },
     "execution_count": 25,
     "metadata": {},
     "output_type": "execute_result"
    }
   ],
   "source": [
    "df12.drop(['小王', '小李'], inplace=True)\n",
    "df12"
   ]
  },
  {
   "cell_type": "markdown",
   "id": "f48dddfe-35f9-4732-9848-46c4bb42d99e",
   "metadata": {
    "jp-MarkdownHeadingCollapsed": true
   },
   "source": [
    "# 对整列缺失值进行填充"
   ]
  },
  {
   "cell_type": "code",
   "execution_count": 27,
   "id": "350d85f2-24bc-401b-9268-ed95cfb8d02b",
   "metadata": {},
   "outputs": [],
   "source": [
    "import pandas as pd\n",
    "import numpy as np"
   ]
  },
  {
   "cell_type": "code",
   "execution_count": 29,
   "id": "61e5692a-e78b-478f-b7a1-3a6d30f73fd0",
   "metadata": {},
   "outputs": [
    {
     "data": {
      "text/html": [
       "<div>\n",
       "<style scoped>\n",
       "    .dataframe tbody tr th:only-of-type {\n",
       "        vertical-align: middle;\n",
       "    }\n",
       "\n",
       "    .dataframe tbody tr th {\n",
       "        vertical-align: top;\n",
       "    }\n",
       "\n",
       "    .dataframe thead th {\n",
       "        text-align: right;\n",
       "    }\n",
       "</style>\n",
       "<table border=\"1\" class=\"dataframe\">\n",
       "  <thead>\n",
       "    <tr style=\"text-align: right;\">\n",
       "      <th></th>\n",
       "      <th>日期</th>\n",
       "      <th>销售额</th>\n",
       "      <th>销售人员</th>\n",
       "      <th>地址</th>\n",
       "      <th>国家</th>\n",
       "    </tr>\n",
       "  </thead>\n",
       "  <tbody>\n",
       "    <tr>\n",
       "      <th>001</th>\n",
       "      <td>2005-01-01</td>\n",
       "      <td>1000</td>\n",
       "      <td>李华</td>\n",
       "      <td>苏州</td>\n",
       "      <td>NaN</td>\n",
       "    </tr>\n",
       "    <tr>\n",
       "      <th>002</th>\n",
       "      <td>2005-01-02</td>\n",
       "      <td>1500</td>\n",
       "      <td>王磊</td>\n",
       "      <td>郑州</td>\n",
       "      <td>NaN</td>\n",
       "    </tr>\n",
       "    <tr>\n",
       "      <th>003</th>\n",
       "      <td>2005-01-03</td>\n",
       "      <td>800</td>\n",
       "      <td>刘娜</td>\n",
       "      <td>南京</td>\n",
       "      <td>NaN</td>\n",
       "    </tr>\n",
       "    <tr>\n",
       "      <th>004</th>\n",
       "      <td>2005-01-03</td>\n",
       "      <td>1200</td>\n",
       "      <td>张洋</td>\n",
       "      <td>西安</td>\n",
       "      <td>NaN</td>\n",
       "    </tr>\n",
       "  </tbody>\n",
       "</table>\n",
       "</div>"
      ],
      "text/plain": [
       "             日期   销售额 销售人员  地址  国家\n",
       "001  2005-01-01  1000   李华  苏州 NaN\n",
       "002  2005-01-02  1500   王磊  郑州 NaN\n",
       "003  2005-01-03   800   刘娜  南京 NaN\n",
       "004  2005-01-03  1200   张洋  西安 NaN"
      ]
     },
     "execution_count": 29,
     "metadata": {},
     "output_type": "execute_result"
    }
   ],
   "source": [
    "df13 = pd.DataFrame({\n",
    "    '日期': ['2005-01-01', '2005-01-02', '2005-01-03', '2005-01-03'],\n",
    "    '销售额': [1000, 1500, 800, 1200],\n",
    "    '销售人员': ['李华', '王磊', '刘娜', '张洋'],\n",
    "    '地址': ['苏州', '郑州', '南京', '西安']\n",
    "})\n",
    "df13 = df13.rename(index={\n",
    "    0: '001',\n",
    "    1: '002',\n",
    "    2: '003',\n",
    "    3: '004'\n",
    "})\n",
    "df13['国家'] = np.nan\n",
    "df13"
   ]
  },
  {
   "cell_type": "code",
   "execution_count": 30,
   "id": "167f4612-4ea2-440e-9ac5-099982c0e418",
   "metadata": {},
   "outputs": [
    {
     "data": {
      "text/html": [
       "<div>\n",
       "<style scoped>\n",
       "    .dataframe tbody tr th:only-of-type {\n",
       "        vertical-align: middle;\n",
       "    }\n",
       "\n",
       "    .dataframe tbody tr th {\n",
       "        vertical-align: top;\n",
       "    }\n",
       "\n",
       "    .dataframe thead th {\n",
       "        text-align: right;\n",
       "    }\n",
       "</style>\n",
       "<table border=\"1\" class=\"dataframe\">\n",
       "  <thead>\n",
       "    <tr style=\"text-align: right;\">\n",
       "      <th></th>\n",
       "      <th>日期</th>\n",
       "      <th>销售额</th>\n",
       "      <th>销售人员</th>\n",
       "      <th>地址</th>\n",
       "      <th>国家</th>\n",
       "    </tr>\n",
       "  </thead>\n",
       "  <tbody>\n",
       "    <tr>\n",
       "      <th>001</th>\n",
       "      <td>2005-01-01</td>\n",
       "      <td>1000</td>\n",
       "      <td>李华</td>\n",
       "      <td>苏州</td>\n",
       "      <td>中国</td>\n",
       "    </tr>\n",
       "    <tr>\n",
       "      <th>002</th>\n",
       "      <td>2005-01-02</td>\n",
       "      <td>1500</td>\n",
       "      <td>王磊</td>\n",
       "      <td>郑州</td>\n",
       "      <td>中国</td>\n",
       "    </tr>\n",
       "    <tr>\n",
       "      <th>003</th>\n",
       "      <td>2005-01-03</td>\n",
       "      <td>800</td>\n",
       "      <td>刘娜</td>\n",
       "      <td>南京</td>\n",
       "      <td>中国</td>\n",
       "    </tr>\n",
       "    <tr>\n",
       "      <th>004</th>\n",
       "      <td>2005-01-03</td>\n",
       "      <td>1200</td>\n",
       "      <td>张洋</td>\n",
       "      <td>西安</td>\n",
       "      <td>中国</td>\n",
       "    </tr>\n",
       "  </tbody>\n",
       "</table>\n",
       "</div>"
      ],
      "text/plain": [
       "             日期   销售额 销售人员  地址  国家\n",
       "001  2005-01-01  1000   李华  苏州  中国\n",
       "002  2005-01-02  1500   王磊  郑州  中国\n",
       "003  2005-01-03   800   刘娜  南京  中国\n",
       "004  2005-01-03  1200   张洋  西安  中国"
      ]
     },
     "execution_count": 30,
     "metadata": {},
     "output_type": "execute_result"
    }
   ],
   "source": [
    "df13[\"国家\"] = \"中国\"\n",
    "df13"
   ]
  },
  {
   "cell_type": "markdown",
   "id": "4c1f9a8f-6504-4a7b-b65e-4fa094a07d61",
   "metadata": {
    "jp-MarkdownHeadingCollapsed": true
   },
   "source": [
    "# 对某个缺失值进行填充"
   ]
  },
  {
   "cell_type": "code",
   "execution_count": 32,
   "id": "cd8e16a5-38b0-49f7-a3f1-43436757dafe",
   "metadata": {},
   "outputs": [
    {
     "data": {
      "text/html": [
       "<div>\n",
       "<style scoped>\n",
       "    .dataframe tbody tr th:only-of-type {\n",
       "        vertical-align: middle;\n",
       "    }\n",
       "\n",
       "    .dataframe tbody tr th {\n",
       "        vertical-align: top;\n",
       "    }\n",
       "\n",
       "    .dataframe thead th {\n",
       "        text-align: right;\n",
       "    }\n",
       "</style>\n",
       "<table border=\"1\" class=\"dataframe\">\n",
       "  <thead>\n",
       "    <tr style=\"text-align: right;\">\n",
       "      <th></th>\n",
       "      <th>日期</th>\n",
       "      <th>销售额</th>\n",
       "      <th>销售人员</th>\n",
       "      <th>地址</th>\n",
       "    </tr>\n",
       "  </thead>\n",
       "  <tbody>\n",
       "    <tr>\n",
       "      <th>001</th>\n",
       "      <td>2005-01-01</td>\n",
       "      <td>1000.0</td>\n",
       "      <td>李华</td>\n",
       "      <td>苏州</td>\n",
       "    </tr>\n",
       "    <tr>\n",
       "      <th>002</th>\n",
       "      <td>2005-01-02</td>\n",
       "      <td>1500.0</td>\n",
       "      <td>王磊</td>\n",
       "      <td>郑州</td>\n",
       "    </tr>\n",
       "    <tr>\n",
       "      <th>003</th>\n",
       "      <td>2005-01-03</td>\n",
       "      <td>NaN</td>\n",
       "      <td>刘娜</td>\n",
       "      <td>南京</td>\n",
       "    </tr>\n",
       "    <tr>\n",
       "      <th>004</th>\n",
       "      <td>2005-01-03</td>\n",
       "      <td>1200.0</td>\n",
       "      <td>张洋</td>\n",
       "      <td>西安</td>\n",
       "    </tr>\n",
       "  </tbody>\n",
       "</table>\n",
       "</div>"
      ],
      "text/plain": [
       "             日期     销售额 销售人员  地址\n",
       "001  2005-01-01  1000.0   李华  苏州\n",
       "002  2005-01-02  1500.0   王磊  郑州\n",
       "003  2005-01-03     NaN   刘娜  南京\n",
       "004  2005-01-03  1200.0   张洋  西安"
      ]
     },
     "execution_count": 32,
     "metadata": {},
     "output_type": "execute_result"
    }
   ],
   "source": [
    "df14 = pd.DataFrame({\n",
    "    '日期': ['2005-01-01', '2005-01-02', '2005-01-03', '2005-01-03'],\n",
    "    '销售额': [1000, 1500, np.nan, 1200],\n",
    "    '销售人员': ['李华', '王磊', '刘娜', '张洋'],\n",
    "    '地址': ['苏州', '郑州', '南京', '西安']\n",
    "})\n",
    "df14 = df14.rename(index={\n",
    "    0: '001',\n",
    "    1: '002',\n",
    "    2: '003',\n",
    "    3: '004'\n",
    "})\n",
    "df14"
   ]
  },
  {
   "cell_type": "code",
   "execution_count": 33,
   "id": "80a4f355-4faf-4ec0-b7a4-d4d62b3c5a77",
   "metadata": {},
   "outputs": [
    {
     "data": {
      "text/html": [
       "<div>\n",
       "<style scoped>\n",
       "    .dataframe tbody tr th:only-of-type {\n",
       "        vertical-align: middle;\n",
       "    }\n",
       "\n",
       "    .dataframe tbody tr th {\n",
       "        vertical-align: top;\n",
       "    }\n",
       "\n",
       "    .dataframe thead th {\n",
       "        text-align: right;\n",
       "    }\n",
       "</style>\n",
       "<table border=\"1\" class=\"dataframe\">\n",
       "  <thead>\n",
       "    <tr style=\"text-align: right;\">\n",
       "      <th></th>\n",
       "      <th>日期</th>\n",
       "      <th>销售额</th>\n",
       "      <th>销售人员</th>\n",
       "      <th>地址</th>\n",
       "    </tr>\n",
       "  </thead>\n",
       "  <tbody>\n",
       "    <tr>\n",
       "      <th>001</th>\n",
       "      <td>2005-01-01</td>\n",
       "      <td>1000.0</td>\n",
       "      <td>李华</td>\n",
       "      <td>苏州</td>\n",
       "    </tr>\n",
       "    <tr>\n",
       "      <th>002</th>\n",
       "      <td>2005-01-02</td>\n",
       "      <td>1500.0</td>\n",
       "      <td>王磊</td>\n",
       "      <td>郑州</td>\n",
       "    </tr>\n",
       "    <tr>\n",
       "      <th>003</th>\n",
       "      <td>2005-01-03</td>\n",
       "      <td>800.0</td>\n",
       "      <td>刘娜</td>\n",
       "      <td>南京</td>\n",
       "    </tr>\n",
       "    <tr>\n",
       "      <th>004</th>\n",
       "      <td>2005-01-03</td>\n",
       "      <td>1200.0</td>\n",
       "      <td>张洋</td>\n",
       "      <td>西安</td>\n",
       "    </tr>\n",
       "  </tbody>\n",
       "</table>\n",
       "</div>"
      ],
      "text/plain": [
       "             日期     销售额 销售人员  地址\n",
       "001  2005-01-01  1000.0   李华  苏州\n",
       "002  2005-01-02  1500.0   王磊  郑州\n",
       "003  2005-01-03   800.0   刘娜  南京\n",
       "004  2005-01-03  1200.0   张洋  西安"
      ]
     },
     "execution_count": 33,
     "metadata": {},
     "output_type": "execute_result"
    }
   ],
   "source": [
    "df14.loc[\"003\", \"销售额\"] = 800\n",
    "df14"
   ]
  },
  {
   "cell_type": "code",
   "execution_count": 34,
   "id": "de7e582c-f79f-4b42-aa65-cf27fba93d11",
   "metadata": {},
   "outputs": [
    {
     "data": {
      "text/html": [
       "<div>\n",
       "<style scoped>\n",
       "    .dataframe tbody tr th:only-of-type {\n",
       "        vertical-align: middle;\n",
       "    }\n",
       "\n",
       "    .dataframe tbody tr th {\n",
       "        vertical-align: top;\n",
       "    }\n",
       "\n",
       "    .dataframe thead th {\n",
       "        text-align: right;\n",
       "    }\n",
       "</style>\n",
       "<table border=\"1\" class=\"dataframe\">\n",
       "  <thead>\n",
       "    <tr style=\"text-align: right;\">\n",
       "      <th></th>\n",
       "      <th>日期</th>\n",
       "      <th>销售额</th>\n",
       "      <th>销售人员</th>\n",
       "      <th>地址</th>\n",
       "    </tr>\n",
       "  </thead>\n",
       "  <tbody>\n",
       "    <tr>\n",
       "      <th>001</th>\n",
       "      <td>2005-01-01</td>\n",
       "      <td>80000000.0</td>\n",
       "      <td>李华</td>\n",
       "      <td>苏州</td>\n",
       "    </tr>\n",
       "    <tr>\n",
       "      <th>002</th>\n",
       "      <td>2005-01-02</td>\n",
       "      <td>1500.0</td>\n",
       "      <td>王磊</td>\n",
       "      <td>郑州</td>\n",
       "    </tr>\n",
       "    <tr>\n",
       "      <th>003</th>\n",
       "      <td>2005-01-03</td>\n",
       "      <td>800.0</td>\n",
       "      <td>刘娜</td>\n",
       "      <td>南京</td>\n",
       "    </tr>\n",
       "    <tr>\n",
       "      <th>004</th>\n",
       "      <td>2005-01-03</td>\n",
       "      <td>1200.0</td>\n",
       "      <td>张洋</td>\n",
       "      <td>西安</td>\n",
       "    </tr>\n",
       "  </tbody>\n",
       "</table>\n",
       "</div>"
      ],
      "text/plain": [
       "             日期         销售额 销售人员  地址\n",
       "001  2005-01-01  80000000.0   李华  苏州\n",
       "002  2005-01-02      1500.0   王磊  郑州\n",
       "003  2005-01-03       800.0   刘娜  南京\n",
       "004  2005-01-03      1200.0   张洋  西安"
      ]
     },
     "execution_count": 34,
     "metadata": {},
     "output_type": "execute_result"
    }
   ],
   "source": [
    "df14.iloc[0, 1] = 80000000\n",
    "df14"
   ]
  },
  {
   "cell_type": "markdown",
   "id": "3398db9d-7df0-4bd3-b329-8230f8bf628b",
   "metadata": {
    "jp-MarkdownHeadingCollapsed": true
   },
   "source": [
    "# 对部分缺失值进行填充"
   ]
  },
  {
   "cell_type": "code",
   "execution_count": 35,
   "id": "b52ff502-35cb-41d2-aeef-06ada8aeee9b",
   "metadata": {},
   "outputs": [
    {
     "data": {
      "text/html": [
       "<div>\n",
       "<style scoped>\n",
       "    .dataframe tbody tr th:only-of-type {\n",
       "        vertical-align: middle;\n",
       "    }\n",
       "\n",
       "    .dataframe tbody tr th {\n",
       "        vertical-align: top;\n",
       "    }\n",
       "\n",
       "    .dataframe thead th {\n",
       "        text-align: right;\n",
       "    }\n",
       "</style>\n",
       "<table border=\"1\" class=\"dataframe\">\n",
       "  <thead>\n",
       "    <tr style=\"text-align: right;\">\n",
       "      <th></th>\n",
       "      <th>日期</th>\n",
       "      <th>销售额</th>\n",
       "      <th>销售人员</th>\n",
       "      <th>地址</th>\n",
       "    </tr>\n",
       "  </thead>\n",
       "  <tbody>\n",
       "    <tr>\n",
       "      <th>001</th>\n",
       "      <td>2005-01-01</td>\n",
       "      <td>1000</td>\n",
       "      <td>李华</td>\n",
       "      <td>苏州</td>\n",
       "    </tr>\n",
       "    <tr>\n",
       "      <th>002</th>\n",
       "      <td>2005-01-02</td>\n",
       "      <td>1500</td>\n",
       "      <td>王磊</td>\n",
       "      <td>郑州</td>\n",
       "    </tr>\n",
       "    <tr>\n",
       "      <th>003</th>\n",
       "      <td>NaN</td>\n",
       "      <td>800</td>\n",
       "      <td>刘娜</td>\n",
       "      <td>南京</td>\n",
       "    </tr>\n",
       "    <tr>\n",
       "      <th>004</th>\n",
       "      <td>NaN</td>\n",
       "      <td>1200</td>\n",
       "      <td>张洋</td>\n",
       "      <td>西安</td>\n",
       "    </tr>\n",
       "  </tbody>\n",
       "</table>\n",
       "</div>"
      ],
      "text/plain": [
       "             日期   销售额 销售人员  地址\n",
       "001  2005-01-01  1000   李华  苏州\n",
       "002  2005-01-02  1500   王磊  郑州\n",
       "003         NaN   800   刘娜  南京\n",
       "004         NaN  1200   张洋  西安"
      ]
     },
     "execution_count": 35,
     "metadata": {},
     "output_type": "execute_result"
    }
   ],
   "source": [
    "df15 = pd.DataFrame({\n",
    "    '日期': ['2005-01-01', '2005-01-02', np.nan, np.nan],\n",
    "    '销售额': [1000, 1500, 800, 1200],\n",
    "    '销售人员': ['李华', '王磊', '刘娜', '张洋'],\n",
    "    '地址': ['苏州', '郑州', '南京', '西安']\n",
    "})\n",
    "df15 = df15.rename(index={\n",
    "    0: '001',\n",
    "    1: '002',\n",
    "    2: '003',\n",
    "    3: '004'\n",
    "})\n",
    "df15"
   ]
  },
  {
   "cell_type": "code",
   "execution_count": 36,
   "id": "80cb6f7d-d2e9-4b78-ad6c-3b9523b5ec99",
   "metadata": {},
   "outputs": [
    {
     "data": {
      "text/html": [
       "<div>\n",
       "<style scoped>\n",
       "    .dataframe tbody tr th:only-of-type {\n",
       "        vertical-align: middle;\n",
       "    }\n",
       "\n",
       "    .dataframe tbody tr th {\n",
       "        vertical-align: top;\n",
       "    }\n",
       "\n",
       "    .dataframe thead th {\n",
       "        text-align: right;\n",
       "    }\n",
       "</style>\n",
       "<table border=\"1\" class=\"dataframe\">\n",
       "  <thead>\n",
       "    <tr style=\"text-align: right;\">\n",
       "      <th></th>\n",
       "      <th>日期</th>\n",
       "      <th>销售额</th>\n",
       "      <th>销售人员</th>\n",
       "      <th>地址</th>\n",
       "    </tr>\n",
       "  </thead>\n",
       "  <tbody>\n",
       "    <tr>\n",
       "      <th>001</th>\n",
       "      <td>2005-01-01</td>\n",
       "      <td>1000</td>\n",
       "      <td>李华</td>\n",
       "      <td>苏州</td>\n",
       "    </tr>\n",
       "    <tr>\n",
       "      <th>002</th>\n",
       "      <td>2005-01-02</td>\n",
       "      <td>1500</td>\n",
       "      <td>王磊</td>\n",
       "      <td>郑州</td>\n",
       "    </tr>\n",
       "    <tr>\n",
       "      <th>003</th>\n",
       "      <td>2005-01-03</td>\n",
       "      <td>800</td>\n",
       "      <td>刘娜</td>\n",
       "      <td>南京</td>\n",
       "    </tr>\n",
       "    <tr>\n",
       "      <th>004</th>\n",
       "      <td>2005-01-03</td>\n",
       "      <td>1200</td>\n",
       "      <td>张洋</td>\n",
       "      <td>西安</td>\n",
       "    </tr>\n",
       "  </tbody>\n",
       "</table>\n",
       "</div>"
      ],
      "text/plain": [
       "             日期   销售额 销售人员  地址\n",
       "001  2005-01-01  1000   李华  苏州\n",
       "002  2005-01-02  1500   王磊  郑州\n",
       "003  2005-01-03   800   刘娜  南京\n",
       "004  2005-01-03  1200   张洋  西安"
      ]
     },
     "execution_count": 36,
     "metadata": {},
     "output_type": "execute_result"
    }
   ],
   "source": [
    "df15.loc[\"003\":\"004\", \"日期\"] = \"2005-01-03\"\n",
    "df15"
   ]
  },
  {
   "cell_type": "code",
   "execution_count": 37,
   "id": "586f026b-e4de-4526-b324-5a41a4927cc2",
   "metadata": {},
   "outputs": [
    {
     "data": {
      "text/html": [
       "<div>\n",
       "<style scoped>\n",
       "    .dataframe tbody tr th:only-of-type {\n",
       "        vertical-align: middle;\n",
       "    }\n",
       "\n",
       "    .dataframe tbody tr th {\n",
       "        vertical-align: top;\n",
       "    }\n",
       "\n",
       "    .dataframe thead th {\n",
       "        text-align: right;\n",
       "    }\n",
       "</style>\n",
       "<table border=\"1\" class=\"dataframe\">\n",
       "  <thead>\n",
       "    <tr style=\"text-align: right;\">\n",
       "      <th></th>\n",
       "      <th>日期</th>\n",
       "      <th>销售额</th>\n",
       "      <th>销售人员</th>\n",
       "      <th>地址</th>\n",
       "    </tr>\n",
       "  </thead>\n",
       "  <tbody>\n",
       "    <tr>\n",
       "      <th>001</th>\n",
       "      <td>2005-01-03</td>\n",
       "      <td>1000</td>\n",
       "      <td>李华</td>\n",
       "      <td>苏州</td>\n",
       "    </tr>\n",
       "    <tr>\n",
       "      <th>002</th>\n",
       "      <td>2005-01-03</td>\n",
       "      <td>1500</td>\n",
       "      <td>王磊</td>\n",
       "      <td>郑州</td>\n",
       "    </tr>\n",
       "    <tr>\n",
       "      <th>003</th>\n",
       "      <td>2005-01-03</td>\n",
       "      <td>800</td>\n",
       "      <td>刘娜</td>\n",
       "      <td>南京</td>\n",
       "    </tr>\n",
       "    <tr>\n",
       "      <th>004</th>\n",
       "      <td>2005-01-03</td>\n",
       "      <td>1200</td>\n",
       "      <td>张洋</td>\n",
       "      <td>西安</td>\n",
       "    </tr>\n",
       "  </tbody>\n",
       "</table>\n",
       "</div>"
      ],
      "text/plain": [
       "             日期   销售额 销售人员  地址\n",
       "001  2005-01-03  1000   李华  苏州\n",
       "002  2005-01-03  1500   王磊  郑州\n",
       "003  2005-01-03   800   刘娜  南京\n",
       "004  2005-01-03  1200   张洋  西安"
      ]
     },
     "execution_count": 37,
     "metadata": {},
     "output_type": "execute_result"
    }
   ],
   "source": [
    "df15.iloc[0:3, 0] = \"2005-01-03\"\n",
    "df15"
   ]
  },
  {
   "cell_type": "code",
   "execution_count": 41,
   "id": "e1ee1565-cfb9-4fcc-be39-d96372c47086",
   "metadata": {},
   "outputs": [
    {
     "data": {
      "text/html": [
       "<div>\n",
       "<style scoped>\n",
       "    .dataframe tbody tr th:only-of-type {\n",
       "        vertical-align: middle;\n",
       "    }\n",
       "\n",
       "    .dataframe tbody tr th {\n",
       "        vertical-align: top;\n",
       "    }\n",
       "\n",
       "    .dataframe thead th {\n",
       "        text-align: right;\n",
       "    }\n",
       "</style>\n",
       "<table border=\"1\" class=\"dataframe\">\n",
       "  <thead>\n",
       "    <tr style=\"text-align: right;\">\n",
       "      <th></th>\n",
       "      <th>日期</th>\n",
       "      <th>销售额</th>\n",
       "      <th>销售人员</th>\n",
       "      <th>地址</th>\n",
       "    </tr>\n",
       "  </thead>\n",
       "  <tbody>\n",
       "    <tr>\n",
       "      <th>001</th>\n",
       "      <td>2005-01-03</td>\n",
       "      <td>888</td>\n",
       "      <td>yancy</td>\n",
       "      <td>苏州</td>\n",
       "    </tr>\n",
       "    <tr>\n",
       "      <th>002</th>\n",
       "      <td>2005-01-03</td>\n",
       "      <td>888</td>\n",
       "      <td>yancy</td>\n",
       "      <td>郑州</td>\n",
       "    </tr>\n",
       "    <tr>\n",
       "      <th>003</th>\n",
       "      <td>2005-01-03</td>\n",
       "      <td>888</td>\n",
       "      <td>yancy</td>\n",
       "      <td>南京</td>\n",
       "    </tr>\n",
       "    <tr>\n",
       "      <th>004</th>\n",
       "      <td>2005-01-03</td>\n",
       "      <td>1200</td>\n",
       "      <td>张洋</td>\n",
       "      <td>西安</td>\n",
       "    </tr>\n",
       "  </tbody>\n",
       "</table>\n",
       "</div>"
      ],
      "text/plain": [
       "             日期   销售额   销售人员  地址\n",
       "001  2005-01-03   888  yancy  苏州\n",
       "002  2005-01-03   888  yancy  郑州\n",
       "003  2005-01-03   888  yancy  南京\n",
       "004  2005-01-03  1200     张洋  西安"
      ]
     },
     "execution_count": 41,
     "metadata": {},
     "output_type": "execute_result"
    }
   ],
   "source": [
    "df15.iloc[0:3, 1:3] = [\"888\",\"yancy\"]\n",
    "df15"
   ]
  },
  {
   "cell_type": "markdown",
   "id": "4fcc7fdf-8124-4fa1-b7c8-a90aba2b8de7",
   "metadata": {
    "jp-MarkdownHeadingCollapsed": true
   },
   "source": [
    "# 自动找到缺失值进行填充"
   ]
  },
  {
   "cell_type": "code",
   "execution_count": 44,
   "id": "eb77cfd6-61e8-41a2-96dc-733d6623661b",
   "metadata": {},
   "outputs": [
    {
     "data": {
      "text/html": [
       "<div>\n",
       "<style scoped>\n",
       "    .dataframe tbody tr th:only-of-type {\n",
       "        vertical-align: middle;\n",
       "    }\n",
       "\n",
       "    .dataframe tbody tr th {\n",
       "        vertical-align: top;\n",
       "    }\n",
       "\n",
       "    .dataframe thead th {\n",
       "        text-align: right;\n",
       "    }\n",
       "</style>\n",
       "<table border=\"1\" class=\"dataframe\">\n",
       "  <thead>\n",
       "    <tr style=\"text-align: right;\">\n",
       "      <th></th>\n",
       "      <th>A</th>\n",
       "      <th>B</th>\n",
       "      <th>C</th>\n",
       "    </tr>\n",
       "  </thead>\n",
       "  <tbody>\n",
       "    <tr>\n",
       "      <th>0</th>\n",
       "      <td>1.0</td>\n",
       "      <td>5.0</td>\n",
       "      <td>8</td>\n",
       "    </tr>\n",
       "    <tr>\n",
       "      <th>1</th>\n",
       "      <td>2.0</td>\n",
       "      <td>NaN</td>\n",
       "      <td>9</td>\n",
       "    </tr>\n",
       "    <tr>\n",
       "      <th>2</th>\n",
       "      <td>NaN</td>\n",
       "      <td>7.0</td>\n",
       "      <td>10</td>\n",
       "    </tr>\n",
       "    <tr>\n",
       "      <th>3</th>\n",
       "      <td>4.0</td>\n",
       "      <td>NaN</td>\n",
       "      <td>11</td>\n",
       "    </tr>\n",
       "  </tbody>\n",
       "</table>\n",
       "</div>"
      ],
      "text/plain": [
       "     A    B   C\n",
       "0  1.0  5.0   8\n",
       "1  2.0  NaN   9\n",
       "2  NaN  7.0  10\n",
       "3  4.0  NaN  11"
      ]
     },
     "execution_count": 44,
     "metadata": {},
     "output_type": "execute_result"
    }
   ],
   "source": [
    "df16 = pd.DataFrame({'A': [1, 2, np.nan, 4],\n",
    "                   'B': [5, np.nan, 7, np.nan],\n",
    "                   'C': [8, 9, 10, 11]})\n",
    "df16"
   ]
  },
  {
   "cell_type": "code",
   "execution_count": 45,
   "id": "4fdb59a8-fb58-4773-873d-2b9cdfa07a49",
   "metadata": {},
   "outputs": [
    {
     "data": {
      "text/plain": [
       "0    5.0\n",
       "1    0.0\n",
       "2    7.0\n",
       "3    0.0\n",
       "Name: B, dtype: float64"
      ]
     },
     "execution_count": 45,
     "metadata": {},
     "output_type": "execute_result"
    }
   ],
   "source": [
    "df16[\"B\"].fillna(0)"
   ]
  },
  {
   "cell_type": "code",
   "execution_count": 46,
   "id": "3fd1c435-3bf1-40af-b31e-1e66ae148c5b",
   "metadata": {},
   "outputs": [
    {
     "data": {
      "text/plain": [
       "0    5.0\n",
       "1    6.0\n",
       "2    7.0\n",
       "3    6.0\n",
       "Name: B, dtype: float64"
      ]
     },
     "execution_count": 46,
     "metadata": {},
     "output_type": "execute_result"
    }
   ],
   "source": [
    "df16[\"B\"].fillna(df16[\"B\"].mean())"
   ]
  },
  {
   "cell_type": "code",
   "execution_count": 47,
   "id": "e73a65ff-d355-4d71-8000-ba0aa128001c",
   "metadata": {},
   "outputs": [
    {
     "data": {
      "text/html": [
       "<div>\n",
       "<style scoped>\n",
       "    .dataframe tbody tr th:only-of-type {\n",
       "        vertical-align: middle;\n",
       "    }\n",
       "\n",
       "    .dataframe tbody tr th {\n",
       "        vertical-align: top;\n",
       "    }\n",
       "\n",
       "    .dataframe thead th {\n",
       "        text-align: right;\n",
       "    }\n",
       "</style>\n",
       "<table border=\"1\" class=\"dataframe\">\n",
       "  <thead>\n",
       "    <tr style=\"text-align: right;\">\n",
       "      <th></th>\n",
       "      <th>A</th>\n",
       "      <th>B</th>\n",
       "      <th>C</th>\n",
       "    </tr>\n",
       "  </thead>\n",
       "  <tbody>\n",
       "    <tr>\n",
       "      <th>0</th>\n",
       "      <td>1.0</td>\n",
       "      <td>5.0</td>\n",
       "      <td>8</td>\n",
       "    </tr>\n",
       "    <tr>\n",
       "      <th>1</th>\n",
       "      <td>2.0</td>\n",
       "      <td>0.0</td>\n",
       "      <td>9</td>\n",
       "    </tr>\n",
       "    <tr>\n",
       "      <th>2</th>\n",
       "      <td>0.0</td>\n",
       "      <td>7.0</td>\n",
       "      <td>10</td>\n",
       "    </tr>\n",
       "    <tr>\n",
       "      <th>3</th>\n",
       "      <td>4.0</td>\n",
       "      <td>0.0</td>\n",
       "      <td>11</td>\n",
       "    </tr>\n",
       "  </tbody>\n",
       "</table>\n",
       "</div>"
      ],
      "text/plain": [
       "     A    B   C\n",
       "0  1.0  5.0   8\n",
       "1  2.0  0.0   9\n",
       "2  0.0  7.0  10\n",
       "3  4.0  0.0  11"
      ]
     },
     "execution_count": 47,
     "metadata": {},
     "output_type": "execute_result"
    }
   ],
   "source": [
    "df16.fillna(0)"
   ]
  },
  {
   "cell_type": "code",
   "execution_count": 48,
   "id": "cbc584c9-6d40-460c-b3f9-77a8c63b9273",
   "metadata": {},
   "outputs": [
    {
     "data": {
      "text/html": [
       "<div>\n",
       "<style scoped>\n",
       "    .dataframe tbody tr th:only-of-type {\n",
       "        vertical-align: middle;\n",
       "    }\n",
       "\n",
       "    .dataframe tbody tr th {\n",
       "        vertical-align: top;\n",
       "    }\n",
       "\n",
       "    .dataframe thead th {\n",
       "        text-align: right;\n",
       "    }\n",
       "</style>\n",
       "<table border=\"1\" class=\"dataframe\">\n",
       "  <thead>\n",
       "    <tr style=\"text-align: right;\">\n",
       "      <th></th>\n",
       "      <th>A</th>\n",
       "      <th>B</th>\n",
       "      <th>C</th>\n",
       "    </tr>\n",
       "  </thead>\n",
       "  <tbody>\n",
       "    <tr>\n",
       "      <th>0</th>\n",
       "      <td>1.0</td>\n",
       "      <td>5.0</td>\n",
       "      <td>8</td>\n",
       "    </tr>\n",
       "    <tr>\n",
       "      <th>1</th>\n",
       "      <td>2.0</td>\n",
       "      <td>10.0</td>\n",
       "      <td>9</td>\n",
       "    </tr>\n",
       "    <tr>\n",
       "      <th>2</th>\n",
       "      <td>0.0</td>\n",
       "      <td>7.0</td>\n",
       "      <td>10</td>\n",
       "    </tr>\n",
       "    <tr>\n",
       "      <th>3</th>\n",
       "      <td>4.0</td>\n",
       "      <td>10.0</td>\n",
       "      <td>11</td>\n",
       "    </tr>\n",
       "  </tbody>\n",
       "</table>\n",
       "</div>"
      ],
      "text/plain": [
       "     A     B   C\n",
       "0  1.0   5.0   8\n",
       "1  2.0  10.0   9\n",
       "2  0.0   7.0  10\n",
       "3  4.0  10.0  11"
      ]
     },
     "execution_count": 48,
     "metadata": {},
     "output_type": "execute_result"
    }
   ],
   "source": [
    "df16.fillna({'A': 0, 'B': 10, 'C': 20})"
   ]
  },
  {
   "cell_type": "code",
   "execution_count": 49,
   "id": "aeb0d6ee-3210-42d3-8f7c-64c808f08877",
   "metadata": {},
   "outputs": [
    {
     "data": {
      "text/html": [
       "<div>\n",
       "<style scoped>\n",
       "    .dataframe tbody tr th:only-of-type {\n",
       "        vertical-align: middle;\n",
       "    }\n",
       "\n",
       "    .dataframe tbody tr th {\n",
       "        vertical-align: top;\n",
       "    }\n",
       "\n",
       "    .dataframe thead th {\n",
       "        text-align: right;\n",
       "    }\n",
       "</style>\n",
       "<table border=\"1\" class=\"dataframe\">\n",
       "  <thead>\n",
       "    <tr style=\"text-align: right;\">\n",
       "      <th></th>\n",
       "      <th>A</th>\n",
       "      <th>B</th>\n",
       "      <th>C</th>\n",
       "    </tr>\n",
       "  </thead>\n",
       "  <tbody>\n",
       "    <tr>\n",
       "      <th>0</th>\n",
       "      <td>1.000000</td>\n",
       "      <td>5.0</td>\n",
       "      <td>8</td>\n",
       "    </tr>\n",
       "    <tr>\n",
       "      <th>1</th>\n",
       "      <td>2.000000</td>\n",
       "      <td>6.0</td>\n",
       "      <td>9</td>\n",
       "    </tr>\n",
       "    <tr>\n",
       "      <th>2</th>\n",
       "      <td>2.333333</td>\n",
       "      <td>7.0</td>\n",
       "      <td>10</td>\n",
       "    </tr>\n",
       "    <tr>\n",
       "      <th>3</th>\n",
       "      <td>4.000000</td>\n",
       "      <td>6.0</td>\n",
       "      <td>11</td>\n",
       "    </tr>\n",
       "  </tbody>\n",
       "</table>\n",
       "</div>"
      ],
      "text/plain": [
       "          A    B   C\n",
       "0  1.000000  5.0   8\n",
       "1  2.000000  6.0   9\n",
       "2  2.333333  7.0  10\n",
       "3  4.000000  6.0  11"
      ]
     },
     "execution_count": 49,
     "metadata": {},
     "output_type": "execute_result"
    }
   ],
   "source": [
    "df16.fillna({'A': df16[\"A\"].mean(), 'B': df16[\"B\"].mean(), 'C': df16[\"C\"].mean()}, inplace=True)\n",
    "df16"
   ]
  },
  {
   "cell_type": "markdown",
   "id": "ae4cf73d-4885-4a83-9ee4-fab288c100eb",
   "metadata": {},
   "source": [
    "*在求平均值的时候pandas会自动忽略值为nan的那一行*"
   ]
  },
  {
   "cell_type": "markdown",
   "id": "7147ae1a-6def-46a1-a7e8-303848e1d180",
   "metadata": {
    "jp-MarkdownHeadingCollapsed": true
   },
   "source": [
    "# 删除存在缺失值的行/列"
   ]
  },
  {
   "cell_type": "code",
   "execution_count": 50,
   "id": "bcb99250-9923-4dd9-936d-80d6660cc05b",
   "metadata": {},
   "outputs": [
    {
     "data": {
      "text/html": [
       "<div>\n",
       "<style scoped>\n",
       "    .dataframe tbody tr th:only-of-type {\n",
       "        vertical-align: middle;\n",
       "    }\n",
       "\n",
       "    .dataframe tbody tr th {\n",
       "        vertical-align: top;\n",
       "    }\n",
       "\n",
       "    .dataframe thead th {\n",
       "        text-align: right;\n",
       "    }\n",
       "</style>\n",
       "<table border=\"1\" class=\"dataframe\">\n",
       "  <thead>\n",
       "    <tr style=\"text-align: right;\">\n",
       "      <th></th>\n",
       "      <th>姓名</th>\n",
       "      <th>年龄</th>\n",
       "      <th>工资</th>\n",
       "      <th>性别</th>\n",
       "    </tr>\n",
       "  </thead>\n",
       "  <tbody>\n",
       "    <tr>\n",
       "      <th>0</th>\n",
       "      <td>John</td>\n",
       "      <td>25.0</td>\n",
       "      <td>50000.0</td>\n",
       "      <td>M</td>\n",
       "    </tr>\n",
       "    <tr>\n",
       "      <th>1</th>\n",
       "      <td>Alice</td>\n",
       "      <td>30.0</td>\n",
       "      <td>NaN</td>\n",
       "      <td>F</td>\n",
       "    </tr>\n",
       "    <tr>\n",
       "      <th>2</th>\n",
       "      <td>Bob</td>\n",
       "      <td>NaN</td>\n",
       "      <td>70000.0</td>\n",
       "      <td>M</td>\n",
       "    </tr>\n",
       "    <tr>\n",
       "      <th>3</th>\n",
       "      <td>Mary</td>\n",
       "      <td>40.0</td>\n",
       "      <td>60000.0</td>\n",
       "      <td>F</td>\n",
       "    </tr>\n",
       "  </tbody>\n",
       "</table>\n",
       "</div>"
      ],
      "text/plain": [
       "      姓名    年龄       工资 性别\n",
       "0   John  25.0  50000.0  M\n",
       "1  Alice  30.0      NaN  F\n",
       "2    Bob   NaN  70000.0  M\n",
       "3   Mary  40.0  60000.0  F"
      ]
     },
     "execution_count": 50,
     "metadata": {},
     "output_type": "execute_result"
    }
   ],
   "source": [
    "df17 = pd.DataFrame({\n",
    "    '姓名': ['John', 'Alice', 'Bob', 'Mary'],\n",
    "    '年龄': [25, 30, np.nan, 40],\n",
    "    '工资': [50000, np.nan, 70000, 60000],\n",
    "    '性别': ['M', 'F', 'M', 'F']\n",
    "})\n",
    "df17"
   ]
  },
  {
   "cell_type": "code",
   "execution_count": 51,
   "id": "6ccde2ca-831d-4fff-8705-0f2057215689",
   "metadata": {},
   "outputs": [
    {
     "data": {
      "text/html": [
       "<div>\n",
       "<style scoped>\n",
       "    .dataframe tbody tr th:only-of-type {\n",
       "        vertical-align: middle;\n",
       "    }\n",
       "\n",
       "    .dataframe tbody tr th {\n",
       "        vertical-align: top;\n",
       "    }\n",
       "\n",
       "    .dataframe thead th {\n",
       "        text-align: right;\n",
       "    }\n",
       "</style>\n",
       "<table border=\"1\" class=\"dataframe\">\n",
       "  <thead>\n",
       "    <tr style=\"text-align: right;\">\n",
       "      <th></th>\n",
       "      <th>姓名</th>\n",
       "      <th>年龄</th>\n",
       "      <th>工资</th>\n",
       "      <th>性别</th>\n",
       "    </tr>\n",
       "  </thead>\n",
       "  <tbody>\n",
       "    <tr>\n",
       "      <th>0</th>\n",
       "      <td>John</td>\n",
       "      <td>25.0</td>\n",
       "      <td>50000.0</td>\n",
       "      <td>M</td>\n",
       "    </tr>\n",
       "    <tr>\n",
       "      <th>3</th>\n",
       "      <td>Mary</td>\n",
       "      <td>40.0</td>\n",
       "      <td>60000.0</td>\n",
       "      <td>F</td>\n",
       "    </tr>\n",
       "  </tbody>\n",
       "</table>\n",
       "</div>"
      ],
      "text/plain": [
       "     姓名    年龄       工资 性别\n",
       "0  John  25.0  50000.0  M\n",
       "3  Mary  40.0  60000.0  F"
      ]
     },
     "execution_count": 51,
     "metadata": {},
     "output_type": "execute_result"
    }
   ],
   "source": [
    "df17.dropna()"
   ]
  },
  {
   "cell_type": "code",
   "execution_count": 52,
   "id": "8614abfa-0462-4114-a050-6f5e61cd0cf0",
   "metadata": {},
   "outputs": [
    {
     "data": {
      "text/html": [
       "<div>\n",
       "<style scoped>\n",
       "    .dataframe tbody tr th:only-of-type {\n",
       "        vertical-align: middle;\n",
       "    }\n",
       "\n",
       "    .dataframe tbody tr th {\n",
       "        vertical-align: top;\n",
       "    }\n",
       "\n",
       "    .dataframe thead th {\n",
       "        text-align: right;\n",
       "    }\n",
       "</style>\n",
       "<table border=\"1\" class=\"dataframe\">\n",
       "  <thead>\n",
       "    <tr style=\"text-align: right;\">\n",
       "      <th></th>\n",
       "      <th>姓名</th>\n",
       "      <th>年龄</th>\n",
       "      <th>工资</th>\n",
       "      <th>性别</th>\n",
       "    </tr>\n",
       "  </thead>\n",
       "  <tbody>\n",
       "    <tr>\n",
       "      <th>0</th>\n",
       "      <td>John</td>\n",
       "      <td>25.0</td>\n",
       "      <td>50000.0</td>\n",
       "      <td>M</td>\n",
       "    </tr>\n",
       "    <tr>\n",
       "      <th>2</th>\n",
       "      <td>Bob</td>\n",
       "      <td>NaN</td>\n",
       "      <td>70000.0</td>\n",
       "      <td>M</td>\n",
       "    </tr>\n",
       "    <tr>\n",
       "      <th>3</th>\n",
       "      <td>Mary</td>\n",
       "      <td>40.0</td>\n",
       "      <td>60000.0</td>\n",
       "      <td>F</td>\n",
       "    </tr>\n",
       "  </tbody>\n",
       "</table>\n",
       "</div>"
      ],
      "text/plain": [
       "     姓名    年龄       工资 性别\n",
       "0  John  25.0  50000.0  M\n",
       "2   Bob   NaN  70000.0  M\n",
       "3  Mary  40.0  60000.0  F"
      ]
     },
     "execution_count": 52,
     "metadata": {},
     "output_type": "execute_result"
    }
   ],
   "source": [
    "df17.dropna(subset=[\"工资\"])"
   ]
  },
  {
   "cell_type": "code",
   "execution_count": 53,
   "id": "0beabdd7-6d27-4b12-b093-b99ee719f4fb",
   "metadata": {},
   "outputs": [
    {
     "data": {
      "text/html": [
       "<div>\n",
       "<style scoped>\n",
       "    .dataframe tbody tr th:only-of-type {\n",
       "        vertical-align: middle;\n",
       "    }\n",
       "\n",
       "    .dataframe tbody tr th {\n",
       "        vertical-align: top;\n",
       "    }\n",
       "\n",
       "    .dataframe thead th {\n",
       "        text-align: right;\n",
       "    }\n",
       "</style>\n",
       "<table border=\"1\" class=\"dataframe\">\n",
       "  <thead>\n",
       "    <tr style=\"text-align: right;\">\n",
       "      <th></th>\n",
       "      <th>姓名</th>\n",
       "      <th>性别</th>\n",
       "    </tr>\n",
       "  </thead>\n",
       "  <tbody>\n",
       "    <tr>\n",
       "      <th>0</th>\n",
       "      <td>John</td>\n",
       "      <td>M</td>\n",
       "    </tr>\n",
       "    <tr>\n",
       "      <th>1</th>\n",
       "      <td>Alice</td>\n",
       "      <td>F</td>\n",
       "    </tr>\n",
       "    <tr>\n",
       "      <th>2</th>\n",
       "      <td>Bob</td>\n",
       "      <td>M</td>\n",
       "    </tr>\n",
       "    <tr>\n",
       "      <th>3</th>\n",
       "      <td>Mary</td>\n",
       "      <td>F</td>\n",
       "    </tr>\n",
       "  </tbody>\n",
       "</table>\n",
       "</div>"
      ],
      "text/plain": [
       "      姓名 性别\n",
       "0   John  M\n",
       "1  Alice  F\n",
       "2    Bob  M\n",
       "3   Mary  F"
      ]
     },
     "execution_count": 53,
     "metadata": {},
     "output_type": "execute_result"
    }
   ],
   "source": [
    "df17.dropna(axis=1)"
   ]
  },
  {
   "cell_type": "code",
   "execution_count": 54,
   "id": "6a3338c5-dd59-4dc0-8acb-098e6d4b6c8d",
   "metadata": {},
   "outputs": [
    {
     "data": {
      "text/html": [
       "<div>\n",
       "<style scoped>\n",
       "    .dataframe tbody tr th:only-of-type {\n",
       "        vertical-align: middle;\n",
       "    }\n",
       "\n",
       "    .dataframe tbody tr th {\n",
       "        vertical-align: top;\n",
       "    }\n",
       "\n",
       "    .dataframe thead th {\n",
       "        text-align: right;\n",
       "    }\n",
       "</style>\n",
       "<table border=\"1\" class=\"dataframe\">\n",
       "  <thead>\n",
       "    <tr style=\"text-align: right;\">\n",
       "      <th></th>\n",
       "      <th>姓名</th>\n",
       "      <th>性别</th>\n",
       "    </tr>\n",
       "  </thead>\n",
       "  <tbody>\n",
       "    <tr>\n",
       "      <th>0</th>\n",
       "      <td>John</td>\n",
       "      <td>M</td>\n",
       "    </tr>\n",
       "    <tr>\n",
       "      <th>1</th>\n",
       "      <td>Alice</td>\n",
       "      <td>F</td>\n",
       "    </tr>\n",
       "    <tr>\n",
       "      <th>2</th>\n",
       "      <td>Bob</td>\n",
       "      <td>M</td>\n",
       "    </tr>\n",
       "    <tr>\n",
       "      <th>3</th>\n",
       "      <td>Mary</td>\n",
       "      <td>F</td>\n",
       "    </tr>\n",
       "  </tbody>\n",
       "</table>\n",
       "</div>"
      ],
      "text/plain": [
       "      姓名 性别\n",
       "0   John  M\n",
       "1  Alice  F\n",
       "2    Bob  M\n",
       "3   Mary  F"
      ]
     },
     "execution_count": 54,
     "metadata": {},
     "output_type": "execute_result"
    }
   ],
   "source": [
    "df17.dropna(axis=1, subset=[1, 2])"
   ]
  },
  {
   "cell_type": "markdown",
   "id": "700532ba-87c6-4c40-959a-c5afe3fc6554",
   "metadata": {
    "jp-MarkdownHeadingCollapsed": true
   },
   "source": [
    "# 删除重复数据"
   ]
  },
  {
   "cell_type": "code",
   "execution_count": 55,
   "id": "1d275bf1-9d5e-4e3c-bbbe-954177efbece",
   "metadata": {},
   "outputs": [
    {
     "data": {
      "text/html": [
       "<div>\n",
       "<style scoped>\n",
       "    .dataframe tbody tr th:only-of-type {\n",
       "        vertical-align: middle;\n",
       "    }\n",
       "\n",
       "    .dataframe tbody tr th {\n",
       "        vertical-align: top;\n",
       "    }\n",
       "\n",
       "    .dataframe thead th {\n",
       "        text-align: right;\n",
       "    }\n",
       "</style>\n",
       "<table border=\"1\" class=\"dataframe\">\n",
       "  <thead>\n",
       "    <tr style=\"text-align: right;\">\n",
       "      <th></th>\n",
       "      <th>姓名</th>\n",
       "      <th>年龄</th>\n",
       "      <th>性别</th>\n",
       "    </tr>\n",
       "  </thead>\n",
       "  <tbody>\n",
       "    <tr>\n",
       "      <th>0</th>\n",
       "      <td>John</td>\n",
       "      <td>25</td>\n",
       "      <td>M</td>\n",
       "    </tr>\n",
       "    <tr>\n",
       "      <th>1</th>\n",
       "      <td>Alice</td>\n",
       "      <td>30</td>\n",
       "      <td>F</td>\n",
       "    </tr>\n",
       "    <tr>\n",
       "      <th>2</th>\n",
       "      <td>Bob</td>\n",
       "      <td>35</td>\n",
       "      <td>M</td>\n",
       "    </tr>\n",
       "    <tr>\n",
       "      <th>3</th>\n",
       "      <td>Alice</td>\n",
       "      <td>30</td>\n",
       "      <td>F</td>\n",
       "    </tr>\n",
       "    <tr>\n",
       "      <th>4</th>\n",
       "      <td>John</td>\n",
       "      <td>40</td>\n",
       "      <td>M</td>\n",
       "    </tr>\n",
       "  </tbody>\n",
       "</table>\n",
       "</div>"
      ],
      "text/plain": [
       "      姓名  年龄 性别\n",
       "0   John  25  M\n",
       "1  Alice  30  F\n",
       "2    Bob  35  M\n",
       "3  Alice  30  F\n",
       "4   John  40  M"
      ]
     },
     "execution_count": 55,
     "metadata": {},
     "output_type": "execute_result"
    }
   ],
   "source": [
    "df18 = pd.DataFrame({\n",
    "    '姓名': ['John', 'Alice', 'Bob', 'Alice', 'John'],\n",
    "    '年龄': [25, 30, 35, 30, 40],\n",
    "    '性别': ['M', 'F', 'M', 'F', 'M']\n",
    "})\n",
    "df18"
   ]
  },
  {
   "cell_type": "code",
   "execution_count": 57,
   "id": "368997a7-4c32-4348-8980-d3adb42fce16",
   "metadata": {},
   "outputs": [
    {
     "data": {
      "text/plain": [
       "0     John\n",
       "1    Alice\n",
       "2      Bob\n",
       "Name: 姓名, dtype: object"
      ]
     },
     "execution_count": 57,
     "metadata": {},
     "output_type": "execute_result"
    }
   ],
   "source": [
    "df18[\"姓名\"].drop_duplicates()"
   ]
  },
  {
   "cell_type": "markdown",
   "id": "a4ccec99-4fd5-485c-925d-b7aec240e31c",
   "metadata": {},
   "source": [
    "**因为df由Series构成故很多方法对df与s都共享**"
   ]
  },
  {
   "cell_type": "code",
   "execution_count": 58,
   "id": "13c1fc62-dbf2-4854-bd2d-efd1d4289cb0",
   "metadata": {},
   "outputs": [
    {
     "name": "stdout",
     "output_type": "stream",
     "text": [
      "      姓名  年龄 性别\n",
      "0   John  25  M\n",
      "1  Alice  30  F\n",
      "2    Bob  35  M\n",
      "3  Alice  30  F\n",
      "4   John  40  M\n"
     ]
    },
    {
     "data": {
      "text/html": [
       "<div>\n",
       "<style scoped>\n",
       "    .dataframe tbody tr th:only-of-type {\n",
       "        vertical-align: middle;\n",
       "    }\n",
       "\n",
       "    .dataframe tbody tr th {\n",
       "        vertical-align: top;\n",
       "    }\n",
       "\n",
       "    .dataframe thead th {\n",
       "        text-align: right;\n",
       "    }\n",
       "</style>\n",
       "<table border=\"1\" class=\"dataframe\">\n",
       "  <thead>\n",
       "    <tr style=\"text-align: right;\">\n",
       "      <th></th>\n",
       "      <th>姓名</th>\n",
       "      <th>年龄</th>\n",
       "      <th>性别</th>\n",
       "    </tr>\n",
       "  </thead>\n",
       "  <tbody>\n",
       "    <tr>\n",
       "      <th>0</th>\n",
       "      <td>John</td>\n",
       "      <td>25</td>\n",
       "      <td>M</td>\n",
       "    </tr>\n",
       "    <tr>\n",
       "      <th>1</th>\n",
       "      <td>Alice</td>\n",
       "      <td>30</td>\n",
       "      <td>F</td>\n",
       "    </tr>\n",
       "    <tr>\n",
       "      <th>2</th>\n",
       "      <td>Bob</td>\n",
       "      <td>35</td>\n",
       "      <td>M</td>\n",
       "    </tr>\n",
       "    <tr>\n",
       "      <th>4</th>\n",
       "      <td>John</td>\n",
       "      <td>40</td>\n",
       "      <td>M</td>\n",
       "    </tr>\n",
       "  </tbody>\n",
       "</table>\n",
       "</div>"
      ],
      "text/plain": [
       "      姓名  年龄 性别\n",
       "0   John  25  M\n",
       "1  Alice  30  F\n",
       "2    Bob  35  M\n",
       "4   John  40  M"
      ]
     },
     "execution_count": 58,
     "metadata": {},
     "output_type": "execute_result"
    }
   ],
   "source": [
    "print(df18)\n",
    "df18.drop_duplicates()"
   ]
  },
  {
   "cell_type": "code",
   "execution_count": 60,
   "id": "64a77d9b-97aa-467d-b46e-a3803af34665",
   "metadata": {},
   "outputs": [
    {
     "name": "stdout",
     "output_type": "stream",
     "text": [
      "      姓名  年龄 性别\n",
      "0   John  25  M\n",
      "1  Alice  30  F\n",
      "2    Bob  35  M\n",
      "3  Alice  30  F\n",
      "4   John  40  M\n"
     ]
    },
    {
     "data": {
      "text/html": [
       "<div>\n",
       "<style scoped>\n",
       "    .dataframe tbody tr th:only-of-type {\n",
       "        vertical-align: middle;\n",
       "    }\n",
       "\n",
       "    .dataframe tbody tr th {\n",
       "        vertical-align: top;\n",
       "    }\n",
       "\n",
       "    .dataframe thead th {\n",
       "        text-align: right;\n",
       "    }\n",
       "</style>\n",
       "<table border=\"1\" class=\"dataframe\">\n",
       "  <thead>\n",
       "    <tr style=\"text-align: right;\">\n",
       "      <th></th>\n",
       "      <th>姓名</th>\n",
       "      <th>年龄</th>\n",
       "      <th>性别</th>\n",
       "    </tr>\n",
       "  </thead>\n",
       "  <tbody>\n",
       "    <tr>\n",
       "      <th>0</th>\n",
       "      <td>John</td>\n",
       "      <td>25</td>\n",
       "      <td>M</td>\n",
       "    </tr>\n",
       "    <tr>\n",
       "      <th>1</th>\n",
       "      <td>Alice</td>\n",
       "      <td>30</td>\n",
       "      <td>F</td>\n",
       "    </tr>\n",
       "    <tr>\n",
       "      <th>2</th>\n",
       "      <td>Bob</td>\n",
       "      <td>35</td>\n",
       "      <td>M</td>\n",
       "    </tr>\n",
       "  </tbody>\n",
       "</table>\n",
       "</div>"
      ],
      "text/plain": [
       "      姓名  年龄 性别\n",
       "0   John  25  M\n",
       "1  Alice  30  F\n",
       "2    Bob  35  M"
      ]
     },
     "execution_count": 60,
     "metadata": {},
     "output_type": "execute_result"
    }
   ],
   "source": [
    "print(df18)\n",
    "df18.drop_duplicates(subset=['姓名', '性别'])"
   ]
  },
  {
   "cell_type": "code",
   "execution_count": 62,
   "id": "4aa27416-d44c-492a-b4c1-8b7549aede53",
   "metadata": {},
   "outputs": [
    {
     "name": "stdout",
     "output_type": "stream",
     "text": [
      "      姓名  年龄 性别\n",
      "0   John  25  M\n",
      "1  Alice  30  F\n",
      "2    Bob  35  M\n",
      "3  Alice  30  F\n",
      "4   John  40  M\n"
     ]
    },
    {
     "data": {
      "text/html": [
       "<div>\n",
       "<style scoped>\n",
       "    .dataframe tbody tr th:only-of-type {\n",
       "        vertical-align: middle;\n",
       "    }\n",
       "\n",
       "    .dataframe tbody tr th {\n",
       "        vertical-align: top;\n",
       "    }\n",
       "\n",
       "    .dataframe thead th {\n",
       "        text-align: right;\n",
       "    }\n",
       "</style>\n",
       "<table border=\"1\" class=\"dataframe\">\n",
       "  <thead>\n",
       "    <tr style=\"text-align: right;\">\n",
       "      <th></th>\n",
       "      <th>姓名</th>\n",
       "      <th>年龄</th>\n",
       "      <th>性别</th>\n",
       "    </tr>\n",
       "  </thead>\n",
       "  <tbody>\n",
       "    <tr>\n",
       "      <th>2</th>\n",
       "      <td>Bob</td>\n",
       "      <td>35</td>\n",
       "      <td>M</td>\n",
       "    </tr>\n",
       "    <tr>\n",
       "      <th>3</th>\n",
       "      <td>Alice</td>\n",
       "      <td>30</td>\n",
       "      <td>F</td>\n",
       "    </tr>\n",
       "    <tr>\n",
       "      <th>4</th>\n",
       "      <td>John</td>\n",
       "      <td>40</td>\n",
       "      <td>M</td>\n",
       "    </tr>\n",
       "  </tbody>\n",
       "</table>\n",
       "</div>"
      ],
      "text/plain": [
       "      姓名  年龄 性别\n",
       "2    Bob  35  M\n",
       "3  Alice  30  F\n",
       "4   John  40  M"
      ]
     },
     "execution_count": 62,
     "metadata": {},
     "output_type": "execute_result"
    }
   ],
   "source": [
    "print(df18)\n",
    "df18.drop_duplicates(subset=['姓名', '性别'], keep='last',inplace=True)\n",
    "df18"
   ]
  },
  {
   "cell_type": "markdown",
   "id": "563991a1-43c9-42a2-84e4-456e880fdf5e",
   "metadata": {},
   "source": [
    "keep='last' 时，只保留每组重复记录中的最后一行，删除其他重复行"
   ]
  },
  {
   "cell_type": "markdown",
   "id": "f84ff4fe-3b6c-4a10-b665-2541edc5b1d2",
   "metadata": {
    "jp-MarkdownHeadingCollapsed": true
   },
   "source": [
    "# 对值进行替换"
   ]
  },
  {
   "cell_type": "code",
   "execution_count": 63,
   "id": "f99ceb2f-94c4-4ab8-869c-2e5e4b9b37f8",
   "metadata": {},
   "outputs": [
    {
     "data": {
      "text/html": [
       "<div>\n",
       "<style scoped>\n",
       "    .dataframe tbody tr th:only-of-type {\n",
       "        vertical-align: middle;\n",
       "    }\n",
       "\n",
       "    .dataframe tbody tr th {\n",
       "        vertical-align: top;\n",
       "    }\n",
       "\n",
       "    .dataframe thead th {\n",
       "        text-align: right;\n",
       "    }\n",
       "</style>\n",
       "<table border=\"1\" class=\"dataframe\">\n",
       "  <thead>\n",
       "    <tr style=\"text-align: right;\">\n",
       "      <th></th>\n",
       "      <th>姓名</th>\n",
       "      <th>家乡</th>\n",
       "      <th>学校</th>\n",
       "    </tr>\n",
       "  </thead>\n",
       "  <tbody>\n",
       "    <tr>\n",
       "      <th>0</th>\n",
       "      <td>小明</td>\n",
       "      <td>北京</td>\n",
       "      <td>北京大学</td>\n",
       "    </tr>\n",
       "    <tr>\n",
       "      <th>1</th>\n",
       "      <td>小红</td>\n",
       "      <td>上海</td>\n",
       "      <td>清华大学</td>\n",
       "    </tr>\n",
       "    <tr>\n",
       "      <th>2</th>\n",
       "      <td>小张</td>\n",
       "      <td>广州</td>\n",
       "      <td>华南理工</td>\n",
       "    </tr>\n",
       "    <tr>\n",
       "      <th>3</th>\n",
       "      <td>小李</td>\n",
       "      <td>深圳</td>\n",
       "      <td>清华</td>\n",
       "    </tr>\n",
       "  </tbody>\n",
       "</table>\n",
       "</div>"
      ],
      "text/plain": [
       "   姓名  家乡    学校\n",
       "0  小明  北京  北京大学\n",
       "1  小红  上海  清华大学\n",
       "2  小张  广州  华南理工\n",
       "3  小李  深圳    清华"
      ]
     },
     "execution_count": 63,
     "metadata": {},
     "output_type": "execute_result"
    }
   ],
   "source": [
    "data = {'姓名': ['小明', '小红', '小张', '小李'],\n",
    "        '家乡': ['北京', '上海', '广州', '深圳'],\n",
    "        '学校': ['北京大学', '清华大学', '华南理工', '清华']}\n",
    "df19 = pd.DataFrame(data)\n",
    "df19"
   ]
  },
  {
   "cell_type": "code",
   "execution_count": 64,
   "id": "470d501b-d2bb-4050-9161-a912a15ca301",
   "metadata": {},
   "outputs": [
    {
     "data": {
      "text/plain": [
       "0    北京大学\n",
       "1    清华大学\n",
       "2    华南理工\n",
       "3    清华大学\n",
       "Name: 学校, dtype: object"
      ]
     },
     "execution_count": 64,
     "metadata": {},
     "output_type": "execute_result"
    }
   ],
   "source": [
    "df19[\"学校\"].replace(\"清华\", \"清华大学\")"
   ]
  },
  {
   "cell_type": "code",
   "execution_count": 65,
   "id": "074da518-db7a-4750-a9f9-1707a13c92bd",
   "metadata": {},
   "outputs": [
    {
     "data": {
      "text/html": [
       "<div>\n",
       "<style scoped>\n",
       "    .dataframe tbody tr th:only-of-type {\n",
       "        vertical-align: middle;\n",
       "    }\n",
       "\n",
       "    .dataframe tbody tr th {\n",
       "        vertical-align: top;\n",
       "    }\n",
       "\n",
       "    .dataframe thead th {\n",
       "        text-align: right;\n",
       "    }\n",
       "</style>\n",
       "<table border=\"1\" class=\"dataframe\">\n",
       "  <thead>\n",
       "    <tr style=\"text-align: right;\">\n",
       "      <th></th>\n",
       "      <th>姓名</th>\n",
       "      <th>家乡</th>\n",
       "      <th>学校</th>\n",
       "    </tr>\n",
       "  </thead>\n",
       "  <tbody>\n",
       "    <tr>\n",
       "      <th>0</th>\n",
       "      <td>小明</td>\n",
       "      <td>北京</td>\n",
       "      <td>北京大学</td>\n",
       "    </tr>\n",
       "    <tr>\n",
       "      <th>1</th>\n",
       "      <td>小红</td>\n",
       "      <td>上海</td>\n",
       "      <td>清华大学</td>\n",
       "    </tr>\n",
       "    <tr>\n",
       "      <th>2</th>\n",
       "      <td>小张</td>\n",
       "      <td>广州</td>\n",
       "      <td>华南理工</td>\n",
       "    </tr>\n",
       "    <tr>\n",
       "      <th>3</th>\n",
       "      <td>小李</td>\n",
       "      <td>深圳</td>\n",
       "      <td>清华大学</td>\n",
       "    </tr>\n",
       "  </tbody>\n",
       "</table>\n",
       "</div>"
      ],
      "text/plain": [
       "   姓名  家乡    学校\n",
       "0  小明  北京  北京大学\n",
       "1  小红  上海  清华大学\n",
       "2  小张  广州  华南理工\n",
       "3  小李  深圳  清华大学"
      ]
     },
     "execution_count": 65,
     "metadata": {},
     "output_type": "execute_result"
    }
   ],
   "source": [
    "df19.replace(\"清华\", \"清华大学\")"
   ]
  },
  {
   "cell_type": "code",
   "execution_count": 67,
   "id": "f4a7b430-5085-494c-988f-ef87638df74d",
   "metadata": {},
   "outputs": [
    {
     "data": {
      "text/plain": [
       "0    北京大学\n",
       "1    清华大学\n",
       "2    华南理工\n",
       "3    清华大学\n",
       "Name: 学校, dtype: object"
      ]
     },
     "execution_count": 67,
     "metadata": {},
     "output_type": "execute_result"
    }
   ],
   "source": [
    "df19[\"学校\"].replace([\"清华\", \"五道口职业技术学院\", \"Tsinghua University\"], \"清华大学\")"
   ]
  },
  {
   "cell_type": "code",
   "execution_count": 68,
   "id": "e0a627c5-9ba5-4874-b55e-f5c9596e8c33",
   "metadata": {},
   "outputs": [
    {
     "data": {
      "text/html": [
       "<div>\n",
       "<style scoped>\n",
       "    .dataframe tbody tr th:only-of-type {\n",
       "        vertical-align: middle;\n",
       "    }\n",
       "\n",
       "    .dataframe tbody tr th {\n",
       "        vertical-align: top;\n",
       "    }\n",
       "\n",
       "    .dataframe thead th {\n",
       "        text-align: right;\n",
       "    }\n",
       "</style>\n",
       "<table border=\"1\" class=\"dataframe\">\n",
       "  <thead>\n",
       "    <tr style=\"text-align: right;\">\n",
       "      <th></th>\n",
       "      <th>姓名</th>\n",
       "      <th>家乡</th>\n",
       "      <th>学校</th>\n",
       "    </tr>\n",
       "  </thead>\n",
       "  <tbody>\n",
       "    <tr>\n",
       "      <th>0</th>\n",
       "      <td>小明</td>\n",
       "      <td>北京</td>\n",
       "      <td>北京大学</td>\n",
       "    </tr>\n",
       "    <tr>\n",
       "      <th>1</th>\n",
       "      <td>小红</td>\n",
       "      <td>上海</td>\n",
       "      <td>清华大学</td>\n",
       "    </tr>\n",
       "    <tr>\n",
       "      <th>2</th>\n",
       "      <td>小张</td>\n",
       "      <td>广州</td>\n",
       "      <td>华南理工</td>\n",
       "    </tr>\n",
       "    <tr>\n",
       "      <th>3</th>\n",
       "      <td>小李</td>\n",
       "      <td>深圳</td>\n",
       "      <td>清华大学</td>\n",
       "    </tr>\n",
       "  </tbody>\n",
       "</table>\n",
       "</div>"
      ],
      "text/plain": [
       "   姓名  家乡    学校\n",
       "0  小明  北京  北京大学\n",
       "1  小红  上海  清华大学\n",
       "2  小张  广州  华南理工\n",
       "3  小李  深圳  清华大学"
      ]
     },
     "execution_count": 68,
     "metadata": {},
     "output_type": "execute_result"
    }
   ],
   "source": [
    "df19.replace([\"清华\", \"五道口职业技术学院\", \"Tsinghua University\"], \"清华大学\")"
   ]
  },
  {
   "cell_type": "code",
   "execution_count": 69,
   "id": "577d2624-5d22-4962-a787-96dd1155f33b",
   "metadata": {},
   "outputs": [
    {
     "data": {
      "text/html": [
       "<div>\n",
       "<style scoped>\n",
       "    .dataframe tbody tr th:only-of-type {\n",
       "        vertical-align: middle;\n",
       "    }\n",
       "\n",
       "    .dataframe tbody tr th {\n",
       "        vertical-align: top;\n",
       "    }\n",
       "\n",
       "    .dataframe thead th {\n",
       "        text-align: right;\n",
       "    }\n",
       "</style>\n",
       "<table border=\"1\" class=\"dataframe\">\n",
       "  <thead>\n",
       "    <tr style=\"text-align: right;\">\n",
       "      <th></th>\n",
       "      <th>姓名</th>\n",
       "      <th>家乡</th>\n",
       "      <th>学校</th>\n",
       "    </tr>\n",
       "  </thead>\n",
       "  <tbody>\n",
       "    <tr>\n",
       "      <th>0</th>\n",
       "      <td>小明</td>\n",
       "      <td>南京</td>\n",
       "      <td>北京大学</td>\n",
       "    </tr>\n",
       "    <tr>\n",
       "      <th>1</th>\n",
       "      <td>小红</td>\n",
       "      <td>上海</td>\n",
       "      <td>清华大学</td>\n",
       "    </tr>\n",
       "    <tr>\n",
       "      <th>2</th>\n",
       "      <td>小张</td>\n",
       "      <td>广州</td>\n",
       "      <td>华南理工大学</td>\n",
       "    </tr>\n",
       "    <tr>\n",
       "      <th>3</th>\n",
       "      <td>小李</td>\n",
       "      <td>深圳</td>\n",
       "      <td>清华大学</td>\n",
       "    </tr>\n",
       "  </tbody>\n",
       "</table>\n",
       "</div>"
      ],
      "text/plain": [
       "   姓名  家乡      学校\n",
       "0  小明  南京    北京大学\n",
       "1  小红  上海    清华大学\n",
       "2  小张  广州  华南理工大学\n",
       "3  小李  深圳    清华大学"
      ]
     },
     "execution_count": 69,
     "metadata": {},
     "output_type": "execute_result"
    }
   ],
   "source": [
    "replace_dict = {'华南理工': '华南理工大学',\n",
    "                '清华': '清华大学',\n",
    "                '北大': '北京大学',\n",
    "                '中大': '中山大学',\n",
    "                '北京': '南京'}\n",
    "df19.replace(replace_dict)"
   ]
  },
  {
   "cell_type": "markdown",
   "id": "bc4d273e-aa4e-47e8-bedc-d170e5ba647d",
   "metadata": {
    "jp-MarkdownHeadingCollapsed": true
   },
   "source": [
    "# 对值的类型进行转换"
   ]
  },
  {
   "cell_type": "markdown",
   "id": "dd5e1820-cf63-4173-b544-f3a3f6bb9c8f",
   "metadata": {},
   "source": [
    "**对于有电话号码属性的df中若该属性下的值被当作int/float那么调用describe()这一列的信息显示将毫无意义，<br>当满意度属性下的数据类型的为str的是/否而不是bool的True/False那么describe()将显示不出该满意度列下的有用信息,所以这时候需要对值进行类型转换**"
   ]
  },
  {
   "cell_type": "code",
   "execution_count": 71,
   "id": "ff936cc2-4977-4218-9ed1-8f10d776520d",
   "metadata": {},
   "outputs": [
    {
     "name": "stdout",
     "output_type": "stream",
     "text": [
      "0    1\n",
      "1    2\n",
      "2    3\n",
      "dtype: int64\n"
     ]
    },
    {
     "data": {
      "text/plain": [
       "0    1.0\n",
       "1    2.0\n",
       "2    3.0\n",
       "dtype: float64"
      ]
     },
     "execution_count": 71,
     "metadata": {},
     "output_type": "execute_result"
    }
   ],
   "source": [
    "s1 = pd.Series([1, 2, 3])\n",
    "print(s1)\n",
    "s1.astype(\"float\")"
   ]
  },
  {
   "cell_type": "code",
   "execution_count": 72,
   "id": "0ee6908c-31b8-4ce4-9d4a-990d30ae62bf",
   "metadata": {},
   "outputs": [
    {
     "data": {
      "text/plain": [
       "0    1\n",
       "1    2\n",
       "2    3\n",
       "dtype: int64"
      ]
     },
     "execution_count": 72,
     "metadata": {},
     "output_type": "execute_result"
    }
   ],
   "source": [
    "s1"
   ]
  },
  {
   "cell_type": "markdown",
   "id": "5ad9ab96-4542-433c-911e-004bdf919aa5",
   "metadata": {},
   "source": [
    "*astype依旧不改变原Series*"
   ]
  },
  {
   "cell_type": "code",
   "execution_count": 73,
   "id": "d19d30ff-e8ab-45bf-b73e-6741bc0bd151",
   "metadata": {},
   "outputs": [
    {
     "name": "stdout",
     "output_type": "stream",
     "text": [
      "<class 'str'>\n",
      "<class 'str'>\n",
      "<class 'bool'>\n",
      "<class 'float'>\n"
     ]
    },
    {
     "data": {
      "text/plain": [
       "list"
      ]
     },
     "execution_count": 73,
     "metadata": {},
     "output_type": "execute_result"
    }
   ],
   "source": [
    "print(type('4'))\n",
    "print(type('1'))\n",
    "print(type(True))\n",
    "print(type(3.0))\n",
    "type([1,'a'])"
   ]
  },
  {
   "cell_type": "code",
   "execution_count": 74,
   "id": "069c1a19-bc45-46a6-9e4a-27e42dea79b5",
   "metadata": {},
   "outputs": [
    {
     "name": "stdout",
     "output_type": "stream",
     "text": [
      "0    1\n",
      "1    2\n",
      "2    3\n",
      "dtype: int64\n"
     ]
    },
    {
     "data": {
      "text/plain": [
       "0    1\n",
       "1    2\n",
       "2    3\n",
       "dtype: object"
      ]
     },
     "execution_count": 74,
     "metadata": {},
     "output_type": "execute_result"
    }
   ],
   "source": [
    "print(s1)\n",
    "s1.astype(str)"
   ]
  },
  {
   "cell_type": "markdown",
   "id": "03cebbdd-a745-472b-bf4e-97c51e8a3cc5",
   "metadata": {},
   "source": [
    "我们可以直接把object类型当作表示字符类型或整数类型"
   ]
  },
  {
   "cell_type": "code",
   "execution_count": 75,
   "id": "7b7be6ec-4705-436f-bc58-fca78d3fb181",
   "metadata": {},
   "outputs": [
    {
     "data": {
      "text/plain": [
       "0    红色\n",
       "1    红色\n",
       "2    橙色\n",
       "3    蓝色\n",
       "dtype: category\n",
       "Categories (3, object): ['橙色', '红色', '蓝色']"
      ]
     },
     "execution_count": 75,
     "metadata": {},
     "output_type": "execute_result"
    }
   ],
   "source": [
    "s2 = pd.Series([\"红色\", \"红色\", \"橙色\", \"蓝色\"])\n",
    "s2.astype(\"category\")"
   ]
  },
  {
   "cell_type": "markdown",
   "id": "004ad527-6989-4a41-9433-c33f54b8de34",
   "metadata": {},
   "source": [
    "category是分类数据，数据分为分类数据和数值数据，分类数据是指包含有限数量的不同类别数据如性别只有两种，奖牌只有金银铜，数值数据是某个具体数据种类不受限制比如身高有无数可能的值，这类数据，当数据的种类有限时候比如：颜色，国家，学历那么建议把这些数据astype转为catagory数据类型节省空间利于数据可视化"
   ]
  },
  {
   "cell_type": "markdown",
   "id": "74f7aca9-2d70-40ba-993e-684d6551dedb",
   "metadata": {
    "jp-MarkdownHeadingCollapsed": true
   },
   "source": [
    "# 保存清洗后的数据"
   ]
  },
  {
   "cell_type": "markdown",
   "id": "aa60d1f3-f806-4bd1-ad6a-14cbf1b65f02",
   "metadata": {},
   "source": [
    "*将清洗后的数据写入新的csv文件*"
   ]
  },
  {
   "cell_type": "code",
   "execution_count": 76,
   "id": "54170635-8712-418a-8f0f-223b4beaa49c",
   "metadata": {},
   "outputs": [
    {
     "data": {
      "text/html": [
       "<div>\n",
       "<style scoped>\n",
       "    .dataframe tbody tr th:only-of-type {\n",
       "        vertical-align: middle;\n",
       "    }\n",
       "\n",
       "    .dataframe tbody tr th {\n",
       "        vertical-align: top;\n",
       "    }\n",
       "\n",
       "    .dataframe thead th {\n",
       "        text-align: right;\n",
       "    }\n",
       "</style>\n",
       "<table border=\"1\" class=\"dataframe\">\n",
       "  <thead>\n",
       "    <tr style=\"text-align: right;\">\n",
       "      <th></th>\n",
       "      <th>日期</th>\n",
       "      <th>销售额</th>\n",
       "      <th>销售人员</th>\n",
       "      <th>城市</th>\n",
       "    </tr>\n",
       "  </thead>\n",
       "  <tbody>\n",
       "    <tr>\n",
       "      <th>38H9</th>\n",
       "      <td>2022-01-01</td>\n",
       "      <td>1000</td>\n",
       "      <td>Alice</td>\n",
       "      <td>New York</td>\n",
       "    </tr>\n",
       "    <tr>\n",
       "      <th>W9F1</th>\n",
       "      <td>2022-01-02</td>\n",
       "      <td>1500</td>\n",
       "      <td>Bob</td>\n",
       "      <td>San Francisco</td>\n",
       "    </tr>\n",
       "    <tr>\n",
       "      <th>KD82</th>\n",
       "      <td>2022-01-03</td>\n",
       "      <td>800</td>\n",
       "      <td>Charlie</td>\n",
       "      <td>New York</td>\n",
       "    </tr>\n",
       "    <tr>\n",
       "      <th>004U</th>\n",
       "      <td>2022-01-04</td>\n",
       "      <td>1200</td>\n",
       "      <td>David</td>\n",
       "      <td>San Francisco</td>\n",
       "    </tr>\n",
       "  </tbody>\n",
       "</table>\n",
       "</div>"
      ],
      "text/plain": [
       "              日期   销售额     销售人员             城市\n",
       "38H9  2022-01-01  1000    Alice       New York\n",
       "W9F1  2022-01-02  1500      Bob  San Francisco\n",
       "KD82  2022-01-03   800  Charlie       New York\n",
       "004U  2022-01-04  1200    David  San Francisco"
      ]
     },
     "execution_count": 76,
     "metadata": {},
     "output_type": "execute_result"
    }
   ],
   "source": [
    "import pandas as pd\n",
    "import numpy as np\n",
    "df111 = pd.DataFrame({\n",
    "    '日期': ['2022-01-01', '2022-01-02', '2022-01-03', '2022-01-04'],\n",
    "    '销售额': [1000, 1500, 800, 1200],\n",
    "    '销售人员': ['Alice', 'Bob', 'Charlie', 'David'],\n",
    "    '城市': ['New York', 'San Francisco', 'New York', 'San Francisco']\n",
    "})\n",
    "df111 = df111.rename(index={\n",
    "    0: '38H9',\n",
    "    1: 'W9F1',\n",
    "    2: 'KD82',\n",
    "    3: '004U'\n",
    "})\n",
    "df111"
   ]
  },
  {
   "cell_type": "markdown",
   "id": "942dfd6b-9bfe-422e-870b-20d530bccc3c",
   "metadata": {},
   "source": [
    ".to_csv()将df以文件形式保存，若原文件存在则把之前内容删除并写入，原文件不存在就创建一个并写入"
   ]
  },
  {
   "cell_type": "code",
   "execution_count": 78,
   "id": "96aca402-d121-452a-b024-2552ff3d9428",
   "metadata": {},
   "outputs": [
    {
     "name": "stdout",
     "output_type": "stream",
     "text": [
      "C:\\Users\\杨加春\\data_analysis\n"
     ]
    }
   ],
   "source": [
    "import os\n",
    "print(os.getcwd())\n"
   ]
  },
  {
   "cell_type": "code",
   "execution_count": 77,
   "id": "3d3b1797-ab84-4181-aae3-873560587aff",
   "metadata": {},
   "outputs": [],
   "source": [
    "df111.to_csv(\"cleaned_sales_data.csv\")"
   ]
  },
  {
   "cell_type": "markdown",
   "id": "ceaf236d-485c-45ab-87ab-7907908c101b",
   "metadata": {},
   "source": [
    "*该文件将会在路径  C:\\Users\\杨加春\\data_analysis 这个位置生成一个文件*"
   ]
  },
  {
   "cell_type": "code",
   "execution_count": 79,
   "id": "db8acf3c-e3e4-4739-bc29-6676ae499767",
   "metadata": {},
   "outputs": [
    {
     "data": {
      "text/html": [
       "<div>\n",
       "<style scoped>\n",
       "    .dataframe tbody tr th:only-of-type {\n",
       "        vertical-align: middle;\n",
       "    }\n",
       "\n",
       "    .dataframe tbody tr th {\n",
       "        vertical-align: top;\n",
       "    }\n",
       "\n",
       "    .dataframe thead th {\n",
       "        text-align: right;\n",
       "    }\n",
       "</style>\n",
       "<table border=\"1\" class=\"dataframe\">\n",
       "  <thead>\n",
       "    <tr style=\"text-align: right;\">\n",
       "      <th></th>\n",
       "      <th>Unnamed: 0</th>\n",
       "      <th>日期</th>\n",
       "      <th>销售额</th>\n",
       "      <th>销售人员</th>\n",
       "      <th>城市</th>\n",
       "    </tr>\n",
       "  </thead>\n",
       "  <tbody>\n",
       "    <tr>\n",
       "      <th>0</th>\n",
       "      <td>38H9</td>\n",
       "      <td>2022-01-01</td>\n",
       "      <td>1000</td>\n",
       "      <td>Alice</td>\n",
       "      <td>New York</td>\n",
       "    </tr>\n",
       "    <tr>\n",
       "      <th>1</th>\n",
       "      <td>W9F1</td>\n",
       "      <td>2022-01-02</td>\n",
       "      <td>1500</td>\n",
       "      <td>Bob</td>\n",
       "      <td>San Francisco</td>\n",
       "    </tr>\n",
       "    <tr>\n",
       "      <th>2</th>\n",
       "      <td>KD82</td>\n",
       "      <td>2022-01-03</td>\n",
       "      <td>800</td>\n",
       "      <td>Charlie</td>\n",
       "      <td>New York</td>\n",
       "    </tr>\n",
       "    <tr>\n",
       "      <th>3</th>\n",
       "      <td>004U</td>\n",
       "      <td>2022-01-04</td>\n",
       "      <td>1200</td>\n",
       "      <td>David</td>\n",
       "      <td>San Francisco</td>\n",
       "    </tr>\n",
       "  </tbody>\n",
       "</table>\n",
       "</div>"
      ],
      "text/plain": [
       "  Unnamed: 0          日期   销售额     销售人员             城市\n",
       "0       38H9  2022-01-01  1000    Alice       New York\n",
       "1       W9F1  2022-01-02  1500      Bob  San Francisco\n",
       "2       KD82  2022-01-03   800  Charlie       New York\n",
       "3       004U  2022-01-04  1200    David  San Francisco"
      ]
     },
     "execution_count": 79,
     "metadata": {},
     "output_type": "execute_result"
    }
   ],
   "source": [
    "cleaned_df = pd.read_csv(\"cleaned_sales_data.csv\")\n",
    "cleaned_df"
   ]
  },
  {
   "cell_type": "markdown",
   "id": "88298efe-a064-42c5-a77d-a0d314868592",
   "metadata": {},
   "source": [
    "**你会发现当一个df在经过写入与再读取后会与一开始读取的df不同！<br>这是因为你一开始写入时候原封不动写入，当再读取的时候会默认把你原df中的标签索引解读为没有属性名的列第一行解读为列名**"
   ]
  },
  {
   "cell_type": "markdown",
   "id": "aac6cb17-77b1-427c-94da-5bde784181b9",
   "metadata": {},
   "source": [
    "**所以当你想写入df时候最好不要让df像开头那样的结构**"
   ]
  },
  {
   "cell_type": "markdown",
   "id": "c9dc928d-3410-46ba-b22a-c12914ca9eaa",
   "metadata": {},
   "source": [
    "## 保存方式一"
   ]
  },
  {
   "cell_type": "code",
   "execution_count": 80,
   "id": "5161e67a-8ab5-488f-acf6-7dca25886446",
   "metadata": {},
   "outputs": [
    {
     "data": {
      "text/html": [
       "<div>\n",
       "<style scoped>\n",
       "    .dataframe tbody tr th:only-of-type {\n",
       "        vertical-align: middle;\n",
       "    }\n",
       "\n",
       "    .dataframe tbody tr th {\n",
       "        vertical-align: top;\n",
       "    }\n",
       "\n",
       "    .dataframe thead th {\n",
       "        text-align: right;\n",
       "    }\n",
       "</style>\n",
       "<table border=\"1\" class=\"dataframe\">\n",
       "  <thead>\n",
       "    <tr style=\"text-align: right;\">\n",
       "      <th></th>\n",
       "      <th>销售ID</th>\n",
       "      <th>日期</th>\n",
       "      <th>销售额</th>\n",
       "      <th>销售人员</th>\n",
       "      <th>城市</th>\n",
       "    </tr>\n",
       "  </thead>\n",
       "  <tbody>\n",
       "    <tr>\n",
       "      <th>0</th>\n",
       "      <td>38H9</td>\n",
       "      <td>2022-01-01</td>\n",
       "      <td>1000</td>\n",
       "      <td>Alice</td>\n",
       "      <td>New York</td>\n",
       "    </tr>\n",
       "    <tr>\n",
       "      <th>1</th>\n",
       "      <td>W9F1</td>\n",
       "      <td>2022-01-02</td>\n",
       "      <td>1500</td>\n",
       "      <td>Bob</td>\n",
       "      <td>San Francisco</td>\n",
       "    </tr>\n",
       "    <tr>\n",
       "      <th>2</th>\n",
       "      <td>KD82</td>\n",
       "      <td>2022-01-03</td>\n",
       "      <td>800</td>\n",
       "      <td>Charlie</td>\n",
       "      <td>New York</td>\n",
       "    </tr>\n",
       "    <tr>\n",
       "      <th>3</th>\n",
       "      <td>004U</td>\n",
       "      <td>2022-01-04</td>\n",
       "      <td>1200</td>\n",
       "      <td>David</td>\n",
       "      <td>San Francisco</td>\n",
       "    </tr>\n",
       "  </tbody>\n",
       "</table>\n",
       "</div>"
      ],
      "text/plain": [
       "   销售ID          日期   销售额     销售人员             城市\n",
       "0  38H9  2022-01-01  1000    Alice       New York\n",
       "1  W9F1  2022-01-02  1500      Bob  San Francisco\n",
       "2  KD82  2022-01-03   800  Charlie       New York\n",
       "3  004U  2022-01-04  1200    David  San Francisco"
      ]
     },
     "execution_count": 80,
     "metadata": {},
     "output_type": "execute_result"
    }
   ],
   "source": [
    "cleaned_df.rename(columns={\"Unnamed: 0\": \"销售ID\"}, inplace=True)\n",
    "cleaned_df"
   ]
  },
  {
   "cell_type": "code",
   "execution_count": 81,
   "id": "474f81bc-c4c2-4d93-949d-d735eccf49d7",
   "metadata": {},
   "outputs": [
    {
     "data": {
      "text/html": [
       "<div>\n",
       "<style scoped>\n",
       "    .dataframe tbody tr th:only-of-type {\n",
       "        vertical-align: middle;\n",
       "    }\n",
       "\n",
       "    .dataframe tbody tr th {\n",
       "        vertical-align: top;\n",
       "    }\n",
       "\n",
       "    .dataframe thead th {\n",
       "        text-align: right;\n",
       "    }\n",
       "</style>\n",
       "<table border=\"1\" class=\"dataframe\">\n",
       "  <thead>\n",
       "    <tr style=\"text-align: right;\">\n",
       "      <th></th>\n",
       "      <th>日期</th>\n",
       "      <th>销售额</th>\n",
       "      <th>销售人员</th>\n",
       "      <th>城市</th>\n",
       "    </tr>\n",
       "    <tr>\n",
       "      <th>销售ID</th>\n",
       "      <th></th>\n",
       "      <th></th>\n",
       "      <th></th>\n",
       "      <th></th>\n",
       "    </tr>\n",
       "  </thead>\n",
       "  <tbody>\n",
       "    <tr>\n",
       "      <th>38H9</th>\n",
       "      <td>2022-01-01</td>\n",
       "      <td>1000</td>\n",
       "      <td>Alice</td>\n",
       "      <td>New York</td>\n",
       "    </tr>\n",
       "    <tr>\n",
       "      <th>W9F1</th>\n",
       "      <td>2022-01-02</td>\n",
       "      <td>1500</td>\n",
       "      <td>Bob</td>\n",
       "      <td>San Francisco</td>\n",
       "    </tr>\n",
       "    <tr>\n",
       "      <th>KD82</th>\n",
       "      <td>2022-01-03</td>\n",
       "      <td>800</td>\n",
       "      <td>Charlie</td>\n",
       "      <td>New York</td>\n",
       "    </tr>\n",
       "    <tr>\n",
       "      <th>004U</th>\n",
       "      <td>2022-01-04</td>\n",
       "      <td>1200</td>\n",
       "      <td>David</td>\n",
       "      <td>San Francisco</td>\n",
       "    </tr>\n",
       "  </tbody>\n",
       "</table>\n",
       "</div>"
      ],
      "text/plain": [
       "              日期   销售额     销售人员             城市\n",
       "销售ID                                          \n",
       "38H9  2022-01-01  1000    Alice       New York\n",
       "W9F1  2022-01-02  1500      Bob  San Francisco\n",
       "KD82  2022-01-03   800  Charlie       New York\n",
       "004U  2022-01-04  1200    David  San Francisco"
      ]
     },
     "execution_count": 81,
     "metadata": {},
     "output_type": "execute_result"
    }
   ],
   "source": [
    "cleaned_df.set_index(\"销售ID\", inplace=True)\n",
    "cleaned_df"
   ]
  },
  {
   "cell_type": "code",
   "execution_count": 88,
   "id": "be237f97-2037-4863-9b35-2154fb5909f2",
   "metadata": {},
   "outputs": [
    {
     "data": {
      "text/html": [
       "<div>\n",
       "<style scoped>\n",
       "    .dataframe tbody tr th:only-of-type {\n",
       "        vertical-align: middle;\n",
       "    }\n",
       "\n",
       "    .dataframe tbody tr th {\n",
       "        vertical-align: top;\n",
       "    }\n",
       "\n",
       "    .dataframe thead th {\n",
       "        text-align: right;\n",
       "    }\n",
       "</style>\n",
       "<table border=\"1\" class=\"dataframe\">\n",
       "  <thead>\n",
       "    <tr style=\"text-align: right;\">\n",
       "      <th></th>\n",
       "      <th>日期</th>\n",
       "      <th>销售额</th>\n",
       "      <th>销售人员</th>\n",
       "      <th>城市</th>\n",
       "    </tr>\n",
       "  </thead>\n",
       "  <tbody>\n",
       "    <tr>\n",
       "      <th>38H9</th>\n",
       "      <td>2022-01-01</td>\n",
       "      <td>1000</td>\n",
       "      <td>Alice</td>\n",
       "      <td>New York</td>\n",
       "    </tr>\n",
       "    <tr>\n",
       "      <th>W9F1</th>\n",
       "      <td>2022-01-02</td>\n",
       "      <td>1500</td>\n",
       "      <td>Bob</td>\n",
       "      <td>San Francisco</td>\n",
       "    </tr>\n",
       "    <tr>\n",
       "      <th>KD82</th>\n",
       "      <td>2022-01-03</td>\n",
       "      <td>800</td>\n",
       "      <td>Charlie</td>\n",
       "      <td>New York</td>\n",
       "    </tr>\n",
       "    <tr>\n",
       "      <th>004U</th>\n",
       "      <td>2022-01-04</td>\n",
       "      <td>1200</td>\n",
       "      <td>David</td>\n",
       "      <td>San Francisco</td>\n",
       "    </tr>\n",
       "  </tbody>\n",
       "</table>\n",
       "</div>"
      ],
      "text/plain": [
       "              日期   销售额     销售人员             城市\n",
       "38H9  2022-01-01  1000    Alice       New York\n",
       "W9F1  2022-01-02  1500      Bob  San Francisco\n",
       "KD82  2022-01-03   800  Charlie       New York\n",
       "004U  2022-01-04  1200    David  San Francisco"
      ]
     },
     "execution_count": 88,
     "metadata": {},
     "output_type": "execute_result"
    }
   ],
   "source": [
    "df111"
   ]
  },
  {
   "cell_type": "markdown",
   "id": "72b36e45-ae9b-4285-95c8-89b74ffcfa04",
   "metadata": {},
   "source": [
    "*把清理后的df写入文件时候可以像开头那样写入默认的地址，也可以指定地址：用新建一个文件/选择一个无用文件的文件地址*"
   ]
  },
  {
   "cell_type": "code",
   "execution_count": 84,
   "id": "a47d4eed-2237-4920-bac0-b95fbcd7f7c4",
   "metadata": {},
   "outputs": [],
   "source": [
    "cleaned_df.to_csv(r\"F:\\BaiduNetdiskDownload\\数据分析课程操作的文件\\04数据评估与清洗篇\\cleaned_sales_data2.csv.txt\")"
   ]
  },
  {
   "cell_type": "code",
   "execution_count": 85,
   "id": "2a988f16-fc80-4c2d-bb2c-10d5ab6a99a6",
   "metadata": {},
   "outputs": [
    {
     "data": {
      "text/html": [
       "<div>\n",
       "<style scoped>\n",
       "    .dataframe tbody tr th:only-of-type {\n",
       "        vertical-align: middle;\n",
       "    }\n",
       "\n",
       "    .dataframe tbody tr th {\n",
       "        vertical-align: top;\n",
       "    }\n",
       "\n",
       "    .dataframe thead th {\n",
       "        text-align: right;\n",
       "    }\n",
       "</style>\n",
       "<table border=\"1\" class=\"dataframe\">\n",
       "  <thead>\n",
       "    <tr style=\"text-align: right;\">\n",
       "      <th></th>\n",
       "      <th>销售ID</th>\n",
       "      <th>日期</th>\n",
       "      <th>销售额</th>\n",
       "      <th>销售人员</th>\n",
       "      <th>城市</th>\n",
       "    </tr>\n",
       "  </thead>\n",
       "  <tbody>\n",
       "    <tr>\n",
       "      <th>0</th>\n",
       "      <td>38H9</td>\n",
       "      <td>2022-01-01</td>\n",
       "      <td>1000</td>\n",
       "      <td>Alice</td>\n",
       "      <td>New York</td>\n",
       "    </tr>\n",
       "    <tr>\n",
       "      <th>1</th>\n",
       "      <td>W9F1</td>\n",
       "      <td>2022-01-02</td>\n",
       "      <td>1500</td>\n",
       "      <td>Bob</td>\n",
       "      <td>San Francisco</td>\n",
       "    </tr>\n",
       "    <tr>\n",
       "      <th>2</th>\n",
       "      <td>KD82</td>\n",
       "      <td>2022-01-03</td>\n",
       "      <td>800</td>\n",
       "      <td>Charlie</td>\n",
       "      <td>New York</td>\n",
       "    </tr>\n",
       "    <tr>\n",
       "      <th>3</th>\n",
       "      <td>004U</td>\n",
       "      <td>2022-01-04</td>\n",
       "      <td>1200</td>\n",
       "      <td>David</td>\n",
       "      <td>San Francisco</td>\n",
       "    </tr>\n",
       "  </tbody>\n",
       "</table>\n",
       "</div>"
      ],
      "text/plain": [
       "   销售ID          日期   销售额     销售人员             城市\n",
       "0  38H9  2022-01-01  1000    Alice       New York\n",
       "1  W9F1  2022-01-02  1500      Bob  San Francisco\n",
       "2  KD82  2022-01-03   800  Charlie       New York\n",
       "3  004U  2022-01-04  1200    David  San Francisco"
      ]
     },
     "execution_count": 85,
     "metadata": {},
     "output_type": "execute_result"
    }
   ],
   "source": [
    "df222 = pd.read_csv(r\"F:\\BaiduNetdiskDownload\\数据分析课程操作的文件\\04数据评估与清洗篇\\cleaned_sales_data2.csv.txt\")\n",
    "df222"
   ]
  },
  {
   "cell_type": "markdown",
   "id": "3b457066-fb2e-4e57-95d8-cf5cc740001e",
   "metadata": {},
   "source": [
    "## 保存方式二"
   ]
  },
  {
   "cell_type": "code",
   "execution_count": 89,
   "id": "bd8c5c6a-3fcd-4d10-a0d9-a332fdd04304",
   "metadata": {},
   "outputs": [
    {
     "data": {
      "text/html": [
       "<div>\n",
       "<style scoped>\n",
       "    .dataframe tbody tr th:only-of-type {\n",
       "        vertical-align: middle;\n",
       "    }\n",
       "\n",
       "    .dataframe tbody tr th {\n",
       "        vertical-align: top;\n",
       "    }\n",
       "\n",
       "    .dataframe thead th {\n",
       "        text-align: right;\n",
       "    }\n",
       "</style>\n",
       "<table border=\"1\" class=\"dataframe\">\n",
       "  <thead>\n",
       "    <tr style=\"text-align: right;\">\n",
       "      <th></th>\n",
       "      <th>日期</th>\n",
       "      <th>销售额</th>\n",
       "      <th>销售人员</th>\n",
       "      <th>城市</th>\n",
       "    </tr>\n",
       "  </thead>\n",
       "  <tbody>\n",
       "    <tr>\n",
       "      <th>38H9</th>\n",
       "      <td>2022-01-01</td>\n",
       "      <td>1000</td>\n",
       "      <td>Alice</td>\n",
       "      <td>New York</td>\n",
       "    </tr>\n",
       "    <tr>\n",
       "      <th>W9F1</th>\n",
       "      <td>2022-01-02</td>\n",
       "      <td>1500</td>\n",
       "      <td>Bob</td>\n",
       "      <td>San Francisco</td>\n",
       "    </tr>\n",
       "    <tr>\n",
       "      <th>KD82</th>\n",
       "      <td>2022-01-03</td>\n",
       "      <td>800</td>\n",
       "      <td>Charlie</td>\n",
       "      <td>New York</td>\n",
       "    </tr>\n",
       "    <tr>\n",
       "      <th>004U</th>\n",
       "      <td>2022-01-04</td>\n",
       "      <td>1200</td>\n",
       "      <td>David</td>\n",
       "      <td>San Francisco</td>\n",
       "    </tr>\n",
       "  </tbody>\n",
       "</table>\n",
       "</div>"
      ],
      "text/plain": [
       "              日期   销售额     销售人员             城市\n",
       "38H9  2022-01-01  1000    Alice       New York\n",
       "W9F1  2022-01-02  1500      Bob  San Francisco\n",
       "KD82  2022-01-03   800  Charlie       New York\n",
       "004U  2022-01-04  1200    David  San Francisco"
      ]
     },
     "execution_count": 89,
     "metadata": {},
     "output_type": "execute_result"
    }
   ],
   "source": [
    "df111.to_csv(\"cleaned_sales_data3.csv\", index=False)\n",
    "df111"
   ]
  },
  {
   "cell_type": "code",
   "execution_count": 87,
   "id": "c64c2150-47b1-4c43-9bae-910e97395b4b",
   "metadata": {},
   "outputs": [
    {
     "data": {
      "text/html": [
       "<div>\n",
       "<style scoped>\n",
       "    .dataframe tbody tr th:only-of-type {\n",
       "        vertical-align: middle;\n",
       "    }\n",
       "\n",
       "    .dataframe tbody tr th {\n",
       "        vertical-align: top;\n",
       "    }\n",
       "\n",
       "    .dataframe thead th {\n",
       "        text-align: right;\n",
       "    }\n",
       "</style>\n",
       "<table border=\"1\" class=\"dataframe\">\n",
       "  <thead>\n",
       "    <tr style=\"text-align: right;\">\n",
       "      <th></th>\n",
       "      <th>日期</th>\n",
       "      <th>销售额</th>\n",
       "      <th>销售人员</th>\n",
       "      <th>城市</th>\n",
       "    </tr>\n",
       "  </thead>\n",
       "  <tbody>\n",
       "    <tr>\n",
       "      <th>0</th>\n",
       "      <td>2022-01-01</td>\n",
       "      <td>1000</td>\n",
       "      <td>Alice</td>\n",
       "      <td>New York</td>\n",
       "    </tr>\n",
       "    <tr>\n",
       "      <th>1</th>\n",
       "      <td>2022-01-02</td>\n",
       "      <td>1500</td>\n",
       "      <td>Bob</td>\n",
       "      <td>San Francisco</td>\n",
       "    </tr>\n",
       "    <tr>\n",
       "      <th>2</th>\n",
       "      <td>2022-01-03</td>\n",
       "      <td>800</td>\n",
       "      <td>Charlie</td>\n",
       "      <td>New York</td>\n",
       "    </tr>\n",
       "    <tr>\n",
       "      <th>3</th>\n",
       "      <td>2022-01-04</td>\n",
       "      <td>1200</td>\n",
       "      <td>David</td>\n",
       "      <td>San Francisco</td>\n",
       "    </tr>\n",
       "  </tbody>\n",
       "</table>\n",
       "</div>"
      ],
      "text/plain": [
       "           日期   销售额     销售人员             城市\n",
       "0  2022-01-01  1000    Alice       New York\n",
       "1  2022-01-02  1500      Bob  San Francisco\n",
       "2  2022-01-03   800  Charlie       New York\n",
       "3  2022-01-04  1200    David  San Francisco"
      ]
     },
     "execution_count": 87,
     "metadata": {},
     "output_type": "execute_result"
    }
   ],
   "source": [
    "cleaned_df_without_index = pd.read_csv(\"cleaned_sales_data3.csv\")\n",
    "cleaned_df_without_index"
   ]
  },
  {
   "cell_type": "code",
   "execution_count": null,
   "id": "8d57d48d-374b-4517-9bb7-ab6a1f5243fe",
   "metadata": {},
   "outputs": [],
   "source": []
  }
 ],
 "metadata": {
  "kernelspec": {
   "display_name": "Python 3 (ipykernel)",
   "language": "python",
   "name": "python3"
  },
  "language_info": {
   "codemirror_mode": {
    "name": "ipython",
    "version": 3
   },
   "file_extension": ".py",
   "mimetype": "text/x-python",
   "name": "python",
   "nbconvert_exporter": "python",
   "pygments_lexer": "ipython3",
   "version": "3.12.0"
  }
 },
 "nbformat": 4,
 "nbformat_minor": 5
}
