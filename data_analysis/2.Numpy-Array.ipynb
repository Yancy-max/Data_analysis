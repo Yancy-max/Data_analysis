{
 "cells": [
  {
   "cell_type": "code",
   "execution_count": 1,
   "id": "302aa43e-0ecb-4da7-a59d-20b6e7cd76d2",
   "metadata": {},
   "outputs": [],
   "source": [
    "import numpy as np"
   ]
  },
  {
   "cell_type": "markdown",
   "id": "6d803470-1dfe-42ce-8ee2-8273f9c7d825",
   "metadata": {},
   "source": [
    "**numerical python即numpy库提供N维数组这个数据结构：ND array.**<br>\n",
    "numpy的数组与python内置列表都可以:1.下标进行索引2.切片操作3.for迭代<br>但是numpy数组内数据类型必须一致而列表无需，numpy数组中的数据运算效率更高并提供计算标准差等多种数据处理的函数"
   ]
  },
  {
   "cell_type": "markdown",
   "id": "ea82f4bd-c6fc-480c-96da-1fb8c4dbe5c6",
   "metadata": {},
   "source": [
    "**创建n维数组(几个方括号就是几维数组)**"
   ]
  },
  {
   "cell_type": "code",
   "execution_count": 2,
   "id": "6c787a28-be00-43a4-8f35-2cec29b090a8",
   "metadata": {},
   "outputs": [],
   "source": [
    "arr1 = np.array([1,2,3])"
   ]
  },
  {
   "cell_type": "code",
   "execution_count": 3,
   "id": "55298a5a-c463-4457-a3bb-9ab13a56ee59",
   "metadata": {},
   "outputs": [
    {
     "data": {
      "text/plain": [
       "array([1, 2, 3])"
      ]
     },
     "execution_count": 3,
     "metadata": {},
     "output_type": "execute_result"
    }
   ],
   "source": [
    "arr1"
   ]
  },
  {
   "cell_type": "code",
   "execution_count": 4,
   "id": "937dae0a-1443-4cee-9927-f2cfbc4e5dac",
   "metadata": {},
   "outputs": [],
   "source": [
    "arr2 = np.array([[1,2,3],[4,5,6]])"
   ]
  },
  {
   "cell_type": "code",
   "execution_count": 5,
   "id": "91d35f56-5cb9-44de-b081-149bb3db2dab",
   "metadata": {},
   "outputs": [
    {
     "data": {
      "text/plain": [
       "array([[1, 2, 3],\n",
       "       [4, 5, 6]])"
      ]
     },
     "execution_count": 5,
     "metadata": {},
     "output_type": "execute_result"
    }
   ],
   "source": [
    "arr2"
   ]
  },
  {
   "cell_type": "markdown",
   "id": "d7897fe3-33cf-4eee-b891-dec3c204df88",
   "metadata": {},
   "source": [
    "**shape返回一个元组告诉你数组中：1维数组中一行有几列，列数作为唯一元素显示在元组中也要加,！ 2维数组中有几行几列 3维数组中深度（Z轴）多少几行几列**"
   ]
  },
  {
   "cell_type": "code",
   "execution_count": 6,
   "id": "94743f90-f0da-47f9-a261-f2281e34e1d7",
   "metadata": {},
   "outputs": [
    {
     "name": "stdout",
     "output_type": "stream",
     "text": [
      "(3,)\n"
     ]
    }
   ],
   "source": [
    "print(arr1.shape)"
   ]
  },
  {
   "cell_type": "code",
   "execution_count": 7,
   "id": "f9ecf8c7-7be6-4311-bc47-1774dfe5904d",
   "metadata": {},
   "outputs": [
    {
     "name": "stdout",
     "output_type": "stream",
     "text": [
      "(2, 3)\n"
     ]
    }
   ],
   "source": [
    "print(arr2.shape)"
   ]
  },
  {
   "cell_type": "markdown",
   "id": "fce84beb-6ce9-4b3d-9678-4fc4f77ac19d",
   "metadata": {},
   "source": [
    "**nidm告诉你数组的维度**"
   ]
  },
  {
   "cell_type": "code",
   "execution_count": 8,
   "id": "f016006b-8794-46e5-86dc-8d13208cc85d",
   "metadata": {},
   "outputs": [
    {
     "name": "stdout",
     "output_type": "stream",
     "text": [
      "1\n"
     ]
    }
   ],
   "source": [
    "print(arr1.ndim)"
   ]
  },
  {
   "cell_type": "code",
   "execution_count": 9,
   "id": "49a6e27a-42ba-44a3-91ba-7689d7b1a13b",
   "metadata": {},
   "outputs": [
    {
     "name": "stdout",
     "output_type": "stream",
     "text": [
      "2\n"
     ]
    }
   ],
   "source": [
    "print(arr2.ndim)"
   ]
  },
  {
   "cell_type": "markdown",
   "id": "6c9ece5a-9133-4179-b3b8-64538e832aa8",
   "metadata": {},
   "source": [
    "**dtype告诉你数组中数据的类型**"
   ]
  },
  {
   "cell_type": "code",
   "execution_count": 10,
   "id": "15456f90-8c0a-4d67-b3dc-65207f4624c7",
   "metadata": {},
   "outputs": [
    {
     "name": "stdout",
     "output_type": "stream",
     "text": [
      "int64\n"
     ]
    }
   ],
   "source": [
    "print(arr2.dtype)"
   ]
  },
  {
   "cell_type": "markdown",
   "id": "48ff51fb-eb77-4fa0-9219-2e497305ed52",
   "metadata": {},
   "source": [
    "**除了手动创建数组还可以 ones zeros arange创建数组，要注意括号层数(只要你想创建的数组超过一维，第一个参数就必须是一个元组！)！！**"
   ]
  },
  {
   "cell_type": "markdown",
   "id": "1dba0d05-7939-4946-8707-b03a8cdb0627",
   "metadata": {},
   "source": [
    "*创建一维(一行几列)与二维（几行几列）全1数组，默认浮点型*"
   ]
  },
  {
   "cell_type": "code",
   "execution_count": 11,
   "id": "eaac2c04-f210-489b-a071-e11306ba66c2",
   "metadata": {},
   "outputs": [
    {
     "name": "stdout",
     "output_type": "stream",
     "text": [
      "[1. 1. 1. 1.]\n"
     ]
    }
   ],
   "source": [
    "print(np.ones(4))"
   ]
  },
  {
   "cell_type": "code",
   "execution_count": 12,
   "id": "1e724e4a-99b5-4025-91f0-5fa99e8f42a4",
   "metadata": {},
   "outputs": [
    {
     "name": "stdout",
     "output_type": "stream",
     "text": [
      "[[1. 1. 1. 1.]\n",
      " [1. 1. 1. 1.]]\n"
     ]
    }
   ],
   "source": [
    "print(np.ones((2,4)))"
   ]
  },
  {
   "cell_type": "markdown",
   "id": "975e562e-9413-4f11-a1f5-ac54d61f05de",
   "metadata": {},
   "source": [
    "*创建一维与二维（几行几列）全0数组，默认浮点型*"
   ]
  },
  {
   "cell_type": "code",
   "execution_count": 13,
   "id": "1814d687-1034-48f0-aee7-98159daf0672",
   "metadata": {},
   "outputs": [
    {
     "name": "stdout",
     "output_type": "stream",
     "text": [
      "[0. 0. 0. 0.]\n"
     ]
    }
   ],
   "source": [
    "print(np.zeros(4))"
   ]
  },
  {
   "cell_type": "code",
   "execution_count": 14,
   "id": "8ba6074d-01e1-4f4d-bf65-85f660ec7f1c",
   "metadata": {},
   "outputs": [
    {
     "name": "stdout",
     "output_type": "stream",
     "text": [
      "[[0. 0. 0. 0.]\n",
      " [0. 0. 0. 0.]]\n"
     ]
    }
   ],
   "source": [
    "print(np.zeros((2,4)))"
   ]
  },
  {
   "cell_type": "markdown",
   "id": "07f51753-f0fb-484e-a94a-d9816e73b4a4",
   "metadata": {},
   "source": [
    "*创建等差数组(左闭右开)与步长*"
   ]
  },
  {
   "cell_type": "code",
   "execution_count": 15,
   "id": "016d4ded-928f-4bab-bff0-42462fd2e57c",
   "metadata": {},
   "outputs": [
    {
     "name": "stdout",
     "output_type": "stream",
     "text": [
      "[5 7 9]\n"
     ]
    }
   ],
   "source": [
    "print(np.arange(5,11,2))"
   ]
  },
  {
   "cell_type": "code",
   "execution_count": 16,
   "id": "8c31acbd-eb59-4557-8369-6270617fdf5e",
   "metadata": {},
   "outputs": [
    {
     "name": "stdout",
     "output_type": "stream",
     "text": [
      "[5.  5.5 6.  6.5 7.  7.5]\n"
     ]
    }
   ],
   "source": [
    "print(np.arange(5,8,0.5))"
   ]
  },
  {
   "cell_type": "markdown",
   "id": "82a174e5-f77c-4125-998b-d17341ccebde",
   "metadata": {
    "jp-MarkdownHeadingCollapsed": true
   },
   "source": [
    "# Numpy-数组array练习"
   ]
  },
  {
   "cell_type": "markdown",
   "id": "9e6ddaec-3740-441f-ba35-b9177eda49df",
   "metadata": {},
   "source": [
    "必须把import部分代码给他运行成功之后下面对numpy的使用才不会报错"
   ]
  },
  {
   "cell_type": "code",
   "execution_count": 17,
   "id": "f35d5642-ad26-4d19-b80c-e64b02b97618",
   "metadata": {},
   "outputs": [],
   "source": [
    "import numpy as np"
   ]
  },
  {
   "cell_type": "markdown",
   "id": "07c4defe-d08e-4ebb-b5f5-72bb82f8da26",
   "metadata": {},
   "source": [
    "**创建一个变量名为 arr1 的一维数组，里面的元素为整数6、2、-7、2、8、-2、1。创建后输出 arr1。**\n",
    "*注意：同意单元格内各行交互式指令都会执行但只会显示最后一行指令,要想全部显示则需print*"
   ]
  },
  {
   "cell_type": "code",
   "execution_count": 18,
   "id": "83b6d193-70e4-4b2c-a6da-a43e5022035e",
   "metadata": {},
   "outputs": [
    {
     "data": {
      "text/plain": [
       "array([ 6,  2, -7,  2,  8, -2,  1])"
      ]
     },
     "execution_count": 18,
     "metadata": {},
     "output_type": "execute_result"
    }
   ],
   "source": [
    "arr1 = np.array([6,2,-7,2,8,-2,1])\n",
    "a = 3\n",
    "a\n",
    "arr1"
   ]
  },
  {
   "cell_type": "markdown",
   "id": "56b09454-9fc4-4e76-b502-b6b8335a0e48",
   "metadata": {},
   "source": [
    "**创建一个变量名为 arr2 的二维数组，里面的元素为以下两个数组：由整数1、3、5组成的一维数组，以及由整数2、4、6组成的一维数组。创建后输出 arr2**"
   ]
  },
  {
   "cell_type": "code",
   "execution_count": 19,
   "id": "cb5bd2ed-d12a-4c5c-ab31-6c222590b226",
   "metadata": {},
   "outputs": [
    {
     "name": "stdout",
     "output_type": "stream",
     "text": [
      "3\n"
     ]
    },
    {
     "data": {
      "text/plain": [
       "array([[1, 3, 5],\n",
       "       [2, 4, 6]])"
      ]
     },
     "execution_count": 19,
     "metadata": {},
     "output_type": "execute_result"
    }
   ],
   "source": [
    "arr2 = np.array([[1,3,5],[2,4,6]])\n",
    "a=3\n",
    "print(a)\n",
    "arr2"
   ]
  },
  {
   "cell_type": "markdown",
   "id": "242f0751-dce7-4bb9-a503-a8b55bad2010",
   "metadata": {},
   "source": [
    "**分别打印 arr1 和 arr2 的维度、形状（显示为元组，元组中单个元素也要加,）、元素数量、元素类型。**"
   ]
  },
  {
   "cell_type": "code",
   "execution_count": 20,
   "id": "07298f14-5a23-4517-9686-afa8c3fee916",
   "metadata": {},
   "outputs": [
    {
     "name": "stdout",
     "output_type": "stream",
     "text": [
      "1\n",
      "2\n",
      "(7,)\n",
      "(2, 3)\n",
      "7\n",
      "6\n",
      "int64\n",
      "int64\n"
     ]
    }
   ],
   "source": [
    "print(arr1.ndim)\n",
    "print(arr2.ndim)\n",
    "print(arr1.shape)\n",
    "print(arr2.shape)\n",
    "print(arr1.size)\n",
    "print(arr2.size)\n",
    "print(arr1.dtype)\n",
    "print(arr2.dtype)"
   ]
  },
  {
   "cell_type": "markdown",
   "id": "87c8f705-f576-44b2-8319-adae5974eb37",
   "metadata": {},
   "source": [
    "**创建一个变量名为 arr_all_0 的一维数组，里面的元素为6个0，并输出。**"
   ]
  },
  {
   "cell_type": "code",
   "execution_count": 21,
   "id": "39077f78-17df-40f9-aff4-6decfeff6c30",
   "metadata": {},
   "outputs": [
    {
     "data": {
      "text/plain": [
       "array([0., 0., 0., 0., 0., 0.])"
      ]
     },
     "execution_count": 21,
     "metadata": {},
     "output_type": "execute_result"
    }
   ],
   "source": [
    "arr_all_0 = np.zeros(6)\n",
    "arr_all_0"
   ]
  },
  {
   "cell_type": "markdown",
   "id": "0dd05916-c5ee-49c6-8c20-0e8fe346553b",
   "metadata": {},
   "source": [
    "**创建一个变量名为 arr_all_1 的一维数组，里面的元素为6个1，并输出数字后有.表示为浮点型**"
   ]
  },
  {
   "cell_type": "code",
   "execution_count": 22,
   "id": "90cd1549-c732-46a9-8cc1-a4cf771f501b",
   "metadata": {},
   "outputs": [
    {
     "data": {
      "text/plain": [
       "array([1., 1., 1., 1., 1., 1.])"
      ]
     },
     "execution_count": 22,
     "metadata": {},
     "output_type": "execute_result"
    }
   ],
   "source": [
    "arr_all_1 = np.ones(6)\n",
    "arr_all_1"
   ]
  },
  {
   "cell_type": "markdown",
   "id": "13a8a5a6-8323-4f03-a9fa-f0e7027304da",
   "metadata": {},
   "source": [
    "**创建一个变量名为 arr_even 的一维数组，里面的元素为10（包括10）到20（包括20）之间的偶数，并输出。**"
   ]
  },
  {
   "cell_type": "code",
   "execution_count": 23,
   "id": "e2db189c-b448-47b4-8010-766be7ca99bc",
   "metadata": {},
   "outputs": [
    {
     "data": {
      "text/plain": [
       "array([10, 12, 14, 16, 18, 20])"
      ]
     },
     "execution_count": 23,
     "metadata": {},
     "output_type": "execute_result"
    }
   ],
   "source": [
    "arr_even = np.arange(10,21,2)\n",
    "arr_even"
   ]
  },
  {
   "cell_type": "markdown",
   "id": "e5864c05-bd4c-43a0-852f-37b20e626061",
   "metadata": {
    "jp-MarkdownHeadingCollapsed": true
   },
   "source": [
    "# array数组的操作"
   ]
  },
  {
   "cell_type": "markdown",
   "id": "f3d02df3-ea94-4854-b52b-99a9e3a0e0ac",
   "metadata": {
    "jp-MarkdownHeadingCollapsed": true
   },
   "source": [
    "## 数组连接 np.concatenate"
   ]
  },
  {
   "cell_type": "code",
   "execution_count": 24,
   "id": "1b8d4550-55f9-439c-a9f0-545d793f04e7",
   "metadata": {},
   "outputs": [],
   "source": [
    "import numpy as np\n",
    "arr1 = np.array([2,3,4,5])\n",
    "arr2 = np.zeros(2)\n",
    "arr3 = np.ones(3)"
   ]
  },
  {
   "cell_type": "markdown",
   "id": "86c23367-4142-44a9-b384-c2f8bcce7033",
   "metadata": {},
   "source": [
    "*因为数组中数据类型必须统一故整数数组+浮点型数组为浮点型数组*"
   ]
  },
  {
   "cell_type": "code",
   "execution_count": 25,
   "id": "e97e36b7-f942-4bd8-bab8-6670ab72215d",
   "metadata": {},
   "outputs": [
    {
     "name": "stdout",
     "output_type": "stream",
     "text": [
      "[2. 3. 4. 5. 0. 0. 1. 1. 1.]\n"
     ]
    }
   ],
   "source": [
    "print(np.concatenate([arr1,arr2,arr3]))"
   ]
  },
  {
   "cell_type": "markdown",
   "id": "37a99858-f678-4ffa-ae2b-f5d3f2a29007",
   "metadata": {
    "jp-MarkdownHeadingCollapsed": true
   },
   "source": [
    "## 数组的排序 "
   ]
  },
  {
   "cell_type": "markdown",
   "id": "aa544221-4a77-4916-b4e1-b9a29f96ab10",
   "metadata": {},
   "source": [
    "np.sort(arr)不改变数组-列表中sorted(list)  arr.sort()改变数组-列表中list.sort()"
   ]
  },
  {
   "cell_type": "code",
   "execution_count": 26,
   "id": "61170d71-8451-4f57-8121-1915cedb2881",
   "metadata": {},
   "outputs": [
    {
     "name": "stdout",
     "output_type": "stream",
     "text": [
      "[-4  1  2  5  7  9]\n"
     ]
    },
    {
     "data": {
      "text/plain": [
       "array([ 2,  5,  1,  9,  7, -4])"
      ]
     },
     "execution_count": 26,
     "metadata": {},
     "output_type": "execute_result"
    }
   ],
   "source": [
    "arr = np.array([2,5,1,9,7,-4])\n",
    "print(np.sort(arr))\n",
    "arr"
   ]
  },
  {
   "cell_type": "code",
   "execution_count": 27,
   "id": "bf5a4fca-7371-4eda-a5b0-9b229f9a39b2",
   "metadata": {},
   "outputs": [
    {
     "data": {
      "text/plain": [
       "array([-4,  1,  2,  5,  7,  9])"
      ]
     },
     "execution_count": 27,
     "metadata": {},
     "output_type": "execute_result"
    }
   ],
   "source": [
    "arr.sort()\n",
    "arr"
   ]
  },
  {
   "cell_type": "markdown",
   "id": "ac5d4145-d75b-4c34-9dab-c72614afb6b0",
   "metadata": {
    "jp-MarkdownHeadingCollapsed": true
   },
   "source": [
    "## 数组索引"
   ]
  },
  {
   "cell_type": "code",
   "execution_count": 28,
   "id": "487cd79b-6076-4722-8544-e170cd2eeec1",
   "metadata": {},
   "outputs": [],
   "source": [
    "arr3 = np.array([3,34,56,74,4]) "
   ]
  },
  {
   "cell_type": "markdown",
   "id": "f24fa0a4-2d41-4ac7-b52d-7561636919f6",
   "metadata": {},
   "source": [
    "*注意在jupyter中写代码时如果数组的定义与数组的操作不在同一个单元格内时候一定要把数组定义的那个单元格先运行后再去运行数组操作的那个单元格否则nameerror*\n",
    "<br>此外如果在jupyter中出现两个同名的数组，你之前用arr3命名过np.ones(3)并且运行过它，你忘记在运行这里的arr3去覆盖原先数据那么下面的操作对象将会是上面的arr3，产生索引错误,同样当你覆盖掉原先的arr3后你在去执行原先相配套操作后操作，对象就又不同了"
   ]
  },
  {
   "cell_type": "code",
   "execution_count": 29,
   "id": "395f62e7-94fd-41fc-9c41-7cd1f3890baa",
   "metadata": {},
   "outputs": [
    {
     "name": "stdout",
     "output_type": "stream",
     "text": [
      "3\n",
      "4\n",
      "4\n",
      "74\n"
     ]
    }
   ],
   "source": [
    "print(arr3[0])\n",
    "print(arr3[4])\n",
    "print(arr3[-1])\n",
    "print(arr3[-2])"
   ]
  },
  {
   "cell_type": "markdown",
   "id": "675eeaf8-f364-4c59-a4e8-4621430066ca",
   "metadata": {},
   "source": [
    "数组切片[a:b]:数组的第a+1个元素到第b个元素（依旧左闭右开）"
   ]
  },
  {
   "cell_type": "code",
   "execution_count": 30,
   "id": "3882576b-a5c5-4f8e-bcde-d1fdd9998c32",
   "metadata": {},
   "outputs": [
    {
     "name": "stdout",
     "output_type": "stream",
     "text": [
      "[ 3 34 56 74  4]\n"
     ]
    }
   ],
   "source": [
    "print(arr3[0:5])"
   ]
  },
  {
   "cell_type": "markdown",
   "id": "4b7fa18f-17a3-4561-81a2-ec5b50d04f72",
   "metadata": {
    "jp-MarkdownHeadingCollapsed": true
   },
   "source": [
    "## 数组运算"
   ]
  },
  {
   "cell_type": "markdown",
   "id": "d1223ce4-f18f-4e09-bdc9-3d1cdbffd2ab",
   "metadata": {},
   "source": [
    "*这样定义数组是错误的，你定义的是列表而非数组！！*"
   ]
  },
  {
   "cell_type": "code",
   "execution_count": 31,
   "id": "3d2085a6-3614-4f7a-88fd-2d8f11fe92a2",
   "metadata": {},
   "outputs": [],
   "source": [
    "arr1 = [1,2,3]\n",
    "arr2 = [1,1,1]"
   ]
  },
  {
   "cell_type": "code",
   "execution_count": 32,
   "id": "5d8e1a8f-7970-4482-a467-205f7105e43c",
   "metadata": {},
   "outputs": [
    {
     "name": "stdout",
     "output_type": "stream",
     "text": [
      "[1, 2, 3, 1, 1, 1]\n"
     ]
    }
   ],
   "source": [
    "print(arr1+arr2)"
   ]
  },
  {
   "cell_type": "code",
   "execution_count": 33,
   "id": "0bf332d0-9cc5-4a56-83b9-ac15320373fd",
   "metadata": {},
   "outputs": [
    {
     "data": {
      "text/plain": [
       "[1, 2, 3, 1, 1, 1]"
      ]
     },
     "execution_count": 33,
     "metadata": {},
     "output_type": "execute_result"
    }
   ],
   "source": [
    "arr1+arr2"
   ]
  },
  {
   "cell_type": "code",
   "execution_count": 34,
   "id": "5923eb42-f7f3-4e81-9748-f66e59671092",
   "metadata": {},
   "outputs": [
    {
     "name": "stdout",
     "output_type": "stream",
     "text": [
      "[1, 2, 3, 1, 2, 3, 1, 2, 3, 1, 2, 3, 1, 2, 3, 1, 2, 3, 1, 2, 3, 1, 2, 3, 1, 2, 3, 1, 2, 3]\n"
     ]
    }
   ],
   "source": [
    "print(arr1 * 10)"
   ]
  },
  {
   "cell_type": "code",
   "execution_count": 35,
   "id": "51396fa7-e19a-437f-b058-08a6717d350c",
   "metadata": {},
   "outputs": [
    {
     "ename": "AttributeError",
     "evalue": "'list' object has no attribute 'max'",
     "output_type": "error",
     "traceback": [
      "\u001b[31m---------------------------------------------------------------------------\u001b[39m",
      "\u001b[31mAttributeError\u001b[39m                            Traceback (most recent call last)",
      "\u001b[36mCell\u001b[39m\u001b[36m \u001b[39m\u001b[32mIn[35]\u001b[39m\u001b[32m, line 1\u001b[39m\n\u001b[32m----> \u001b[39m\u001b[32m1\u001b[39m \u001b[38;5;28mprint\u001b[39m(\u001b[43marr1\u001b[49m\u001b[43m.\u001b[49m\u001b[43mmax\u001b[49m())\n\u001b[32m      2\u001b[39m \u001b[38;5;28mprint\u001b[39m(arr1.min())\n\u001b[32m      3\u001b[39m \u001b[38;5;28mprint\u001b[39m(arr1.sum())\n",
      "\u001b[31mAttributeError\u001b[39m: 'list' object has no attribute 'max'"
     ]
    }
   ],
   "source": [
    "print(arr1.max())\n",
    "print(arr1.min())\n",
    "print(arr1.sum())\n",
    "print(arr1.mean())"
   ]
  },
  {
   "cell_type": "markdown",
   "id": "3e1aa8c6-3bb3-4ee1-af24-ac3067903048",
   "metadata": {},
   "source": [
    "*下面的定义数组方法才是对的，很明显的区别就是相同操作不同结果且数组部分操作不可用于列表会报上述错！！！*"
   ]
  },
  {
   "cell_type": "code",
   "execution_count": 36,
   "id": "aa566192-c37c-4fee-a5db-e24b11ccb3f8",
   "metadata": {},
   "outputs": [],
   "source": [
    "import numpy as np\n",
    "arr1 = np.array([1,2,3])\n",
    "arr2 = np.array([1,1,1])"
   ]
  },
  {
   "cell_type": "code",
   "execution_count": 37,
   "id": "3f311659-de71-4fd8-b0bf-5397a2be65c6",
   "metadata": {},
   "outputs": [
    {
     "name": "stdout",
     "output_type": "stream",
     "text": [
      "[2 3 4]\n",
      "[0 1 2]\n",
      "[1 2 3]\n",
      "[1. 2. 3.]\n"
     ]
    }
   ],
   "source": [
    "print(arr1+arr2)\n",
    "print(arr1-arr2)\n",
    "print(arr1*arr2)\n",
    "print(arr1/arr2)"
   ]
  },
  {
   "cell_type": "code",
   "execution_count": 38,
   "id": "d7737028-be7a-4d06-8586-b7d0b658cf05",
   "metadata": {},
   "outputs": [
    {
     "name": "stdout",
     "output_type": "stream",
     "text": [
      "[10 20 30]\n"
     ]
    }
   ],
   "source": [
    "print(arr1*10)"
   ]
  },
  {
   "cell_type": "code",
   "execution_count": 39,
   "id": "d484fcc6-3ea0-42f9-b01a-e2a8545f9570",
   "metadata": {},
   "outputs": [
    {
     "name": "stdout",
     "output_type": "stream",
     "text": [
      "3\n",
      "1\n",
      "6\n",
      "2.0\n"
     ]
    }
   ],
   "source": [
    "print(arr1.max())\n",
    "print(arr1.min())\n",
    "print(arr1.sum())\n",
    "print(arr1.mean())"
   ]
  },
  {
   "cell_type": "markdown",
   "id": "16b11bad-dfd7-4e16-a5f0-20e0dd0de5c2",
   "metadata": {
    "jp-MarkdownHeadingCollapsed": true
   },
   "source": [
    "## 筛选数组的值"
   ]
  },
  {
   "cell_type": "markdown",
   "id": "db41e859-4ef5-407b-a1c5-3e393201bf9c",
   "metadata": {},
   "source": [
    "注意在jupyter中你定义完一个对象最好在同一个单元格内定义相关操作可保证操作与对象一致，若操作，对象在不同单元格那么一定要记得先运行定义对象后再运行操作，否则会报未定义对象错误/有多个同名对象时会报操作错误"
   ]
  },
  {
   "cell_type": "code",
   "execution_count": 40,
   "id": "7cabd578-902c-4a9a-bc70-79d5142ab40c",
   "metadata": {},
   "outputs": [
    {
     "data": {
      "text/plain": [
       "array([5, 6, 7])"
      ]
     },
     "execution_count": 40,
     "metadata": {},
     "output_type": "execute_result"
    }
   ],
   "source": [
    "arr1 = np.array([1,2,3,4,5,6,7])\n",
    "arr1[arr1>4.5]"
   ]
  },
  {
   "cell_type": "markdown",
   "id": "07e60b10-ac2f-4c91-b94a-f7910f0a64f8",
   "metadata": {},
   "source": [
    "*python中的 and or not 对应数组中的 & | ~*"
   ]
  },
  {
   "cell_type": "code",
   "execution_count": 41,
   "id": "cf5ac954-b5a6-4251-835d-4d9ff7069ac7",
   "metadata": {},
   "outputs": [
    {
     "data": {
      "text/plain": [
       "array([4, 5])"
      ]
     },
     "execution_count": 41,
     "metadata": {},
     "output_type": "execute_result"
    }
   ],
   "source": [
    "arr1[(arr1>3) & (arr1<6)]"
   ]
  },
  {
   "cell_type": "code",
   "execution_count": null,
   "id": "254b3e86-4b80-4812-a1dc-3baa55726b8c",
   "metadata": {},
   "outputs": [],
   "source": []
  },
  {
   "cell_type": "code",
   "execution_count": null,
   "id": "fb0d1899-990a-4b56-9172-ce0d5ae08f54",
   "metadata": {},
   "outputs": [],
   "source": []
  },
  {
   "cell_type": "code",
   "execution_count": null,
   "id": "4bbd3910-93bb-463d-bdce-f83e1577787b",
   "metadata": {},
   "outputs": [],
   "source": []
  },
  {
   "cell_type": "code",
   "execution_count": null,
   "id": "ad25a4aa-df69-4017-869a-92d11a8a491e",
   "metadata": {},
   "outputs": [],
   "source": []
  },
  {
   "cell_type": "code",
   "execution_count": null,
   "id": "a0815cbc-ef21-47a1-a3d5-f1ac26355268",
   "metadata": {},
   "outputs": [],
   "source": []
  },
  {
   "cell_type": "code",
   "execution_count": null,
   "id": "0343c764-a8a8-4505-abca-ae3ec5f49a60",
   "metadata": {},
   "outputs": [],
   "source": []
  },
  {
   "cell_type": "code",
   "execution_count": null,
   "id": "a059f49e-f632-4a5f-b1b6-c3ca8006107f",
   "metadata": {},
   "outputs": [],
   "source": []
  },
  {
   "cell_type": "code",
   "execution_count": null,
   "id": "d540d54e-6f75-4b63-ab54-576993657591",
   "metadata": {},
   "outputs": [],
   "source": []
  }
 ],
 "metadata": {
  "kernelspec": {
   "display_name": "Python 3 (ipykernel)",
   "language": "python",
   "name": "python3"
  },
  "language_info": {
   "codemirror_mode": {
    "name": "ipython",
    "version": 3
   },
   "file_extension": ".py",
   "mimetype": "text/x-python",
   "name": "python",
   "nbconvert_exporter": "python",
   "pygments_lexer": "ipython3",
   "version": "3.12.0"
  }
 },
 "nbformat": 4,
 "nbformat_minor": 5
}
