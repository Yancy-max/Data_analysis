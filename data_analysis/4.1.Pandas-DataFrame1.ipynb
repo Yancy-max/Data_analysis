{
 "cells": [
  {
   "cell_type": "markdown",
   "id": "6641d3ff-47ac-48c5-bb99-7c9db8ef8e5b",
   "metadata": {},
   "source": [
    "**dataframe由多个series组成，不同series中数据类型可不同，单个series中数据类型也可以不同，可看成一个表格,numpy中n维数组必须所有数据类型一致,虽说使用list创建df但是pandas还是会基于list中数据创建出对应的series，df一直都是由series组成！！**"
   ]
  },
  {
   "cell_type": "code",
   "execution_count": 2,
   "id": "1daca88c-6d32-4d4b-8ec7-796966e7fcf6",
   "metadata": {},
   "outputs": [],
   "source": [
    "import pandas as pd"
   ]
  },
  {
   "cell_type": "markdown",
   "id": "32abfcfb-a1dc-472f-9e11-ee132212f3b1",
   "metadata": {},
   "source": [
    "# 创建dataframe-Series+dict"
   ]
  },
  {
   "cell_type": "markdown",
   "id": "d80257fe-a909-4c9d-b82d-8eafb8e010e6",
   "metadata": {},
   "source": [
    "## 方式1"
   ]
  },
  {
   "cell_type": "code",
   "execution_count": 2,
   "id": "49c94a92-8794-46d6-994d-4cfe0d370720",
   "metadata": {},
   "outputs": [],
   "source": [
    "s_id = pd.Series(['01','02','03','04','05'])"
   ]
  },
  {
   "cell_type": "code",
   "execution_count": 3,
   "id": "108ed85d-523a-4c08-a7a8-d001480314d8",
   "metadata": {},
   "outputs": [],
   "source": [
    "s_class = pd.Series(['二班','一班','二班','三班','一班'])"
   ]
  },
  {
   "cell_type": "code",
   "execution_count": 4,
   "id": "419bfb45-b4c4-43a7-a9c9-23f30df55ddf",
   "metadata": {},
   "outputs": [],
   "source": [
    "s_grate = pd.Series([97,88,65,77,84])"
   ]
  },
  {
   "cell_type": "markdown",
   "id": "f2fd8869-8ef1-41d7-9500-e3edb6039c44",
   "metadata": {},
   "source": [
    "注意这里是创建一个series变量，df的一些操作也可以从df中提取出series变量（一列）"
   ]
  },
  {
   "cell_type": "code",
   "execution_count": 5,
   "id": "855050d2-5d27-4e72-aa66-5253f9c8418b",
   "metadata": {},
   "outputs": [
    {
     "data": {
      "text/html": [
       "<div>\n",
       "<style scoped>\n",
       "    .dataframe tbody tr th:only-of-type {\n",
       "        vertical-align: middle;\n",
       "    }\n",
       "\n",
       "    .dataframe tbody tr th {\n",
       "        vertical-align: top;\n",
       "    }\n",
       "\n",
       "    .dataframe thead th {\n",
       "        text-align: right;\n",
       "    }\n",
       "</style>\n",
       "<table border=\"1\" class=\"dataframe\">\n",
       "  <thead>\n",
       "    <tr style=\"text-align: right;\">\n",
       "      <th></th>\n",
       "      <th>学号</th>\n",
       "      <th>班级</th>\n",
       "      <th>成绩</th>\n",
       "    </tr>\n",
       "  </thead>\n",
       "  <tbody>\n",
       "    <tr>\n",
       "      <th>0</th>\n",
       "      <td>01</td>\n",
       "      <td>二班</td>\n",
       "      <td>97</td>\n",
       "    </tr>\n",
       "    <tr>\n",
       "      <th>1</th>\n",
       "      <td>02</td>\n",
       "      <td>一班</td>\n",
       "      <td>88</td>\n",
       "    </tr>\n",
       "    <tr>\n",
       "      <th>2</th>\n",
       "      <td>03</td>\n",
       "      <td>二班</td>\n",
       "      <td>65</td>\n",
       "    </tr>\n",
       "    <tr>\n",
       "      <th>3</th>\n",
       "      <td>04</td>\n",
       "      <td>三班</td>\n",
       "      <td>77</td>\n",
       "    </tr>\n",
       "    <tr>\n",
       "      <th>4</th>\n",
       "      <td>05</td>\n",
       "      <td>一班</td>\n",
       "      <td>84</td>\n",
       "    </tr>\n",
       "  </tbody>\n",
       "</table>\n",
       "</div>"
      ],
      "text/plain": [
       "   学号  班级  成绩\n",
       "0  01  二班  97\n",
       "1  02  一班  88\n",
       "2  03  二班  65\n",
       "3  04  三班  77\n",
       "4  05  一班  84"
      ]
     },
     "execution_count": 5,
     "metadata": {},
     "output_type": "execute_result"
    }
   ],
   "source": [
    "df1 = pd.DataFrame({'学号':s_id,'班级':s_class,'成绩':s_grate})\n",
    "df1"
   ]
  },
  {
   "cell_type": "markdown",
   "id": "352aef18-ce60-465e-b841-7b89ff23adf5",
   "metadata": {},
   "source": [
    "## 方式2-list+dict"
   ]
  },
  {
   "cell_type": "code",
   "execution_count": 6,
   "id": "d86c06ef-68d6-43eb-b134-866374aab3a1",
   "metadata": {},
   "outputs": [],
   "source": [
    "s_id = ['01','02','03','04','05']"
   ]
  },
  {
   "cell_type": "code",
   "execution_count": 7,
   "id": "f743ca86-397c-4305-b47f-0f7b352a76f4",
   "metadata": {},
   "outputs": [],
   "source": [
    "s_class = ['二班','一班','二班','三班','一班']"
   ]
  },
  {
   "cell_type": "code",
   "execution_count": 8,
   "id": "f2ad1533-487f-4911-8185-358ae5268aac",
   "metadata": {},
   "outputs": [],
   "source": [
    "s_grate = [97,88,65,77,84]"
   ]
  },
  {
   "cell_type": "code",
   "execution_count": 47,
   "id": "7cb010d7-9970-48a8-a6f1-86a101f817d9",
   "metadata": {},
   "outputs": [
    {
     "name": "stdout",
     "output_type": "stream",
     "text": [
      "    学号  班级  成绩\n",
      "小米  01  二班  97\n",
      "小季  02  一班  88\n",
      "小邦  03  二班  65\n",
      "小刚  04  三班  77\n",
      "小康  05  一班  84\n"
     ]
    },
    {
     "data": {
      "text/html": [
       "<div>\n",
       "<style scoped>\n",
       "    .dataframe tbody tr th:only-of-type {\n",
       "        vertical-align: middle;\n",
       "    }\n",
       "\n",
       "    .dataframe tbody tr th {\n",
       "        vertical-align: top;\n",
       "    }\n",
       "\n",
       "    .dataframe thead th {\n",
       "        text-align: right;\n",
       "    }\n",
       "</style>\n",
       "<table border=\"1\" class=\"dataframe\">\n",
       "  <thead>\n",
       "    <tr style=\"text-align: right;\">\n",
       "      <th></th>\n",
       "      <th>学号</th>\n",
       "      <th>班级</th>\n",
       "      <th>成绩</th>\n",
       "    </tr>\n",
       "  </thead>\n",
       "  <tbody>\n",
       "    <tr>\n",
       "      <th>小米</th>\n",
       "      <td>01</td>\n",
       "      <td>二班</td>\n",
       "      <td>97</td>\n",
       "    </tr>\n",
       "    <tr>\n",
       "      <th>小季</th>\n",
       "      <td>02</td>\n",
       "      <td>一班</td>\n",
       "      <td>88</td>\n",
       "    </tr>\n",
       "    <tr>\n",
       "      <th>小邦</th>\n",
       "      <td>03</td>\n",
       "      <td>二班</td>\n",
       "      <td>65</td>\n",
       "    </tr>\n",
       "    <tr>\n",
       "      <th>小刚</th>\n",
       "      <td>04</td>\n",
       "      <td>三班</td>\n",
       "      <td>77</td>\n",
       "    </tr>\n",
       "    <tr>\n",
       "      <th>小康</th>\n",
       "      <td>05</td>\n",
       "      <td>一班</td>\n",
       "      <td>84</td>\n",
       "    </tr>\n",
       "  </tbody>\n",
       "</table>\n",
       "</div>"
      ],
      "text/plain": [
       "    学号  班级  成绩\n",
       "小米  01  二班  97\n",
       "小季  02  一班  88\n",
       "小邦  03  二班  65\n",
       "小刚  04  三班  77\n",
       "小康  05  一班  84"
      ]
     },
     "execution_count": 47,
     "metadata": {},
     "output_type": "execute_result"
    }
   ],
   "source": [
    "df2 = pd.DataFrame({'学号':s_id,'班级':s_class,'成绩':s_grate})\n",
    "print(df2)\n",
    "df2"
   ]
  },
  {
   "cell_type": "markdown",
   "id": "7002ccbf-f15b-47d0-9288-2128ae8bd242",
   "metadata": {},
   "source": [
    "## 方式3-创建带标签索引的-每一个series都需要加索引"
   ]
  },
  {
   "cell_type": "code",
   "execution_count": 10,
   "id": "1ebf2991-99a2-4367-a262-55ad1279ed6a",
   "metadata": {},
   "outputs": [],
   "source": [
    "s_id = pd.Series(['01','02','03','04','05'],index=['小米','小季','小邦','小刚','小康'])"
   ]
  },
  {
   "cell_type": "code",
   "execution_count": 11,
   "id": "a4791ee4-5c6a-4264-aeb3-64787499b99a",
   "metadata": {},
   "outputs": [],
   "source": [
    "s_class = pd.Series(['二班','一班','二班','三班','一班'],index=['小米','小季','小邦','小刚','小康'])"
   ]
  },
  {
   "cell_type": "code",
   "execution_count": 12,
   "id": "ad22e086-7d83-4560-b9fa-3e3f607c77d8",
   "metadata": {},
   "outputs": [],
   "source": [
    "s_grate = pd.Series([97,88,65,77,84],index=['小米','小季','小邦','小刚','小康'])"
   ]
  },
  {
   "cell_type": "code",
   "execution_count": 13,
   "id": "23e5cab5-aaf4-41f2-b179-103489b6b85d",
   "metadata": {},
   "outputs": [
    {
     "data": {
      "text/html": [
       "<div>\n",
       "<style scoped>\n",
       "    .dataframe tbody tr th:only-of-type {\n",
       "        vertical-align: middle;\n",
       "    }\n",
       "\n",
       "    .dataframe tbody tr th {\n",
       "        vertical-align: top;\n",
       "    }\n",
       "\n",
       "    .dataframe thead th {\n",
       "        text-align: right;\n",
       "    }\n",
       "</style>\n",
       "<table border=\"1\" class=\"dataframe\">\n",
       "  <thead>\n",
       "    <tr style=\"text-align: right;\">\n",
       "      <th></th>\n",
       "      <th>学号</th>\n",
       "      <th>班级</th>\n",
       "      <th>成绩</th>\n",
       "    </tr>\n",
       "  </thead>\n",
       "  <tbody>\n",
       "    <tr>\n",
       "      <th>小米</th>\n",
       "      <td>01</td>\n",
       "      <td>二班</td>\n",
       "      <td>97</td>\n",
       "    </tr>\n",
       "    <tr>\n",
       "      <th>小季</th>\n",
       "      <td>02</td>\n",
       "      <td>一班</td>\n",
       "      <td>88</td>\n",
       "    </tr>\n",
       "    <tr>\n",
       "      <th>小邦</th>\n",
       "      <td>03</td>\n",
       "      <td>二班</td>\n",
       "      <td>65</td>\n",
       "    </tr>\n",
       "    <tr>\n",
       "      <th>小刚</th>\n",
       "      <td>04</td>\n",
       "      <td>三班</td>\n",
       "      <td>77</td>\n",
       "    </tr>\n",
       "    <tr>\n",
       "      <th>小康</th>\n",
       "      <td>05</td>\n",
       "      <td>一班</td>\n",
       "      <td>84</td>\n",
       "    </tr>\n",
       "  </tbody>\n",
       "</table>\n",
       "</div>"
      ],
      "text/plain": [
       "    学号  班级  成绩\n",
       "小米  01  二班  97\n",
       "小季  02  一班  88\n",
       "小邦  03  二班  65\n",
       "小刚  04  三班  77\n",
       "小康  05  一班  84"
      ]
     },
     "execution_count": 13,
     "metadata": {},
     "output_type": "execute_result"
    }
   ],
   "source": [
    "df3 = pd.DataFrame({'学号':s_id,'班级':s_class,'成绩':s_grate})\n",
    "df3"
   ]
  },
  {
   "cell_type": "markdown",
   "id": "beaf013b-9214-4dea-9e0c-1576443145dc",
   "metadata": {},
   "source": [
    "## 方式4-创建带标签索引的-嵌套dict"
   ]
  },
  {
   "cell_type": "code",
   "execution_count": 3,
   "id": "5fab7ce8-9364-4437-b8b3-fd9966dacec6",
   "metadata": {},
   "outputs": [
    {
     "data": {
      "text/html": [
       "<div>\n",
       "<style scoped>\n",
       "    .dataframe tbody tr th:only-of-type {\n",
       "        vertical-align: middle;\n",
       "    }\n",
       "\n",
       "    .dataframe tbody tr th {\n",
       "        vertical-align: top;\n",
       "    }\n",
       "\n",
       "    .dataframe thead th {\n",
       "        text-align: right;\n",
       "    }\n",
       "</style>\n",
       "<table border=\"1\" class=\"dataframe\">\n",
       "  <thead>\n",
       "    <tr style=\"text-align: right;\">\n",
       "      <th></th>\n",
       "      <th>学号</th>\n",
       "      <th>班级</th>\n",
       "      <th>成绩</th>\n",
       "    </tr>\n",
       "  </thead>\n",
       "  <tbody>\n",
       "    <tr>\n",
       "      <th>小米</th>\n",
       "      <td>01</td>\n",
       "      <td>二班</td>\n",
       "      <td>97</td>\n",
       "    </tr>\n",
       "    <tr>\n",
       "      <th>小季</th>\n",
       "      <td>02</td>\n",
       "      <td>一班</td>\n",
       "      <td>88</td>\n",
       "    </tr>\n",
       "    <tr>\n",
       "      <th>小邦</th>\n",
       "      <td>03</td>\n",
       "      <td>二班</td>\n",
       "      <td>65</td>\n",
       "    </tr>\n",
       "    <tr>\n",
       "      <th>小刚</th>\n",
       "      <td>04</td>\n",
       "      <td>三班</td>\n",
       "      <td>77</td>\n",
       "    </tr>\n",
       "    <tr>\n",
       "      <th>小康</th>\n",
       "      <td>05</td>\n",
       "      <td>一班</td>\n",
       "      <td>84</td>\n",
       "    </tr>\n",
       "  </tbody>\n",
       "</table>\n",
       "</div>"
      ],
      "text/plain": [
       "    学号  班级  成绩\n",
       "小米  01  二班  97\n",
       "小季  02  一班  88\n",
       "小邦  03  二班  65\n",
       "小刚  04  三班  77\n",
       "小康  05  一班  84"
      ]
     },
     "execution_count": 3,
     "metadata": {},
     "output_type": "execute_result"
    }
   ],
   "source": [
    "df4 = pd.DataFrame({\n",
    "    '学号':{'小米':'01','小季':'02','小邦':'03','小刚':'04','小康':'05'},\n",
    "    '班级':{'小米':'二班','小季':'一班','小邦':'二班','小刚':'三班','小康':'一班'},\n",
    "    '成绩':{'小米':97,'小季':88,'小邦':65,'小刚':77,'小康':84},\n",
    "    \n",
    "})\n",
    "df4"
   ]
  },
  {
   "cell_type": "markdown",
   "id": "9a4d0d09-3868-431a-86dd-c70b0b89e595",
   "metadata": {},
   "source": [
    "Python不允许十进制整数以0开头所以要以字符串形式显示'01'"
   ]
  },
  {
   "cell_type": "markdown",
   "id": "aac2757b-ac09-4d31-8ba0-e8051cbc53b3",
   "metadata": {
    "jp-MarkdownHeadingCollapsed": true
   },
   "source": [
    "## 获取索引,列名,值,以及对df进行行列转置"
   ]
  },
  {
   "cell_type": "code",
   "execution_count": 15,
   "id": "5f7178f3-5fbd-4c6f-b6a0-c9515657b09b",
   "metadata": {},
   "outputs": [
    {
     "data": {
      "text/plain": [
       "Index(['小米', '小季', '小邦', '小刚', '小康'], dtype='object')"
      ]
     },
     "execution_count": 15,
     "metadata": {},
     "output_type": "execute_result"
    }
   ],
   "source": [
    "df4.index"
   ]
  },
  {
   "cell_type": "code",
   "execution_count": 16,
   "id": "05a26b7c-2a64-4f96-8571-49a79906e50a",
   "metadata": {},
   "outputs": [
    {
     "data": {
      "text/plain": [
       "Index(['学号', '班级', '成绩'], dtype='object')"
      ]
     },
     "execution_count": 16,
     "metadata": {},
     "output_type": "execute_result"
    }
   ],
   "source": [
    "df4.columns"
   ]
  },
  {
   "cell_type": "code",
   "execution_count": 17,
   "id": "be0551de-006c-4a0a-85ab-557e36919541",
   "metadata": {},
   "outputs": [
    {
     "data": {
      "text/plain": [
       "array([['01', '二班', 97],\n",
       "       ['02', '一班', 88],\n",
       "       ['03', '二班', 65],\n",
       "       ['04', '三班', 77],\n",
       "       ['05', '一班', 84]], dtype=object)"
      ]
     },
     "execution_count": 17,
     "metadata": {},
     "output_type": "execute_result"
    }
   ],
   "source": [
    "df4.values"
   ]
  },
  {
   "cell_type": "code",
   "execution_count": 18,
   "id": "7943510e-3ffb-48f7-be6a-1faa86f98497",
   "metadata": {},
   "outputs": [
    {
     "data": {
      "text/html": [
       "<div>\n",
       "<style scoped>\n",
       "    .dataframe tbody tr th:only-of-type {\n",
       "        vertical-align: middle;\n",
       "    }\n",
       "\n",
       "    .dataframe tbody tr th {\n",
       "        vertical-align: top;\n",
       "    }\n",
       "\n",
       "    .dataframe thead th {\n",
       "        text-align: right;\n",
       "    }\n",
       "</style>\n",
       "<table border=\"1\" class=\"dataframe\">\n",
       "  <thead>\n",
       "    <tr style=\"text-align: right;\">\n",
       "      <th></th>\n",
       "      <th>小米</th>\n",
       "      <th>小季</th>\n",
       "      <th>小邦</th>\n",
       "      <th>小刚</th>\n",
       "      <th>小康</th>\n",
       "    </tr>\n",
       "  </thead>\n",
       "  <tbody>\n",
       "    <tr>\n",
       "      <th>学号</th>\n",
       "      <td>01</td>\n",
       "      <td>02</td>\n",
       "      <td>03</td>\n",
       "      <td>04</td>\n",
       "      <td>05</td>\n",
       "    </tr>\n",
       "    <tr>\n",
       "      <th>班级</th>\n",
       "      <td>二班</td>\n",
       "      <td>一班</td>\n",
       "      <td>二班</td>\n",
       "      <td>三班</td>\n",
       "      <td>一班</td>\n",
       "    </tr>\n",
       "    <tr>\n",
       "      <th>成绩</th>\n",
       "      <td>97</td>\n",
       "      <td>88</td>\n",
       "      <td>65</td>\n",
       "      <td>77</td>\n",
       "      <td>84</td>\n",
       "    </tr>\n",
       "  </tbody>\n",
       "</table>\n",
       "</div>"
      ],
      "text/plain": [
       "    小米  小季  小邦  小刚  小康\n",
       "学号  01  02  03  04  05\n",
       "班级  二班  一班  二班  三班  一班\n",
       "成绩  97  88  65  77  84"
      ]
     },
     "execution_count": 18,
     "metadata": {},
     "output_type": "execute_result"
    }
   ],
   "source": [
    "df4.T"
   ]
  },
  {
   "cell_type": "markdown",
   "id": "22a165a0-c0bd-4f52-9940-73ee081b3f94",
   "metadata": {},
   "source": [
    "## 提取df的单个列-列名"
   ]
  },
  {
   "cell_type": "code",
   "execution_count": 19,
   "id": "615eab85-2e91-440a-9ce7-f2530bc39762",
   "metadata": {},
   "outputs": [
    {
     "data": {
      "text/plain": [
       "小米    二班\n",
       "小季    一班\n",
       "小邦    二班\n",
       "小刚    三班\n",
       "小康    一班\n",
       "Name: 班级, dtype: object"
      ]
     },
     "execution_count": 19,
     "metadata": {},
     "output_type": "execute_result"
    }
   ],
   "source": [
    "df4['班级']"
   ]
  },
  {
   "cell_type": "code",
   "execution_count": 20,
   "id": "add40a13-7e4d-4756-a949-1e86f4307136",
   "metadata": {},
   "outputs": [
    {
     "data": {
      "text/plain": [
       "小米    二班\n",
       "小季    一班\n",
       "小邦    二班\n",
       "小刚    三班\n",
       "小康    一班\n",
       "Name: 班级, dtype: object"
      ]
     },
     "execution_count": 20,
     "metadata": {},
     "output_type": "execute_result"
    }
   ],
   "source": [
    "df4.班级"
   ]
  },
  {
   "cell_type": "markdown",
   "id": "f989ea4c-e29b-4fdc-9f61-e1413bd2d464",
   "metadata": {},
   "source": [
    "## 提取df的部分列"
   ]
  },
  {
   "cell_type": "code",
   "execution_count": 9,
   "id": "97f7cb75-a39d-4b36-b2ce-4ddfebb363c7",
   "metadata": {},
   "outputs": [
    {
     "data": {
      "text/html": [
       "<div>\n",
       "<style scoped>\n",
       "    .dataframe tbody tr th:only-of-type {\n",
       "        vertical-align: middle;\n",
       "    }\n",
       "\n",
       "    .dataframe tbody tr th {\n",
       "        vertical-align: top;\n",
       "    }\n",
       "\n",
       "    .dataframe thead th {\n",
       "        text-align: right;\n",
       "    }\n",
       "</style>\n",
       "<table border=\"1\" class=\"dataframe\">\n",
       "  <thead>\n",
       "    <tr style=\"text-align: right;\">\n",
       "      <th></th>\n",
       "      <th>班级</th>\n",
       "      <th>成绩</th>\n",
       "    </tr>\n",
       "  </thead>\n",
       "  <tbody>\n",
       "    <tr>\n",
       "      <th>小米</th>\n",
       "      <td>二班</td>\n",
       "      <td>97</td>\n",
       "    </tr>\n",
       "    <tr>\n",
       "      <th>小季</th>\n",
       "      <td>一班</td>\n",
       "      <td>88</td>\n",
       "    </tr>\n",
       "    <tr>\n",
       "      <th>小邦</th>\n",
       "      <td>二班</td>\n",
       "      <td>65</td>\n",
       "    </tr>\n",
       "    <tr>\n",
       "      <th>小刚</th>\n",
       "      <td>三班</td>\n",
       "      <td>77</td>\n",
       "    </tr>\n",
       "    <tr>\n",
       "      <th>小康</th>\n",
       "      <td>一班</td>\n",
       "      <td>84</td>\n",
       "    </tr>\n",
       "  </tbody>\n",
       "</table>\n",
       "</div>"
      ],
      "text/plain": [
       "    班级  成绩\n",
       "小米  二班  97\n",
       "小季  一班  88\n",
       "小邦  二班  65\n",
       "小刚  三班  77\n",
       "小康  一班  84"
      ]
     },
     "execution_count": 9,
     "metadata": {},
     "output_type": "execute_result"
    }
   ],
   "source": [
    "df4.loc[:,'班级':'成绩']"
   ]
  },
  {
   "cell_type": "code",
   "execution_count": 11,
   "id": "5d3d5233-a883-43bc-9b5c-5868c071c0b0",
   "metadata": {},
   "outputs": [
    {
     "data": {
      "text/html": [
       "<div>\n",
       "<style scoped>\n",
       "    .dataframe tbody tr th:only-of-type {\n",
       "        vertical-align: middle;\n",
       "    }\n",
       "\n",
       "    .dataframe tbody tr th {\n",
       "        vertical-align: top;\n",
       "    }\n",
       "\n",
       "    .dataframe thead th {\n",
       "        text-align: right;\n",
       "    }\n",
       "</style>\n",
       "<table border=\"1\" class=\"dataframe\">\n",
       "  <thead>\n",
       "    <tr style=\"text-align: right;\">\n",
       "      <th></th>\n",
       "      <th>班级</th>\n",
       "      <th>成绩</th>\n",
       "    </tr>\n",
       "  </thead>\n",
       "  <tbody>\n",
       "    <tr>\n",
       "      <th>小米</th>\n",
       "      <td>二班</td>\n",
       "      <td>97</td>\n",
       "    </tr>\n",
       "    <tr>\n",
       "      <th>小季</th>\n",
       "      <td>一班</td>\n",
       "      <td>88</td>\n",
       "    </tr>\n",
       "    <tr>\n",
       "      <th>小邦</th>\n",
       "      <td>二班</td>\n",
       "      <td>65</td>\n",
       "    </tr>\n",
       "    <tr>\n",
       "      <th>小刚</th>\n",
       "      <td>三班</td>\n",
       "      <td>77</td>\n",
       "    </tr>\n",
       "    <tr>\n",
       "      <th>小康</th>\n",
       "      <td>一班</td>\n",
       "      <td>84</td>\n",
       "    </tr>\n",
       "  </tbody>\n",
       "</table>\n",
       "</div>"
      ],
      "text/plain": [
       "    班级  成绩\n",
       "小米  二班  97\n",
       "小季  一班  88\n",
       "小邦  二班  65\n",
       "小刚  三班  77\n",
       "小康  一班  84"
      ]
     },
     "execution_count": 11,
     "metadata": {},
     "output_type": "execute_result"
    }
   ],
   "source": [
    "df4.iloc[:,1:3]"
   ]
  },
  {
   "cell_type": "markdown",
   "id": "d79bb85c-04d8-491b-9f3d-bb2959e93352",
   "metadata": {},
   "source": [
    "**注意，当列名中有特殊符号或空格时，就只能通过[]来获取列**"
   ]
  },
  {
   "cell_type": "markdown",
   "id": "f6a27903-3050-466a-a71a-11d1ea29de00",
   "metadata": {},
   "source": [
    "## 提取df的任意列-列list"
   ]
  },
  {
   "cell_type": "code",
   "execution_count": 21,
   "id": "36f47619-c5b8-4a81-ba74-edf3aee7c99b",
   "metadata": {},
   "outputs": [
    {
     "data": {
      "text/html": [
       "<div>\n",
       "<style scoped>\n",
       "    .dataframe tbody tr th:only-of-type {\n",
       "        vertical-align: middle;\n",
       "    }\n",
       "\n",
       "    .dataframe tbody tr th {\n",
       "        vertical-align: top;\n",
       "    }\n",
       "\n",
       "    .dataframe thead th {\n",
       "        text-align: right;\n",
       "    }\n",
       "</style>\n",
       "<table border=\"1\" class=\"dataframe\">\n",
       "  <thead>\n",
       "    <tr style=\"text-align: right;\">\n",
       "      <th></th>\n",
       "      <th>成绩</th>\n",
       "      <th>班级</th>\n",
       "    </tr>\n",
       "  </thead>\n",
       "  <tbody>\n",
       "    <tr>\n",
       "      <th>小米</th>\n",
       "      <td>97</td>\n",
       "      <td>二班</td>\n",
       "    </tr>\n",
       "    <tr>\n",
       "      <th>小季</th>\n",
       "      <td>88</td>\n",
       "      <td>一班</td>\n",
       "    </tr>\n",
       "    <tr>\n",
       "      <th>小邦</th>\n",
       "      <td>65</td>\n",
       "      <td>二班</td>\n",
       "    </tr>\n",
       "    <tr>\n",
       "      <th>小刚</th>\n",
       "      <td>77</td>\n",
       "      <td>三班</td>\n",
       "    </tr>\n",
       "    <tr>\n",
       "      <th>小康</th>\n",
       "      <td>84</td>\n",
       "      <td>一班</td>\n",
       "    </tr>\n",
       "  </tbody>\n",
       "</table>\n",
       "</div>"
      ],
      "text/plain": [
       "    成绩  班级\n",
       "小米  97  二班\n",
       "小季  88  一班\n",
       "小邦  65  二班\n",
       "小刚  77  三班\n",
       "小康  84  一班"
      ]
     },
     "execution_count": 21,
     "metadata": {},
     "output_type": "execute_result"
    }
   ],
   "source": [
    "df4[['成绩','班级']]"
   ]
  },
  {
   "cell_type": "markdown",
   "id": "5e11b3ba-7937-44de-b7f8-86c8ccae3bfa",
   "metadata": {},
   "source": [
    "## 提取df的单个行-索引"
   ]
  },
  {
   "cell_type": "code",
   "execution_count": 22,
   "id": "c28bf350-cabf-4ab3-ad3d-e51792e08590",
   "metadata": {},
   "outputs": [
    {
     "data": {
      "text/plain": [
       "学号    01\n",
       "班级    二班\n",
       "成绩    97\n",
       "Name: 小米, dtype: object"
      ]
     },
     "execution_count": 22,
     "metadata": {},
     "output_type": "execute_result"
    }
   ],
   "source": [
    "df4.loc['小米']"
   ]
  },
  {
   "cell_type": "code",
   "execution_count": 23,
   "id": "6a7e0834-58dc-4ef7-92b6-d70c78d470d8",
   "metadata": {},
   "outputs": [
    {
     "data": {
      "text/plain": [
       "学号    01\n",
       "班级    二班\n",
       "成绩    97\n",
       "Name: 小米, dtype: object"
      ]
     },
     "execution_count": 23,
     "metadata": {},
     "output_type": "execute_result"
    }
   ],
   "source": [
    "df4.iloc[0]"
   ]
  },
  {
   "cell_type": "markdown",
   "id": "a6020233-0d8a-4b7a-9a71-506b3ef0f48e",
   "metadata": {},
   "source": [
    "## 提取df的部分行-索引list切片注意标签左闭右闭，下标左闭右开"
   ]
  },
  {
   "cell_type": "code",
   "execution_count": 24,
   "id": "0b0a4842-85b5-4ad7-9772-45be696f3b14",
   "metadata": {},
   "outputs": [
    {
     "data": {
      "text/html": [
       "<div>\n",
       "<style scoped>\n",
       "    .dataframe tbody tr th:only-of-type {\n",
       "        vertical-align: middle;\n",
       "    }\n",
       "\n",
       "    .dataframe tbody tr th {\n",
       "        vertical-align: top;\n",
       "    }\n",
       "\n",
       "    .dataframe thead th {\n",
       "        text-align: right;\n",
       "    }\n",
       "</style>\n",
       "<table border=\"1\" class=\"dataframe\">\n",
       "  <thead>\n",
       "    <tr style=\"text-align: right;\">\n",
       "      <th></th>\n",
       "      <th>学号</th>\n",
       "      <th>班级</th>\n",
       "      <th>成绩</th>\n",
       "    </tr>\n",
       "  </thead>\n",
       "  <tbody>\n",
       "    <tr>\n",
       "      <th>小米</th>\n",
       "      <td>01</td>\n",
       "      <td>二班</td>\n",
       "      <td>97</td>\n",
       "    </tr>\n",
       "    <tr>\n",
       "      <th>小季</th>\n",
       "      <td>02</td>\n",
       "      <td>一班</td>\n",
       "      <td>88</td>\n",
       "    </tr>\n",
       "    <tr>\n",
       "      <th>小邦</th>\n",
       "      <td>03</td>\n",
       "      <td>二班</td>\n",
       "      <td>65</td>\n",
       "    </tr>\n",
       "  </tbody>\n",
       "</table>\n",
       "</div>"
      ],
      "text/plain": [
       "    学号  班级  成绩\n",
       "小米  01  二班  97\n",
       "小季  02  一班  88\n",
       "小邦  03  二班  65"
      ]
     },
     "execution_count": 24,
     "metadata": {},
     "output_type": "execute_result"
    }
   ],
   "source": [
    "df4.loc['小米':'小邦']"
   ]
  },
  {
   "cell_type": "code",
   "execution_count": 25,
   "id": "f103add5-9bc4-495a-89d2-775548a54911",
   "metadata": {},
   "outputs": [
    {
     "data": {
      "text/html": [
       "<div>\n",
       "<style scoped>\n",
       "    .dataframe tbody tr th:only-of-type {\n",
       "        vertical-align: middle;\n",
       "    }\n",
       "\n",
       "    .dataframe tbody tr th {\n",
       "        vertical-align: top;\n",
       "    }\n",
       "\n",
       "    .dataframe thead th {\n",
       "        text-align: right;\n",
       "    }\n",
       "</style>\n",
       "<table border=\"1\" class=\"dataframe\">\n",
       "  <thead>\n",
       "    <tr style=\"text-align: right;\">\n",
       "      <th></th>\n",
       "      <th>学号</th>\n",
       "      <th>班级</th>\n",
       "      <th>成绩</th>\n",
       "    </tr>\n",
       "  </thead>\n",
       "  <tbody>\n",
       "    <tr>\n",
       "      <th>小米</th>\n",
       "      <td>01</td>\n",
       "      <td>二班</td>\n",
       "      <td>97</td>\n",
       "    </tr>\n",
       "    <tr>\n",
       "      <th>小季</th>\n",
       "      <td>02</td>\n",
       "      <td>一班</td>\n",
       "      <td>88</td>\n",
       "    </tr>\n",
       "  </tbody>\n",
       "</table>\n",
       "</div>"
      ],
      "text/plain": [
       "    学号  班级  成绩\n",
       "小米  01  二班  97\n",
       "小季  02  一班  88"
      ]
     },
     "execution_count": 25,
     "metadata": {},
     "output_type": "execute_result"
    }
   ],
   "source": [
    "df4.iloc[0:2]"
   ]
  },
  {
   "cell_type": "markdown",
   "id": "b0589c08-579a-4af6-a2a9-f875f63db6c8",
   "metadata": {},
   "source": [
    "## 提取df的任意行 "
   ]
  },
  {
   "cell_type": "code",
   "execution_count": 26,
   "id": "02438826-2ac0-4638-9689-e10b44ed89eb",
   "metadata": {},
   "outputs": [
    {
     "data": {
      "text/html": [
       "<div>\n",
       "<style scoped>\n",
       "    .dataframe tbody tr th:only-of-type {\n",
       "        vertical-align: middle;\n",
       "    }\n",
       "\n",
       "    .dataframe tbody tr th {\n",
       "        vertical-align: top;\n",
       "    }\n",
       "\n",
       "    .dataframe thead th {\n",
       "        text-align: right;\n",
       "    }\n",
       "</style>\n",
       "<table border=\"1\" class=\"dataframe\">\n",
       "  <thead>\n",
       "    <tr style=\"text-align: right;\">\n",
       "      <th></th>\n",
       "      <th>学号</th>\n",
       "      <th>班级</th>\n",
       "      <th>成绩</th>\n",
       "    </tr>\n",
       "  </thead>\n",
       "  <tbody>\n",
       "    <tr>\n",
       "      <th>小米</th>\n",
       "      <td>01</td>\n",
       "      <td>二班</td>\n",
       "      <td>97</td>\n",
       "    </tr>\n",
       "    <tr>\n",
       "      <th>小邦</th>\n",
       "      <td>03</td>\n",
       "      <td>二班</td>\n",
       "      <td>65</td>\n",
       "    </tr>\n",
       "    <tr>\n",
       "      <th>小康</th>\n",
       "      <td>05</td>\n",
       "      <td>一班</td>\n",
       "      <td>84</td>\n",
       "    </tr>\n",
       "  </tbody>\n",
       "</table>\n",
       "</div>"
      ],
      "text/plain": [
       "    学号  班级  成绩\n",
       "小米  01  二班  97\n",
       "小邦  03  二班  65\n",
       "小康  05  一班  84"
      ]
     },
     "execution_count": 26,
     "metadata": {},
     "output_type": "execute_result"
    }
   ],
   "source": [
    "df4.loc[['小米','小邦','小康']]"
   ]
  },
  {
   "cell_type": "code",
   "execution_count": 27,
   "id": "7b03d112-1f72-4ea6-b2fe-c55257182d83",
   "metadata": {},
   "outputs": [
    {
     "data": {
      "text/html": [
       "<div>\n",
       "<style scoped>\n",
       "    .dataframe tbody tr th:only-of-type {\n",
       "        vertical-align: middle;\n",
       "    }\n",
       "\n",
       "    .dataframe tbody tr th {\n",
       "        vertical-align: top;\n",
       "    }\n",
       "\n",
       "    .dataframe thead th {\n",
       "        text-align: right;\n",
       "    }\n",
       "</style>\n",
       "<table border=\"1\" class=\"dataframe\">\n",
       "  <thead>\n",
       "    <tr style=\"text-align: right;\">\n",
       "      <th></th>\n",
       "      <th>学号</th>\n",
       "      <th>班级</th>\n",
       "      <th>成绩</th>\n",
       "    </tr>\n",
       "  </thead>\n",
       "  <tbody>\n",
       "    <tr>\n",
       "      <th>小米</th>\n",
       "      <td>01</td>\n",
       "      <td>二班</td>\n",
       "      <td>97</td>\n",
       "    </tr>\n",
       "    <tr>\n",
       "      <th>小邦</th>\n",
       "      <td>03</td>\n",
       "      <td>二班</td>\n",
       "      <td>65</td>\n",
       "    </tr>\n",
       "    <tr>\n",
       "      <th>小康</th>\n",
       "      <td>05</td>\n",
       "      <td>一班</td>\n",
       "      <td>84</td>\n",
       "    </tr>\n",
       "  </tbody>\n",
       "</table>\n",
       "</div>"
      ],
      "text/plain": [
       "    学号  班级  成绩\n",
       "小米  01  二班  97\n",
       "小邦  03  二班  65\n",
       "小康  05  一班  84"
      ]
     },
     "execution_count": 27,
     "metadata": {},
     "output_type": "execute_result"
    }
   ],
   "source": [
    "df4.iloc[[0,2,4]]"
   ]
  },
  {
   "cell_type": "markdown",
   "id": "236ebd76-663f-4819-9c7d-5df2134290db",
   "metadata": {},
   "source": [
    "## 提取df的某个元素-行+列"
   ]
  },
  {
   "cell_type": "code",
   "execution_count": 28,
   "id": "58fb3635-7704-44e7-96fa-8f67a1a7c3eb",
   "metadata": {},
   "outputs": [
    {
     "data": {
      "text/plain": [
       "'01'"
      ]
     },
     "execution_count": 28,
     "metadata": {},
     "output_type": "execute_result"
    }
   ],
   "source": [
    "df4.loc['小米','学号']"
   ]
  },
  {
   "cell_type": "code",
   "execution_count": 29,
   "id": "5761c7ba-4105-4f18-8e10-f52a815f8229",
   "metadata": {},
   "outputs": [
    {
     "data": {
      "text/plain": [
       "'01'"
      ]
     },
     "execution_count": 29,
     "metadata": {},
     "output_type": "execute_result"
    }
   ],
   "source": [
    "df4.iloc[0,0]"
   ]
  },
  {
   "cell_type": "markdown",
   "id": "d527acb9-47a5-4481-8fef-5c6ccaa347e2",
   "metadata": {},
   "source": [
    "## 提取部分df-标签永远都是左闭右闭,下标永远都是左闭右开"
   ]
  },
  {
   "cell_type": "code",
   "execution_count": 30,
   "id": "e70f7176-2298-460c-9052-d0347f4a1a80",
   "metadata": {},
   "outputs": [
    {
     "data": {
      "text/html": [
       "<div>\n",
       "<style scoped>\n",
       "    .dataframe tbody tr th:only-of-type {\n",
       "        vertical-align: middle;\n",
       "    }\n",
       "\n",
       "    .dataframe tbody tr th {\n",
       "        vertical-align: top;\n",
       "    }\n",
       "\n",
       "    .dataframe thead th {\n",
       "        text-align: right;\n",
       "    }\n",
       "</style>\n",
       "<table border=\"1\" class=\"dataframe\">\n",
       "  <thead>\n",
       "    <tr style=\"text-align: right;\">\n",
       "      <th></th>\n",
       "      <th>班级</th>\n",
       "      <th>成绩</th>\n",
       "    </tr>\n",
       "  </thead>\n",
       "  <tbody>\n",
       "    <tr>\n",
       "      <th>小米</th>\n",
       "      <td>二班</td>\n",
       "      <td>97</td>\n",
       "    </tr>\n",
       "    <tr>\n",
       "      <th>小季</th>\n",
       "      <td>一班</td>\n",
       "      <td>88</td>\n",
       "    </tr>\n",
       "    <tr>\n",
       "      <th>小邦</th>\n",
       "      <td>二班</td>\n",
       "      <td>65</td>\n",
       "    </tr>\n",
       "  </tbody>\n",
       "</table>\n",
       "</div>"
      ],
      "text/plain": [
       "    班级  成绩\n",
       "小米  二班  97\n",
       "小季  一班  88\n",
       "小邦  二班  65"
      ]
     },
     "execution_count": 30,
     "metadata": {},
     "output_type": "execute_result"
    }
   ],
   "source": [
    "df4.loc['小米':'小邦','班级':'成绩']"
   ]
  },
  {
   "cell_type": "code",
   "execution_count": 31,
   "id": "49323fce-0440-4537-b72a-3021cbc4d375",
   "metadata": {},
   "outputs": [
    {
     "data": {
      "text/html": [
       "<div>\n",
       "<style scoped>\n",
       "    .dataframe tbody tr th:only-of-type {\n",
       "        vertical-align: middle;\n",
       "    }\n",
       "\n",
       "    .dataframe tbody tr th {\n",
       "        vertical-align: top;\n",
       "    }\n",
       "\n",
       "    .dataframe thead th {\n",
       "        text-align: right;\n",
       "    }\n",
       "</style>\n",
       "<table border=\"1\" class=\"dataframe\">\n",
       "  <thead>\n",
       "    <tr style=\"text-align: right;\">\n",
       "      <th></th>\n",
       "      <th>班级</th>\n",
       "    </tr>\n",
       "  </thead>\n",
       "  <tbody>\n",
       "    <tr>\n",
       "      <th>小米</th>\n",
       "      <td>二班</td>\n",
       "    </tr>\n",
       "    <tr>\n",
       "      <th>小季</th>\n",
       "      <td>一班</td>\n",
       "    </tr>\n",
       "  </tbody>\n",
       "</table>\n",
       "</div>"
      ],
      "text/plain": [
       "    班级\n",
       "小米  二班\n",
       "小季  一班"
      ]
     },
     "execution_count": 31,
     "metadata": {},
     "output_type": "execute_result"
    }
   ],
   "source": [
    "df4.iloc[0:2,1:2]"
   ]
  },
  {
   "cell_type": "code",
   "execution_count": 32,
   "id": "b1b1f81c-040c-413c-9b22-b6e326511bdc",
   "metadata": {},
   "outputs": [
    {
     "data": {
      "text/html": [
       "<div>\n",
       "<style scoped>\n",
       "    .dataframe tbody tr th:only-of-type {\n",
       "        vertical-align: middle;\n",
       "    }\n",
       "\n",
       "    .dataframe tbody tr th {\n",
       "        vertical-align: top;\n",
       "    }\n",
       "\n",
       "    .dataframe thead th {\n",
       "        text-align: right;\n",
       "    }\n",
       "</style>\n",
       "<table border=\"1\" class=\"dataframe\">\n",
       "  <thead>\n",
       "    <tr style=\"text-align: right;\">\n",
       "      <th></th>\n",
       "      <th>班级</th>\n",
       "      <th>成绩</th>\n",
       "    </tr>\n",
       "  </thead>\n",
       "  <tbody>\n",
       "    <tr>\n",
       "      <th>小米</th>\n",
       "      <td>二班</td>\n",
       "      <td>97</td>\n",
       "    </tr>\n",
       "    <tr>\n",
       "      <th>小季</th>\n",
       "      <td>一班</td>\n",
       "      <td>88</td>\n",
       "    </tr>\n",
       "    <tr>\n",
       "      <th>小邦</th>\n",
       "      <td>二班</td>\n",
       "      <td>65</td>\n",
       "    </tr>\n",
       "    <tr>\n",
       "      <th>小刚</th>\n",
       "      <td>三班</td>\n",
       "      <td>77</td>\n",
       "    </tr>\n",
       "    <tr>\n",
       "      <th>小康</th>\n",
       "      <td>一班</td>\n",
       "      <td>84</td>\n",
       "    </tr>\n",
       "  </tbody>\n",
       "</table>\n",
       "</div>"
      ],
      "text/plain": [
       "    班级  成绩\n",
       "小米  二班  97\n",
       "小季  一班  88\n",
       "小邦  二班  65\n",
       "小刚  三班  77\n",
       "小康  一班  84"
      ]
     },
     "execution_count": 32,
     "metadata": {},
     "output_type": "execute_result"
    }
   ],
   "source": [
    "df4.loc[:,'班级':'成绩']"
   ]
  },
  {
   "cell_type": "code",
   "execution_count": 33,
   "id": "5f4e0f07-4b73-4b8d-ac8a-9589a9bcabeb",
   "metadata": {},
   "outputs": [
    {
     "data": {
      "text/html": [
       "<div>\n",
       "<style scoped>\n",
       "    .dataframe tbody tr th:only-of-type {\n",
       "        vertical-align: middle;\n",
       "    }\n",
       "\n",
       "    .dataframe tbody tr th {\n",
       "        vertical-align: top;\n",
       "    }\n",
       "\n",
       "    .dataframe thead th {\n",
       "        text-align: right;\n",
       "    }\n",
       "</style>\n",
       "<table border=\"1\" class=\"dataframe\">\n",
       "  <thead>\n",
       "    <tr style=\"text-align: right;\">\n",
       "      <th></th>\n",
       "      <th>班级</th>\n",
       "      <th>成绩</th>\n",
       "    </tr>\n",
       "  </thead>\n",
       "  <tbody>\n",
       "    <tr>\n",
       "      <th>小米</th>\n",
       "      <td>二班</td>\n",
       "      <td>97</td>\n",
       "    </tr>\n",
       "    <tr>\n",
       "      <th>小季</th>\n",
       "      <td>一班</td>\n",
       "      <td>88</td>\n",
       "    </tr>\n",
       "    <tr>\n",
       "      <th>小邦</th>\n",
       "      <td>二班</td>\n",
       "      <td>65</td>\n",
       "    </tr>\n",
       "    <tr>\n",
       "      <th>小刚</th>\n",
       "      <td>三班</td>\n",
       "      <td>77</td>\n",
       "    </tr>\n",
       "    <tr>\n",
       "      <th>小康</th>\n",
       "      <td>一班</td>\n",
       "      <td>84</td>\n",
       "    </tr>\n",
       "  </tbody>\n",
       "</table>\n",
       "</div>"
      ],
      "text/plain": [
       "    班级  成绩\n",
       "小米  二班  97\n",
       "小季  一班  88\n",
       "小邦  二班  65\n",
       "小刚  三班  77\n",
       "小康  一班  84"
      ]
     },
     "execution_count": 33,
     "metadata": {},
     "output_type": "execute_result"
    }
   ],
   "source": [
    "df4.iloc[:,1:3]"
   ]
  },
  {
   "cell_type": "code",
   "execution_count": 34,
   "id": "16f91af5-f3ec-4fde-931f-8e98ac13c511",
   "metadata": {},
   "outputs": [
    {
     "data": {
      "text/html": [
       "<div>\n",
       "<style scoped>\n",
       "    .dataframe tbody tr th:only-of-type {\n",
       "        vertical-align: middle;\n",
       "    }\n",
       "\n",
       "    .dataframe tbody tr th {\n",
       "        vertical-align: top;\n",
       "    }\n",
       "\n",
       "    .dataframe thead th {\n",
       "        text-align: right;\n",
       "    }\n",
       "</style>\n",
       "<table border=\"1\" class=\"dataframe\">\n",
       "  <thead>\n",
       "    <tr style=\"text-align: right;\">\n",
       "      <th></th>\n",
       "      <th>班级</th>\n",
       "      <th>成绩</th>\n",
       "    </tr>\n",
       "  </thead>\n",
       "  <tbody>\n",
       "    <tr>\n",
       "      <th>小米</th>\n",
       "      <td>二班</td>\n",
       "      <td>97</td>\n",
       "    </tr>\n",
       "    <tr>\n",
       "      <th>小康</th>\n",
       "      <td>一班</td>\n",
       "      <td>84</td>\n",
       "    </tr>\n",
       "  </tbody>\n",
       "</table>\n",
       "</div>"
      ],
      "text/plain": [
       "    班级  成绩\n",
       "小米  二班  97\n",
       "小康  一班  84"
      ]
     },
     "execution_count": 34,
     "metadata": {},
     "output_type": "execute_result"
    }
   ],
   "source": [
    "df4.loc[['小米','小康'],'班级':'成绩']"
   ]
  },
  {
   "cell_type": "code",
   "execution_count": 35,
   "id": "f5d30aee-a60a-470b-84c6-2193d4d6797c",
   "metadata": {},
   "outputs": [
    {
     "data": {
      "text/html": [
       "<div>\n",
       "<style scoped>\n",
       "    .dataframe tbody tr th:only-of-type {\n",
       "        vertical-align: middle;\n",
       "    }\n",
       "\n",
       "    .dataframe tbody tr th {\n",
       "        vertical-align: top;\n",
       "    }\n",
       "\n",
       "    .dataframe thead th {\n",
       "        text-align: right;\n",
       "    }\n",
       "</style>\n",
       "<table border=\"1\" class=\"dataframe\">\n",
       "  <thead>\n",
       "    <tr style=\"text-align: right;\">\n",
       "      <th></th>\n",
       "      <th>班级</th>\n",
       "      <th>成绩</th>\n",
       "    </tr>\n",
       "  </thead>\n",
       "  <tbody>\n",
       "    <tr>\n",
       "      <th>小米</th>\n",
       "      <td>二班</td>\n",
       "      <td>97</td>\n",
       "    </tr>\n",
       "    <tr>\n",
       "      <th>小康</th>\n",
       "      <td>一班</td>\n",
       "      <td>84</td>\n",
       "    </tr>\n",
       "  </tbody>\n",
       "</table>\n",
       "</div>"
      ],
      "text/plain": [
       "    班级  成绩\n",
       "小米  二班  97\n",
       "小康  一班  84"
      ]
     },
     "execution_count": 35,
     "metadata": {},
     "output_type": "execute_result"
    }
   ],
   "source": [
    "df4.iloc[[0,4],1:3]"
   ]
  },
  {
   "cell_type": "markdown",
   "id": "9c4a8d01-cf1b-4811-a40c-e225c87fd732",
   "metadata": {
    "jp-MarkdownHeadingCollapsed": true
   },
   "source": [
    "## 根据条件筛选df的行（df中行为实例，列为属性）"
   ]
  },
  {
   "cell_type": "code",
   "execution_count": 36,
   "id": "b8c5da86-e04a-4c91-8f0a-48428d117395",
   "metadata": {},
   "outputs": [
    {
     "data": {
      "text/plain": [
       "小米     True\n",
       "小季     True\n",
       "小邦    False\n",
       "小刚    False\n",
       "小康     True\n",
       "Name: 成绩, dtype: bool"
      ]
     },
     "execution_count": 36,
     "metadata": {},
     "output_type": "execute_result"
    }
   ],
   "source": [
    "df4.成绩 > 80"
   ]
  },
  {
   "cell_type": "code",
   "execution_count": 37,
   "id": "65da2d8e-8641-40c9-acca-e983a088b1a7",
   "metadata": {},
   "outputs": [
    {
     "data": {
      "text/html": [
       "<div>\n",
       "<style scoped>\n",
       "    .dataframe tbody tr th:only-of-type {\n",
       "        vertical-align: middle;\n",
       "    }\n",
       "\n",
       "    .dataframe tbody tr th {\n",
       "        vertical-align: top;\n",
       "    }\n",
       "\n",
       "    .dataframe thead th {\n",
       "        text-align: right;\n",
       "    }\n",
       "</style>\n",
       "<table border=\"1\" class=\"dataframe\">\n",
       "  <thead>\n",
       "    <tr style=\"text-align: right;\">\n",
       "      <th></th>\n",
       "      <th>学号</th>\n",
       "      <th>班级</th>\n",
       "      <th>成绩</th>\n",
       "    </tr>\n",
       "  </thead>\n",
       "  <tbody>\n",
       "    <tr>\n",
       "      <th>小米</th>\n",
       "      <td>01</td>\n",
       "      <td>二班</td>\n",
       "      <td>97</td>\n",
       "    </tr>\n",
       "    <tr>\n",
       "      <th>小季</th>\n",
       "      <td>02</td>\n",
       "      <td>一班</td>\n",
       "      <td>88</td>\n",
       "    </tr>\n",
       "    <tr>\n",
       "      <th>小康</th>\n",
       "      <td>05</td>\n",
       "      <td>一班</td>\n",
       "      <td>84</td>\n",
       "    </tr>\n",
       "  </tbody>\n",
       "</table>\n",
       "</div>"
      ],
      "text/plain": [
       "    学号  班级  成绩\n",
       "小米  01  二班  97\n",
       "小季  02  一班  88\n",
       "小康  05  一班  84"
      ]
     },
     "execution_count": 37,
     "metadata": {},
     "output_type": "execute_result"
    }
   ],
   "source": [
    "df4[df4.成绩>80]"
   ]
  },
  {
   "cell_type": "code",
   "execution_count": 38,
   "id": "8740435c-f15b-44a6-815f-c43816dc1a00",
   "metadata": {},
   "outputs": [
    {
     "data": {
      "text/html": [
       "<div>\n",
       "<style scoped>\n",
       "    .dataframe tbody tr th:only-of-type {\n",
       "        vertical-align: middle;\n",
       "    }\n",
       "\n",
       "    .dataframe tbody tr th {\n",
       "        vertical-align: top;\n",
       "    }\n",
       "\n",
       "    .dataframe thead th {\n",
       "        text-align: right;\n",
       "    }\n",
       "</style>\n",
       "<table border=\"1\" class=\"dataframe\">\n",
       "  <thead>\n",
       "    <tr style=\"text-align: right;\">\n",
       "      <th></th>\n",
       "      <th>学号</th>\n",
       "      <th>班级</th>\n",
       "      <th>成绩</th>\n",
       "    </tr>\n",
       "  </thead>\n",
       "  <tbody>\n",
       "    <tr>\n",
       "      <th>小米</th>\n",
       "      <td>01</td>\n",
       "      <td>二班</td>\n",
       "      <td>97</td>\n",
       "    </tr>\n",
       "    <tr>\n",
       "      <th>小季</th>\n",
       "      <td>02</td>\n",
       "      <td>一班</td>\n",
       "      <td>88</td>\n",
       "    </tr>\n",
       "    <tr>\n",
       "      <th>小康</th>\n",
       "      <td>05</td>\n",
       "      <td>一班</td>\n",
       "      <td>84</td>\n",
       "    </tr>\n",
       "  </tbody>\n",
       "</table>\n",
       "</div>"
      ],
      "text/plain": [
       "    学号  班级  成绩\n",
       "小米  01  二班  97\n",
       "小季  02  一班  88\n",
       "小康  05  一班  84"
      ]
     },
     "execution_count": 38,
     "metadata": {},
     "output_type": "execute_result"
    }
   ],
   "source": [
    "df4[df4['成绩']>80]"
   ]
  },
  {
   "cell_type": "markdown",
   "id": "7729df02-09da-4c4c-b7e0-02d834e6eb61",
   "metadata": {},
   "source": [
    "&|~"
   ]
  },
  {
   "cell_type": "code",
   "execution_count": 39,
   "id": "9ebe6c0f-4b38-4bd0-add3-5759557b32d4",
   "metadata": {},
   "outputs": [
    {
     "data": {
      "text/html": [
       "<div>\n",
       "<style scoped>\n",
       "    .dataframe tbody tr th:only-of-type {\n",
       "        vertical-align: middle;\n",
       "    }\n",
       "\n",
       "    .dataframe tbody tr th {\n",
       "        vertical-align: top;\n",
       "    }\n",
       "\n",
       "    .dataframe thead th {\n",
       "        text-align: right;\n",
       "    }\n",
       "</style>\n",
       "<table border=\"1\" class=\"dataframe\">\n",
       "  <thead>\n",
       "    <tr style=\"text-align: right;\">\n",
       "      <th></th>\n",
       "      <th>学号</th>\n",
       "      <th>班级</th>\n",
       "      <th>成绩</th>\n",
       "    </tr>\n",
       "  </thead>\n",
       "  <tbody>\n",
       "    <tr>\n",
       "      <th>小季</th>\n",
       "      <td>02</td>\n",
       "      <td>一班</td>\n",
       "      <td>88</td>\n",
       "    </tr>\n",
       "    <tr>\n",
       "      <th>小康</th>\n",
       "      <td>05</td>\n",
       "      <td>一班</td>\n",
       "      <td>84</td>\n",
       "    </tr>\n",
       "  </tbody>\n",
       "</table>\n",
       "</div>"
      ],
      "text/plain": [
       "    学号  班级  成绩\n",
       "小季  02  一班  88\n",
       "小康  05  一班  84"
      ]
     },
     "execution_count": 39,
     "metadata": {},
     "output_type": "execute_result"
    }
   ],
   "source": [
    "df4[ (df4.成绩>60) & (df4['班级']=='一班')]"
   ]
  },
  {
   "cell_type": "markdown",
   "id": "d1cafd08-3e59-416d-86b4-308a8c4521e9",
   "metadata": {
    "jp-MarkdownHeadingCollapsed": true
   },
   "source": [
    "## head()默认返回数据的前5行"
   ]
  },
  {
   "cell_type": "code",
   "execution_count": 40,
   "id": "10c96d04-74aa-4726-be52-40b8dff8468b",
   "metadata": {},
   "outputs": [
    {
     "data": {
      "text/html": [
       "<div>\n",
       "<style scoped>\n",
       "    .dataframe tbody tr th:only-of-type {\n",
       "        vertical-align: middle;\n",
       "    }\n",
       "\n",
       "    .dataframe tbody tr th {\n",
       "        vertical-align: top;\n",
       "    }\n",
       "\n",
       "    .dataframe thead th {\n",
       "        text-align: right;\n",
       "    }\n",
       "</style>\n",
       "<table border=\"1\" class=\"dataframe\">\n",
       "  <thead>\n",
       "    <tr style=\"text-align: right;\">\n",
       "      <th></th>\n",
       "      <th>学号</th>\n",
       "      <th>班级</th>\n",
       "      <th>成绩</th>\n",
       "    </tr>\n",
       "  </thead>\n",
       "  <tbody>\n",
       "    <tr>\n",
       "      <th>小米</th>\n",
       "      <td>01</td>\n",
       "      <td>二班</td>\n",
       "      <td>97</td>\n",
       "    </tr>\n",
       "    <tr>\n",
       "      <th>小季</th>\n",
       "      <td>02</td>\n",
       "      <td>一班</td>\n",
       "      <td>88</td>\n",
       "    </tr>\n",
       "    <tr>\n",
       "      <th>小邦</th>\n",
       "      <td>03</td>\n",
       "      <td>二班</td>\n",
       "      <td>65</td>\n",
       "    </tr>\n",
       "    <tr>\n",
       "      <th>小刚</th>\n",
       "      <td>04</td>\n",
       "      <td>三班</td>\n",
       "      <td>77</td>\n",
       "    </tr>\n",
       "    <tr>\n",
       "      <th>小康</th>\n",
       "      <td>05</td>\n",
       "      <td>一班</td>\n",
       "      <td>84</td>\n",
       "    </tr>\n",
       "  </tbody>\n",
       "</table>\n",
       "</div>"
      ],
      "text/plain": [
       "    学号  班级  成绩\n",
       "小米  01  二班  97\n",
       "小季  02  一班  88\n",
       "小邦  03  二班  65\n",
       "小刚  04  三班  77\n",
       "小康  05  一班  84"
      ]
     },
     "execution_count": 40,
     "metadata": {},
     "output_type": "execute_result"
    }
   ],
   "source": [
    "df4.head()"
   ]
  },
  {
   "cell_type": "code",
   "execution_count": 41,
   "id": "72af7097-ac6b-404d-a765-63522fc13853",
   "metadata": {},
   "outputs": [
    {
     "data": {
      "text/html": [
       "<div>\n",
       "<style scoped>\n",
       "    .dataframe tbody tr th:only-of-type {\n",
       "        vertical-align: middle;\n",
       "    }\n",
       "\n",
       "    .dataframe tbody tr th {\n",
       "        vertical-align: top;\n",
       "    }\n",
       "\n",
       "    .dataframe thead th {\n",
       "        text-align: right;\n",
       "    }\n",
       "</style>\n",
       "<table border=\"1\" class=\"dataframe\">\n",
       "  <thead>\n",
       "    <tr style=\"text-align: right;\">\n",
       "      <th></th>\n",
       "      <th>学号</th>\n",
       "      <th>班级</th>\n",
       "      <th>成绩</th>\n",
       "    </tr>\n",
       "  </thead>\n",
       "  <tbody>\n",
       "    <tr>\n",
       "      <th>小米</th>\n",
       "      <td>01</td>\n",
       "      <td>二班</td>\n",
       "      <td>97</td>\n",
       "    </tr>\n",
       "    <tr>\n",
       "      <th>小季</th>\n",
       "      <td>02</td>\n",
       "      <td>一班</td>\n",
       "      <td>88</td>\n",
       "    </tr>\n",
       "  </tbody>\n",
       "</table>\n",
       "</div>"
      ],
      "text/plain": [
       "    学号  班级  成绩\n",
       "小米  01  二班  97\n",
       "小季  02  一班  88"
      ]
     },
     "execution_count": 41,
     "metadata": {},
     "output_type": "execute_result"
    }
   ],
   "source": [
    "df4.head(2)"
   ]
  },
  {
   "cell_type": "markdown",
   "id": "9481c4a4-dbc5-407f-9862-ab06ad8e0626",
   "metadata": {},
   "source": [
    "tips:提取df的任意部分用[]，连续部分用:<br>若用标签索引表示则左闭右闭，下标则为左闭右开！！！！<br>df中关于行的一律加上.loc/.iloc,列无需<br>:表示从头到尾"
   ]
  },
  {
   "cell_type": "code",
   "execution_count": 42,
   "id": "46d8d93a-f189-4d0b-b520-ae64632bf8fb",
   "metadata": {},
   "outputs": [
    {
     "data": {
      "text/html": [
       "<div>\n",
       "<style scoped>\n",
       "    .dataframe tbody tr th:only-of-type {\n",
       "        vertical-align: middle;\n",
       "    }\n",
       "\n",
       "    .dataframe tbody tr th {\n",
       "        vertical-align: top;\n",
       "    }\n",
       "\n",
       "    .dataframe thead th {\n",
       "        text-align: right;\n",
       "    }\n",
       "</style>\n",
       "<table border=\"1\" class=\"dataframe\">\n",
       "  <thead>\n",
       "    <tr style=\"text-align: right;\">\n",
       "      <th></th>\n",
       "      <th>学号</th>\n",
       "      <th>班级</th>\n",
       "      <th>成绩</th>\n",
       "    </tr>\n",
       "  </thead>\n",
       "  <tbody>\n",
       "    <tr>\n",
       "      <th>小米</th>\n",
       "      <td>01</td>\n",
       "      <td>二班</td>\n",
       "      <td>97</td>\n",
       "    </tr>\n",
       "    <tr>\n",
       "      <th>小季</th>\n",
       "      <td>02</td>\n",
       "      <td>一班</td>\n",
       "      <td>88</td>\n",
       "    </tr>\n",
       "    <tr>\n",
       "      <th>小邦</th>\n",
       "      <td>03</td>\n",
       "      <td>二班</td>\n",
       "      <td>65</td>\n",
       "    </tr>\n",
       "    <tr>\n",
       "      <th>小刚</th>\n",
       "      <td>04</td>\n",
       "      <td>三班</td>\n",
       "      <td>77</td>\n",
       "    </tr>\n",
       "    <tr>\n",
       "      <th>小康</th>\n",
       "      <td>05</td>\n",
       "      <td>一班</td>\n",
       "      <td>84</td>\n",
       "    </tr>\n",
       "  </tbody>\n",
       "</table>\n",
       "</div>"
      ],
      "text/plain": [
       "    学号  班级  成绩\n",
       "小米  01  二班  97\n",
       "小季  02  一班  88\n",
       "小邦  03  二班  65\n",
       "小刚  04  三班  77\n",
       "小康  05  一班  84"
      ]
     },
     "execution_count": 42,
     "metadata": {},
     "output_type": "execute_result"
    }
   ],
   "source": [
    "df4.loc['小米':'小康',:]"
   ]
  },
  {
   "cell_type": "code",
   "execution_count": 43,
   "id": "e91fc074-ee83-4ba5-b9b1-3b99e560a7f9",
   "metadata": {},
   "outputs": [
    {
     "data": {
      "text/html": [
       "<div>\n",
       "<style scoped>\n",
       "    .dataframe tbody tr th:only-of-type {\n",
       "        vertical-align: middle;\n",
       "    }\n",
       "\n",
       "    .dataframe tbody tr th {\n",
       "        vertical-align: top;\n",
       "    }\n",
       "\n",
       "    .dataframe thead th {\n",
       "        text-align: right;\n",
       "    }\n",
       "</style>\n",
       "<table border=\"1\" class=\"dataframe\">\n",
       "  <thead>\n",
       "    <tr style=\"text-align: right;\">\n",
       "      <th></th>\n",
       "      <th>学号</th>\n",
       "      <th>班级</th>\n",
       "    </tr>\n",
       "  </thead>\n",
       "  <tbody>\n",
       "    <tr>\n",
       "      <th>小米</th>\n",
       "      <td>01</td>\n",
       "      <td>二班</td>\n",
       "    </tr>\n",
       "    <tr>\n",
       "      <th>小季</th>\n",
       "      <td>02</td>\n",
       "      <td>一班</td>\n",
       "    </tr>\n",
       "    <tr>\n",
       "      <th>小邦</th>\n",
       "      <td>03</td>\n",
       "      <td>二班</td>\n",
       "    </tr>\n",
       "    <tr>\n",
       "      <th>小刚</th>\n",
       "      <td>04</td>\n",
       "      <td>三班</td>\n",
       "    </tr>\n",
       "    <tr>\n",
       "      <th>小康</th>\n",
       "      <td>05</td>\n",
       "      <td>一班</td>\n",
       "    </tr>\n",
       "  </tbody>\n",
       "</table>\n",
       "</div>"
      ],
      "text/plain": [
       "    学号  班级\n",
       "小米  01  二班\n",
       "小季  02  一班\n",
       "小邦  03  二班\n",
       "小刚  04  三班\n",
       "小康  05  一班"
      ]
     },
     "execution_count": 43,
     "metadata": {},
     "output_type": "execute_result"
    }
   ],
   "source": [
    "df4.loc['小米':'小康','学号':'班级']"
   ]
  },
  {
   "cell_type": "code",
   "execution_count": 45,
   "id": "180f61f9-a7f6-484b-a284-dcbe7e285ecf",
   "metadata": {},
   "outputs": [
    {
     "data": {
      "text/html": [
       "<div>\n",
       "<style scoped>\n",
       "    .dataframe tbody tr th:only-of-type {\n",
       "        vertical-align: middle;\n",
       "    }\n",
       "\n",
       "    .dataframe tbody tr th {\n",
       "        vertical-align: top;\n",
       "    }\n",
       "\n",
       "    .dataframe thead th {\n",
       "        text-align: right;\n",
       "    }\n",
       "</style>\n",
       "<table border=\"1\" class=\"dataframe\">\n",
       "  <thead>\n",
       "    <tr style=\"text-align: right;\">\n",
       "      <th></th>\n",
       "      <th>学号</th>\n",
       "      <th>班级</th>\n",
       "      <th>成绩</th>\n",
       "    </tr>\n",
       "  </thead>\n",
       "  <tbody>\n",
       "    <tr>\n",
       "      <th>小米</th>\n",
       "      <td>01</td>\n",
       "      <td>二班</td>\n",
       "      <td>97</td>\n",
       "    </tr>\n",
       "    <tr>\n",
       "      <th>小季</th>\n",
       "      <td>02</td>\n",
       "      <td>一班</td>\n",
       "      <td>88</td>\n",
       "    </tr>\n",
       "    <tr>\n",
       "      <th>小邦</th>\n",
       "      <td>03</td>\n",
       "      <td>二班</td>\n",
       "      <td>65</td>\n",
       "    </tr>\n",
       "    <tr>\n",
       "      <th>小刚</th>\n",
       "      <td>04</td>\n",
       "      <td>三班</td>\n",
       "      <td>77</td>\n",
       "    </tr>\n",
       "    <tr>\n",
       "      <th>小康</th>\n",
       "      <td>05</td>\n",
       "      <td>一班</td>\n",
       "      <td>84</td>\n",
       "    </tr>\n",
       "  </tbody>\n",
       "</table>\n",
       "</div>"
      ],
      "text/plain": [
       "    学号  班级  成绩\n",
       "小米  01  二班  97\n",
       "小季  02  一班  88\n",
       "小邦  03  二班  65\n",
       "小刚  04  三班  77\n",
       "小康  05  一班  84"
      ]
     },
     "execution_count": 45,
     "metadata": {},
     "output_type": "execute_result"
    }
   ],
   "source": [
    "df4.loc['小米':'小康',['学号','班级','成绩']]"
   ]
  },
  {
   "cell_type": "code",
   "execution_count": 46,
   "id": "e7589846-9ddf-4a58-a5da-87ffd9ff2ff7",
   "metadata": {},
   "outputs": [
    {
     "data": {
      "text/html": [
       "<div>\n",
       "<style scoped>\n",
       "    .dataframe tbody tr th:only-of-type {\n",
       "        vertical-align: middle;\n",
       "    }\n",
       "\n",
       "    .dataframe tbody tr th {\n",
       "        vertical-align: top;\n",
       "    }\n",
       "\n",
       "    .dataframe thead th {\n",
       "        text-align: right;\n",
       "    }\n",
       "</style>\n",
       "<table border=\"1\" class=\"dataframe\">\n",
       "  <thead>\n",
       "    <tr style=\"text-align: right;\">\n",
       "      <th></th>\n",
       "      <th>学号</th>\n",
       "      <th>班级</th>\n",
       "      <th>成绩</th>\n",
       "    </tr>\n",
       "  </thead>\n",
       "  <tbody>\n",
       "    <tr>\n",
       "      <th>小米</th>\n",
       "      <td>01</td>\n",
       "      <td>二班</td>\n",
       "      <td>97</td>\n",
       "    </tr>\n",
       "    <tr>\n",
       "      <th>小季</th>\n",
       "      <td>02</td>\n",
       "      <td>一班</td>\n",
       "      <td>88</td>\n",
       "    </tr>\n",
       "    <tr>\n",
       "      <th>小邦</th>\n",
       "      <td>03</td>\n",
       "      <td>二班</td>\n",
       "      <td>65</td>\n",
       "    </tr>\n",
       "    <tr>\n",
       "      <th>小刚</th>\n",
       "      <td>04</td>\n",
       "      <td>三班</td>\n",
       "      <td>77</td>\n",
       "    </tr>\n",
       "    <tr>\n",
       "      <th>小康</th>\n",
       "      <td>05</td>\n",
       "      <td>一班</td>\n",
       "      <td>84</td>\n",
       "    </tr>\n",
       "  </tbody>\n",
       "</table>\n",
       "</div>"
      ],
      "text/plain": [
       "    学号  班级  成绩\n",
       "小米  01  二班  97\n",
       "小季  02  一班  88\n",
       "小邦  03  二班  65\n",
       "小刚  04  三班  77\n",
       "小康  05  一班  84"
      ]
     },
     "execution_count": 46,
     "metadata": {},
     "output_type": "execute_result"
    }
   ],
   "source": [
    "df4.iloc[0:5,0:3]"
   ]
  },
  {
   "cell_type": "markdown",
   "id": "e1142453-fb17-494d-bad1-7d063e2f616c",
   "metadata": {
    "jp-MarkdownHeadingCollapsed": true
   },
   "source": [
    "# 练习"
   ]
  },
  {
   "cell_type": "code",
   "execution_count": 1,
   "id": "94a51413-7fad-4f17-bc21-ce7ea5126070",
   "metadata": {},
   "outputs": [],
   "source": [
    "import pandas as pd"
   ]
  },
  {
   "cell_type": "markdown",
   "id": "791976c9-0de8-444b-9b27-9d5da8af2363",
   "metadata": {},
   "source": [
    "创建一个叫 students 的DataFrame. 包含列名姓名、性别、身高，数据分别对应创建好的 name 、 gender 、以及 height 这三个Series。输出创建好的 students 。\n",
    "创建一个叫 name 的Series. 里面包含字符串元素「小陈」，「小李」，「小王」，「小张」，「小赵」，「小周」，标签为 “001”，“002”，“003”，“004”，“005”，“006”。\n",
    "创建一个叫 gender 的Series. 里面包含字符串元素 “女”，“女”，“男”，“男”，“女”，“男”，标签为 “006”，“005”，“004”，“003”，“002”，“001”。\n",
    "创建一个叫 height 的Series，里面包含浮点数元素 172.5，168.0，178.2，181.3，161.7，标签为 “001”，“002”，“003”，“004”，“005”。"
   ]
  },
  {
   "cell_type": "code",
   "execution_count": 2,
   "id": "314adfff-c7f9-4639-b4c4-a378337ff329",
   "metadata": {},
   "outputs": [
    {
     "data": {
      "text/html": [
       "<div>\n",
       "<style scoped>\n",
       "    .dataframe tbody tr th:only-of-type {\n",
       "        vertical-align: middle;\n",
       "    }\n",
       "\n",
       "    .dataframe tbody tr th {\n",
       "        vertical-align: top;\n",
       "    }\n",
       "\n",
       "    .dataframe thead th {\n",
       "        text-align: right;\n",
       "    }\n",
       "</style>\n",
       "<table border=\"1\" class=\"dataframe\">\n",
       "  <thead>\n",
       "    <tr style=\"text-align: right;\">\n",
       "      <th></th>\n",
       "      <th>姓名</th>\n",
       "      <th>性别</th>\n",
       "      <th>身高</th>\n",
       "    </tr>\n",
       "  </thead>\n",
       "  <tbody>\n",
       "    <tr>\n",
       "      <th>001</th>\n",
       "      <td>小陈</td>\n",
       "      <td>男</td>\n",
       "      <td>172.5</td>\n",
       "    </tr>\n",
       "    <tr>\n",
       "      <th>002</th>\n",
       "      <td>小李</td>\n",
       "      <td>女</td>\n",
       "      <td>168.0</td>\n",
       "    </tr>\n",
       "    <tr>\n",
       "      <th>003</th>\n",
       "      <td>小王</td>\n",
       "      <td>男</td>\n",
       "      <td>178.2</td>\n",
       "    </tr>\n",
       "    <tr>\n",
       "      <th>004</th>\n",
       "      <td>小张</td>\n",
       "      <td>男</td>\n",
       "      <td>181.3</td>\n",
       "    </tr>\n",
       "    <tr>\n",
       "      <th>005</th>\n",
       "      <td>小赵</td>\n",
       "      <td>女</td>\n",
       "      <td>161.7</td>\n",
       "    </tr>\n",
       "    <tr>\n",
       "      <th>006</th>\n",
       "      <td>小周</td>\n",
       "      <td>女</td>\n",
       "      <td>NaN</td>\n",
       "    </tr>\n",
       "  </tbody>\n",
       "</table>\n",
       "</div>"
      ],
      "text/plain": [
       "     姓名 性别     身高\n",
       "001  小陈  男  172.5\n",
       "002  小李  女  168.0\n",
       "003  小王  男  178.2\n",
       "004  小张  男  181.3\n",
       "005  小赵  女  161.7\n",
       "006  小周  女    NaN"
      ]
     },
     "execution_count": 2,
     "metadata": {},
     "output_type": "execute_result"
    }
   ],
   "source": [
    "name = pd.Series(['小陈','小李','小王','小张','小赵','小周'],index=['001','002','003','004','005','006'])\n",
    "gender = pd.Series(['女','女','男','男','女','男'],index=['006','005','004','003','002','001'])\n",
    "height = pd.Series([172.5,168.0,178.2,181.3,161.7],index=['001','002','003','004','005'])\n",
    "students = pd.DataFrame({'姓名':name,'性别':gender,'身高':height})\n",
    "students"
   ]
  },
  {
   "cell_type": "markdown",
   "id": "e5c232b3-7b28-4d63-914f-36ef85a337d8",
   "metadata": {},
   "source": [
    "打印 students 所有索引和列名。"
   ]
  },
  {
   "cell_type": "code",
   "execution_count": 3,
   "id": "f25bf6f4-59a1-4f89-a5f8-3b5da5030e4e",
   "metadata": {},
   "outputs": [
    {
     "name": "stdout",
     "output_type": "stream",
     "text": [
      "Index(['001', '002', '003', '004', '005', '006'], dtype='object')\n"
     ]
    },
    {
     "data": {
      "text/plain": [
       "Index(['姓名', '性别', '身高'], dtype='object')"
      ]
     },
     "execution_count": 3,
     "metadata": {},
     "output_type": "execute_result"
    }
   ],
   "source": [
    "print(students.index)\n",
    "students.columns"
   ]
  },
  {
   "cell_type": "markdown",
   "id": "eede3c7e-60be-4c2c-9a41-7313a48e7b5f",
   "metadata": {},
   "source": [
    "输出把 students 的行和列进行转置后的结果（也可以students = pd.DataFrame({'姓名':name,'性别':gender,'身高':height}).T）"
   ]
  },
  {
   "cell_type": "code",
   "execution_count": 4,
   "id": "e4072b58-936a-4f20-8c27-45d97ea0dd5b",
   "metadata": {},
   "outputs": [
    {
     "data": {
      "text/html": [
       "<div>\n",
       "<style scoped>\n",
       "    .dataframe tbody tr th:only-of-type {\n",
       "        vertical-align: middle;\n",
       "    }\n",
       "\n",
       "    .dataframe tbody tr th {\n",
       "        vertical-align: top;\n",
       "    }\n",
       "\n",
       "    .dataframe thead th {\n",
       "        text-align: right;\n",
       "    }\n",
       "</style>\n",
       "<table border=\"1\" class=\"dataframe\">\n",
       "  <thead>\n",
       "    <tr style=\"text-align: right;\">\n",
       "      <th></th>\n",
       "      <th>001</th>\n",
       "      <th>002</th>\n",
       "      <th>003</th>\n",
       "      <th>004</th>\n",
       "      <th>005</th>\n",
       "      <th>006</th>\n",
       "    </tr>\n",
       "  </thead>\n",
       "  <tbody>\n",
       "    <tr>\n",
       "      <th>姓名</th>\n",
       "      <td>小陈</td>\n",
       "      <td>小李</td>\n",
       "      <td>小王</td>\n",
       "      <td>小张</td>\n",
       "      <td>小赵</td>\n",
       "      <td>小周</td>\n",
       "    </tr>\n",
       "    <tr>\n",
       "      <th>性别</th>\n",
       "      <td>男</td>\n",
       "      <td>女</td>\n",
       "      <td>男</td>\n",
       "      <td>男</td>\n",
       "      <td>女</td>\n",
       "      <td>女</td>\n",
       "    </tr>\n",
       "    <tr>\n",
       "      <th>身高</th>\n",
       "      <td>172.5</td>\n",
       "      <td>168.0</td>\n",
       "      <td>178.2</td>\n",
       "      <td>181.3</td>\n",
       "      <td>161.7</td>\n",
       "      <td>NaN</td>\n",
       "    </tr>\n",
       "  </tbody>\n",
       "</table>\n",
       "</div>"
      ],
      "text/plain": [
       "      001    002    003    004    005  006\n",
       "姓名     小陈     小李     小王     小张     小赵   小周\n",
       "性别      男      女      男      男      女    女\n",
       "身高  172.5  168.0  178.2  181.3  161.7  NaN"
      ]
     },
     "execution_count": 4,
     "metadata": {},
     "output_type": "execute_result"
    }
   ],
   "source": [
    "students.T"
   ]
  },
  {
   "cell_type": "markdown",
   "id": "ce407f84-0e94-439e-810c-251bd92a717e",
   "metadata": {},
   "source": [
    "输出 students 的身高列。"
   ]
  },
  {
   "cell_type": "code",
   "execution_count": 5,
   "id": "6bafa5d8-52e1-4132-bceb-84bdf5a9bf97",
   "metadata": {},
   "outputs": [
    {
     "data": {
      "text/plain": [
       "001    172.5\n",
       "002    168.0\n",
       "003    178.2\n",
       "004    181.3\n",
       "005    161.7\n",
       "006      NaN\n",
       "Name: 身高, dtype: float64"
      ]
     },
     "execution_count": 5,
     "metadata": {},
     "output_type": "execute_result"
    }
   ],
   "source": [
    "students.身高"
   ]
  },
  {
   "cell_type": "code",
   "execution_count": 6,
   "id": "276f294b-3736-4012-8451-c312b4345e10",
   "metadata": {},
   "outputs": [
    {
     "data": {
      "text/plain": [
       "001    172.5\n",
       "002    168.0\n",
       "003    178.2\n",
       "004    181.3\n",
       "005    161.7\n",
       "006      NaN\n",
       "Name: 身高, dtype: float64"
      ]
     },
     "execution_count": 6,
     "metadata": {},
     "output_type": "execute_result"
    }
   ],
   "source": [
    "students['身高']"
   ]
  },
  {
   "cell_type": "markdown",
   "id": "dcdd1ab5-18e8-43b0-b702-216d667eb7b0",
   "metadata": {},
   "source": [
    "输出 students 的性别和身高列。"
   ]
  },
  {
   "cell_type": "code",
   "execution_count": 7,
   "id": "190b8372-8fda-49f4-af53-3d4ac93e722e",
   "metadata": {},
   "outputs": [
    {
     "data": {
      "text/html": [
       "<div>\n",
       "<style scoped>\n",
       "    .dataframe tbody tr th:only-of-type {\n",
       "        vertical-align: middle;\n",
       "    }\n",
       "\n",
       "    .dataframe tbody tr th {\n",
       "        vertical-align: top;\n",
       "    }\n",
       "\n",
       "    .dataframe thead th {\n",
       "        text-align: right;\n",
       "    }\n",
       "</style>\n",
       "<table border=\"1\" class=\"dataframe\">\n",
       "  <thead>\n",
       "    <tr style=\"text-align: right;\">\n",
       "      <th></th>\n",
       "      <th>性别</th>\n",
       "      <th>身高</th>\n",
       "    </tr>\n",
       "  </thead>\n",
       "  <tbody>\n",
       "    <tr>\n",
       "      <th>001</th>\n",
       "      <td>男</td>\n",
       "      <td>172.5</td>\n",
       "    </tr>\n",
       "    <tr>\n",
       "      <th>002</th>\n",
       "      <td>女</td>\n",
       "      <td>168.0</td>\n",
       "    </tr>\n",
       "    <tr>\n",
       "      <th>003</th>\n",
       "      <td>男</td>\n",
       "      <td>178.2</td>\n",
       "    </tr>\n",
       "    <tr>\n",
       "      <th>004</th>\n",
       "      <td>男</td>\n",
       "      <td>181.3</td>\n",
       "    </tr>\n",
       "    <tr>\n",
       "      <th>005</th>\n",
       "      <td>女</td>\n",
       "      <td>161.7</td>\n",
       "    </tr>\n",
       "    <tr>\n",
       "      <th>006</th>\n",
       "      <td>女</td>\n",
       "      <td>NaN</td>\n",
       "    </tr>\n",
       "  </tbody>\n",
       "</table>\n",
       "</div>"
      ],
      "text/plain": [
       "    性别     身高\n",
       "001  男  172.5\n",
       "002  女  168.0\n",
       "003  男  178.2\n",
       "004  男  181.3\n",
       "005  女  161.7\n",
       "006  女    NaN"
      ]
     },
     "execution_count": 7,
     "metadata": {},
     "output_type": "execute_result"
    }
   ],
   "source": [
    "students[['性别','身高']]"
   ]
  },
  {
   "cell_type": "markdown",
   "id": "04ca1ec8-024f-44f1-8652-e3ac53e77cbf",
   "metadata": {},
   "source": [
    "输出 students 索引为003的行。"
   ]
  },
  {
   "cell_type": "code",
   "execution_count": 8,
   "id": "82671801-8252-4af1-a4bb-2baf0f6a85d9",
   "metadata": {},
   "outputs": [
    {
     "data": {
      "text/html": [
       "<div>\n",
       "<style scoped>\n",
       "    .dataframe tbody tr th:only-of-type {\n",
       "        vertical-align: middle;\n",
       "    }\n",
       "\n",
       "    .dataframe tbody tr th {\n",
       "        vertical-align: top;\n",
       "    }\n",
       "\n",
       "    .dataframe thead th {\n",
       "        text-align: right;\n",
       "    }\n",
       "</style>\n",
       "<table border=\"1\" class=\"dataframe\">\n",
       "  <thead>\n",
       "    <tr style=\"text-align: right;\">\n",
       "      <th></th>\n",
       "      <th>姓名</th>\n",
       "      <th>性别</th>\n",
       "      <th>身高</th>\n",
       "    </tr>\n",
       "  </thead>\n",
       "  <tbody>\n",
       "    <tr>\n",
       "      <th>003</th>\n",
       "      <td>小王</td>\n",
       "      <td>男</td>\n",
       "      <td>178.2</td>\n",
       "    </tr>\n",
       "  </tbody>\n",
       "</table>\n",
       "</div>"
      ],
      "text/plain": [
       "     姓名 性别     身高\n",
       "003  小王  男  178.2"
      ]
     },
     "execution_count": 8,
     "metadata": {},
     "output_type": "execute_result"
    }
   ],
   "source": [
    "students[students.index == '003']"
   ]
  },
  {
   "cell_type": "code",
   "execution_count": 9,
   "id": "9712a6a6-91fe-4eb9-900b-3258cfdafc9e",
   "metadata": {},
   "outputs": [
    {
     "data": {
      "text/plain": [
       "姓名       小王\n",
       "性别        男\n",
       "身高    178.2\n",
       "Name: 003, dtype: object"
      ]
     },
     "execution_count": 9,
     "metadata": {},
     "output_type": "execute_result"
    }
   ],
   "source": [
    "students.iloc[2]"
   ]
  },
  {
   "cell_type": "code",
   "execution_count": 10,
   "id": "1a1ece03-211d-4a43-9a66-15f96a77505c",
   "metadata": {},
   "outputs": [
    {
     "data": {
      "text/plain": [
       "姓名       小王\n",
       "性别        男\n",
       "身高    178.2\n",
       "Name: 003, dtype: object"
      ]
     },
     "execution_count": 10,
     "metadata": {},
     "output_type": "execute_result"
    }
   ],
   "source": [
    "students.loc['003']"
   ]
  },
  {
   "cell_type": "markdown",
   "id": "b724e4fc-7a6c-4a07-ac82-0c0838eafc41",
   "metadata": {},
   "source": [
    "输出 students 索引为003、004、005的行。"
   ]
  },
  {
   "cell_type": "code",
   "execution_count": 11,
   "id": "8c1a5d02-0c77-4d2a-afa9-acb8529636ae",
   "metadata": {},
   "outputs": [
    {
     "data": {
      "text/html": [
       "<div>\n",
       "<style scoped>\n",
       "    .dataframe tbody tr th:only-of-type {\n",
       "        vertical-align: middle;\n",
       "    }\n",
       "\n",
       "    .dataframe tbody tr th {\n",
       "        vertical-align: top;\n",
       "    }\n",
       "\n",
       "    .dataframe thead th {\n",
       "        text-align: right;\n",
       "    }\n",
       "</style>\n",
       "<table border=\"1\" class=\"dataframe\">\n",
       "  <thead>\n",
       "    <tr style=\"text-align: right;\">\n",
       "      <th></th>\n",
       "      <th>姓名</th>\n",
       "      <th>性别</th>\n",
       "      <th>身高</th>\n",
       "    </tr>\n",
       "  </thead>\n",
       "  <tbody>\n",
       "    <tr>\n",
       "      <th>003</th>\n",
       "      <td>小王</td>\n",
       "      <td>男</td>\n",
       "      <td>178.2</td>\n",
       "    </tr>\n",
       "    <tr>\n",
       "      <th>004</th>\n",
       "      <td>小张</td>\n",
       "      <td>男</td>\n",
       "      <td>181.3</td>\n",
       "    </tr>\n",
       "    <tr>\n",
       "      <th>005</th>\n",
       "      <td>小赵</td>\n",
       "      <td>女</td>\n",
       "      <td>161.7</td>\n",
       "    </tr>\n",
       "  </tbody>\n",
       "</table>\n",
       "</div>"
      ],
      "text/plain": [
       "     姓名 性别     身高\n",
       "003  小王  男  178.2\n",
       "004  小张  男  181.3\n",
       "005  小赵  女  161.7"
      ]
     },
     "execution_count": 11,
     "metadata": {},
     "output_type": "execute_result"
    }
   ],
   "source": [
    "students.iloc[2:5,:]"
   ]
  },
  {
   "cell_type": "code",
   "execution_count": 12,
   "id": "5bee83d4-1799-4772-bfeb-45a4fabdf5a5",
   "metadata": {},
   "outputs": [
    {
     "data": {
      "text/html": [
       "<div>\n",
       "<style scoped>\n",
       "    .dataframe tbody tr th:only-of-type {\n",
       "        vertical-align: middle;\n",
       "    }\n",
       "\n",
       "    .dataframe tbody tr th {\n",
       "        vertical-align: top;\n",
       "    }\n",
       "\n",
       "    .dataframe thead th {\n",
       "        text-align: right;\n",
       "    }\n",
       "</style>\n",
       "<table border=\"1\" class=\"dataframe\">\n",
       "  <thead>\n",
       "    <tr style=\"text-align: right;\">\n",
       "      <th></th>\n",
       "      <th>姓名</th>\n",
       "      <th>性别</th>\n",
       "      <th>身高</th>\n",
       "    </tr>\n",
       "  </thead>\n",
       "  <tbody>\n",
       "    <tr>\n",
       "      <th>003</th>\n",
       "      <td>小王</td>\n",
       "      <td>男</td>\n",
       "      <td>178.2</td>\n",
       "    </tr>\n",
       "    <tr>\n",
       "      <th>004</th>\n",
       "      <td>小张</td>\n",
       "      <td>男</td>\n",
       "      <td>181.3</td>\n",
       "    </tr>\n",
       "    <tr>\n",
       "      <th>005</th>\n",
       "      <td>小赵</td>\n",
       "      <td>女</td>\n",
       "      <td>161.7</td>\n",
       "    </tr>\n",
       "  </tbody>\n",
       "</table>\n",
       "</div>"
      ],
      "text/plain": [
       "     姓名 性别     身高\n",
       "003  小王  男  178.2\n",
       "004  小张  男  181.3\n",
       "005  小赵  女  161.7"
      ]
     },
     "execution_count": 12,
     "metadata": {},
     "output_type": "execute_result"
    }
   ],
   "source": [
    "students.loc['003':'005']"
   ]
  },
  {
   "cell_type": "markdown",
   "id": "c04d00c5-3447-41ba-9690-ed70542a0a77",
   "metadata": {},
   "source": [
    "输出 students 里索引为005的身高"
   ]
  },
  {
   "cell_type": "code",
   "execution_count": 13,
   "id": "eb305123-a025-48b7-a940-5f68f7559366",
   "metadata": {},
   "outputs": [
    {
     "data": {
      "text/plain": [
       "np.float64(161.7)"
      ]
     },
     "execution_count": 13,
     "metadata": {},
     "output_type": "execute_result"
    }
   ],
   "source": [
    "students.iloc[4,2]"
   ]
  },
  {
   "cell_type": "code",
   "execution_count": 14,
   "id": "4f966c47-2ae1-4739-941a-828f92daa1ab",
   "metadata": {},
   "outputs": [
    {
     "data": {
      "text/plain": [
       "np.float64(161.7)"
      ]
     },
     "execution_count": 14,
     "metadata": {},
     "output_type": "execute_result"
    }
   ],
   "source": [
    "students.loc['005','身高']"
   ]
  },
  {
   "cell_type": "markdown",
   "id": "71fcb03c-10cd-4d55-84f5-63f42a9c52ce",
   "metadata": {},
   "source": [
    "输出 students 索引为003、005的数据的姓名和身高。"
   ]
  },
  {
   "cell_type": "code",
   "execution_count": 15,
   "id": "72e2ea89-3158-4b12-bc13-34f9dec5826d",
   "metadata": {},
   "outputs": [
    {
     "data": {
      "text/html": [
       "<div>\n",
       "<style scoped>\n",
       "    .dataframe tbody tr th:only-of-type {\n",
       "        vertical-align: middle;\n",
       "    }\n",
       "\n",
       "    .dataframe tbody tr th {\n",
       "        vertical-align: top;\n",
       "    }\n",
       "\n",
       "    .dataframe thead th {\n",
       "        text-align: right;\n",
       "    }\n",
       "</style>\n",
       "<table border=\"1\" class=\"dataframe\">\n",
       "  <thead>\n",
       "    <tr style=\"text-align: right;\">\n",
       "      <th></th>\n",
       "      <th>姓名</th>\n",
       "      <th>身高</th>\n",
       "    </tr>\n",
       "  </thead>\n",
       "  <tbody>\n",
       "    <tr>\n",
       "      <th>003</th>\n",
       "      <td>小王</td>\n",
       "      <td>178.2</td>\n",
       "    </tr>\n",
       "    <tr>\n",
       "      <th>005</th>\n",
       "      <td>小赵</td>\n",
       "      <td>161.7</td>\n",
       "    </tr>\n",
       "  </tbody>\n",
       "</table>\n",
       "</div>"
      ],
      "text/plain": [
       "     姓名     身高\n",
       "003  小王  178.2\n",
       "005  小赵  161.7"
      ]
     },
     "execution_count": 15,
     "metadata": {},
     "output_type": "execute_result"
    }
   ],
   "source": [
    "students.iloc[[2,4],[0,2]]"
   ]
  },
  {
   "cell_type": "code",
   "execution_count": 16,
   "id": "840ee675-428e-45f2-b8bf-3ac8d5095f95",
   "metadata": {},
   "outputs": [
    {
     "data": {
      "text/html": [
       "<div>\n",
       "<style scoped>\n",
       "    .dataframe tbody tr th:only-of-type {\n",
       "        vertical-align: middle;\n",
       "    }\n",
       "\n",
       "    .dataframe tbody tr th {\n",
       "        vertical-align: top;\n",
       "    }\n",
       "\n",
       "    .dataframe thead th {\n",
       "        text-align: right;\n",
       "    }\n",
       "</style>\n",
       "<table border=\"1\" class=\"dataframe\">\n",
       "  <thead>\n",
       "    <tr style=\"text-align: right;\">\n",
       "      <th></th>\n",
       "      <th>姓名</th>\n",
       "      <th>身高</th>\n",
       "    </tr>\n",
       "  </thead>\n",
       "  <tbody>\n",
       "    <tr>\n",
       "      <th>003</th>\n",
       "      <td>小王</td>\n",
       "      <td>178.2</td>\n",
       "    </tr>\n",
       "    <tr>\n",
       "      <th>005</th>\n",
       "      <td>小赵</td>\n",
       "      <td>161.7</td>\n",
       "    </tr>\n",
       "  </tbody>\n",
       "</table>\n",
       "</div>"
      ],
      "text/plain": [
       "     姓名     身高\n",
       "003  小王  178.2\n",
       "005  小赵  161.7"
      ]
     },
     "execution_count": 16,
     "metadata": {},
     "output_type": "execute_result"
    }
   ],
   "source": [
    "students.loc[['003','005'],['姓名','身高']]"
   ]
  },
  {
   "cell_type": "markdown",
   "id": "b042e05e-32f3-4a5a-96c1-f4a9ddac809b",
   "metadata": {},
   "source": [
    "输出 students 索引为003、005的数据的所有变量。"
   ]
  },
  {
   "cell_type": "code",
   "execution_count": 17,
   "id": "795ef210-fdf9-4bad-83f0-aa1c983d0548",
   "metadata": {},
   "outputs": [
    {
     "data": {
      "text/html": [
       "<div>\n",
       "<style scoped>\n",
       "    .dataframe tbody tr th:only-of-type {\n",
       "        vertical-align: middle;\n",
       "    }\n",
       "\n",
       "    .dataframe tbody tr th {\n",
       "        vertical-align: top;\n",
       "    }\n",
       "\n",
       "    .dataframe thead th {\n",
       "        text-align: right;\n",
       "    }\n",
       "</style>\n",
       "<table border=\"1\" class=\"dataframe\">\n",
       "  <thead>\n",
       "    <tr style=\"text-align: right;\">\n",
       "      <th></th>\n",
       "      <th>姓名</th>\n",
       "      <th>性别</th>\n",
       "      <th>身高</th>\n",
       "    </tr>\n",
       "  </thead>\n",
       "  <tbody>\n",
       "    <tr>\n",
       "      <th>003</th>\n",
       "      <td>小王</td>\n",
       "      <td>男</td>\n",
       "      <td>178.2</td>\n",
       "    </tr>\n",
       "    <tr>\n",
       "      <th>005</th>\n",
       "      <td>小赵</td>\n",
       "      <td>女</td>\n",
       "      <td>161.7</td>\n",
       "    </tr>\n",
       "  </tbody>\n",
       "</table>\n",
       "</div>"
      ],
      "text/plain": [
       "     姓名 性别     身高\n",
       "003  小王  男  178.2\n",
       "005  小赵  女  161.7"
      ]
     },
     "execution_count": 17,
     "metadata": {},
     "output_type": "execute_result"
    }
   ],
   "source": [
    "students.iloc[[2,4],:]"
   ]
  },
  {
   "cell_type": "code",
   "execution_count": 18,
   "id": "1a473c42-8e0c-4cd1-bab7-c153470467f4",
   "metadata": {},
   "outputs": [
    {
     "data": {
      "text/html": [
       "<div>\n",
       "<style scoped>\n",
       "    .dataframe tbody tr th:only-of-type {\n",
       "        vertical-align: middle;\n",
       "    }\n",
       "\n",
       "    .dataframe tbody tr th {\n",
       "        vertical-align: top;\n",
       "    }\n",
       "\n",
       "    .dataframe thead th {\n",
       "        text-align: right;\n",
       "    }\n",
       "</style>\n",
       "<table border=\"1\" class=\"dataframe\">\n",
       "  <thead>\n",
       "    <tr style=\"text-align: right;\">\n",
       "      <th></th>\n",
       "      <th>姓名</th>\n",
       "      <th>性别</th>\n",
       "      <th>身高</th>\n",
       "    </tr>\n",
       "  </thead>\n",
       "  <tbody>\n",
       "    <tr>\n",
       "      <th>003</th>\n",
       "      <td>小王</td>\n",
       "      <td>男</td>\n",
       "      <td>178.2</td>\n",
       "    </tr>\n",
       "    <tr>\n",
       "      <th>005</th>\n",
       "      <td>小赵</td>\n",
       "      <td>女</td>\n",
       "      <td>161.7</td>\n",
       "    </tr>\n",
       "  </tbody>\n",
       "</table>\n",
       "</div>"
      ],
      "text/plain": [
       "     姓名 性别     身高\n",
       "003  小王  男  178.2\n",
       "005  小赵  女  161.7"
      ]
     },
     "execution_count": 18,
     "metadata": {},
     "output_type": "execute_result"
    }
   ],
   "source": [
    "students.loc[['003','005'],:]"
   ]
  },
  {
   "cell_type": "markdown",
   "id": "f27a2a55-d335-42ca-91af-e5376efab36e",
   "metadata": {},
   "source": [
    "输出 students 里身高大于165的女性。"
   ]
  },
  {
   "cell_type": "code",
   "execution_count": 19,
   "id": "a6bde54f-7b4f-4284-8744-b1a59ba3b411",
   "metadata": {},
   "outputs": [
    {
     "data": {
      "text/html": [
       "<div>\n",
       "<style scoped>\n",
       "    .dataframe tbody tr th:only-of-type {\n",
       "        vertical-align: middle;\n",
       "    }\n",
       "\n",
       "    .dataframe tbody tr th {\n",
       "        vertical-align: top;\n",
       "    }\n",
       "\n",
       "    .dataframe thead th {\n",
       "        text-align: right;\n",
       "    }\n",
       "</style>\n",
       "<table border=\"1\" class=\"dataframe\">\n",
       "  <thead>\n",
       "    <tr style=\"text-align: right;\">\n",
       "      <th></th>\n",
       "      <th>姓名</th>\n",
       "      <th>性别</th>\n",
       "      <th>身高</th>\n",
       "    </tr>\n",
       "  </thead>\n",
       "  <tbody>\n",
       "    <tr>\n",
       "      <th>002</th>\n",
       "      <td>小李</td>\n",
       "      <td>女</td>\n",
       "      <td>168.0</td>\n",
       "    </tr>\n",
       "  </tbody>\n",
       "</table>\n",
       "</div>"
      ],
      "text/plain": [
       "     姓名 性别     身高\n",
       "002  小李  女  168.0"
      ]
     },
     "execution_count": 19,
     "metadata": {},
     "output_type": "execute_result"
    }
   ],
   "source": [
    "students[(students.身高>165) & (students.性别 == '女')]"
   ]
  },
  {
   "cell_type": "markdown",
   "id": "ffc30ff2-4820-4381-941c-c516f6437c61",
   "metadata": {},
   "source": [
    "通过 head 方法，输出 students 前五行数据。"
   ]
  },
  {
   "cell_type": "code",
   "execution_count": 20,
   "id": "29224be3-7bc7-4c4d-a421-b6086713e030",
   "metadata": {},
   "outputs": [
    {
     "data": {
      "text/html": [
       "<div>\n",
       "<style scoped>\n",
       "    .dataframe tbody tr th:only-of-type {\n",
       "        vertical-align: middle;\n",
       "    }\n",
       "\n",
       "    .dataframe tbody tr th {\n",
       "        vertical-align: top;\n",
       "    }\n",
       "\n",
       "    .dataframe thead th {\n",
       "        text-align: right;\n",
       "    }\n",
       "</style>\n",
       "<table border=\"1\" class=\"dataframe\">\n",
       "  <thead>\n",
       "    <tr style=\"text-align: right;\">\n",
       "      <th></th>\n",
       "      <th>姓名</th>\n",
       "      <th>性别</th>\n",
       "      <th>身高</th>\n",
       "    </tr>\n",
       "  </thead>\n",
       "  <tbody>\n",
       "    <tr>\n",
       "      <th>001</th>\n",
       "      <td>小陈</td>\n",
       "      <td>男</td>\n",
       "      <td>172.5</td>\n",
       "    </tr>\n",
       "    <tr>\n",
       "      <th>002</th>\n",
       "      <td>小李</td>\n",
       "      <td>女</td>\n",
       "      <td>168.0</td>\n",
       "    </tr>\n",
       "    <tr>\n",
       "      <th>003</th>\n",
       "      <td>小王</td>\n",
       "      <td>男</td>\n",
       "      <td>178.2</td>\n",
       "    </tr>\n",
       "    <tr>\n",
       "      <th>004</th>\n",
       "      <td>小张</td>\n",
       "      <td>男</td>\n",
       "      <td>181.3</td>\n",
       "    </tr>\n",
       "    <tr>\n",
       "      <th>005</th>\n",
       "      <td>小赵</td>\n",
       "      <td>女</td>\n",
       "      <td>161.7</td>\n",
       "    </tr>\n",
       "  </tbody>\n",
       "</table>\n",
       "</div>"
      ],
      "text/plain": [
       "     姓名 性别     身高\n",
       "001  小陈  男  172.5\n",
       "002  小李  女  168.0\n",
       "003  小王  男  178.2\n",
       "004  小张  男  181.3\n",
       "005  小赵  女  161.7"
      ]
     },
     "execution_count": 20,
     "metadata": {},
     "output_type": "execute_result"
    }
   ],
   "source": [
    "students.head()"
   ]
  },
  {
   "cell_type": "code",
   "execution_count": 21,
   "id": "c1fd4de4-6f86-4b45-896c-ca062f806752",
   "metadata": {},
   "outputs": [
    {
     "data": {
      "text/html": [
       "<div>\n",
       "<style scoped>\n",
       "    .dataframe tbody tr th:only-of-type {\n",
       "        vertical-align: middle;\n",
       "    }\n",
       "\n",
       "    .dataframe tbody tr th {\n",
       "        vertical-align: top;\n",
       "    }\n",
       "\n",
       "    .dataframe thead th {\n",
       "        text-align: right;\n",
       "    }\n",
       "</style>\n",
       "<table border=\"1\" class=\"dataframe\">\n",
       "  <thead>\n",
       "    <tr style=\"text-align: right;\">\n",
       "      <th></th>\n",
       "      <th>姓名</th>\n",
       "      <th>性别</th>\n",
       "      <th>身高</th>\n",
       "    </tr>\n",
       "  </thead>\n",
       "  <tbody>\n",
       "    <tr>\n",
       "      <th>001</th>\n",
       "      <td>小陈</td>\n",
       "      <td>男</td>\n",
       "      <td>172.5</td>\n",
       "    </tr>\n",
       "    <tr>\n",
       "      <th>002</th>\n",
       "      <td>小李</td>\n",
       "      <td>女</td>\n",
       "      <td>168.0</td>\n",
       "    </tr>\n",
       "  </tbody>\n",
       "</table>\n",
       "</div>"
      ],
      "text/plain": [
       "     姓名 性别     身高\n",
       "001  小陈  男  172.5\n",
       "002  小李  女  168.0"
      ]
     },
     "execution_count": 21,
     "metadata": {},
     "output_type": "execute_result"
    }
   ],
   "source": [
    "students.head(2)"
   ]
  },
  {
   "cell_type": "code",
   "execution_count": null,
   "id": "33e97494-dcec-4185-b5d7-3ef22059529d",
   "metadata": {},
   "outputs": [],
   "source": []
  },
  {
   "cell_type": "code",
   "execution_count": null,
   "id": "7dd9e52a-f620-4eac-9dbb-d85a40b97f9e",
   "metadata": {},
   "outputs": [],
   "source": []
  },
  {
   "cell_type": "code",
   "execution_count": null,
   "id": "1226c210-112b-4d24-9e6d-0c4cfc39fe74",
   "metadata": {},
   "outputs": [],
   "source": []
  },
  {
   "cell_type": "code",
   "execution_count": null,
   "id": "0a2c7e32-070e-4a83-b09a-5f99195f3448",
   "metadata": {},
   "outputs": [],
   "source": []
  },
  {
   "cell_type": "code",
   "execution_count": null,
   "id": "d47016a1-cd76-4a8e-9936-bc8fbbb03903",
   "metadata": {},
   "outputs": [],
   "source": []
  },
  {
   "cell_type": "code",
   "execution_count": null,
   "id": "1d8c3082-5128-4128-8525-c51a18df4dc5",
   "metadata": {},
   "outputs": [],
   "source": []
  }
 ],
 "metadata": {
  "kernelspec": {
   "display_name": "Python 3 (ipykernel)",
   "language": "python",
   "name": "python3"
  },
  "language_info": {
   "codemirror_mode": {
    "name": "ipython",
    "version": 3
   },
   "file_extension": ".py",
   "mimetype": "text/x-python",
   "name": "python",
   "nbconvert_exporter": "python",
   "pygments_lexer": "ipython3",
   "version": "3.12.0"
  }
 },
 "nbformat": 4,
 "nbformat_minor": 5
}
