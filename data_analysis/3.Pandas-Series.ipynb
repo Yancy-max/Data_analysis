{
 "cells": [
  {
   "cell_type": "code",
   "execution_count": 1,
   "id": "9da0ea34-ad7a-4c8b-8685-7acc3645541b",
   "metadata": {},
   "outputs": [],
   "source": [
    "import pandas as pd"
   ]
  },
  {
   "cell_type": "markdown",
   "id": "36ea10f1-e33f-42b6-9036-d371b166c6f5",
   "metadata": {},
   "source": [
    "pandas的数据结构Series与Numpy的数据结构一维数组类似:<br>array只有0-n-1的索引方式，Series除了这种下标索引还可以自定义索引(即标签索引)<br>Series中数据类型不必和array数据类型必须一致一样，可混合<br>numpy的array注重底层数值计算，pandas的Series注重数值分析和处理"
   ]
  },
  {
   "cell_type": "markdown",
   "id": "8caea1aa-de0c-4bff-8ea4-82a22103d61e",
   "metadata": {
    "jp-MarkdownHeadingCollapsed": true
   },
   "source": [
    "## numpy-1维数组与pandas-Series的相似"
   ]
  },
  {
   "cell_type": "code",
   "execution_count": 2,
   "id": "d0302f88-d353-44bd-8de0-65d13eb5eecb",
   "metadata": {},
   "outputs": [
    {
     "name": "stdout",
     "output_type": "stream",
     "text": [
      "0     1\n",
      "1    23\n",
      "2    17\n",
      "3    68\n",
      "4    99\n",
      "dtype: int64\n",
      "[ 1 23 17 68 99]\n"
     ]
    },
    {
     "data": {
      "text/plain": [
       "RangeIndex(start=0, stop=5, step=1)"
      ]
     },
     "execution_count": 2,
     "metadata": {},
     "output_type": "execute_result"
    }
   ],
   "source": [
    "s1 = pd.Series([1,23,17,68,99])\n",
    "print(s1)\n",
    "print(s1.values)\n",
    "s1.index"
   ]
  },
  {
   "cell_type": "code",
   "execution_count": 3,
   "id": "4903b279-ba6f-4863-a595-191a2785415a",
   "metadata": {},
   "outputs": [
    {
     "name": "stdout",
     "output_type": "stream",
     "text": [
      "17\n"
     ]
    },
    {
     "data": {
      "text/plain": [
       "1    23\n",
       "2    17\n",
       "dtype: int64"
      ]
     },
     "execution_count": 3,
     "metadata": {},
     "output_type": "execute_result"
    }
   ],
   "source": [
    "print(s1[2])\n",
    "s1[1:3]"
   ]
  },
  {
   "cell_type": "markdown",
   "id": "2ffc1aeb-2e87-424f-9aff-1744acbe6536",
   "metadata": {
    "jp-MarkdownHeadingCollapsed": true
   },
   "source": [
    "## numpy-1维数组与pandas-Series的不同"
   ]
  },
  {
   "cell_type": "code",
   "execution_count": 4,
   "id": "65d71ab5-81a0-451b-a411-c2cb77b8284a",
   "metadata": {},
   "outputs": [
    {
     "name": "stdout",
     "output_type": "stream",
     "text": [
      "1\n",
      "1\n"
     ]
    }
   ],
   "source": [
    "s2 = pd.Series([1,2,3,4,5],index=['a','b','c','d','e'])\n",
    "print(s2.iloc[0])\n",
    "print(s2['a'])"
   ]
  },
  {
   "cell_type": "markdown",
   "id": "a99bba99-f659-4fd0-bceb-dcdec5ff25bb",
   "metadata": {},
   "source": [
    "**注意！！在numpy中arr[0]可用下标表示，在最新pandas中可以用标签表示法s['a']表示但若要用下标表示最好别用s[0]而是用s.iloc[0]来表示！！老版本的pandas可以**"
   ]
  },
  {
   "cell_type": "markdown",
   "id": "c5d1a4d7-8521-4cab-bfa0-cfb8412164f8",
   "metadata": {},
   "source": [
    "*这个就和之前我做web项目一样，在python2.0以前允许在template的html文件中用<a>以GET请求传给logout视图函数但是现在要想完成注销必须用<form>指定POST请求才可以传送给logout函数*"
   ]
  },
  {
   "cell_type": "code",
   "execution_count": 5,
   "id": "b72989d8-cb27-4466-9d4f-c155ad9ba0e2",
   "metadata": {},
   "outputs": [
    {
     "name": "stdout",
     "output_type": "stream",
     "text": [
      "1\n"
     ]
    }
   ],
   "source": [
    "print(s2.iloc[0])"
   ]
  },
  {
   "cell_type": "code",
   "execution_count": 6,
   "id": "03c34280-d88c-40be-8a59-52796674a743",
   "metadata": {},
   "outputs": [
    {
     "name": "stdout",
     "output_type": "stream",
     "text": [
      "1\n"
     ]
    },
    {
     "name": "stderr",
     "output_type": "stream",
     "text": [
      "C:\\Users\\杨加春\\AppData\\Local\\Temp\\ipykernel_19148\\3381675008.py:1: FutureWarning: Series.__getitem__ treating keys as positions is deprecated. In a future version, integer keys will always be treated as labels (consistent with DataFrame behavior). To access a value by position, use `ser.iloc[pos]`\n",
      "  print(s2[0])\n"
     ]
    }
   ],
   "source": [
    "print(s2[0])"
   ]
  },
  {
   "cell_type": "code",
   "execution_count": 7,
   "id": "1dc7fcc1-dceb-440c-a929-886b5f55a46c",
   "metadata": {},
   "outputs": [
    {
     "name": "stderr",
     "output_type": "stream",
     "text": [
      "C:\\Users\\杨加春\\AppData\\Local\\Temp\\ipykernel_19148\\2344841457.py:1: FutureWarning: Series.__getitem__ treating keys as positions is deprecated. In a future version, integer keys will always be treated as labels (consistent with DataFrame behavior). To access a value by position, use `ser.iloc[pos]`\n",
      "  s2[0]\n"
     ]
    },
    {
     "data": {
      "text/plain": [
       "np.int64(1)"
      ]
     },
     "execution_count": 7,
     "metadata": {},
     "output_type": "execute_result"
    }
   ],
   "source": [
    "s2[0]"
   ]
  },
  {
   "cell_type": "code",
   "execution_count": 8,
   "id": "2dee9aeb-85a9-4b18-9e18-1da2d4db81c2",
   "metadata": {},
   "outputs": [
    {
     "data": {
      "text/plain": [
       "np.int64(1)"
      ]
     },
     "execution_count": 8,
     "metadata": {},
     "output_type": "execute_result"
    }
   ],
   "source": [
    "s2.iloc[0]"
   ]
  },
  {
   "cell_type": "markdown",
   "id": "1c88e2bd-a40a-42f7-961c-dced43a34457",
   "metadata": {},
   "source": [
    "标签表示法的切片不同于下标，它是左闭右闭，并且对于切片的下标表示法无需用.iloc[]，在series中取值时s[3]3默认表示标签，所以在你没有定义整数标签时候会报错，在series中切片时候s[0:3]这里的03默认表示下标，这也是你不加iloc不报错原因"
   ]
  },
  {
   "cell_type": "code",
   "execution_count": 9,
   "id": "9d64be3c-f80b-45ca-a11b-bd318a053653",
   "metadata": {},
   "outputs": [
    {
     "data": {
      "text/plain": [
       "a    1\n",
       "b    2\n",
       "c    3\n",
       "dtype: int64"
      ]
     },
     "execution_count": 9,
     "metadata": {},
     "output_type": "execute_result"
    }
   ],
   "source": [
    "s2['a':'c']"
   ]
  },
  {
   "cell_type": "code",
   "execution_count": 10,
   "id": "7b7cbfd9-453c-45e1-a7a2-a8da71dcb5f0",
   "metadata": {},
   "outputs": [
    {
     "data": {
      "text/plain": [
       "a    1\n",
       "b    2\n",
       "dtype: int64"
      ]
     },
     "execution_count": 10,
     "metadata": {},
     "output_type": "execute_result"
    }
   ],
   "source": [
    "s2[0:2]"
   ]
  },
  {
   "cell_type": "markdown",
   "id": "5864f097-3ee2-41b1-8632-1b32168d7887",
   "metadata": {},
   "source": [
    "对于Series的元素可以提取指定顺序的切片"
   ]
  },
  {
   "cell_type": "code",
   "execution_count": 11,
   "id": "d90b8c81-9e46-44aa-97df-d521473c377f",
   "metadata": {},
   "outputs": [
    {
     "data": {
      "text/plain": [
       "a    1\n",
       "c    3\n",
       "e    5\n",
       "dtype: int64"
      ]
     },
     "execution_count": 11,
     "metadata": {},
     "output_type": "execute_result"
    }
   ],
   "source": [
    "s2[['a','c','e']]"
   ]
  },
  {
   "cell_type": "code",
   "execution_count": 12,
   "id": "b4b97564-741d-49df-9298-0433e16596b2",
   "metadata": {},
   "outputs": [
    {
     "name": "stderr",
     "output_type": "stream",
     "text": [
      "C:\\Users\\杨加春\\AppData\\Local\\Temp\\ipykernel_19148\\3237947970.py:1: FutureWarning: Series.__getitem__ treating keys as positions is deprecated. In a future version, integer keys will always be treated as labels (consistent with DataFrame behavior). To access a value by position, use `ser.iloc[pos]`\n",
      "  s2[[0,2,4]]\n"
     ]
    },
    {
     "data": {
      "text/plain": [
       "a    1\n",
       "c    3\n",
       "e    5\n",
       "dtype: int64"
      ]
     },
     "execution_count": 12,
     "metadata": {},
     "output_type": "execute_result"
    }
   ],
   "source": [
    "s2[[0,2,4]]"
   ]
  },
  {
   "cell_type": "code",
   "execution_count": 13,
   "id": "09dfc372-e039-4cfe-b623-8df7660ce1ce",
   "metadata": {},
   "outputs": [
    {
     "data": {
      "text/plain": [
       "a    1\n",
       "c    3\n",
       "e    5\n",
       "dtype: int64"
      ]
     },
     "execution_count": 13,
     "metadata": {},
     "output_type": "execute_result"
    }
   ],
   "source": [
    "s2.iloc[[0,2,4]]"
   ]
  },
  {
   "cell_type": "markdown",
   "id": "c189cf1f-2af3-4312-9951-2f90367ba8b3",
   "metadata": {},
   "source": [
    "在Series中因为你既可以用下标进行索引，也可以用标签进行索引，其中标签索引你可用字母作为标签，也可以用整数作为标签，那么在使用series[3]时候pandas就无法确定你这3是指索引3还是标签3，容易造成误会所以我不建议你在series中取值用 series[数字]这种方法，而是在他俩中间加个loc,iloc。series.loc[3]表示3为标签，series.iloc[3]表示3是下标！"
   ]
  },
  {
   "cell_type": "code",
   "execution_count": null,
   "id": "ead73011-6743-4e60-97ee-10c21d326675",
   "metadata": {},
   "outputs": [],
   "source": []
  },
  {
   "cell_type": "markdown",
   "id": "1d178f83-a49c-4774-b471-b058cfe0e252",
   "metadata": {},
   "source": [
    "**总结：在series中除了自带的下标索引外，你还可以进行标签索引，其中字母，整数均可以作为标签。当你取值时候s[3]3默认表示为整数标签，此时你若未定义整数标签时会报错，当你切片时s[0:3]03默认表示下标。那如果你就想用整数标签来切片，就想用下标来取值，此时为了避免混乱可以用iloc表示下标，loc表示标签,还有要注意的是，只要是对切片采用标签索引不管整数还是字母都是左闭右闭，下标索引才是左闭右开！,建议你无论怎样 在series进行切片还是取值时候即使你知道它默认是什么也要加上iloc与loc!!**"
   ]
  },
  {
   "cell_type": "code",
   "execution_count": 14,
   "id": "5c0c0825-1d7f-4670-8028-1b17a0673881",
   "metadata": {},
   "outputs": [],
   "source": [
    "sss = pd.Series([0,1,2,3,4],index=[1,2,3,4,5])"
   ]
  },
  {
   "cell_type": "code",
   "execution_count": null,
   "id": "d4d8d228-256e-4452-a587-0510e30cdd10",
   "metadata": {},
   "outputs": [],
   "source": []
  },
  {
   "cell_type": "code",
   "execution_count": null,
   "id": "939f15c6-20b1-4210-b871-a6b992bea12f",
   "metadata": {},
   "outputs": [],
   "source": []
  },
  {
   "cell_type": "code",
   "execution_count": null,
   "id": "9913c5c2-6d34-45e1-9d81-43aed444118d",
   "metadata": {},
   "outputs": [],
   "source": []
  },
  {
   "cell_type": "code",
   "execution_count": 15,
   "id": "7a375451-448e-4ab9-a51b-5b4d9deb0795",
   "metadata": {},
   "outputs": [
    {
     "data": {
      "text/plain": [
       "np.int64(0)"
      ]
     },
     "execution_count": 15,
     "metadata": {},
     "output_type": "execute_result"
    }
   ],
   "source": [
    "sss[1]"
   ]
  },
  {
   "cell_type": "code",
   "execution_count": 16,
   "id": "1caabe08-baf5-4d50-9e42-3a7c5733e7c7",
   "metadata": {},
   "outputs": [
    {
     "data": {
      "text/plain": [
       "np.int64(1)"
      ]
     },
     "execution_count": 16,
     "metadata": {},
     "output_type": "execute_result"
    }
   ],
   "source": [
    "sss.iloc[1]"
   ]
  },
  {
   "cell_type": "code",
   "execution_count": 17,
   "id": "077ef631-62cc-4b5c-bc7d-69b5975f1c70",
   "metadata": {},
   "outputs": [
    {
     "data": {
      "text/plain": [
       "2    1\n",
       "3    2\n",
       "dtype: int64"
      ]
     },
     "execution_count": 17,
     "metadata": {},
     "output_type": "execute_result"
    }
   ],
   "source": [
    "sss[1:3]"
   ]
  },
  {
   "cell_type": "code",
   "execution_count": 18,
   "id": "789c9589-6d80-4e44-abc5-21e5356d599e",
   "metadata": {},
   "outputs": [
    {
     "data": {
      "text/plain": [
       "1    0\n",
       "2    1\n",
       "3    2\n",
       "dtype: int64"
      ]
     },
     "execution_count": 18,
     "metadata": {},
     "output_type": "execute_result"
    }
   ],
   "source": [
    "sss.loc[1:3]"
   ]
  },
  {
   "cell_type": "markdown",
   "id": "83def6bb-cf27-4b40-b27f-dab657dd3205",
   "metadata": {},
   "source": [
    "*创建Series的另外一种方法*"
   ]
  },
  {
   "cell_type": "markdown",
   "id": "fd7d71fc-86c1-4e8f-b798-f0d8081b1c4a",
   "metadata": {},
   "source": [
    "`s4 = pd.Series([1,2,3,4],index=['a','b','c','d'])`等价于 `s4 = pd.Series({'a':1,'b':2,'c':3,'d':4})`dict的key变为标签"
   ]
  },
  {
   "cell_type": "code",
   "execution_count": 19,
   "id": "97c0f891-1c9c-413b-abb6-36d1d6a264a4",
   "metadata": {},
   "outputs": [],
   "source": [
    "s4 = pd.Series({'a':1,'b':2,'c':3,'d':4})"
   ]
  },
  {
   "cell_type": "code",
   "execution_count": 20,
   "id": "3d53a3e1-5235-40e2-96e1-daa6c2c0afde",
   "metadata": {},
   "outputs": [
    {
     "data": {
      "text/plain": [
       "np.int64(1)"
      ]
     },
     "execution_count": 20,
     "metadata": {},
     "output_type": "execute_result"
    }
   ],
   "source": [
    "s4['a']"
   ]
  },
  {
   "cell_type": "code",
   "execution_count": 21,
   "id": "6e1dfdcb-d60b-4e48-814d-c83085c67dae",
   "metadata": {},
   "outputs": [
    {
     "data": {
      "text/plain": [
       "np.int64(1)"
      ]
     },
     "execution_count": 21,
     "metadata": {},
     "output_type": "execute_result"
    }
   ],
   "source": [
    "s4.iloc[0]"
   ]
  },
  {
   "cell_type": "code",
   "execution_count": 22,
   "id": "ca0eff41-9700-46a7-a38c-d5efc239459f",
   "metadata": {},
   "outputs": [
    {
     "data": {
      "text/plain": [
       "True"
      ]
     },
     "execution_count": 22,
     "metadata": {},
     "output_type": "execute_result"
    }
   ],
   "source": [
    "'d' in s4"
   ]
  },
  {
   "cell_type": "code",
   "execution_count": 23,
   "id": "bb0b203a-e64b-45e6-a83f-94ad1b59042a",
   "metadata": {},
   "outputs": [],
   "source": [
    "s4.loc['b'] = 100"
   ]
  },
  {
   "cell_type": "code",
   "execution_count": 24,
   "id": "1f0438d2-2ebd-4cb0-801a-6efe4ce93c46",
   "metadata": {},
   "outputs": [
    {
     "data": {
      "text/plain": [
       "np.int64(100)"
      ]
     },
     "execution_count": 24,
     "metadata": {},
     "output_type": "execute_result"
    }
   ],
   "source": [
    "s4.loc['b']"
   ]
  },
  {
   "cell_type": "code",
   "execution_count": 25,
   "id": "bc8cba7a-c2ac-4bdb-bd3d-43b7f4a2d17f",
   "metadata": {},
   "outputs": [],
   "source": [
    "s4.iloc[0] = 10000"
   ]
  },
  {
   "cell_type": "code",
   "execution_count": 26,
   "id": "e9a81409-f96b-4eb9-9309-d2536ade3884",
   "metadata": {},
   "outputs": [
    {
     "data": {
      "text/plain": [
       "np.int64(10000)"
      ]
     },
     "execution_count": 26,
     "metadata": {},
     "output_type": "execute_result"
    }
   ],
   "source": [
    "s4.loc['a']"
   ]
  },
  {
   "cell_type": "markdown",
   "id": "f5507218-2213-416c-8600-92dbc5e74023",
   "metadata": {},
   "source": [
    "Series的筛选值操作同numpy的array"
   ]
  },
  {
   "cell_type": "code",
   "execution_count": 27,
   "id": "9ed3f187-929a-491a-b7e5-3634cd030174",
   "metadata": {},
   "outputs": [
    {
     "data": {
      "text/plain": [
       "c    3\n",
       "dtype: int64"
      ]
     },
     "execution_count": 27,
     "metadata": {},
     "output_type": "execute_result"
    }
   ],
   "source": [
    "s4[(s4>1) & (s4<4)]"
   ]
  },
  {
   "cell_type": "markdown",
   "id": "5ccd9858-0976-4c28-8e44-e0bc45813d35",
   "metadata": {},
   "source": [
    "**TIPS 在pandas 的Series中涉及索引时无论是下标索引还是标签索引你进行相关取值切片操作时候你想通过下标你就加上iloc,你想通过标签你就加上loc!!养成习惯**"
   ]
  },
  {
   "cell_type": "markdown",
   "id": "c21e8be2-00eb-4059-92d4-cf3b48eef46c",
   "metadata": {
    "jp-MarkdownHeadingCollapsed": true
   },
   "source": [
    "# 练习1"
   ]
  },
  {
   "cell_type": "markdown",
   "id": "2cb9f72d-c77b-4930-9585-54766ed79501",
   "metadata": {},
   "source": [
    "导入pandas的语句，并且给pandas别名为pd。"
   ]
  },
  {
   "cell_type": "code",
   "execution_count": 28,
   "id": "5c3147b7-e690-4d6d-9fb9-cef55cfd38d7",
   "metadata": {},
   "outputs": [],
   "source": [
    "import pandas as pd"
   ]
  },
  {
   "cell_type": "markdown",
   "id": "408420e1-e184-4fae-817f-7cae96aca0af",
   "metadata": {},
   "source": [
    "创建一个叫s1的Series，里面包含元素-1.2、3.7、2.5、-8.2、6.3。创建后进行输出。"
   ]
  },
  {
   "cell_type": "code",
   "execution_count": 29,
   "id": "0cd669b9-bf2f-4af6-bb80-a3f73a35efaa",
   "metadata": {},
   "outputs": [],
   "source": [
    "s1 = pd.Series([-1.2,3.7,2.5,-8.2,6.3])"
   ]
  },
  {
   "cell_type": "markdown",
   "id": "c5cc7258-2eed-4a49-af16-d7a7b3f77573",
   "metadata": {},
   "source": [
    "打印s1的所有索引以及所有元素值。"
   ]
  },
  {
   "cell_type": "code",
   "execution_count": 30,
   "id": "2a856813-6eca-403f-b7a2-3280276e215f",
   "metadata": {},
   "outputs": [
    {
     "name": "stdout",
     "output_type": "stream",
     "text": [
      "RangeIndex(start=0, stop=5, step=1)\n",
      "[-1.2  3.7  2.5 -8.2  6.3]\n"
     ]
    }
   ],
   "source": [
    "print(s1.index)\n",
    "print(s1.values)"
   ]
  },
  {
   "cell_type": "markdown",
   "id": "404d0ea6-9791-47dc-bb16-dd8701fd8ac7",
   "metadata": {},
   "source": [
    "创建一个叫s2的Series，里面包含元素1、2、3、4、5，并且对应索引5、4、3、2、1。创建后进行输出。"
   ]
  },
  {
   "cell_type": "code",
   "execution_count": 31,
   "id": "c08e362f-5235-445d-82f9-f85d5d6b6ba2",
   "metadata": {},
   "outputs": [
    {
     "name": "stdout",
     "output_type": "stream",
     "text": [
      "5    1\n",
      "4    2\n",
      "3    3\n",
      "2    4\n",
      "1    5\n",
      "dtype: int64\n"
     ]
    }
   ],
   "source": [
    "s2 = pd.Series([1,2,3,4,5],index=[5,4,3,2,1])\n",
    "print(s2)"
   ]
  },
  {
   "cell_type": "markdown",
   "id": "16f5e827-2c3c-4e10-ae45-8f96bf23df4a",
   "metadata": {},
   "source": [
    "输出s2里按位置顺序排在第2个的元素。"
   ]
  },
  {
   "cell_type": "code",
   "execution_count": 32,
   "id": "012342c0-91ff-4418-8448-fc16898a1d9f",
   "metadata": {},
   "outputs": [
    {
     "name": "stdout",
     "output_type": "stream",
     "text": [
      "2\n"
     ]
    }
   ],
   "source": [
    "print(s2.iloc[1])"
   ]
  },
  {
   "cell_type": "markdown",
   "id": "98dd7a71-5c2d-4d49-873d-522f214ef38a",
   "metadata": {},
   "source": [
    "输出s2里按标签对应从5到3（包括3）范围内的元素。"
   ]
  },
  {
   "cell_type": "code",
   "execution_count": 33,
   "id": "547ced28-087a-4ba7-bb9a-78c2d5292b9d",
   "metadata": {},
   "outputs": [
    {
     "data": {
      "text/plain": [
       "5    1\n",
       "4    2\n",
       "3    3\n",
       "dtype: int64"
      ]
     },
     "execution_count": 33,
     "metadata": {},
     "output_type": "execute_result"
    }
   ],
   "source": [
    "s2.loc[5:3]"
   ]
  },
  {
   "cell_type": "markdown",
   "id": "265f670c-d8bc-4cc5-b62b-fa576a68c9cc",
   "metadata": {},
   "source": [
    "通过一个字典来创建Series s3。字典的键为：小李、小陈、小张、小曾、小邓，值为82、93、91、78、68。创建后进行输出。"
   ]
  },
  {
   "cell_type": "code",
   "execution_count": 34,
   "id": "ca6a83b5-8f39-4032-a74a-d188781975b5",
   "metadata": {},
   "outputs": [],
   "source": [
    "s3 = pd.Series({'小李':82,'小陈':93,'小张':91,'小曾':78,'小邓':68})"
   ]
  },
  {
   "cell_type": "code",
   "execution_count": 35,
   "id": "9cecb072-f12d-4cff-8185-9841c5e28581",
   "metadata": {},
   "outputs": [
    {
     "data": {
      "text/plain": [
       "小李    82\n",
       "小陈    93\n",
       "小张    91\n",
       "小曾    78\n",
       "小邓    68\n",
       "dtype: int64"
      ]
     },
     "execution_count": 35,
     "metadata": {},
     "output_type": "execute_result"
    }
   ],
   "source": [
    "s3"
   ]
  },
  {
   "cell_type": "markdown",
   "id": "7c698310-52ad-4dbb-982c-e50729f6dd4d",
   "metadata": {},
   "source": [
    "小张值改为100在输出"
   ]
  },
  {
   "cell_type": "code",
   "execution_count": 36,
   "id": "de469015-0c25-4048-b706-ea73a8140eaa",
   "metadata": {},
   "outputs": [
    {
     "data": {
      "text/plain": [
       "小李     82\n",
       "小陈     93\n",
       "小张    100\n",
       "小曾     78\n",
       "小邓     68\n",
       "dtype: int64"
      ]
     },
     "execution_count": 36,
     "metadata": {},
     "output_type": "execute_result"
    }
   ],
   "source": [
    "s3.loc['小张'] = 100\n",
    "s3"
   ]
  },
  {
   "cell_type": "markdown",
   "id": "a0ab5913-d953-4914-836d-a042561cb0d6",
   "metadata": {},
   "source": [
    "输出大于80小于90的元素"
   ]
  },
  {
   "cell_type": "code",
   "execution_count": 37,
   "id": "a58f5b23-fc8d-4593-ba25-c1bdb80eb297",
   "metadata": {},
   "outputs": [
    {
     "data": {
      "text/plain": [
       "小李    82\n",
       "dtype: int64"
      ]
     },
     "execution_count": 37,
     "metadata": {},
     "output_type": "execute_result"
    }
   ],
   "source": [
    "s3[(s3>80) & (s3<90)]"
   ]
  },
  {
   "cell_type": "code",
   "execution_count": 38,
   "id": "8678f35d-ebbc-4641-8552-320ac8acf19a",
   "metadata": {},
   "outputs": [
    {
     "data": {
      "text/plain": [
       "小李     True\n",
       "小陈    False\n",
       "小张    False\n",
       "小曾    False\n",
       "小邓    False\n",
       "dtype: bool"
      ]
     },
     "execution_count": 38,
     "metadata": {},
     "output_type": "execute_result"
    }
   ],
   "source": [
    "(s3>80) & (s3<90)"
   ]
  },
  {
   "cell_type": "markdown",
   "id": "b2333452-51d0-4d53-b766-a14f27697378",
   "metadata": {
    "jp-MarkdownHeadingCollapsed": true
   },
   "source": [
    "# 两个series的加减乘除"
   ]
  },
  {
   "cell_type": "code",
   "execution_count": 39,
   "id": "6fe47f9a-bb05-42fa-98c4-447b779bd2fc",
   "metadata": {},
   "outputs": [],
   "source": [
    "import pandas as pd"
   ]
  },
  {
   "cell_type": "code",
   "execution_count": 40,
   "id": "2c702fec-aeb9-4143-88c8-4e218d6a8dd6",
   "metadata": {},
   "outputs": [],
   "source": [
    "s1 = pd.Series([1,4,2,3,5],index=[1,3,5,7,9])"
   ]
  },
  {
   "cell_type": "code",
   "execution_count": 41,
   "id": "60a2976d-498d-470a-adf1-be6642ce3202",
   "metadata": {},
   "outputs": [],
   "source": [
    "s2 = pd.Series([8,1,7,3,9],index=[1,2,3,5,10])"
   ]
  },
  {
   "cell_type": "markdown",
   "id": "ed1f1eb2-bfcd-4728-b4a3-021e00269839",
   "metadata": {},
   "source": [
    "相同标签索引处1.3.5值做运算，不相同标签处赋nan，series之间运算会自动进行索引对齐"
   ]
  },
  {
   "cell_type": "markdown",
   "id": "e04a4a38-789d-4ecc-aed0-c6e08671e43a",
   "metadata": {},
   "source": [
    "仅 s1+数 并不会改变s1中值"
   ]
  },
  {
   "cell_type": "code",
   "execution_count": 42,
   "id": "bba3cc44-dc04-47a1-9bec-a853459c81b0",
   "metadata": {},
   "outputs": [
    {
     "data": {
      "text/plain": [
       "1    101\n",
       "3    104\n",
       "5    102\n",
       "7    103\n",
       "9    105\n",
       "dtype: int64"
      ]
     },
     "execution_count": 42,
     "metadata": {},
     "output_type": "execute_result"
    }
   ],
   "source": [
    "s1 + 100"
   ]
  },
  {
   "cell_type": "code",
   "execution_count": 43,
   "id": "ac09fcce-3c0a-4afa-a709-37b7cc30afd0",
   "metadata": {},
   "outputs": [
    {
     "data": {
      "text/plain": [
       "1    1\n",
       "3    4\n",
       "5    2\n",
       "7    3\n",
       "9    5\n",
       "dtype: int64"
      ]
     },
     "execution_count": 43,
     "metadata": {},
     "output_type": "execute_result"
    }
   ],
   "source": [
    "s1"
   ]
  },
  {
   "cell_type": "code",
   "execution_count": 44,
   "id": "6d0a9381-d22d-44de-a49d-2dcd83ec7077",
   "metadata": {},
   "outputs": [
    {
     "data": {
      "text/plain": [
       "1      9.0\n",
       "2      NaN\n",
       "3     11.0\n",
       "5      5.0\n",
       "7      NaN\n",
       "9      NaN\n",
       "10     NaN\n",
       "dtype: float64"
      ]
     },
     "execution_count": 44,
     "metadata": {},
     "output_type": "execute_result"
    }
   ],
   "source": [
    "s1 + s2"
   ]
  },
  {
   "cell_type": "code",
   "execution_count": 45,
   "id": "3037a602-0cef-4632-9bc7-0b8293522766",
   "metadata": {},
   "outputs": [
    {
     "data": {
      "text/plain": [
       "1      9.0\n",
       "2      NaN\n",
       "3     11.0\n",
       "5      5.0\n",
       "7      NaN\n",
       "9      NaN\n",
       "10     NaN\n",
       "dtype: float64"
      ]
     },
     "execution_count": 45,
     "metadata": {},
     "output_type": "execute_result"
    }
   ],
   "source": [
    "s1.add(s2)"
   ]
  },
  {
   "cell_type": "code",
   "execution_count": 46,
   "id": "5b9d782e-6673-4bf4-b35e-7c1090bb9a95",
   "metadata": {},
   "outputs": [
    {
     "data": {
      "text/plain": [
       "1      9.0\n",
       "2      1.0\n",
       "3     11.0\n",
       "5      5.0\n",
       "7      3.0\n",
       "9      5.0\n",
       "10     9.0\n",
       "dtype: float64"
      ]
     },
     "execution_count": 46,
     "metadata": {},
     "output_type": "execute_result"
    }
   ],
   "source": [
    "s1.add(s2,fill_value=0)"
   ]
  },
  {
   "cell_type": "markdown",
   "id": "6914e4a5-3e88-4036-9fb7-535009d53bf5",
   "metadata": {},
   "source": [
    "**`s1.add(s2,fill_value=0)`  `s1.sub(s2,fill_value=0)`   `s1.mul(s2,fill_value=1)`   `s1.div(s2,fill_value=1)`这里的`fill_value`把s1中索引不同于s2的地方赋固定值0/1来与s2计算**"
   ]
  },
  {
   "cell_type": "code",
   "execution_count": 47,
   "id": "6d483e35-e223-4895-836c-05c3ebdef1ef",
   "metadata": {},
   "outputs": [
    {
     "data": {
      "text/plain": [
       "1    -7.0\n",
       "2    -1.0\n",
       "3    -3.0\n",
       "5    -1.0\n",
       "7     3.0\n",
       "9     5.0\n",
       "10   -9.0\n",
       "dtype: float64"
      ]
     },
     "execution_count": 47,
     "metadata": {},
     "output_type": "execute_result"
    }
   ],
   "source": [
    "s1.sub(s2,fill_value=0)"
   ]
  },
  {
   "cell_type": "code",
   "execution_count": 48,
   "id": "082120f4-aee8-4f6e-b339-704cd0737f6b",
   "metadata": {},
   "outputs": [
    {
     "data": {
      "text/plain": [
       "1      8.0\n",
       "2      1.0\n",
       "3     28.0\n",
       "5      6.0\n",
       "7      3.0\n",
       "9      5.0\n",
       "10     9.0\n",
       "dtype: float64"
      ]
     },
     "execution_count": 48,
     "metadata": {},
     "output_type": "execute_result"
    }
   ],
   "source": [
    "s1.mul(s2,fill_value=1)"
   ]
  },
  {
   "cell_type": "code",
   "execution_count": 49,
   "id": "adb40a83-f0f7-4562-8884-9f9b5f315cba",
   "metadata": {},
   "outputs": [
    {
     "data": {
      "text/plain": [
       "1     0.125000\n",
       "2     1.000000\n",
       "3     0.571429\n",
       "5     0.666667\n",
       "7     3.000000\n",
       "9     5.000000\n",
       "10    0.111111\n",
       "dtype: float64"
      ]
     },
     "execution_count": 49,
     "metadata": {},
     "output_type": "execute_result"
    }
   ],
   "source": [
    "s1.div(s2,fill_value=1)"
   ]
  },
  {
   "cell_type": "markdown",
   "id": "97b834bc-0d77-49c1-993a-f530f0d65dde",
   "metadata": {
    "jp-MarkdownHeadingCollapsed": true
   },
   "source": [
    "# series的统计方法-describe()为独有"
   ]
  },
  {
   "cell_type": "code",
   "execution_count": 50,
   "id": "410eb72e-31b6-4e52-ad9d-02ea3429a6d4",
   "metadata": {},
   "outputs": [
    {
     "name": "stdout",
     "output_type": "stream",
     "text": [
      "5\n",
      "1\n",
      "3.0\n"
     ]
    },
    {
     "data": {
      "text/plain": [
       "np.int64(15)"
      ]
     },
     "execution_count": 50,
     "metadata": {},
     "output_type": "execute_result"
    }
   ],
   "source": [
    "print(s1.max())\n",
    "print(s1.min())\n",
    "print(s1.mean())\n",
    "s1.sum()"
   ]
  },
  {
   "cell_type": "code",
   "execution_count": 51,
   "id": "e2714d82-75bb-497f-ad80-7b2671262e26",
   "metadata": {},
   "outputs": [
    {
     "data": {
      "text/plain": [
       "count    5.000000\n",
       "mean     3.000000\n",
       "std      1.581139\n",
       "min      1.000000\n",
       "25%      2.000000\n",
       "50%      3.000000\n",
       "75%      4.000000\n",
       "max      5.000000\n",
       "dtype: float64"
      ]
     },
     "execution_count": 51,
     "metadata": {},
     "output_type": "execute_result"
    }
   ],
   "source": [
    "s1.describe()"
   ]
  },
  {
   "cell_type": "markdown",
   "id": "1783a175-4466-4ed2-99cf-b9b9a0376d6d",
   "metadata": {
    "jp-MarkdownHeadingCollapsed": true
   },
   "source": [
    "# 同numpy的广播机制-每个元素都"
   ]
  },
  {
   "cell_type": "code",
   "execution_count": 52,
   "id": "0d3d24dd-b143-4c3e-9624-4c6fb1436129",
   "metadata": {},
   "outputs": [
    {
     "data": {
      "text/plain": [
       "1    10\n",
       "3    40\n",
       "5    20\n",
       "7    30\n",
       "9    50\n",
       "dtype: int64"
      ]
     },
     "execution_count": 52,
     "metadata": {},
     "output_type": "execute_result"
    }
   ],
   "source": [
    "s1 * 10"
   ]
  },
  {
   "cell_type": "markdown",
   "id": "6d11e530-e390-4715-8378-7eb3542d2314",
   "metadata": {
    "jp-MarkdownHeadingCollapsed": true
   },
   "source": [
    "# apply()对元素分别-apply函数不改变原series，会把原series中每一个元素放到指定函数中并把元素返回值组成新的series并返回"
   ]
  },
  {
   "cell_type": "code",
   "execution_count": 53,
   "id": "876095ee-467e-4992-8a42-53f5dd70bf7c",
   "metadata": {},
   "outputs": [],
   "source": [
    "scores = pd.Series({'小明':92,'小红':67,'小刚':88,'肖邦':76,'刘龙':75})"
   ]
  },
  {
   "cell_type": "markdown",
   "id": "7b753bbd-6b64-4866-bcb8-bfc0e6a42216",
   "metadata": {},
   "source": [
    "```python\n",
    "\n",
    "def get_grade_series(scores):\n",
    "    if scores>=90:\n",
    "        return 'A'\n",
    "    elif scores>=80:\n",
    "        return 'B'\n",
    "    elif scores>=70:\n",
    "        return 'C'\n",
    "    else:\n",
    "        return 'D'\n",
    "            \n",
    "\n",
    "```"
   ]
  },
  {
   "cell_type": "code",
   "execution_count": 54,
   "id": "918bfbd3-009a-4f82-b5f1-231194f50c9c",
   "metadata": {},
   "outputs": [],
   "source": [
    "def get_grade_series(scores):\n",
    "    if scores>=90:\n",
    "        return 'A'\n",
    "    elif scores>=80:\n",
    "        return 'B'\n",
    "    elif scores>=70:\n",
    "        return 'C'\n",
    "    else:\n",
    "        return 'D'"
   ]
  },
  {
   "cell_type": "code",
   "execution_count": 55,
   "id": "c3970212-7400-4e76-9ef9-357b71799278",
   "metadata": {},
   "outputs": [],
   "source": [
    "grades = scores.apply(get_grade_series) "
   ]
  },
  {
   "cell_type": "code",
   "execution_count": 56,
   "id": "86294360-f360-4804-b147-c993904df55a",
   "metadata": {},
   "outputs": [
    {
     "data": {
      "text/plain": [
       "小明    A\n",
       "小红    D\n",
       "小刚    B\n",
       "肖邦    C\n",
       "刘龙    C\n",
       "dtype: object"
      ]
     },
     "execution_count": 56,
     "metadata": {},
     "output_type": "execute_result"
    }
   ],
   "source": [
    "grades"
   ]
  },
  {
   "cell_type": "markdown",
   "id": "6d1f4804-b045-45a9-b971-a1c37decdcbf",
   "metadata": {},
   "source": [
    "**匿名函数**"
   ]
  },
  {
   "cell_type": "code",
   "execution_count": 57,
   "id": "e6f808fe-ded4-4ab7-a35d-0c1886d2c6ea",
   "metadata": {},
   "outputs": [],
   "source": [
    "double_scores = scores.apply(lambda x : x*x)"
   ]
  },
  {
   "cell_type": "code",
   "execution_count": 58,
   "id": "3aa655d5-0772-4ad9-8e92-8402cea3712e",
   "metadata": {},
   "outputs": [
    {
     "data": {
      "text/plain": [
       "小明    8464\n",
       "小红    4489\n",
       "小刚    7744\n",
       "肖邦    5776\n",
       "刘龙    5625\n",
       "dtype: int64"
      ]
     },
     "execution_count": 58,
     "metadata": {},
     "output_type": "execute_result"
    }
   ],
   "source": [
    "double_scores"
   ]
  },
  {
   "cell_type": "markdown",
   "id": "3858427b-1bcc-4ad9-add6-7c331c335eb8",
   "metadata": {},
   "source": [
    "# 练习2"
   ]
  },
  {
   "cell_type": "markdown",
   "id": "82544e71-bd3c-472f-aeb8-ffb1512361b4",
   "metadata": {},
   "source": [
    "导入pandas的语句，并且给pandas别名为pd。"
   ]
  },
  {
   "cell_type": "code",
   "execution_count": 59,
   "id": "4af18def-09a7-4e6a-8011-eddc121e2126",
   "metadata": {},
   "outputs": [],
   "source": [
    "import pandas as pd"
   ]
  },
  {
   "cell_type": "markdown",
   "id": "8299f21b-7b2e-4518-808f-138cd5ea1dac",
   "metadata": {},
   "source": [
    "创建s1，包含元素 [92,67,70,88,76] 及对应索引 [“小明”,“小红”,“小杰”,“小丽”,“小华”]。创建s2，包含元素 [95,85,60,79,76] 及对应索引 [“小明”,“小杰”,“小宇”,“小娟”,“小彤”]。创建后打印s1和s2。"
   ]
  },
  {
   "cell_type": "code",
   "execution_count": 60,
   "id": "5db09ad6-18ec-4310-b63c-6989d265e3cc",
   "metadata": {},
   "outputs": [
    {
     "name": "stdout",
     "output_type": "stream",
     "text": [
      "小民    92\n",
      "小红    67\n",
      "小杰    70\n",
      "小丽    88\n",
      "小华    76\n",
      "dtype: int64\n"
     ]
    },
    {
     "data": {
      "text/plain": [
       "小民    95\n",
       "小杰    85\n",
       "小宇    60\n",
       "小娟    79\n",
       "小彤    76\n",
       "dtype: int64"
      ]
     },
     "execution_count": 60,
     "metadata": {},
     "output_type": "execute_result"
    }
   ],
   "source": [
    "s1 = pd.Series([92,67,70,88,76],index= ['小民','小红','小杰','小丽','小华'])\n",
    "s2 = pd.Series([95,85,60,79,76],index= ['小民','小杰','小宇','小娟','小彤'])\n",
    "print(s1)\n",
    "s2"
   ]
  },
  {
   "cell_type": "markdown",
   "id": "2db14b34-7eba-4c00-b38a-7ac4319f49d8",
   "metadata": {},
   "source": [
    "让s1和s2的相同索引元素之间进行相加，若无法找到对应索引的值则将缺失值用0代替。"
   ]
  },
  {
   "cell_type": "code",
   "execution_count": 61,
   "id": "f4090382-4b0a-4050-856b-a87ce9da8837",
   "metadata": {},
   "outputs": [
    {
     "data": {
      "text/plain": [
       "小丽     88.0\n",
       "小华     76.0\n",
       "小娟     79.0\n",
       "小宇     60.0\n",
       "小彤     76.0\n",
       "小杰    155.0\n",
       "小民    187.0\n",
       "小红     67.0\n",
       "dtype: float64"
      ]
     },
     "execution_count": 61,
     "metadata": {},
     "output_type": "execute_result"
    }
   ],
   "source": [
    "s1.add(s2,fill_value=0)"
   ]
  },
  {
   "cell_type": "markdown",
   "id": "fb943375-4c87-4625-8f07-632f536cb500",
   "metadata": {},
   "source": [
    "输出s1的统计学相关数据，包括最大值、最小值、平均值、标准差。"
   ]
  },
  {
   "cell_type": "code",
   "execution_count": 62,
   "id": "4f408d60-4521-4342-9d4a-08a2ffc220ea",
   "metadata": {},
   "outputs": [
    {
     "name": "stdout",
     "output_type": "stream",
     "text": [
      "92\n",
      "67\n",
      "78.6\n"
     ]
    },
    {
     "data": {
      "text/plain": [
       "count     5.000000\n",
       "mean     78.600000\n",
       "std      10.990905\n",
       "min      67.000000\n",
       "25%      70.000000\n",
       "50%      76.000000\n",
       "75%      88.000000\n",
       "max      92.000000\n",
       "dtype: float64"
      ]
     },
     "execution_count": 62,
     "metadata": {},
     "output_type": "execute_result"
    }
   ],
   "source": [
    "print(s1.max())\n",
    "print(s1.min())\n",
    "print(s1.mean())\n",
    "s1.describe()"
   ]
  },
  {
   "cell_type": "markdown",
   "id": "49e39c6d-b047-48a7-98d7-8110d47717fb",
   "metadata": {},
   "source": [
    "把s1更新为所有数字均加5并输出"
   ]
  },
  {
   "cell_type": "code",
   "execution_count": 63,
   "id": "92e497bc-b0dd-42fd-afa9-6073c836dd25",
   "metadata": {},
   "outputs": [
    {
     "data": {
      "text/plain": [
       "小民    97\n",
       "小红    72\n",
       "小杰    75\n",
       "小丽    93\n",
       "小华    81\n",
       "dtype: int64"
      ]
     },
     "execution_count": 63,
     "metadata": {},
     "output_type": "execute_result"
    }
   ],
   "source": [
    "s1 = s1 + 5\n",
    "s1"
   ]
  },
  {
   "cell_type": "markdown",
   "id": "e690aea7-f0a6-4b30-b7eb-610437e37f83",
   "metadata": {},
   "source": [
    "根据以下规则，输出一个新的Series，包含s1里各个学生成绩所对应的等级。<br>\n",
    "• A: 90分及以上\n",
    "• B: 80分及以上 - 90分\n",
    "• C: 70分及以上 - 80分\n",
    "• D: 60分及以上 - 70分\n",
    "• 不及格：60分以下"
   ]
  },
  {
   "cell_type": "code",
   "execution_count": 64,
   "id": "90a6e41e-9fb3-4ffe-95d5-96456f67f9e9",
   "metadata": {},
   "outputs": [],
   "source": [
    "def get_grade(a):\n",
    "    if a>=90:\n",
    "        return 'A'\n",
    "    elif a>=80:\n",
    "        return 'B'\n",
    "    elif a>=70:\n",
    "        return 'C'\n",
    "    elif a>=60:\n",
    "        return 'D'\n",
    "    else:\n",
    "        return '不及格'\n",
    "        \n"
   ]
  },
  {
   "cell_type": "code",
   "execution_count": 65,
   "id": "004a7fd5-5841-4f41-9937-156f26fefbf1",
   "metadata": {},
   "outputs": [
    {
     "data": {
      "text/plain": [
       "小民    A\n",
       "小红    C\n",
       "小杰    C\n",
       "小丽    A\n",
       "小华    B\n",
       "dtype: object"
      ]
     },
     "execution_count": 65,
     "metadata": {},
     "output_type": "execute_result"
    }
   ],
   "source": [
    "grades = s1.apply(get_grade)\n",
    "grades"
   ]
  },
  {
   "cell_type": "markdown",
   "id": "0f1a02b2-df4f-45a1-b827-2d6610f2d662",
   "metadata": {},
   "source": [
    "# pandas-series/dataframe numpy-array 与数据分析关系"
   ]
  },
  {
   "cell_type": "markdown",
   "id": "2c2b7040-71eb-4c9f-b8e9-19091c268015",
   "metadata": {},
   "source": [
    "Pandas的Series和DataFrame是数据清洗的核心工具，NumPy是其底层支撑，Pandas（Series/DataFrame)是数据清洗的“操作界面”数据清洗的核心动作（如处理缺失值、去重、格式统一），几乎都通过Pandas实现而NumPy是Pandas的“动力引擎”<br>\n",
    "Pandas的Series和DataFrame本质上基于NumPy Array构建，底层的数值计算（如求均值填充缺失值、数值筛选）都依赖NumPy的高效运算能力。\n",
    "比如用Series.mean()填充缺失值时，背后其实是NumPy在计算平均值。<br>数据清洗是“任务目标”，Pandas（Series/DataFrame）是“做事的工具”，NumPy是“工具的底层动力”。<br>NumPy 与 Array：Array（NumPy数组）是NumPy库的“核心载体”，NumPy的所有功能（如数值计算、维度操作）都围绕Array展开，二者是“库”与“核心数据结构”的绑定关系。 Pandas 与 Series/DataFrame：Series（一维带标签数据）和DataFrame（二维带标签表格）是Pandas库的“核心工具”，Pandas的数据分析、清洗功能（如缺失值处理、筛选）均通过这两者实现，二者是“库”与“核心数据结构”的绑定关系。 NumPy 与 Pandas：Pandas是“基于NumPy封装的高级库”，Series/DataFrame的底层数据存储依赖Array，Pandas的数值计算（如求均值、排序）也依赖NumPy的高效引擎，二者是“底层支撑”与“上层应用”的关系。"
   ]
  },
  {
   "cell_type": "markdown",
   "id": "87b1107f-1f3c-4b16-95f9-e6821b94580e",
   "metadata": {},
   "source": []
  },
  {
   "cell_type": "markdown",
   "id": "92279742-6a95-4e4a-b5de-0756100a145d",
   "metadata": {},
   "source": []
  },
  {
   "cell_type": "markdown",
   "id": "a5b7ecbd-7159-4679-8470-72f1b8d79643",
   "metadata": {},
   "source": []
  },
  {
   "cell_type": "markdown",
   "id": "3ae8ce25-c4af-4a95-85f9-f500e9cc38c3",
   "metadata": {},
   "source": []
  },
  {
   "cell_type": "markdown",
   "id": "2b48413a-0f4b-4c62-9ef6-48f1d0c0fc11",
   "metadata": {},
   "source": []
  },
  {
   "cell_type": "markdown",
   "id": "8f855af0-9f5a-4270-82f1-3782045060c3",
   "metadata": {},
   "source": []
  },
  {
   "cell_type": "markdown",
   "id": "dbc3d630-f20d-4ef5-ae38-9d3e5630a09b",
   "metadata": {},
   "source": []
  },
  {
   "cell_type": "code",
   "execution_count": null,
   "id": "1da41427-b3f3-49cd-9b8f-64a0dba1ab34",
   "metadata": {},
   "outputs": [],
   "source": []
  },
  {
   "cell_type": "code",
   "execution_count": null,
   "id": "28fa8caf-35ac-4748-889e-34e8a241c198",
   "metadata": {},
   "outputs": [],
   "source": []
  }
 ],
 "metadata": {
  "kernelspec": {
   "display_name": "Python 3 (ipykernel)",
   "language": "python",
   "name": "python3"
  },
  "language_info": {
   "codemirror_mode": {
    "name": "ipython",
    "version": 3
   },
   "file_extension": ".py",
   "mimetype": "text/x-python",
   "name": "python",
   "nbconvert_exporter": "python",
   "pygments_lexer": "ipython3",
   "version": "3.12.0"
  }
 },
 "nbformat": 4,
 "nbformat_minor": 5
}
