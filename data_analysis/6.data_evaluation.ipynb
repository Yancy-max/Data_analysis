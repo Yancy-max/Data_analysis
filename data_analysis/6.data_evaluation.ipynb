{
 "cells": [
  {
   "cell_type": "markdown",
   "id": "22496a57-4f8b-4a93-b8f1-5ea98abfd5e2",
   "metadata": {},
   "source": [
    "**经过数据评估并清洗后的数据才是我们分析的对象，数据评估从内容和结构两方面**"
   ]
  },
  {
   "cell_type": "markdown",
   "id": "ca74d30c-4f00-48ee-bab2-a89423133980",
   "metadata": {
    "jp-MarkdownHeadingCollapsed": true
   },
   "source": [
    "# 评估数据的结构"
   ]
  },
  {
   "cell_type": "markdown",
   "id": "f7151f62-3b93-45b5-86fd-f75aa5502197",
   "metadata": {},
   "source": [
    "乱数据-结构方面需要清理的数据<br>\n",
    "整洁数据-结构方面不需要清理的数据，判断标准如下：<br>\n",
    "1. 每列是一个变量，变量”就是你要记录的“信息的类别，若列名为：销售额_2024那么这列就不是一个变量，它包含年份+销售额两类信息！是乱数据\n",
    "2. 每行是一个观察值，观察值”就是你要记录的一个具体的对象，每一行，就代表一个具体的数据实例如人或物。如记录居民信息的表中它结构显示一行有多个居民名字那么就是乱数据\n",
    "3. 每个单元格是一个值，值”就是“该属性下的具体的信息内容如当一个单元格值为：2024/3562万元 那么就乱数据"
   ]
  },
  {
   "cell_type": "markdown",
   "id": "325a080e-4076-45af-8c8d-b4eb1d152dd0",
   "metadata": {},
   "source": [
    "*数据的整洁度就好比一个书架而数据的干净度就好比书本每页有无油污与破损所以整洁度一眼就可以看出而干净度要费点事* "
   ]
  },
  {
   "cell_type": "code",
   "execution_count": 2,
   "id": "353e9c67-cf64-4cc8-9265-951cdfe8a1e4",
   "metadata": {},
   "outputs": [],
   "source": [
    "import pandas as pd"
   ]
  },
  {
   "cell_type": "code",
   "execution_count": 6,
   "id": "8874121e-d9e4-452f-865e-dbdc2e94c6d6",
   "metadata": {},
   "outputs": [
    {
     "name": "stdout",
     "output_type": "stream",
     "text": [
      "<class 'pandas.core.frame.DataFrame'>\n",
      "RangeIndex: 22 entries, 0 to 21\n",
      "Data columns (total 8 columns):\n",
      " #   Column                  Non-Null Count  Dtype \n",
      "---  ------                  --------------  ----- \n",
      " 0   CustomerID              22 non-null     int64 \n",
      " 1   Gender                  22 non-null     object\n",
      " 2   Age                     22 non-null     int64 \n",
      " 3   Annual Income ($)       22 non-null     int64 \n",
      " 4   Spending Score (1-100)  22 non-null     int64 \n",
      " 5   Profession              22 non-null     object\n",
      " 6   Work Experience         22 non-null     int64 \n",
      " 7   Family Size             22 non-null     int64 \n",
      "dtypes: int64(6), object(2)\n",
      "memory usage: 1.5+ KB\n"
     ]
    }
   ],
   "source": [
    "df1 = pd.read_csv(r\"F:\\BaiduNetdiskDownload\\数据分析课程操作的文件\\03数据获取与读取篇\\personal_data.csv\")\n",
    "df1.info()"
   ]
  },
  {
   "cell_type": "markdown",
   "id": "9b655c3a-3a7a-4cd9-8651-39e95fd1d840",
   "metadata": {},
   "source": [
    "**评估数据的整洁度可以通过info()方法查看数据集的概况信息，可通过属性名：若为2022-价格这种命名方式就可以断定为乱数据了\n",
    "<br>再通过head()tail()sample()方法对结构进行具体评估，sample()方法是随机查看**"
   ]
  },
  {
   "cell_type": "code",
   "execution_count": 7,
   "id": "3e4f799d-31de-4e1c-a275-72a718e41ae6",
   "metadata": {},
   "outputs": [
    {
     "data": {
      "text/html": [
       "<div>\n",
       "<style scoped>\n",
       "    .dataframe tbody tr th:only-of-type {\n",
       "        vertical-align: middle;\n",
       "    }\n",
       "\n",
       "    .dataframe tbody tr th {\n",
       "        vertical-align: top;\n",
       "    }\n",
       "\n",
       "    .dataframe thead th {\n",
       "        text-align: right;\n",
       "    }\n",
       "</style>\n",
       "<table border=\"1\" class=\"dataframe\">\n",
       "  <thead>\n",
       "    <tr style=\"text-align: right;\">\n",
       "      <th></th>\n",
       "      <th>CustomerID</th>\n",
       "      <th>Gender</th>\n",
       "      <th>Age</th>\n",
       "      <th>Annual Income ($)</th>\n",
       "      <th>Spending Score (1-100)</th>\n",
       "      <th>Profession</th>\n",
       "      <th>Work Experience</th>\n",
       "      <th>Family Size</th>\n",
       "    </tr>\n",
       "  </thead>\n",
       "  <tbody>\n",
       "    <tr>\n",
       "      <th>0</th>\n",
       "      <td>1</td>\n",
       "      <td>Male</td>\n",
       "      <td>19</td>\n",
       "      <td>15000</td>\n",
       "      <td>39</td>\n",
       "      <td>Healthcare,Social Work</td>\n",
       "      <td>1</td>\n",
       "      <td>4</td>\n",
       "    </tr>\n",
       "    <tr>\n",
       "      <th>1</th>\n",
       "      <td>2</td>\n",
       "      <td>Male</td>\n",
       "      <td>21</td>\n",
       "      <td>35000</td>\n",
       "      <td>81</td>\n",
       "      <td>Engineer</td>\n",
       "      <td>3</td>\n",
       "      <td>3</td>\n",
       "    </tr>\n",
       "  </tbody>\n",
       "</table>\n",
       "</div>"
      ],
      "text/plain": [
       "   CustomerID Gender  Age  Annual Income ($)  Spending Score (1-100)  \\\n",
       "0           1   Male   19              15000                      39   \n",
       "1           2   Male   21              35000                      81   \n",
       "\n",
       "               Profession  Work Experience  Family Size  \n",
       "0  Healthcare,Social Work                1            4  \n",
       "1                Engineer                3            3  "
      ]
     },
     "execution_count": 7,
     "metadata": {},
     "output_type": "execute_result"
    }
   ],
   "source": [
    "df1.head(2)"
   ]
  },
  {
   "cell_type": "code",
   "execution_count": 8,
   "id": "ea2ae0de-cd69-47ff-93df-ed55a8738b6c",
   "metadata": {},
   "outputs": [
    {
     "data": {
      "text/html": [
       "<div>\n",
       "<style scoped>\n",
       "    .dataframe tbody tr th:only-of-type {\n",
       "        vertical-align: middle;\n",
       "    }\n",
       "\n",
       "    .dataframe tbody tr th {\n",
       "        vertical-align: top;\n",
       "    }\n",
       "\n",
       "    .dataframe thead th {\n",
       "        text-align: right;\n",
       "    }\n",
       "</style>\n",
       "<table border=\"1\" class=\"dataframe\">\n",
       "  <thead>\n",
       "    <tr style=\"text-align: right;\">\n",
       "      <th></th>\n",
       "      <th>CustomerID</th>\n",
       "      <th>Gender</th>\n",
       "      <th>Age</th>\n",
       "      <th>Annual Income ($)</th>\n",
       "      <th>Spending Score (1-100)</th>\n",
       "      <th>Profession</th>\n",
       "      <th>Work Experience</th>\n",
       "      <th>Family Size</th>\n",
       "    </tr>\n",
       "  </thead>\n",
       "  <tbody>\n",
       "    <tr>\n",
       "      <th>19</th>\n",
       "      <td>20</td>\n",
       "      <td>Female</td>\n",
       "      <td>35</td>\n",
       "      <td>62000</td>\n",
       "      <td>98</td>\n",
       "      <td>Artist</td>\n",
       "      <td>0</td>\n",
       "      <td>1</td>\n",
       "    </tr>\n",
       "    <tr>\n",
       "      <th>20</th>\n",
       "      <td>21</td>\n",
       "      <td>Male</td>\n",
       "      <td>35</td>\n",
       "      <td>96000</td>\n",
       "      <td>35</td>\n",
       "      <td>Homemaker</td>\n",
       "      <td>12</td>\n",
       "      <td>1</td>\n",
       "    </tr>\n",
       "    <tr>\n",
       "      <th>21</th>\n",
       "      <td>22</td>\n",
       "      <td>Male</td>\n",
       "      <td>25</td>\n",
       "      <td>4000</td>\n",
       "      <td>73</td>\n",
       "      <td>Healthcare</td>\n",
       "      <td>3</td>\n",
       "      <td>4</td>\n",
       "    </tr>\n",
       "  </tbody>\n",
       "</table>\n",
       "</div>"
      ],
      "text/plain": [
       "    CustomerID  Gender  Age  Annual Income ($)  Spending Score (1-100)  \\\n",
       "19          20  Female   35              62000                      98   \n",
       "20          21    Male   35              96000                      35   \n",
       "21          22    Male   25               4000                      73   \n",
       "\n",
       "    Profession  Work Experience  Family Size  \n",
       "19      Artist                0            1  \n",
       "20   Homemaker               12            1  \n",
       "21  Healthcare                3            4  "
      ]
     },
     "execution_count": 8,
     "metadata": {},
     "output_type": "execute_result"
    }
   ],
   "source": [
    "df1.tail(3)"
   ]
  },
  {
   "cell_type": "code",
   "execution_count": 9,
   "id": "094f7607-259e-46fe-b4ac-3ecc7f80ca0b",
   "metadata": {},
   "outputs": [
    {
     "data": {
      "text/html": [
       "<div>\n",
       "<style scoped>\n",
       "    .dataframe tbody tr th:only-of-type {\n",
       "        vertical-align: middle;\n",
       "    }\n",
       "\n",
       "    .dataframe tbody tr th {\n",
       "        vertical-align: top;\n",
       "    }\n",
       "\n",
       "    .dataframe thead th {\n",
       "        text-align: right;\n",
       "    }\n",
       "</style>\n",
       "<table border=\"1\" class=\"dataframe\">\n",
       "  <thead>\n",
       "    <tr style=\"text-align: right;\">\n",
       "      <th></th>\n",
       "      <th>CustomerID</th>\n",
       "      <th>Gender</th>\n",
       "      <th>Age</th>\n",
       "      <th>Annual Income ($)</th>\n",
       "      <th>Spending Score (1-100)</th>\n",
       "      <th>Profession</th>\n",
       "      <th>Work Experience</th>\n",
       "      <th>Family Size</th>\n",
       "    </tr>\n",
       "  </thead>\n",
       "  <tbody>\n",
       "    <tr>\n",
       "      <th>9</th>\n",
       "      <td>10</td>\n",
       "      <td>Female</td>\n",
       "      <td>30</td>\n",
       "      <td>98000</td>\n",
       "      <td>72</td>\n",
       "      <td>Artist</td>\n",
       "      <td>1</td>\n",
       "      <td>4</td>\n",
       "    </tr>\n",
       "    <tr>\n",
       "      <th>5</th>\n",
       "      <td>6</td>\n",
       "      <td>Female</td>\n",
       "      <td>22</td>\n",
       "      <td>58000</td>\n",
       "      <td>76</td>\n",
       "      <td>Artist</td>\n",
       "      <td>0</td>\n",
       "      <td>2</td>\n",
       "    </tr>\n",
       "    <tr>\n",
       "      <th>2</th>\n",
       "      <td>3</td>\n",
       "      <td>Female</td>\n",
       "      <td>20</td>\n",
       "      <td>86000</td>\n",
       "      <td>6</td>\n",
       "      <td>Engineer</td>\n",
       "      <td>1</td>\n",
       "      <td>1</td>\n",
       "    </tr>\n",
       "    <tr>\n",
       "      <th>20</th>\n",
       "      <td>21</td>\n",
       "      <td>Male</td>\n",
       "      <td>35</td>\n",
       "      <td>96000</td>\n",
       "      <td>35</td>\n",
       "      <td>Homemaker</td>\n",
       "      <td>12</td>\n",
       "      <td>1</td>\n",
       "    </tr>\n",
       "    <tr>\n",
       "      <th>16</th>\n",
       "      <td>17</td>\n",
       "      <td>Female</td>\n",
       "      <td>35</td>\n",
       "      <td>29000</td>\n",
       "      <td>35</td>\n",
       "      <td>Homemaker</td>\n",
       "      <td>9</td>\n",
       "      <td>5</td>\n",
       "    </tr>\n",
       "  </tbody>\n",
       "</table>\n",
       "</div>"
      ],
      "text/plain": [
       "    CustomerID  Gender  Age  Annual Income ($)  Spending Score (1-100)  \\\n",
       "9           10  Female   30              98000                      72   \n",
       "5            6  Female   22              58000                      76   \n",
       "2            3  Female   20              86000                       6   \n",
       "20          21    Male   35              96000                      35   \n",
       "16          17  Female   35              29000                      35   \n",
       "\n",
       "   Profession  Work Experience  Family Size  \n",
       "9      Artist                1            4  \n",
       "5      Artist                0            2  \n",
       "2    Engineer                1            1  \n",
       "20  Homemaker               12            1  \n",
       "16  Homemaker                9            5  "
      ]
     },
     "execution_count": 9,
     "metadata": {},
     "output_type": "execute_result"
    }
   ],
   "source": [
    "df1.sample(5)"
   ]
  },
  {
   "cell_type": "code",
   "execution_count": 10,
   "id": "3cac1ee5-94ef-4501-93b0-2e2aff6be21d",
   "metadata": {},
   "outputs": [
    {
     "data": {
      "text/html": [
       "<div>\n",
       "<style scoped>\n",
       "    .dataframe tbody tr th:only-of-type {\n",
       "        vertical-align: middle;\n",
       "    }\n",
       "\n",
       "    .dataframe tbody tr th {\n",
       "        vertical-align: top;\n",
       "    }\n",
       "\n",
       "    .dataframe thead th {\n",
       "        text-align: right;\n",
       "    }\n",
       "</style>\n",
       "<table border=\"1\" class=\"dataframe\">\n",
       "  <thead>\n",
       "    <tr style=\"text-align: right;\">\n",
       "      <th></th>\n",
       "      <th>CustomerID</th>\n",
       "      <th>Gender</th>\n",
       "      <th>Age</th>\n",
       "      <th>Annual Income ($)</th>\n",
       "      <th>Spending Score (1-100)</th>\n",
       "      <th>Profession</th>\n",
       "      <th>Work Experience</th>\n",
       "      <th>Family Size</th>\n",
       "    </tr>\n",
       "  </thead>\n",
       "  <tbody>\n",
       "    <tr>\n",
       "      <th>11</th>\n",
       "      <td>12</td>\n",
       "      <td>Female</td>\n",
       "      <td>35</td>\n",
       "      <td>93000</td>\n",
       "      <td>99</td>\n",
       "      <td>Healthcare</td>\n",
       "      <td>4</td>\n",
       "      <td>4</td>\n",
       "    </tr>\n",
       "    <tr>\n",
       "      <th>15</th>\n",
       "      <td>16</td>\n",
       "      <td>Male</td>\n",
       "      <td>22</td>\n",
       "      <td>51000</td>\n",
       "      <td>79</td>\n",
       "      <td>Healthcare</td>\n",
       "      <td>1</td>\n",
       "      <td>2</td>\n",
       "    </tr>\n",
       "    <tr>\n",
       "      <th>6</th>\n",
       "      <td>7</td>\n",
       "      <td>Female</td>\n",
       "      <td>35</td>\n",
       "      <td>31000</td>\n",
       "      <td>6</td>\n",
       "      <td>Healthcare</td>\n",
       "      <td>1</td>\n",
       "      <td>3</td>\n",
       "    </tr>\n",
       "    <tr>\n",
       "      <th>14</th>\n",
       "      <td>15</td>\n",
       "      <td>Male</td>\n",
       "      <td>37</td>\n",
       "      <td>19000</td>\n",
       "      <td>13</td>\n",
       "      <td>Doctor</td>\n",
       "      <td>0</td>\n",
       "      <td>1</td>\n",
       "    </tr>\n",
       "  </tbody>\n",
       "</table>\n",
       "</div>"
      ],
      "text/plain": [
       "    CustomerID  Gender  Age  Annual Income ($)  Spending Score (1-100)  \\\n",
       "11          12  Female   35              93000                      99   \n",
       "15          16    Male   22              51000                      79   \n",
       "6            7  Female   35              31000                       6   \n",
       "14          15    Male   37              19000                      13   \n",
       "\n",
       "    Profession  Work Experience  Family Size  \n",
       "11  Healthcare                4            4  \n",
       "15  Healthcare                1            2  \n",
       "6   Healthcare                1            3  \n",
       "14      Doctor                0            1  "
      ]
     },
     "execution_count": 10,
     "metadata": {},
     "output_type": "execute_result"
    }
   ],
   "source": [
    "df1.sample(4)"
   ]
  },
  {
   "cell_type": "markdown",
   "id": "749a3735-1598-4024-8d78-88dc8d93360e",
   "metadata": {},
   "source": [
    "# 评估数据的内容"
   ]
  },
  {
   "cell_type": "markdown",
   "id": "983ffc07-4976-46d5-82eb-5a2c5aada295",
   "metadata": {},
   "source": [
    "脏数据-内容方面需要清理的数据<br>\n",
    "干净数据-内容方面不需要清理的数据\n",
    "脏数据类型如下：\n",
    "1. 丢失数据-nan，会让平均值变小\n",
    "2. 重复数据-学号重复了碍事，性别重复正常\n",
    "3. 不一致数据：小明对应班级为1班，小红与小明同班但是班级为一班，1与一让数据不一致\n",
    "4. 无效或错误数据：无效-负数的身高，错误-成年人体重1公斤"
   ]
  },
  {
   "cell_type": "markdown",
   "id": "fafc3b12-ad5c-41f3-8459-79918f16c4cb",
   "metadata": {},
   "source": [
    "*若读取的数据集体量大且存在值的字符串过多情况记得事先set_option一下！*"
   ]
  },
  {
   "cell_type": "code",
   "execution_count": 13,
   "id": "20a4c5e4-41f1-4bd2-ac69-134efb17fe29",
   "metadata": {},
   "outputs": [],
   "source": [
    "pd.set_option(\"display.max_columns\",1000000)"
   ]
  },
  {
   "cell_type": "code",
   "execution_count": 14,
   "id": "274780d6-1bbf-4fbd-a616-f301a91512c6",
   "metadata": {},
   "outputs": [],
   "source": [
    "pd.set_option(\"display.max_colwidth\",10000000000)"
   ]
  },
  {
   "cell_type": "markdown",
   "id": "5e8fcef2-8029-4232-bfec-1e0d539fa4d6",
   "metadata": {
    "jp-MarkdownHeadingCollapsed": true
   },
   "source": [
    "## 评估丢失数据的方法"
   ]
  },
  {
   "cell_type": "markdown",
   "id": "ba292491-8d46-42eb-afa4-97981f1f9d33",
   "metadata": {
    "jp-MarkdownHeadingCollapsed": true
   },
   "source": [
    "### 法一.info()可以告诉每列下非空缺值数量，与总行数对比即可"
   ]
  },
  {
   "cell_type": "code",
   "execution_count": 15,
   "id": "dcf6554f-6229-4bfc-b2fc-cd6f9d8fae47",
   "metadata": {},
   "outputs": [
    {
     "name": "stdout",
     "output_type": "stream",
     "text": [
      "<class 'pandas.core.frame.DataFrame'>\n",
      "RangeIndex: 22 entries, 0 to 21\n",
      "Data columns (total 8 columns):\n",
      " #   Column                  Non-Null Count  Dtype \n",
      "---  ------                  --------------  ----- \n",
      " 0   CustomerID              22 non-null     int64 \n",
      " 1   Gender                  22 non-null     object\n",
      " 2   Age                     22 non-null     int64 \n",
      " 3   Annual Income ($)       22 non-null     int64 \n",
      " 4   Spending Score (1-100)  22 non-null     int64 \n",
      " 5   Profession              22 non-null     object\n",
      " 6   Work Experience         22 non-null     int64 \n",
      " 7   Family Size             22 non-null     int64 \n",
      "dtypes: int64(6), object(2)\n",
      "memory usage: 1.5+ KB\n"
     ]
    }
   ],
   "source": [
    "df1.info()"
   ]
  },
  {
   "cell_type": "markdown",
   "id": "9853816d-9c01-4cd1-84e0-1e3e9b77f9e6",
   "metadata": {},
   "source": [
    "### 法二.isnull()方法即可对Series也可对DataFrame判断空缺值个数"
   ]
  },
  {
   "cell_type": "code",
   "execution_count": 23,
   "id": "52579f2e-dd29-4946-b10a-f122d2082c66",
   "metadata": {},
   "outputs": [
    {
     "data": {
      "text/html": [
       "<div>\n",
       "<style scoped>\n",
       "    .dataframe tbody tr th:only-of-type {\n",
       "        vertical-align: middle;\n",
       "    }\n",
       "\n",
       "    .dataframe tbody tr th {\n",
       "        vertical-align: top;\n",
       "    }\n",
       "\n",
       "    .dataframe thead th {\n",
       "        text-align: right;\n",
       "    }\n",
       "</style>\n",
       "<table border=\"1\" class=\"dataframe\">\n",
       "  <thead>\n",
       "    <tr style=\"text-align: right;\">\n",
       "      <th></th>\n",
       "      <th>姓名</th>\n",
       "      <th>考试1</th>\n",
       "      <th>考试2</th>\n",
       "      <th>考试3</th>\n",
       "    </tr>\n",
       "  </thead>\n",
       "  <tbody>\n",
       "    <tr>\n",
       "      <th>001</th>\n",
       "      <td>小陈</td>\n",
       "      <td>85</td>\n",
       "      <td>95</td>\n",
       "      <td>92</td>\n",
       "    </tr>\n",
       "    <tr>\n",
       "      <th>002</th>\n",
       "      <td>小李</td>\n",
       "      <td>91</td>\n",
       "      <td>92</td>\n",
       "      <td>94</td>\n",
       "    </tr>\n",
       "    <tr>\n",
       "      <th>003</th>\n",
       "      <td>小王</td>\n",
       "      <td>86</td>\n",
       "      <td>81</td>\n",
       "      <td>NaN</td>\n",
       "    </tr>\n",
       "    <tr>\n",
       "      <th>004</th>\n",
       "      <td>小张</td>\n",
       "      <td>79</td>\n",
       "      <td>89</td>\n",
       "      <td>95</td>\n",
       "    </tr>\n",
       "    <tr>\n",
       "      <th>005</th>\n",
       "      <td>小赵</td>\n",
       "      <td>96</td>\n",
       "      <td>91</td>\n",
       "      <td>91</td>\n",
       "    </tr>\n",
       "    <tr>\n",
       "      <th>006</th>\n",
       "      <td>小周</td>\n",
       "      <td>81</td>\n",
       "      <td>NaN</td>\n",
       "      <td>92</td>\n",
       "    </tr>\n",
       "  </tbody>\n",
       "</table>\n",
       "</div>"
      ],
      "text/plain": [
       "     姓名 考试1  考试2  考试3\n",
       "001  小陈  85   95   92\n",
       "002  小李  91   92   94\n",
       "003  小王  86   81  NaN\n",
       "004  小张  79   89   95\n",
       "005  小赵  96   91   91\n",
       "006  小周  81  NaN   92"
      ]
     },
     "execution_count": 23,
     "metadata": {},
     "output_type": "execute_result"
    }
   ],
   "source": [
    "import numpy as np\n",
    "scores = pd.DataFrame({\n",
    "    \"001\": {\"姓名\": \"小陈\", \"考试1\": 85, \"考试2\": 95, \"考试3\": 92},  \n",
    "    \"002\": {\"姓名\": \"小李\", \"考试1\": 91, \"考试2\": 92, \"考试3\": 94},  \n",
    "    \"003\": {\"姓名\": \"小王\", \"考试1\": 86, \"考试2\": 81, \"考试3\": np.nan},  \n",
    "    \"004\": {\"姓名\": \"小张\", \"考试1\": 79, \"考试2\": 89, \"考试3\": 95},  \n",
    "    \"005\": {\"姓名\": \"小赵\", \"考试1\": 96, \"考试2\": 91, \"考试3\": 91},  \n",
    "    \"006\": {\"姓名\": \"小周\", \"考试1\": 81, \"考试2\": np.nan, \"考试3\": 92} }).T\n",
    "scores"
   ]
  },
  {
   "cell_type": "markdown",
   "id": "d82b8497-ae88-46df-895f-ffa0862da8d1",
   "metadata": {},
   "source": [
    "*以Series为例（df的每一个列就是Series）*"
   ]
  },
  {
   "cell_type": "code",
   "execution_count": 25,
   "id": "c16ab18c-9286-4aa1-b865-32a2eaeb87a6",
   "metadata": {},
   "outputs": [
    {
     "name": "stdout",
     "output_type": "stream",
     "text": [
      "001     95\n",
      "002     92\n",
      "003     81\n",
      "004     89\n",
      "005     91\n",
      "006    NaN\n",
      "Name: 考试2, dtype: object\n"
     ]
    },
    {
     "data": {
      "text/plain": [
       "001    False\n",
       "002    False\n",
       "003    False\n",
       "004    False\n",
       "005    False\n",
       "006     True\n",
       "Name: 考试2, dtype: bool"
      ]
     },
     "execution_count": 25,
     "metadata": {},
     "output_type": "execute_result"
    }
   ],
   "source": [
    "print(scores[\"考试2\"])\n",
    "scores[\"考试2\"].isnull()"
   ]
  },
  {
   "cell_type": "markdown",
   "id": "ff972370-49ec-445a-90da-1595768fa40e",
   "metadata": {},
   "source": [
    "**注意python中的True/False被用于数学计算中会被当做1/0,所以你对series调用sum（默认axis=0）的时候就会把所有出现True求和，结果就是空缺值个数同理df由列由各个Series组成对df用isnull后再sum就是计算每列的空缺值个数**"
   ]
  },
  {
   "cell_type": "code",
   "execution_count": 26,
   "id": "b6d73a41-ab52-4f13-b1e8-6ad6087af24e",
   "metadata": {},
   "outputs": [
    {
     "data": {
      "text/plain": [
       "True"
      ]
     },
     "execution_count": 26,
     "metadata": {},
     "output_type": "execute_result"
    }
   ],
   "source": [
    "True-1 == False"
   ]
  },
  {
   "cell_type": "code",
   "execution_count": 35,
   "id": "db869e5a-6829-438b-ae7f-b97bd7f4c980",
   "metadata": {},
   "outputs": [
    {
     "data": {
      "text/plain": [
       "np.int64(1)"
      ]
     },
     "execution_count": 35,
     "metadata": {},
     "output_type": "execute_result"
    }
   ],
   "source": [
    "scores[\"考试2\"].isnull().sum()"
   ]
  },
  {
   "cell_type": "code",
   "execution_count": 36,
   "id": "79271465-b0d3-4795-98e9-f2fe85baae1b",
   "metadata": {},
   "outputs": [
    {
     "name": "stdout",
     "output_type": "stream",
     "text": [
      "        姓名    考试1    考试2    考试3\n",
      "001  False  False  False  False\n",
      "002  False  False  False  False\n",
      "003  False  False  False   True\n",
      "004  False  False  False  False\n",
      "005  False  False  False  False\n",
      "006  False  False   True  False\n"
     ]
    },
    {
     "data": {
      "text/plain": [
       "姓名     0\n",
       "考试1    0\n",
       "考试2    1\n",
       "考试3    1\n",
       "dtype: int64"
      ]
     },
     "execution_count": 36,
     "metadata": {},
     "output_type": "execute_result"
    }
   ],
   "source": [
    "print(scores.isnull())\n",
    "scores.isnull().sum()"
   ]
  },
  {
   "cell_type": "code",
   "execution_count": 37,
   "id": "4f73bbc3-d5e6-40d1-a169-a85be78fd956",
   "metadata": {},
   "outputs": [
    {
     "data": {
      "text/plain": [
       "001    0\n",
       "002    0\n",
       "003    1\n",
       "004    0\n",
       "005    0\n",
       "006    1\n",
       "dtype: int64"
      ]
     },
     "execution_count": 37,
     "metadata": {},
     "output_type": "execute_result"
    }
   ],
   "source": [
    "scores.isnull().sum(axis=1)"
   ]
  },
  {
   "cell_type": "markdown",
   "id": "d0e2ca1c-707c-42a9-a278-d086452db838",
   "metadata": {},
   "source": [
    "*对于df-提取df某属性存在空缺值的行*"
   ]
  },
  {
   "cell_type": "code",
   "execution_count": 49,
   "id": "4819260c-8fc8-4526-ba7e-81e2ee82d9ac",
   "metadata": {},
   "outputs": [
    {
     "data": {
      "text/html": [
       "<div>\n",
       "<style scoped>\n",
       "    .dataframe tbody tr th:only-of-type {\n",
       "        vertical-align: middle;\n",
       "    }\n",
       "\n",
       "    .dataframe tbody tr th {\n",
       "        vertical-align: top;\n",
       "    }\n",
       "\n",
       "    .dataframe thead th {\n",
       "        text-align: right;\n",
       "    }\n",
       "</style>\n",
       "<table border=\"1\" class=\"dataframe\">\n",
       "  <thead>\n",
       "    <tr style=\"text-align: right;\">\n",
       "      <th></th>\n",
       "      <th>姓名</th>\n",
       "      <th>考试1</th>\n",
       "      <th>考试2</th>\n",
       "      <th>考试3</th>\n",
       "    </tr>\n",
       "  </thead>\n",
       "  <tbody>\n",
       "    <tr>\n",
       "      <th>001</th>\n",
       "      <td>小陈</td>\n",
       "      <td>85</td>\n",
       "      <td>95</td>\n",
       "      <td>92</td>\n",
       "    </tr>\n",
       "    <tr>\n",
       "      <th>002</th>\n",
       "      <td>小李</td>\n",
       "      <td>91</td>\n",
       "      <td>92</td>\n",
       "      <td>94</td>\n",
       "    </tr>\n",
       "    <tr>\n",
       "      <th>003</th>\n",
       "      <td>小王</td>\n",
       "      <td>86</td>\n",
       "      <td>81</td>\n",
       "      <td>NaN</td>\n",
       "    </tr>\n",
       "    <tr>\n",
       "      <th>004</th>\n",
       "      <td>小张</td>\n",
       "      <td>79</td>\n",
       "      <td>89</td>\n",
       "      <td>95</td>\n",
       "    </tr>\n",
       "    <tr>\n",
       "      <th>005</th>\n",
       "      <td>小赵</td>\n",
       "      <td>96</td>\n",
       "      <td>91</td>\n",
       "      <td>91</td>\n",
       "    </tr>\n",
       "    <tr>\n",
       "      <th>006</th>\n",
       "      <td>小周</td>\n",
       "      <td>81</td>\n",
       "      <td>NaN</td>\n",
       "      <td>92</td>\n",
       "    </tr>\n",
       "  </tbody>\n",
       "</table>\n",
       "</div>"
      ],
      "text/plain": [
       "     姓名 考试1  考试2  考试3\n",
       "001  小陈  85   95   92\n",
       "002  小李  91   92   94\n",
       "003  小王  86   81  NaN\n",
       "004  小张  79   89   95\n",
       "005  小赵  96   91   91\n",
       "006  小周  81  NaN   92"
      ]
     },
     "execution_count": 49,
     "metadata": {},
     "output_type": "execute_result"
    }
   ],
   "source": [
    "scores"
   ]
  },
  {
   "cell_type": "code",
   "execution_count": 39,
   "id": "c796a434-fb72-4d9a-8189-08a4bc3d9e80",
   "metadata": {},
   "outputs": [
    {
     "data": {
      "text/html": [
       "<div>\n",
       "<style scoped>\n",
       "    .dataframe tbody tr th:only-of-type {\n",
       "        vertical-align: middle;\n",
       "    }\n",
       "\n",
       "    .dataframe tbody tr th {\n",
       "        vertical-align: top;\n",
       "    }\n",
       "\n",
       "    .dataframe thead th {\n",
       "        text-align: right;\n",
       "    }\n",
       "</style>\n",
       "<table border=\"1\" class=\"dataframe\">\n",
       "  <thead>\n",
       "    <tr style=\"text-align: right;\">\n",
       "      <th></th>\n",
       "      <th>姓名</th>\n",
       "      <th>考试1</th>\n",
       "      <th>考试2</th>\n",
       "      <th>考试3</th>\n",
       "    </tr>\n",
       "  </thead>\n",
       "  <tbody>\n",
       "    <tr>\n",
       "      <th>003</th>\n",
       "      <td>小王</td>\n",
       "      <td>86</td>\n",
       "      <td>81</td>\n",
       "      <td>NaN</td>\n",
       "    </tr>\n",
       "  </tbody>\n",
       "</table>\n",
       "</div>"
      ],
      "text/plain": [
       "     姓名 考试1 考试2  考试3\n",
       "003  小王  86  81  NaN"
      ]
     },
     "execution_count": 39,
     "metadata": {},
     "output_type": "execute_result"
    }
   ],
   "source": [
    "scores[scores[\"考试3\"].isnull()]"
   ]
  },
  {
   "cell_type": "markdown",
   "id": "87899555-c1c2-40e2-97a6-aa0be1436481",
   "metadata": {
    "jp-MarkdownHeadingCollapsed": true
   },
   "source": [
    "## 评估数据重复-duplicated"
   ]
  },
  {
   "cell_type": "code",
   "execution_count": 50,
   "id": "f12e6e1e-6375-45b9-8b1c-d030bca5dbcc",
   "metadata": {},
   "outputs": [
    {
     "data": {
      "text/html": [
       "<div>\n",
       "<style scoped>\n",
       "    .dataframe tbody tr th:only-of-type {\n",
       "        vertical-align: middle;\n",
       "    }\n",
       "\n",
       "    .dataframe tbody tr th {\n",
       "        vertical-align: top;\n",
       "    }\n",
       "\n",
       "    .dataframe thead th {\n",
       "        text-align: right;\n",
       "    }\n",
       "</style>\n",
       "<table border=\"1\" class=\"dataframe\">\n",
       "  <thead>\n",
       "    <tr style=\"text-align: right;\">\n",
       "      <th></th>\n",
       "      <th>学号</th>\n",
       "      <th>姓名</th>\n",
       "      <th>性别</th>\n",
       "      <th>身高</th>\n",
       "    </tr>\n",
       "  </thead>\n",
       "  <tbody>\n",
       "    <tr>\n",
       "      <th>0</th>\n",
       "      <td>001</td>\n",
       "      <td>小陈</td>\n",
       "      <td>女</td>\n",
       "      <td>172.5</td>\n",
       "    </tr>\n",
       "    <tr>\n",
       "      <th>1</th>\n",
       "      <td>002</td>\n",
       "      <td>小李</td>\n",
       "      <td>女</td>\n",
       "      <td>168.0</td>\n",
       "    </tr>\n",
       "    <tr>\n",
       "      <th>2</th>\n",
       "      <td>003</td>\n",
       "      <td>小王</td>\n",
       "      <td>男</td>\n",
       "      <td>178.2</td>\n",
       "    </tr>\n",
       "    <tr>\n",
       "      <th>3</th>\n",
       "      <td>002</td>\n",
       "      <td>小张</td>\n",
       "      <td>男</td>\n",
       "      <td>181.3</td>\n",
       "    </tr>\n",
       "    <tr>\n",
       "      <th>4</th>\n",
       "      <td>005</td>\n",
       "      <td>小赵</td>\n",
       "      <td>女</td>\n",
       "      <td>161.7</td>\n",
       "    </tr>\n",
       "    <tr>\n",
       "      <th>5</th>\n",
       "      <td>002</td>\n",
       "      <td>小李</td>\n",
       "      <td>女</td>\n",
       "      <td>168.0</td>\n",
       "    </tr>\n",
       "    <tr>\n",
       "      <th>6</th>\n",
       "      <td>006</td>\n",
       "      <td>小周</td>\n",
       "      <td>女</td>\n",
       "      <td>158.5</td>\n",
       "    </tr>\n",
       "  </tbody>\n",
       "</table>\n",
       "</div>"
      ],
      "text/plain": [
       "    学号  姓名 性别     身高\n",
       "0  001  小陈  女  172.5\n",
       "1  002  小李  女  168.0\n",
       "2  003  小王  男  178.2\n",
       "3  002  小张  男  181.3\n",
       "4  005  小赵  女  161.7\n",
       "5  002  小李  女  168.0\n",
       "6  006  小周  女  158.5"
      ]
     },
     "execution_count": 50,
     "metadata": {},
     "output_type": "execute_result"
    }
   ],
   "source": [
    "name = pd.Series([\"小陈\", \"小李\", \"小王\", \"小张\", \"小赵\", \"小李\", \"小周\"])\n",
    "gender = pd.Series([\"女\", \"女\", \"男\", \"男\", \"女\", \"女\", \"女\"])\n",
    "height = pd.Series([172.5, 168.0, 178.2, 181.3, 161.7, 168.0, 158.5])\n",
    "student_number = pd.Series([\"001\", \"002\", \"003\", \"002\", \"005\", \"002\", \"006\"])\n",
    "students = pd.DataFrame({\"学号\": student_number, \"姓名\": name, \"性别\": gender, \"身高\": height})\n",
    "students"
   ]
  },
  {
   "cell_type": "code",
   "execution_count": 52,
   "id": "c6bb4bea-8e33-4814-80fd-09e25204254a",
   "metadata": {},
   "outputs": [
    {
     "name": "stdout",
     "output_type": "stream",
     "text": [
      "0    001\n",
      "1    002\n",
      "2    003\n",
      "3    002\n",
      "4    005\n",
      "5    002\n",
      "6    006\n",
      "Name: 学号, dtype: object\n"
     ]
    },
    {
     "data": {
      "text/plain": [
       "0    False\n",
       "1    False\n",
       "2    False\n",
       "3     True\n",
       "4    False\n",
       "5     True\n",
       "6    False\n",
       "Name: 学号, dtype: bool"
      ]
     },
     "execution_count": 52,
     "metadata": {},
     "output_type": "execute_result"
    }
   ],
   "source": [
    "print(students[\"学号\"])\n",
    "students[\"学号\"].duplicated()"
   ]
  },
  {
   "cell_type": "markdown",
   "id": "be69c32e-7c0b-410e-8317-5883afb75cde",
   "metadata": {},
   "source": [
    "*对Series调用duplicated时候当该值与前面出现过的值重复时候被设为True<br>对df用duplicated时候仅当前行中所有值与前面所出现的行的所有值一样的时候才会设置该行为True*"
   ]
  },
  {
   "cell_type": "code",
   "execution_count": 53,
   "id": "d891515a-17f2-47fa-a693-109cc3a53429",
   "metadata": {},
   "outputs": [
    {
     "data": {
      "text/plain": [
       "0    False\n",
       "1    False\n",
       "2    False\n",
       "3    False\n",
       "4    False\n",
       "5     True\n",
       "6    False\n",
       "dtype: bool"
      ]
     },
     "execution_count": 53,
     "metadata": {},
     "output_type": "execute_result"
    }
   ],
   "source": [
    "students.duplicated()"
   ]
  },
  {
   "cell_type": "markdown",
   "id": "3e1e3fce-269d-4739-a2bc-6914cfd1c2a5",
   "metadata": {},
   "source": [
    "**duplicated默认该行所有值与之前所出现过的一样时候才会设True,也可以通过设置可选参数subset[]列表指定该行哪些属性与之前行一致即可设置为True**"
   ]
  },
  {
   "cell_type": "code",
   "execution_count": 55,
   "id": "0420d40a-5cd6-480f-8f2b-1efbcc7339ba",
   "metadata": {},
   "outputs": [
    {
     "data": {
      "text/plain": [
       "0    False\n",
       "1    False\n",
       "2    False\n",
       "3    False\n",
       "4    False\n",
       "5     True\n",
       "6    False\n",
       "dtype: bool"
      ]
     },
     "execution_count": 55,
     "metadata": {},
     "output_type": "execute_result"
    }
   ],
   "source": [
    "students.duplicated(subset=[\"姓名\",\"身高\"])"
   ]
  },
  {
   "cell_type": "code",
   "execution_count": 56,
   "id": "9907923b-d77c-4ab9-a8c7-8b906605573b",
   "metadata": {},
   "outputs": [
    {
     "data": {
      "text/plain": [
       "0    False\n",
       "1     True\n",
       "2    False\n",
       "3     True\n",
       "4     True\n",
       "5     True\n",
       "6     True\n",
       "dtype: bool"
      ]
     },
     "execution_count": 56,
     "metadata": {},
     "output_type": "execute_result"
    }
   ],
   "source": [
    "students.duplicated(subset=[\"性别\"])"
   ]
  },
  {
   "cell_type": "markdown",
   "id": "8f87ea7f-857f-4ccd-9756-0e26fca16ba2",
   "metadata": {},
   "source": [
    "**提取重复数据的行**"
   ]
  },
  {
   "cell_type": "code",
   "execution_count": 57,
   "id": "fd8e9f5b-889d-4d8f-b576-f7039f3512a3",
   "metadata": {},
   "outputs": [
    {
     "data": {
      "text/html": [
       "<div>\n",
       "<style scoped>\n",
       "    .dataframe tbody tr th:only-of-type {\n",
       "        vertical-align: middle;\n",
       "    }\n",
       "\n",
       "    .dataframe tbody tr th {\n",
       "        vertical-align: top;\n",
       "    }\n",
       "\n",
       "    .dataframe thead th {\n",
       "        text-align: right;\n",
       "    }\n",
       "</style>\n",
       "<table border=\"1\" class=\"dataframe\">\n",
       "  <thead>\n",
       "    <tr style=\"text-align: right;\">\n",
       "      <th></th>\n",
       "      <th>学号</th>\n",
       "      <th>姓名</th>\n",
       "      <th>性别</th>\n",
       "      <th>身高</th>\n",
       "    </tr>\n",
       "  </thead>\n",
       "  <tbody>\n",
       "    <tr>\n",
       "      <th>1</th>\n",
       "      <td>002</td>\n",
       "      <td>小李</td>\n",
       "      <td>女</td>\n",
       "      <td>168.0</td>\n",
       "    </tr>\n",
       "    <tr>\n",
       "      <th>3</th>\n",
       "      <td>002</td>\n",
       "      <td>小张</td>\n",
       "      <td>男</td>\n",
       "      <td>181.3</td>\n",
       "    </tr>\n",
       "    <tr>\n",
       "      <th>4</th>\n",
       "      <td>005</td>\n",
       "      <td>小赵</td>\n",
       "      <td>女</td>\n",
       "      <td>161.7</td>\n",
       "    </tr>\n",
       "    <tr>\n",
       "      <th>5</th>\n",
       "      <td>002</td>\n",
       "      <td>小李</td>\n",
       "      <td>女</td>\n",
       "      <td>168.0</td>\n",
       "    </tr>\n",
       "    <tr>\n",
       "      <th>6</th>\n",
       "      <td>006</td>\n",
       "      <td>小周</td>\n",
       "      <td>女</td>\n",
       "      <td>158.5</td>\n",
       "    </tr>\n",
       "  </tbody>\n",
       "</table>\n",
       "</div>"
      ],
      "text/plain": [
       "    学号  姓名 性别     身高\n",
       "1  002  小李  女  168.0\n",
       "3  002  小张  男  181.3\n",
       "4  005  小赵  女  161.7\n",
       "5  002  小李  女  168.0\n",
       "6  006  小周  女  158.5"
      ]
     },
     "execution_count": 57,
     "metadata": {},
     "output_type": "execute_result"
    }
   ],
   "source": [
    "students[students.duplicated(subset=[\"性别\"])]"
   ]
  },
  {
   "cell_type": "markdown",
   "id": "0b23f8b2-e3d2-4fc0-b359-b5d7686e654f",
   "metadata": {
    "jp-MarkdownHeadingCollapsed": true
   },
   "source": [
    "## 评估不一致数据"
   ]
  },
  {
   "cell_type": "code",
   "execution_count": 59,
   "id": "5e19f29b-9a57-4e08-99d1-10dd460fa4b2",
   "metadata": {},
   "outputs": [
    {
     "data": {
      "text/html": [
       "<div>\n",
       "<style scoped>\n",
       "    .dataframe tbody tr th:only-of-type {\n",
       "        vertical-align: middle;\n",
       "    }\n",
       "\n",
       "    .dataframe tbody tr th {\n",
       "        vertical-align: top;\n",
       "    }\n",
       "\n",
       "    .dataframe thead th {\n",
       "        text-align: right;\n",
       "    }\n",
       "</style>\n",
       "<table border=\"1\" class=\"dataframe\">\n",
       "  <thead>\n",
       "    <tr style=\"text-align: right;\">\n",
       "      <th></th>\n",
       "      <th>学号</th>\n",
       "      <th>姓名</th>\n",
       "      <th>性别</th>\n",
       "      <th>班级</th>\n",
       "    </tr>\n",
       "  </thead>\n",
       "  <tbody>\n",
       "    <tr>\n",
       "      <th>0</th>\n",
       "      <td>001</td>\n",
       "      <td>小陈</td>\n",
       "      <td>女</td>\n",
       "      <td>1 班</td>\n",
       "    </tr>\n",
       "    <tr>\n",
       "      <th>1</th>\n",
       "      <td>002</td>\n",
       "      <td>小李</td>\n",
       "      <td>woman</td>\n",
       "      <td>①班</td>\n",
       "    </tr>\n",
       "    <tr>\n",
       "      <th>2</th>\n",
       "      <td>002</td>\n",
       "      <td>小李</td>\n",
       "      <td>女</td>\n",
       "      <td>1 班</td>\n",
       "    </tr>\n",
       "    <tr>\n",
       "      <th>3</th>\n",
       "      <td>003</td>\n",
       "      <td>小王</td>\n",
       "      <td>m</td>\n",
       "      <td>一班</td>\n",
       "    </tr>\n",
       "    <tr>\n",
       "      <th>4</th>\n",
       "      <td>004</td>\n",
       "      <td>小张</td>\n",
       "      <td>M</td>\n",
       "      <td>二班</td>\n",
       "    </tr>\n",
       "    <tr>\n",
       "      <th>5</th>\n",
       "      <td>005</td>\n",
       "      <td>小赵</td>\n",
       "      <td>男</td>\n",
       "      <td>2 班</td>\n",
       "    </tr>\n",
       "    <tr>\n",
       "      <th>6</th>\n",
       "      <td>006</td>\n",
       "      <td>小周</td>\n",
       "      <td>fe</td>\n",
       "      <td>2 班</td>\n",
       "    </tr>\n",
       "  </tbody>\n",
       "</table>\n",
       "</div>"
      ],
      "text/plain": [
       "    学号  姓名     性别   班级\n",
       "0  001  小陈      女  1 班\n",
       "1  002  小李  woman   ①班\n",
       "2  002  小李      女  1 班\n",
       "3  003  小王      m   一班\n",
       "4  004  小张      M   二班\n",
       "5  005  小赵      男  2 班\n",
       "6  006  小周     fe  2 班"
      ]
     },
     "execution_count": 59,
     "metadata": {},
     "output_type": "execute_result"
    }
   ],
   "source": [
    "name = pd.Series([\"小陈\", \"小李\", \"小李\", \"小王\", \"小张\", \"小赵\", \"小周\"])\n",
    "gender = pd.Series([\"女\", \"woman\", \"女\", \"m\", \"M\", \"男\", \"fe\"])\n",
    "class_number = pd.Series([\"1 班\", \"①班\", \"1 班\", \"一班\", \"二班\", \"2 班\", \"2 班\"])\n",
    "student_number = pd.Series([\"001\", \"002\", \"002\", \"003\", \"004\", \"005\", \"006\"])\n",
    "students = pd.DataFrame({\"学号\": student_number, \"姓名\": name, \"性别\": gender, \"班级\": class_number})\n",
    "students"
   ]
  },
  {
   "cell_type": "markdown",
   "id": "522bd1c2-fc77-4669-b157-fa8e8123c32a",
   "metadata": {},
   "source": [
    "**通过value_counts()来查看该属性列下值的种类与该种类值出现的个数来统计不一致数据**"
   ]
  },
  {
   "cell_type": "code",
   "execution_count": 60,
   "id": "c024e0ba-11f8-4ed1-9e16-7d04d11b853b",
   "metadata": {},
   "outputs": [
    {
     "data": {
      "text/plain": [
       "性别\n",
       "女        2\n",
       "woman    1\n",
       "m        1\n",
       "M        1\n",
       "男        1\n",
       "fe       1\n",
       "Name: count, dtype: int64"
      ]
     },
     "execution_count": 60,
     "metadata": {},
     "output_type": "execute_result"
    }
   ],
   "source": [
    "students[\"性别\"].value_counts()"
   ]
  },
  {
   "cell_type": "markdown",
   "id": "0dc3fabf-87c3-4be8-a9b5-4b9d38d339d8",
   "metadata": {},
   "source": [
    "## 评估无效/错误数据"
   ]
  },
  {
   "cell_type": "code",
   "execution_count": 62,
   "id": "d52023a7-13b7-41ef-9bf2-1081386b50dc",
   "metadata": {},
   "outputs": [
    {
     "data": {
      "text/html": [
       "<div>\n",
       "<style scoped>\n",
       "    .dataframe tbody tr th:only-of-type {\n",
       "        vertical-align: middle;\n",
       "    }\n",
       "\n",
       "    .dataframe tbody tr th {\n",
       "        vertical-align: top;\n",
       "    }\n",
       "\n",
       "    .dataframe thead th {\n",
       "        text-align: right;\n",
       "    }\n",
       "</style>\n",
       "<table border=\"1\" class=\"dataframe\">\n",
       "  <thead>\n",
       "    <tr style=\"text-align: right;\">\n",
       "      <th></th>\n",
       "      <th>姓名</th>\n",
       "      <th>性别</th>\n",
       "      <th>身高</th>\n",
       "    </tr>\n",
       "  </thead>\n",
       "  <tbody>\n",
       "    <tr>\n",
       "      <th>0</th>\n",
       "      <td>小陈</td>\n",
       "      <td>女</td>\n",
       "      <td>172.5</td>\n",
       "    </tr>\n",
       "    <tr>\n",
       "      <th>1</th>\n",
       "      <td>小李</td>\n",
       "      <td>女</td>\n",
       "      <td>168.0</td>\n",
       "    </tr>\n",
       "    <tr>\n",
       "      <th>2</th>\n",
       "      <td>小李</td>\n",
       "      <td>女</td>\n",
       "      <td>1168.0</td>\n",
       "    </tr>\n",
       "    <tr>\n",
       "      <th>3</th>\n",
       "      <td>小王</td>\n",
       "      <td>男</td>\n",
       "      <td>178.2</td>\n",
       "    </tr>\n",
       "    <tr>\n",
       "      <th>4</th>\n",
       "      <td>小张</td>\n",
       "      <td>男</td>\n",
       "      <td>181.3</td>\n",
       "    </tr>\n",
       "    <tr>\n",
       "      <th>5</th>\n",
       "      <td>小赵</td>\n",
       "      <td>女</td>\n",
       "      <td>-161.7</td>\n",
       "    </tr>\n",
       "    <tr>\n",
       "      <th>6</th>\n",
       "      <td>小周</td>\n",
       "      <td>女</td>\n",
       "      <td>158.5</td>\n",
       "    </tr>\n",
       "  </tbody>\n",
       "</table>\n",
       "</div>"
      ],
      "text/plain": [
       "   姓名 性别      身高\n",
       "0  小陈  女   172.5\n",
       "1  小李  女   168.0\n",
       "2  小李  女  1168.0\n",
       "3  小王  男   178.2\n",
       "4  小张  男   181.3\n",
       "5  小赵  女  -161.7\n",
       "6  小周  女   158.5"
      ]
     },
     "execution_count": 62,
     "metadata": {},
     "output_type": "execute_result"
    }
   ],
   "source": [
    "name = pd.Series([\"小陈\", \"小李\", \"小李\", \"小王\", \"小张\", \"小赵\", \"小周\"])\n",
    "gender = pd.Series([\"女\", \"女\", \"女\", \"男\", \"男\", \"女\", \"女\"])\n",
    "height = pd.Series([172.5, 168.0, 1168.0, 178.2, 181.3, -161.7, 158.5])\n",
    "students = pd.DataFrame({\"姓名\": name, \"性别\": gender, \"身高\": height})\n",
    "students"
   ]
  },
  {
   "cell_type": "code",
   "execution_count": 63,
   "id": "da1662be-cf10-4d98-be6e-2b42e3de1277",
   "metadata": {},
   "outputs": [
    {
     "data": {
      "text/html": [
       "<div>\n",
       "<style scoped>\n",
       "    .dataframe tbody tr th:only-of-type {\n",
       "        vertical-align: middle;\n",
       "    }\n",
       "\n",
       "    .dataframe tbody tr th {\n",
       "        vertical-align: top;\n",
       "    }\n",
       "\n",
       "    .dataframe thead th {\n",
       "        text-align: right;\n",
       "    }\n",
       "</style>\n",
       "<table border=\"1\" class=\"dataframe\">\n",
       "  <thead>\n",
       "    <tr style=\"text-align: right;\">\n",
       "      <th></th>\n",
       "      <th>身高</th>\n",
       "    </tr>\n",
       "  </thead>\n",
       "  <tbody>\n",
       "    <tr>\n",
       "      <th>count</th>\n",
       "      <td>7.000000</td>\n",
       "    </tr>\n",
       "    <tr>\n",
       "      <th>mean</th>\n",
       "      <td>266.400000</td>\n",
       "    </tr>\n",
       "    <tr>\n",
       "      <th>std</th>\n",
       "      <td>416.596447</td>\n",
       "    </tr>\n",
       "    <tr>\n",
       "      <th>min</th>\n",
       "      <td>-161.700000</td>\n",
       "    </tr>\n",
       "    <tr>\n",
       "      <th>25%</th>\n",
       "      <td>163.250000</td>\n",
       "    </tr>\n",
       "    <tr>\n",
       "      <th>50%</th>\n",
       "      <td>172.500000</td>\n",
       "    </tr>\n",
       "    <tr>\n",
       "      <th>75%</th>\n",
       "      <td>179.750000</td>\n",
       "    </tr>\n",
       "    <tr>\n",
       "      <th>max</th>\n",
       "      <td>1168.000000</td>\n",
       "    </tr>\n",
       "  </tbody>\n",
       "</table>\n",
       "</div>"
      ],
      "text/plain": [
       "                身高\n",
       "count     7.000000\n",
       "mean    266.400000\n",
       "std     416.596447\n",
       "min    -161.700000\n",
       "25%     163.250000\n",
       "50%     172.500000\n",
       "75%     179.750000\n",
       "max    1168.000000"
      ]
     },
     "execution_count": 63,
     "metadata": {},
     "output_type": "execute_result"
    }
   ],
   "source": [
    "students.describe()"
   ]
  },
  {
   "cell_type": "code",
   "execution_count": 64,
   "id": "c8de6574-e8aa-406b-97d0-425487e16a64",
   "metadata": {},
   "outputs": [
    {
     "data": {
      "text/plain": [
       "5    -161.7\n",
       "6     158.5\n",
       "1     168.0\n",
       "0     172.5\n",
       "3     178.2\n",
       "4     181.3\n",
       "2    1168.0\n",
       "Name: 身高, dtype: float64"
      ]
     },
     "execution_count": 64,
     "metadata": {},
     "output_type": "execute_result"
    }
   ],
   "source": [
    "students[\"身高\"].sort_values()"
   ]
  },
  {
   "cell_type": "markdown",
   "id": "b28c0761-128b-4b98-ada5-2b1686036838",
   "metadata": {},
   "source": [
    "**数据的评估很难评估到方方面面又或是评估的很精确，评估的目的在于确定清洗方法，有泥水冲，有虫摘虫**"
   ]
  },
  {
   "cell_type": "markdown",
   "id": "afd9216f-4584-4d52-99e4-85533eda5480",
   "metadata": {},
   "source": [
    "**数据评估完后就是对评估的结果决定清洗操作**"
   ]
  },
  {
   "cell_type": "code",
   "execution_count": null,
   "id": "ff4d5521-002b-4a55-b772-d28ac823f02d",
   "metadata": {},
   "outputs": [],
   "source": []
  },
  {
   "cell_type": "code",
   "execution_count": null,
   "id": "30a0e5d2-8332-43c6-b91f-ece2cc6cd87c",
   "metadata": {},
   "outputs": [],
   "source": []
  },
  {
   "cell_type": "code",
   "execution_count": null,
   "id": "b99bafab-51f8-42c7-bd6e-e135bb577402",
   "metadata": {},
   "outputs": [],
   "source": []
  },
  {
   "cell_type": "code",
   "execution_count": null,
   "id": "4eaabd7a-594d-49d0-b6f2-c52b0565fe55",
   "metadata": {},
   "outputs": [],
   "source": []
  },
  {
   "cell_type": "code",
   "execution_count": null,
   "id": "0f271358-598e-4425-ba95-6acbc3267004",
   "metadata": {},
   "outputs": [],
   "source": []
  },
  {
   "cell_type": "code",
   "execution_count": null,
   "id": "2f445567-6e4e-4041-af60-761352b4bda1",
   "metadata": {},
   "outputs": [],
   "source": []
  }
 ],
 "metadata": {
  "kernelspec": {
   "display_name": "Python 3 (ipykernel)",
   "language": "python",
   "name": "python3"
  },
  "language_info": {
   "codemirror_mode": {
    "name": "ipython",
    "version": 3
   },
   "file_extension": ".py",
   "mimetype": "text/x-python",
   "name": "python",
   "nbconvert_exporter": "python",
   "pygments_lexer": "ipython3",
   "version": "3.12.0"
  }
 },
 "nbformat": 4,
 "nbformat_minor": 5
}
