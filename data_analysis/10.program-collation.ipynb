{
 "cells": [
  {
   "cell_type": "markdown",
   "id": "6938ea6e-4a39-4677-96ac-f657fc59dac1",
   "metadata": {},
   "source": [
    "# 项目：整理Netflix电影演员评分数据"
   ]
  },
  {
   "cell_type": "markdown",
   "id": "7b53e30f-a63c-4e4e-af24-bb224911a9a1",
   "metadata": {
    "jp-MarkdownHeadingCollapsed": true
   },
   "source": [
    "## 分析目标"
   ]
  },
  {
   "cell_type": "markdown",
   "id": "f2772221-b55c-4b00-99b9-49bc2a58326e",
   "metadata": {},
   "source": [
    "此数据分析的目的是，整理不同流派影视作品，比如喜剧片、动作片、科幻片中，各演员出演作品的平均IMDB评分，从而挖掘出各个流派中的高评分作品演员。\n",
    "\n",
    "本实战项目的目的在于练习整理数据，从而得到可供下一步分析的数据。"
   ]
  },
  {
   "cell_type": "markdown",
   "id": "6aaef64a-d0f4-4e15-aa66-16a1b7fc0ac9",
   "metadata": {
    "jp-MarkdownHeadingCollapsed": true
   },
   "source": [
    "## 简介"
   ]
  },
  {
   "cell_type": "markdown",
   "id": "44559b54-642b-4019-8d46-73bf69dd3208",
   "metadata": {},
   "source": [
    "原始数据集记录了截止至2022年7月美国地区可观看的所有Netflix电视剧及电影数据。数据集包含两个数据表：`titles.csv`和`credits.csv`。\n",
    "\n",
    "`titles.csv`包含电影及电视剧相关信息，包括影视作品ID、标题、类型、描述、流派、IMDB（一个国外的在线评分网站）评分，等等。`credits.csv`包含超过7万名出现在Netflix影视作品的导演及演员信息，包括名字、影视作品ID、人物名、演职员类型（导演/演员）等。"
   ]
  },
  {
   "cell_type": "markdown",
   "id": "0415647f-ba66-4356-900b-029ef03d14ba",
   "metadata": {},
   "source": [
    "`titles.csv`每列的含义如下：\n",
    "- id：影视作品ID。\n",
    "- title：影视作品标题。\n",
    "- show_type：作品类型，电视节目或电影。\n",
    "- description：简短描述。\n",
    "- release_year：发布年份。\n",
    "- age_certification：适龄认证。\n",
    "- runtime：每集电视剧或电影的长度。\n",
    "- genres：流派类型列表。\n",
    "- production_countries：出品国家列表。\n",
    "- seasons：如果是电视剧，则是季数。\n",
    "- imdb_id：IMDB的ID。\n",
    "- imdb_score：IMDB的评分。\n",
    "- imdb_votes：IMDB的投票数。\n",
    "- tmdb_popularity：TMDB的流行度。\n",
    "- tmdb_score：TMDB的评分。\n",
    "\n",
    "`credits.csv`每列的含义如下：\n",
    "- person_ID：演职员ID。\n",
    "- id：参与的影视作品ID。\n",
    "- name：姓名。\n",
    "- character_name：角色姓名。\n",
    "- role：演职员类型，演员或导演。"
   ]
  },
  {
   "cell_type": "markdown",
   "id": "b629992c-4301-4ea5-943d-13dcce4e1ede",
   "metadata": {
    "jp-MarkdownHeadingCollapsed": true
   },
   "source": [
    "## 读取数据"
   ]
  },
  {
   "cell_type": "markdown",
   "id": "ded627ae-1693-49ce-a5fa-c716d45c4634",
   "metadata": {},
   "source": [
    "导入数据分析所需要的库，并通过Pandas的`read_csv`函数，将原始数据文件\"titles.csv\"里的数据内容，解析为DataFrame并赋值给变量`original_titles`。将原始数据文件\"credits.csv\"里的数据内容，解析为DataFrame并赋值给变量`original_credits`。"
   ]
  },
  {
   "cell_type": "code",
   "execution_count": null,
   "id": "1096de3a-85fe-416a-86f4-9b860cd8964b",
   "metadata": {},
   "outputs": [],
   "source": [
    "import pandas as pd"
   ]
  },
  {
   "cell_type": "code",
   "execution_count": null,
   "id": "acebceb4-53b2-4e8c-af15-40a8ecb6591b",
   "metadata": {},
   "outputs": [],
   "source": [
    "original_titles = pd.read_csv(\"titles.csv\")\n",
    "original_credits = pd.read_csv(\"credits.csv\")"
   ]
  },
  {
   "cell_type": "code",
   "execution_count": null,
   "id": "728d94d2-9585-4ff8-871e-177c740a0b05",
   "metadata": {},
   "outputs": [],
   "source": [
    "original_titles.head()"
   ]
  },
  {
   "cell_type": "code",
   "execution_count": null,
   "id": "e0296b07-7c46-45bc-a9eb-17f28bcc4ddc",
   "metadata": {},
   "outputs": [],
   "source": [
    "original_credits.head()"
   ]
  },
  {
   "cell_type": "markdown",
   "id": "68bb4337-86f8-4135-a914-feb8eaeebf96",
   "metadata": {},
   "source": [
    "# 评估和清理数据"
   ]
  },
  {
   "cell_type": "markdown",
   "id": "72871975-fa08-47fd-b93c-b105a19cc114",
   "metadata": {},
   "source": [
    "在这一部分中，我们将对在上一部分建立的`original_titles`及`original_credits`DataFrame所包含的数据进行评估和清理。\n",
    "\n",
    "主要从两个方面进行：结构和内容，即整齐度和干净度。\n",
    "\n",
    "数据的结构性问题指不符合“每个变量为一列，每个观察值为一行，每种类型的观察单位为一个表格”这三个标准；数据的内容性问题包括存在丢失数据、重复数据、无效数据等。"
   ]
  },
  {
   "cell_type": "markdown",
   "id": "d473a0d9-47e6-44e8-b6c3-4ea9774a719d",
   "metadata": {},
   "source": [
    "为了区分开经过清理的数据和原始的数据，我们创建新的变量`cleaned_titles`，让它为`original_titles`复制出的副本，以及创建新的变量`cleaned_credits`，让它为`original_credits`复制出的变量。我们之后的清理步骤都将被运用在`cleaned_titles`和`cleaned_credits`上。"
   ]
  },
  {
   "cell_type": "code",
   "execution_count": null,
   "id": "c8a0a12d-aef6-4ff4-a9d0-72585bd302cb",
   "metadata": {},
   "outputs": [],
   "source": [
    "cleaned_titles = original_titles.copy()\n",
    "cleaned_credits = original_credits.copy()"
   ]
  },
  {
   "cell_type": "markdown",
   "id": "634b5e49-a5eb-4056-bf90-2b778d0d6bdd",
   "metadata": {
    "jp-MarkdownHeadingCollapsed": true
   },
   "source": [
    "## 数据整齐度"
   ]
  },
  {
   "cell_type": "code",
   "execution_count": null,
   "id": "c37f2146-ae04-4ff2-86f2-1f00bc7c5446",
   "metadata": {},
   "outputs": [],
   "source": [
    "cleaned_titles.head(10)"
   ]
  },
  {
   "cell_type": "markdown",
   "id": "77b56055-d3ec-46e4-a3b4-7e1f205b421c",
   "metadata": {},
   "source": [
    "从数据的部分10行来看，`cleaned_titles`里的`genres`和`production_countries`的变量中包含多个值，应当进行拆分。\n",
    "\n",
    "先提取任意一个`genres`变量的值进行观察。"
   ]
  },
  {
   "cell_type": "code",
   "execution_count": null,
   "id": "3bb6cdcb-99f0-4352-940f-3def16afcc8b",
   "metadata": {},
   "outputs": [],
   "source": [
    "cleaned_titles['genres'][1]"
   ]
  },
  {
   "cell_type": "markdown",
   "id": "334a42e5-ab63-4f70-9ae9-acc22b67cb2b",
   "metadata": {},
   "source": [
    "虽然`genres`表示形式是列表，但其实际类型并非字符串列表，而是字符串，无法直接用`value_counts`统计各个值出现的次数。\n",
    "我们可以使用Python内置的`eval`函数，它可以把字符串转换成表达式，所以可以帮我们把表示列表的字符串转换成列表本身。"
   ]
  },
  {
   "cell_type": "code",
   "execution_count": null,
   "id": "2cb1b4f4-af0e-4ba8-8a0d-962ae532080d",
   "metadata": {},
   "outputs": [],
   "source": [
    "cleaned_titles['genres'] = cleaned_titles['genres'].apply(lambda s: eval(s))\n",
    "cleaned_titles['genres'][1]"
   ]
  },
  {
   "cell_type": "markdown",
   "id": "9f726ebb-b587-451f-8edc-e0fd78b9763b",
   "metadata": {},
   "source": [
    "转换为列表后，就能用DataFrame的`explode`方法，把那个列的列表值拆分成单独的行。"
   ]
  },
  {
   "cell_type": "code",
   "execution_count": null,
   "id": "8928f442-c5f4-4cb1-908d-ad06bca0ba47",
   "metadata": {},
   "outputs": [],
   "source": [
    "cleaned_titles = cleaned_titles.explode(\"genres\")\n",
    "cleaned_titles.head(10)"
   ]
  },
  {
   "cell_type": "markdown",
   "id": "38fd53d2-5d0c-4599-831a-ba29077efd11",
   "metadata": {},
   "source": [
    "接下来，针对`production_countries`列也是一样的流程。\n",
    "\n",
    "每个观察值的`production_countries`值并不表示单个流派，而是一系列流派。先提取任意一个`production_countries`变量的值进行观察。"
   ]
  },
  {
   "cell_type": "code",
   "execution_count": null,
   "id": "71d5dfec-9a0b-4a38-8334-83d81cec7030",
   "metadata": {},
   "outputs": [],
   "source": [
    "cleaned_titles['production_countries'][1]"
   ]
  },
  {
   "cell_type": "markdown",
   "id": "6a0f99bf-d0a9-4d93-88fe-9a48fa5f023f",
   "metadata": {},
   "source": [
    "可以看到，`production_countries`也是一样的问题，虽然表示形式是列表，但其实际类型并非字符串列表，而是字符串，难以进行拆分。\n",
    "我们可以再次利用`eval`函数进行类型转换，并检查转换后确实是列表类型。"
   ]
  },
  {
   "cell_type": "code",
   "execution_count": null,
   "id": "07bdec4e-4fcb-4db3-a1d1-6b83d6086003",
   "metadata": {},
   "outputs": [],
   "source": [
    "cleaned_titles['production_countries'] = cleaned_titles['production_countries'].apply(lambda s: eval(s))\n",
    "cleaned_titles['production_countries'][0]"
   ]
  },
  {
   "cell_type": "code",
   "execution_count": null,
   "id": "a990e04f-35c0-4fe5-8141-f0e67839d44c",
   "metadata": {},
   "outputs": [],
   "source": [
    "cleaned_titles = cleaned_titles.explode('production_countries')\n",
    "cleaned_titles.head(10)"
   ]
  },
  {
   "cell_type": "markdown",
   "id": "a784acff-764b-4824-9047-9e499aeff871",
   "metadata": {},
   "source": [
    "在处理完`cleaned_titles`的结构性问题后，查看`cleaned_credits`。"
   ]
  },
  {
   "cell_type": "code",
   "execution_count": null,
   "id": "0f1d653a-115d-4f4f-96d7-fd2ff8219230",
   "metadata": {},
   "outputs": [],
   "source": [
    "cleaned_credits.head(10)"
   ]
  },
  {
   "cell_type": "markdown",
   "id": "0128651b-a01e-43ea-b976-a6255a190e66",
   "metadata": {},
   "source": [
    "从头部的10行数据来看，`cleaned_credits`数据符合“每个变量为一列，每个观察值为一行，每种类型的观察单位为一个表格”，因此不存在结构性问题。"
   ]
  },
  {
   "cell_type": "markdown",
   "id": "a3c43318-e5bc-49d4-bd72-2dd18a24b4c8",
   "metadata": {
    "jp-MarkdownHeadingCollapsed": true
   },
   "source": [
    "## 数据干净度"
   ]
  },
  {
   "cell_type": "markdown",
   "id": "ae98d487-5f6a-409d-b9dd-ee77b1b0beeb",
   "metadata": {},
   "source": [
    "接下来通过`info`，对数据内容进行大致了解。"
   ]
  },
  {
   "cell_type": "code",
   "execution_count": null,
   "id": "96778a13-86bc-4ae6-bcbe-7ea6a4b1c7fb",
   "metadata": {},
   "outputs": [],
   "source": [
    "cleaned_titles.info()"
   ]
  },
  {
   "cell_type": "markdown",
   "id": "b2656d0e-e918-4e80-9751-80c87a39ba12",
   "metadata": {},
   "source": [
    "从输出结果来看，`cleaned_titles`数据共有17818条观察值，`title`、`description`、`age_certification`、`genres`、`production_countries`、`seasons`、`imdb_id`、`imdb_score`、`tmdb_popularity`、`tmdb_score`、`imdb_votes`、`tmdb_popularity`、`tmdb_score`变量均存在缺失值，将在后续进行评估和清理。\n",
    "\n",
    "此外，`release_year`表示年份，数据类型不应为数字，应为日期，所以需要进行数据格式转换。"
   ]
  },
  {
   "cell_type": "code",
   "execution_count": null,
   "id": "f7304d22-75b0-4cd5-a75e-78f71cb440c3",
   "metadata": {},
   "outputs": [],
   "source": [
    "cleaned_titles[\"release_year\"] = pd.to_datetime(cleaned_titles[\"release_year\"], format='%Y')\n",
    "cleaned_titles[\"release_year\"]"
   ]
  },
  {
   "cell_type": "code",
   "execution_count": null,
   "id": "b6b97865-3ffb-4b14-b981-d3cb297764fe",
   "metadata": {},
   "outputs": [],
   "source": [
    "cleaned_credits.info()"
   ]
  },
  {
   "cell_type": "markdown",
   "id": "2aa3e21b-4813-4e26-8a17-38fdad47722a",
   "metadata": {},
   "source": [
    "从输出结果来看，`cleaned_credits`数据共有77801条观察值，其中`character`变量存在缺失值，将在后续进行评估和清理。\n",
    "\n",
    "此外，`person_id`表示演职员ID，数据类型不应为数字，应为字符串，所以需要进行数据格式转换。"
   ]
  },
  {
   "cell_type": "code",
   "execution_count": 1,
   "id": "eeaf38fa-ea20-479f-9f18-87890f6c3ba1",
   "metadata": {},
   "outputs": [
    {
     "ename": "NameError",
     "evalue": "name 'cleaned_credits' is not defined",
     "output_type": "error",
     "traceback": [
      "\u001b[31m---------------------------------------------------------------------------\u001b[39m",
      "\u001b[31mNameError\u001b[39m                                 Traceback (most recent call last)",
      "\u001b[36mCell\u001b[39m\u001b[36m \u001b[39m\u001b[32mIn[1]\u001b[39m\u001b[32m, line 1\u001b[39m\n\u001b[32m----> \u001b[39m\u001b[32m1\u001b[39m cleaned_credits[\u001b[33m\"\u001b[39m\u001b[33mperson_id\u001b[39m\u001b[33m\"\u001b[39m] = \u001b[43mcleaned_credits\u001b[49m[\u001b[33m\"\u001b[39m\u001b[33mperson_id\u001b[39m\u001b[33m\"\u001b[39m].astype(\u001b[33m\"\u001b[39m\u001b[33mstr\u001b[39m\u001b[33m\"\u001b[39m)\n\u001b[32m      2\u001b[39m cleaned_credits[\u001b[33m\"\u001b[39m\u001b[33mperson_id\u001b[39m\u001b[33m\"\u001b[39m]\n",
      "\u001b[31mNameError\u001b[39m: name 'cleaned_credits' is not defined"
     ]
    }
   ],
   "source": [
    "cleaned_credits[\"person_id\"] = cleaned_credits[\"person_id\"].astype(\"str\")\n",
    "cleaned_credits[\"person_id\"]"
   ]
  },
  {
   "cell_type": "markdown",
   "id": "e8d339d3-2458-478c-872c-07868d2871c8",
   "metadata": {
    "jp-MarkdownHeadingCollapsed": true
   },
   "source": [
    "### 处理缺失数据"
   ]
  },
  {
   "cell_type": "markdown",
   "id": "7be45e46-762f-4cae-8d29-07e4f56a175a",
   "metadata": {},
   "source": [
    "在`cleaned_titles`中，`title`、`description`、`age_certification`、`genres`、`production_countries`、`seasons`、`imdb_id`、`imdb_score`、`tmdb_popularity`、`tmdb_score`、`imdb_votes`、`tmdb_popularity`、`tmdb_score`变量存在缺失值。\n",
    "\n",
    "由于影视作品的标题、描述、适龄认证、发行国家、电视剧季数、IMDB的ID、TMDB的流行度、TMDB的评分，并不影响我们挖掘各个流派中的高IMDB评分作品演员，所以可以保留`title`、`description`、`age_certification`、`production_countries`、`seasons`、`imdb_id`、`tmdb_popularity`、`tmdb_score`、`imdb_votes`、`tmdb_popularity`、`tmdb_score`变量值存在空缺的观察值。\n",
    "\n",
    "但`imdb_score`和`genres`，即IMDB评分和流派，和我们后续要做的分析息息相关。\n",
    "\n",
    "先提取出`imdb_score`缺失观察值进行查看。"
   ]
  },
  {
   "cell_type": "code",
   "execution_count": null,
   "id": "cd7b866e-1211-4f23-af55-1be224dda3af",
   "metadata": {},
   "outputs": [],
   "source": [
    "cleaned_titles.query(\"imdb_score.isnull()\")"
   ]
  },
  {
   "cell_type": "markdown",
   "id": "432dbe85-4699-4fd0-8f0e-9faabc62d1ea",
   "metadata": {},
   "source": [
    "由于缺失分析所需的核心数据`imdb_score`，我们将把这些观察值删除，并查看删除后该列空缺值个数和："
   ]
  },
  {
   "cell_type": "code",
   "execution_count": null,
   "id": "19f74b1a-7dec-4ed3-9271-1f1f11fa40f4",
   "metadata": {},
   "outputs": [],
   "source": [
    "cleaned_titles = cleaned_titles.dropna(subset=[\"imdb_score\"])\n",
    "cleaned_titles[\"imdb_score\"].isnull().sum()"
   ]
  },
  {
   "cell_type": "code",
   "execution_count": null,
   "id": "dda38c89-1091-4efc-a3c0-ecbfe9ff3b2f",
   "metadata": {},
   "outputs": [],
   "source": [
    "cleaned_titles.query(\"genres.isnull()\")"
   ]
  },
  {
   "cell_type": "markdown",
   "id": "7549f77f-1232-4ca1-9024-24e39e94a17a",
   "metadata": {},
   "source": [
    "由于缺失分析所需的核心数据`genres`，我们将把这些观察值删除，并查看删除后该列空缺值个数和："
   ]
  },
  {
   "cell_type": "code",
   "execution_count": null,
   "id": "243b2537-ce8b-420d-9583-529c789ee2f8",
   "metadata": {},
   "outputs": [],
   "source": [
    "cleaned_titles = cleaned_titles.dropna(subset=[\"genres\"])\n",
    "cleaned_titles[\"genres\"].isnull().sum()"
   ]
  },
  {
   "cell_type": "markdown",
   "id": "427d39ab-185f-4899-a224-143683d373d6",
   "metadata": {},
   "source": [
    "接下来评估`cleaned_credits`的缺失数据，其中只有`character`变量存在缺失值。\n",
    "\n",
    "角色名并不影响我们挖掘各个流派中的高IMDB评分作品演员，并且此变量缺失也有可能因为演职员类别是导演，没有对应角色，因此可以保留`character`变量值存在空缺的观察值。"
   ]
  },
  {
   "cell_type": "markdown",
   "id": "69876bdc-a957-41a4-95af-521354aef135",
   "metadata": {
    "jp-MarkdownHeadingCollapsed": true
   },
   "source": [
    "### 处理重复数据"
   ]
  },
  {
   "cell_type": "markdown",
   "id": "c7c0fcd3-ed6a-4184-bf2a-c081ff421c4f",
   "metadata": {},
   "source": [
    "根据数据变量的含义以及内容来看，`cleaned_titles`里不应该存在每个变量值都相同的观察值，因此查看是否存在重复值。"
   ]
  },
  {
   "cell_type": "code",
   "execution_count": null,
   "id": "abe09255-78a1-452f-b394-854ec9b98d30",
   "metadata": {},
   "outputs": [],
   "source": [
    "cleaned_titles.duplicated().sum()"
   ]
  },
  {
   "cell_type": "markdown",
   "id": "4eb91420-95fb-4aa0-b2d9-8510a988bf13",
   "metadata": {},
   "source": [
    "输出结果为0，说明不存在重复值。\n",
    "\n",
    "接下来查看`cleaned_credits`数据表是否存在重复值。"
   ]
  },
  {
   "cell_type": "code",
   "execution_count": null,
   "id": "92e93856-cadb-453d-92b1-609619672f83",
   "metadata": {},
   "outputs": [],
   "source": [
    "cleaned_credits.duplicated().sum()"
   ]
  },
  {
   "cell_type": "markdown",
   "id": "0c69a4f4-0d72-4919-b708-85035e8af5f5",
   "metadata": {},
   "source": [
    "输出结果为0，说明不存在重复值。"
   ]
  },
  {
   "cell_type": "markdown",
   "id": "807ae579-a628-4a60-96d5-2d93cdde4056",
   "metadata": {
    "jp-MarkdownHeadingCollapsed": true
   },
   "source": [
    "### 处理不一致数据"
   ]
  },
  {
   "cell_type": "markdown",
   "id": "2a0cd3d9-e1c6-46d7-9266-ea34ece3a742",
   "metadata": {},
   "source": [
    "针对`cleaned_titles`，不一致数据可能存在于`genres`和`character`变量中，我们将查看是否存在多个不同值指代同一流派，以及多个不同值指代同一国家的情况。"
   ]
  },
  {
   "cell_type": "code",
   "execution_count": null,
   "id": "06cf1f7d-4373-4e2b-a037-637befa7338b",
   "metadata": {},
   "outputs": [],
   "source": [
    "cleaned_titles['genres'].value_counts()"
   ]
  },
  {
   "cell_type": "markdown",
   "id": "be73bb45-5088-49b4-bf39-e4466d407906",
   "metadata": {},
   "source": [
    "从上面看出，`genres`列里并不存在不一致数据，各个值都在指代不同的流派。但是里面还存在空字符串表示的流派，并非有效数据，因此可以进行删除。\n",
    "\n",
    "删除后，查看`cleaned_titles`里是否还存在`genres`为空字符串的行："
   ]
  },
  {
   "cell_type": "code",
   "execution_count": null,
   "id": "4f5cc289-9796-41d6-8530-97e09d5a045d",
   "metadata": {},
   "outputs": [],
   "source": [
    "cleaned_titles = cleaned_titles.query('genres != \"\"')\n",
    "cleaned_titles.query('genres == \"\"')"
   ]
  },
  {
   "cell_type": "markdown",
   "id": "8b5376ed-0d19-4194-b0ef-f3ccc1c52cdd",
   "metadata": {},
   "source": [
    "接下来，针对`production_countries`列也是一样的流程，利用`value_counts`方法，得到`production_countries`的列表里面各个值的出现次数。"
   ]
  },
  {
   "cell_type": "code",
   "execution_count": null,
   "id": "40b0d164-3dbe-4f33-b7e8-f5079d90cb35",
   "metadata": {},
   "outputs": [],
   "source": [
    "cleaned_titles['production_countries'].value_counts()"
   ]
  },
  {
   "cell_type": "markdown",
   "id": "f84523e9-93e3-42e1-807b-a941caf72fa0",
   "metadata": {},
   "source": [
    "由于`value_counts`执行结果中有太多值，Pandas只会默认显示开头和结尾的一些值。要完整展示结果，可以把`display.max_rows`设置为`None`，即取消展示行数上限。\n",
    "\n",
    "但因为我们只是在当前调用`value_counts`时才需要看完整结果，所以可以结合`option_context`，只更改临时上限。"
   ]
  },
  {
   "cell_type": "code",
   "execution_count": null,
   "id": "c9522e4c-03a5-4929-8e25-11ab54ba6488",
   "metadata": {},
   "outputs": [],
   "source": [
    "with pd.option_context('display.max_rows', None):\n",
    "    print(cleaned_titles['production_countries'].value_counts())"
   ]
  },
  {
   "cell_type": "markdown",
   "id": "4f7719e8-3a85-46f4-b195-93dc97fb9865",
   "metadata": {},
   "source": [
    "从以上输出结果来看，出品国家都用两位的国家代码来表示，除了里面存在一个的`Lebanon`值。\n",
    "\n",
    "`Lebanon`的国家代码是`LB`，出现了39次，说明此处数据不一致。`LB`和`Lebanon`都在表示同一国家，需要进行统一。"
   ]
  },
  {
   "cell_type": "markdown",
   "id": "d7d9aa10-5dd1-4a4b-9086-445cbebd0ad3",
   "metadata": {},
   "source": [
    "把`cleaned_titles`里，`production_countries`的`\"LB\"`和`\"Lebanon\"`统一为`LB`，并检查替换后是否还存在`\"LB\"`："
   ]
  },
  {
   "cell_type": "markdown",
   "id": "08cea3a3-745b-4a81-b9ec-6c0cd07f09ec",
   "metadata": {},
   "source": [
    "对每个观察值\"production_countries\"列的列表运用上面的函数"
   ]
  },
  {
   "cell_type": "code",
   "execution_count": null,
   "id": "936ed831-e498-4764-bf0b-6a41cbc33ad4",
   "metadata": {},
   "outputs": [],
   "source": [
    "cleaned_titles[\"production_countries\"] = cleaned_titles[\"production_countries\"].replace({\"Lebanon\": \"LB\"})"
   ]
  },
  {
   "cell_type": "markdown",
   "id": "dcd2d390-a436-4d8a-bc3b-892193f198ec",
   "metadata": {
    "jp-MarkdownHeadingCollapsed": true
   },
   "source": [
    "### 检查\"Lebanon\"是否还存在"
   ]
  },
  {
   "cell_type": "code",
   "execution_count": null,
   "id": "f1baff9b-5ff1-4069-bb8d-f643771ea13c",
   "metadata": {},
   "outputs": [],
   "source": [
    "with pd.option_context('display.max_rows', None):\n",
    "    print(cleaned_titles.explode('production_countries')['production_countries'].value_counts())"
   ]
  },
  {
   "cell_type": "markdown",
   "id": "cbc054e7-0baa-4e0d-abfd-427974d3083a",
   "metadata": {},
   "source": [
    "另外，里面还存在空字符串表示的国家代码，并非有效数据。但由于出品国家并非分析所需的关键信息，所以可以保留出品国家为空的观察值。"
   ]
  },
  {
   "cell_type": "markdown",
   "id": "c413fe84-ae10-4f11-9733-7a831cbc253c",
   "metadata": {},
   "source": [
    "针对`original_credits`，不一致数据可能存在于`role`中，我们将查看是否存在多个不同值指代同一演职员类型的情况。"
   ]
  },
  {
   "cell_type": "code",
   "execution_count": null,
   "id": "78cf3be5-879e-4ff1-8f59-67a4df2138bb",
   "metadata": {},
   "outputs": [],
   "source": [
    "original_credits['role'].value_counts()"
   ]
  },
  {
   "cell_type": "markdown",
   "id": "11e6c459-06a5-4baa-9668-6c12a30c9d2f",
   "metadata": {},
   "source": [
    "从以上输出结果来看，`role`只有两种可能的值，`ACTOR`或`DIRECTOR`，不存在不一致数据。我们可以把这列的类型转换为`Category`，好处是比字符串类型更节约内存空间，也能表明说值的类型有限。"
   ]
  },
  {
   "cell_type": "code",
   "execution_count": null,
   "id": "46ce3396-ad0d-4ce3-a5ec-4cdd9b5d2750",
   "metadata": {},
   "outputs": [],
   "source": [
    "cleaned_credits[\"role\"] = cleaned_credits[\"role\"].astype(\"category\")\n",
    "cleaned_credits[\"role\"]"
   ]
  },
  {
   "cell_type": "markdown",
   "id": "aec7d6b1-5038-449b-a99c-e934aa2ac10c",
   "metadata": {
    "jp-MarkdownHeadingCollapsed": true
   },
   "source": [
    "### 处理无效或错误数据"
   ]
  },
  {
   "cell_type": "markdown",
   "id": "45b513c3-11ab-4454-bc22-eaca61b7d474",
   "metadata": {},
   "source": [
    "可以通过DataFrame的`describe`方法，对数值统计信息进行快速了解。"
   ]
  },
  {
   "cell_type": "code",
   "execution_count": null,
   "id": "3c07eca1-0cd3-43eb-9cd7-0c4cf5c70715",
   "metadata": {},
   "outputs": [],
   "source": [
    "original_titles.describe()"
   ]
  },
  {
   "cell_type": "markdown",
   "id": "ae844db4-2a3e-4219-8631-e4541cc5f41f",
   "metadata": {},
   "source": [
    "从以上统计信息来看，`original_titles`里不存在脱离现实意义的数值。\n",
    "\n",
    "`original_credits`由于不包含表示数值含义的变量，因此无需用`describe`检查。"
   ]
  },
  {
   "cell_type": "markdown",
   "id": "67d59013-24e6-404f-bc24-695a08b3d894",
   "metadata": {},
   "source": [
    "# 整理数据"
   ]
  },
  {
   "cell_type": "code",
   "execution_count": null,
   "id": "97c0abb6-61b9-4cce-9b15-55c41684b0f2",
   "metadata": {},
   "outputs": [],
   "source": [
    "cleaned_titles"
   ]
  },
  {
   "cell_type": "code",
   "execution_count": null,
   "id": "d46ec133-c19e-442a-84b8-b6fe507a70da",
   "metadata": {},
   "outputs": [],
   "source": [
    "cleaned_credits"
   ]
  },
  {
   "cell_type": "markdown",
   "id": "2f313471-76ee-4a0c-86c9-d59b8e2e4d8f",
   "metadata": {},
   "source": [
    "对数据的整理，与分析方向紧密相关。此次数据分析目标是，整理不同流派影视作品，比如喜剧片、动作片、科幻片中，演员出演作品的平均IMDB评分，从而挖掘出各个流派中的高评分作品演员。\n",
    "\n",
    "那为了能同时获得流派与演员数据，我们需要把`cleaned_titles`和`cleaned_credits`，通过`id`作为键进行连接，因为两个数据表中`id`都是影视作品ID。"
   ]
  },
  {
   "cell_type": "code",
   "execution_count": null,
   "id": "1eaa0ede-c6ad-436a-88c6-6dfd3d93231f",
   "metadata": {},
   "outputs": [],
   "source": [
    "credits_with_titles = pd.merge(cleaned_credits, cleaned_titles, on=\"id\", how=\"inner\")"
   ]
  },
  {
   "cell_type": "markdown",
   "id": "246fa28d-f743-445b-b488-b5a75e741219",
   "metadata": {},
   "source": [
    "连接后，我们就能知道各个演职员参与过的影视作品的具体信息。"
   ]
  },
  {
   "cell_type": "code",
   "execution_count": null,
   "id": "b02d48f7-4eb6-4316-ac3d-66a9699c8f2d",
   "metadata": {},
   "outputs": [],
   "source": [
    "credits_with_titles.head()"
   ]
  },
  {
   "cell_type": "markdown",
   "id": "20df9455-e63b-4cd4-b449-58bc24a2d376",
   "metadata": {},
   "source": [
    "由于我们只对挖掘演员的参演作品口碑感兴趣，导演不在我们的分析范围内，因此根据`role`，筛选出类型为`ACTOR`的观察值，供后续分析。"
   ]
  },
  {
   "cell_type": "code",
   "execution_count": null,
   "id": "cf9e5113-e7c5-4513-b1cc-819b0fa6dc27",
   "metadata": {},
   "outputs": [],
   "source": [
    "actor_with_titles = credits_with_titles.query('role == \"ACTOR\"')"
   ]
  },
  {
   "cell_type": "markdown",
   "id": "01bad116-2264-4c3f-9933-8babb7e782b8",
   "metadata": {},
   "source": [
    "为了挖掘出各个流派中的高IMDB评分作品演员，我们需要先根据流派和演员进行分组。\n",
    "\n",
    "对演员进行分组的时候，选择的是用`person_id`而不是`name`变量，原因是名字容易出现错拼或者重名的情况，演职员ID会比演员姓名更加准确地反映是哪位演员。"
   ]
  },
  {
   "cell_type": "code",
   "execution_count": null,
   "id": "4c268c33-9cd6-47e4-9cfd-f0601b573160",
   "metadata": {},
   "outputs": [],
   "source": [
    "groupby_genres_and_person_id = actor_with_titles.groupby([\"genres\", \"person_id\"])"
   ]
  },
  {
   "cell_type": "markdown",
   "id": "765f8a39-2a1b-4a0f-aff9-87753ce5ce17",
   "metadata": {},
   "source": [
    "分组后，我们只需要对`imdb_score`的值进行聚合计算，因此只提取`imdb_score`变量，然后调用`mean`，来计算各个流派影视作品中，每位演员参演作品的平均IMDB评分。"
   ]
  },
  {
   "cell_type": "code",
   "execution_count": null,
   "id": "7515610d-0cbf-4454-b8f9-21b9d7d166d2",
   "metadata": {},
   "outputs": [],
   "source": [
    "imdb_score_groupby_genres_and_person_id = groupby_genres_and_person_id[\"imdb_score\"].mean()\n",
    "imdb_score_groupby_genres_and_person_id"
   ]
  },
  {
   "cell_type": "markdown",
   "id": "7cd7b6c4-9994-433a-a503-6da0683b5e9f",
   "metadata": {},
   "source": [
    "我们可以调用`reset_index`，对层次化索引进行重置，得到更加规整的DataFrame。"
   ]
  },
  {
   "cell_type": "code",
   "execution_count": null,
   "id": "4555844b-6c81-4a6e-92ce-0529f4123c53",
   "metadata": {},
   "outputs": [],
   "source": [
    "imdb_score_groupby_genres_and_person_id_df = imdb_score_groupby_genres_and_person_id.reset_index()\n",
    "imdb_score_groupby_genres_and_person_id_df"
   ]
  },
  {
   "cell_type": "markdown",
   "id": "673b3d8f-69fa-4c50-b78d-d97acd486317",
   "metadata": {},
   "source": [
    "现在针对流派和演员分组的IMDB评分数据已经整理好，可以进入后续的分析步骤了。\n",
    "\n",
    "但我们当前可以继续做一些数据整理，比如对上面的结果再次进行分组，找出各个流派里演员作品最高的平均评分是多少、最高评分对应的演员名字是什么。\n",
    "\n",
    "要得到这一结果，我们需要再次用`genres`进行分组，然后提取出`imdb_score`变量，计算其最大值。"
   ]
  },
  {
   "cell_type": "code",
   "execution_count": null,
   "id": "1bdcb2c4-0bdc-4601-91c2-5a56b0b13fdf",
   "metadata": {},
   "outputs": [],
   "source": [
    "genres_max_scores = imdb_score_groupby_genres_and_person_id_df.groupby(\"genres\")[\"imdb_score\"].max()\n",
    "genres_max_scores"
   ]
  },
  {
   "cell_type": "markdown",
   "id": "08e38a6a-1308-478e-968e-fc5ceb0662f3",
   "metadata": {},
   "source": [
    "在我们知道最高分后，可以把以上结果和之前得到的`imdb_score_groupby_genres_and_person_id_df`再次进行连接，得到最高分对应的各个演员ID是什么，也就是这个最高平均分是哪位演员拿到的。"
   ]
  },
  {
   "cell_type": "code",
   "execution_count": null,
   "id": "23810d7d-e1a9-4f81-8668-3f191bab6cb5",
   "metadata": {},
   "outputs": [],
   "source": [
    "genres_max_score_with_person_id = pd.merge(imdb_score_groupby_genres_and_person_id_df, genres_max_scores, on=[\"genres\", \"imdb_score\"])\n",
    "genres_max_score_with_person_id"
   ]
  },
  {
   "cell_type": "markdown",
   "id": "187e985c-901e-493e-9f46-c03cdd06e710",
   "metadata": {},
   "source": [
    "从以上结果可以看出，最高分对应的演员不一定只有一位，可能有多位演员的平均得分相同。\n",
    "\n",
    "为了得到演员ID所对应的演员名字，我们可以和`cleaned_credits`这个DataFrame进行连接。这个DataFrame还有其它列，我们只需要得到`person_id`和`name`的对应，所以可以先提取出那两列，并把重复行删除。"
   ]
  },
  {
   "cell_type": "code",
   "execution_count": null,
   "id": "dd0c3f26-675d-41b1-a600-0272086b5fe2",
   "metadata": {},
   "outputs": [],
   "source": [
    "actor_id_with_names = cleaned_credits[['person_id', 'name']].drop_duplicates()\n",
    "actor_id_with_names.head(10)"
   ]
  },
  {
   "cell_type": "markdown",
   "id": "6c5d77aa-1182-4a6a-a7e0-dffe33a6ab76",
   "metadata": {},
   "source": [
    "下一步就可以把`actor_id_with_names`与前面得到的`genres_max_score_with_person_id`进行连接，增加`name`变量，从而展示平均评分最高的演员名字。"
   ]
  },
  {
   "cell_type": "code",
   "execution_count": null,
   "id": "3e317f0f-47fb-4839-903d-1f9147789434",
   "metadata": {},
   "outputs": [],
   "source": [
    "genres_max_score_with_actor_name = pd.merge(genres_max_score_with_person_id, actor_id_with_names, on=\"person_id\")\n",
    "genres_max_score_with_actor_name"
   ]
  },
  {
   "cell_type": "markdown",
   "id": "7a6c9ea6-8b9a-490c-b1b0-99572cfbf091",
   "metadata": {},
   "source": [
    "为了把相同流派都排序在一起，我们还可以用`sort_values`方法，把结果里面的行根据`genres`进行排序，然后用`reset_index`把索引重新排序。\n",
    "\n",
    "索引重新排序后，DataFrame会多出`index`一列，我们可以再把`index`列进行删除。"
   ]
  },
  {
   "cell_type": "code",
   "execution_count": null,
   "id": "45735b34-8f5e-4114-a746-d881bb4a84f7",
   "metadata": {},
   "outputs": [],
   "source": [
    "genres_max_score_with_actor_name = genres_max_score_with_actor_name.sort_values(\"genres\").reset_index().drop(\"index\", axis=1)\n",
    "genres_max_score_with_actor_name"
   ]
  },
  {
   "cell_type": "code",
   "execution_count": null,
   "id": "8f744822-6a11-4b4c-87ba-fa18732d245a",
   "metadata": {},
   "outputs": [],
   "source": []
  },
  {
   "cell_type": "code",
   "execution_count": null,
   "id": "f9ded520-b9fe-4754-975a-08fae88e9a68",
   "metadata": {},
   "outputs": [],
   "source": []
  }
 ],
 "metadata": {
  "kernelspec": {
   "display_name": "Python 3 (ipykernel)",
   "language": "python",
   "name": "python3"
  },
  "language_info": {
   "codemirror_mode": {
    "name": "ipython",
    "version": 3
   },
   "file_extension": ".py",
   "mimetype": "text/x-python",
   "name": "python",
   "nbconvert_exporter": "python",
   "pygments_lexer": "ipython3",
   "version": "3.12.0"
  }
 },
 "nbformat": 4,
 "nbformat_minor": 5
}
