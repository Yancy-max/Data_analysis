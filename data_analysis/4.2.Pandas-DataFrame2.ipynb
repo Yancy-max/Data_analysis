{
 "cells": [
  {
   "cell_type": "markdown",
   "id": "dacdf284-c1fc-47f1-8b63-5ff0f2e0bae4",
   "metadata": {},
   "source": [
    "这里通过dict+list创建dataframe但是，dataframe一定是由多条series组成，且每个series内数据类型都可以不同.<br>当你用dict+list创建dataframe时候pandas会自动帮你把字典中的每一个list都转为Series"
   ]
  },
  {
   "cell_type": "code",
   "execution_count": 13,
   "id": "c918cd51-3264-4b66-af33-f72c65eca0ee",
   "metadata": {},
   "outputs": [
    {
     "name": "stdout",
     "output_type": "stream",
     "text": [
      "     姓名 性别     身高  成绩\n",
      "001  小陈  男  172.5  89\n",
      "002  小李  女  168.0  92\n",
      "003  小王  男  178.2  82\n",
      "004  小张  男  181.3  96\n",
      "005  小赵  女  161.7  93\n",
      "006  小周  女  159.8  84\n"
     ]
    }
   ],
   "source": [
    "import pandas as pd\n",
    "df1 = pd.DataFrame({\n",
    "    '姓名': ['小陈', '小李', '小王', '小张', '小赵', '小周'],\n",
    "    '性别': ['男', '女', '男', '男', '女', '女'],\n",
    "    '身高': [172.5, 168.0, 178.2, 181.3, 161.7, 159.8],\n",
    "    '成绩': [89, 92, 82, 96, 93, 84]\n",
    "}, index=['001', '002', '003', '004', '005', '006'])\n",
    "print(df1)"
   ]
  },
  {
   "cell_type": "code",
   "execution_count": 14,
   "id": "2d55446c-b8fa-4baf-9a33-0b4fbc00440d",
   "metadata": {},
   "outputs": [
    {
     "data": {
      "text/html": [
       "<div>\n",
       "<style scoped>\n",
       "    .dataframe tbody tr th:only-of-type {\n",
       "        vertical-align: middle;\n",
       "    }\n",
       "\n",
       "    .dataframe tbody tr th {\n",
       "        vertical-align: top;\n",
       "    }\n",
       "\n",
       "    .dataframe thead th {\n",
       "        text-align: right;\n",
       "    }\n",
       "</style>\n",
       "<table border=\"1\" class=\"dataframe\">\n",
       "  <thead>\n",
       "    <tr style=\"text-align: right;\">\n",
       "      <th></th>\n",
       "      <th>姓名</th>\n",
       "      <th>性别</th>\n",
       "      <th>身高</th>\n",
       "      <th>成绩</th>\n",
       "    </tr>\n",
       "  </thead>\n",
       "  <tbody>\n",
       "    <tr>\n",
       "      <th>001</th>\n",
       "      <td>小陈</td>\n",
       "      <td>男</td>\n",
       "      <td>172.5</td>\n",
       "      <td>89</td>\n",
       "    </tr>\n",
       "    <tr>\n",
       "      <th>002</th>\n",
       "      <td>小李</td>\n",
       "      <td>女</td>\n",
       "      <td>168.0</td>\n",
       "      <td>92</td>\n",
       "    </tr>\n",
       "    <tr>\n",
       "      <th>003</th>\n",
       "      <td>小王</td>\n",
       "      <td>男</td>\n",
       "      <td>178.2</td>\n",
       "      <td>82</td>\n",
       "    </tr>\n",
       "    <tr>\n",
       "      <th>004</th>\n",
       "      <td>小张</td>\n",
       "      <td>男</td>\n",
       "      <td>181.3</td>\n",
       "      <td>96</td>\n",
       "    </tr>\n",
       "    <tr>\n",
       "      <th>005</th>\n",
       "      <td>小赵</td>\n",
       "      <td>女</td>\n",
       "      <td>161.7</td>\n",
       "      <td>93</td>\n",
       "    </tr>\n",
       "    <tr>\n",
       "      <th>006</th>\n",
       "      <td>小周</td>\n",
       "      <td>女</td>\n",
       "      <td>159.8</td>\n",
       "      <td>84</td>\n",
       "    </tr>\n",
       "  </tbody>\n",
       "</table>\n",
       "</div>"
      ],
      "text/plain": [
       "     姓名 性别     身高  成绩\n",
       "001  小陈  男  172.5  89\n",
       "002  小李  女  168.0  92\n",
       "003  小王  男  178.2  82\n",
       "004  小张  男  181.3  96\n",
       "005  小赵  女  161.7  93\n",
       "006  小周  女  159.8  84"
      ]
     },
     "execution_count": 14,
     "metadata": {},
     "output_type": "execute_result"
    }
   ],
   "source": [
    "df1"
   ]
  },
  {
   "cell_type": "markdown",
   "id": "368ad234-e981-4cb3-8f96-1d549dadd72e",
   "metadata": {
    "jp-MarkdownHeadingCollapsed": true
   },
   "source": [
    "# 对列赋值-既可以更新df的列也可以创建df新列"
   ]
  },
  {
   "cell_type": "markdown",
   "id": "65f073c9-6a62-4404-a10a-65a3aa2f6146",
   "metadata": {},
   "source": [
    "**值得注意的是若dataframe有标签索引时，那么你用Series对df列重新赋值时也必须要在加上相同的标签索引才可以把数据一一对应**"
   ]
  },
  {
   "cell_type": "code",
   "execution_count": null,
   "id": "372237a0-ec62-4211-8a98-d4ca26bdfd4c",
   "metadata": {},
   "outputs": [],
   "source": [
    "df1[\"成绩\"] = pd.Series([90, 91, 83, 95, 94, 85], index=[\"001\", \"002\", \"003\", \"004\", \"005\", \"006\"])\n",
    "df1"
   ]
  },
  {
   "cell_type": "markdown",
   "id": "b4ee8daf-a76c-4c84-977e-c5b2ae4cf6cd",
   "metadata": {},
   "source": [
    "**除了series也可以用list对df中列的数据重新赋值，好处是无需再写index[]会按顺序一一对应，只需保证列表长度与df行数一致即可**"
   ]
  },
  {
   "cell_type": "code",
   "execution_count": null,
   "id": "aca4a159-495e-48db-aae7-b70663846993",
   "metadata": {},
   "outputs": [],
   "source": [
    "df1[\"成绩\"] = [900, 910, 830, 950, 940, 850]\n",
    "df1"
   ]
  },
  {
   "cell_type": "markdown",
   "id": "c80b00f7-f369-4cfb-8c40-28fae760ec93",
   "metadata": {},
   "source": [
    " "
   ]
  },
  {
   "cell_type": "markdown",
   "id": "47239040-4ed6-4aec-9170-c136ec41ec88",
   "metadata": {},
   "source": [
    "**对不存在于df中的列属性赋值时候会创建新列**"
   ]
  },
  {
   "cell_type": "code",
   "execution_count": null,
   "id": "61762c34-96e6-4b78-adea-6d2c52ed7da4",
   "metadata": {},
   "outputs": [],
   "source": [
    "df1[\"玩原神\"] = pd.Series(['玩', '玩', '不玩', '玩', '玩', '不玩'], index=[\"001\", \"002\", \"003\", \"004\", \"005\", \"006\"])\n",
    "df1[\"游戏等级\"] = [55, 59, 60, 38, 60, 54]\n",
    "df1"
   ]
  },
  {
   "cell_type": "markdown",
   "id": "fe61d72d-7e02-4106-836f-e71dc9ed8da6",
   "metadata": {
    "jp-MarkdownHeadingCollapsed": true
   },
   "source": [
    "# 对行赋值-既可以更新也可以创建"
   ]
  },
  {
   "cell_type": "markdown",
   "id": "72aaa794-e603-4bb0-89d7-3ef12333771b",
   "metadata": {},
   "source": [
    "**用series对行进行赋值更新时要注意index[]要为df的属性，既可以iloc也可以loc**"
   ]
  },
  {
   "cell_type": "code",
   "execution_count": null,
   "id": "b4d15d61-cb10-4181-816c-33d0c7168294",
   "metadata": {},
   "outputs": [],
   "source": [
    "df1.loc['001'] = pd.Series(['小陈胜','男',172.55,899],index=['姓名','性别','身高','成绩'])\n",
    "df1"
   ]
  },
  {
   "cell_type": "code",
   "execution_count": null,
   "id": "25a57eed-16ce-468c-b7cf-ae63dc83a357",
   "metadata": {},
   "outputs": [],
   "source": [
    "df1.iloc[1] = pd.Series(['小李广','男',172.55,899],index=['姓名','性别','身高','成绩'])\n",
    "df1"
   ]
  },
  {
   "cell_type": "markdown",
   "id": "f9886134-dca3-4152-b143-94a9e0b78474",
   "metadata": {},
   "source": [
    "**用list进行赋值更新时候可无需index[]既可按顺序一一对应可用loc/iloc，而series是带标签的数据结构最好每次都用index[]显示表现**"
   ]
  },
  {
   "cell_type": "code",
   "execution_count": null,
   "id": "a9ec1917-f436-4938-8312-b7b7c70fbf5b",
   "metadata": {},
   "outputs": [],
   "source": [
    "df1.loc['003'] = ['小王莽','男',172.55,899]\n",
    "df1"
   ]
  },
  {
   "cell_type": "code",
   "execution_count": null,
   "id": "e066c677-df6f-4175-9da0-3f7065911a1b",
   "metadata": {},
   "outputs": [],
   "source": [
    "df1.iloc[2] = ['小王莽','男',172.55,899]\n",
    "df1"
   ]
  },
  {
   "cell_type": "markdown",
   "id": "92fae158-b1a4-4cd8-9d26-d27b07296a15",
   "metadata": {},
   "source": [
    "**对行进行赋值创建时候不可用iloc,只能用loc！**"
   ]
  },
  {
   "cell_type": "code",
   "execution_count": null,
   "id": "684e4035-9a69-4acf-96c7-f5ec3bffc129",
   "metadata": {},
   "outputs": [],
   "source": [
    "df1.loc['007'] = ['小莽','男',172.55,899]\n",
    "df1"
   ]
  },
  {
   "cell_type": "markdown",
   "id": "30ea3d0d-1260-4f9c-84c8-7cd7636481ce",
   "metadata": {
    "jp-MarkdownHeadingCollapsed": true
   },
   "source": [
    "# 删除dataframe的行/列-drop()"
   ]
  },
  {
   "cell_type": "markdown",
   "id": "6462baa1-5d44-46ed-9598-1aa9d7ee3bc1",
   "metadata": {},
   "source": [
    "*删除行时axis=0(不写它也行因为默认)，删除列时候为axis=1*"
   ]
  },
  {
   "cell_type": "code",
   "execution_count": null,
   "id": "e415256a-93e6-4356-9808-f1e0a91ceadf",
   "metadata": {},
   "outputs": [],
   "source": [
    "df1.drop('005')"
   ]
  },
  {
   "cell_type": "markdown",
   "id": "c480ca28-4683-4d92-b903-c9cb809f844b",
   "metadata": {},
   "source": [
    "*.drop()仅显示删除后的dataframe，但并不改变原先dataframe中数据，可以赋值实现数据删除*"
   ]
  },
  {
   "cell_type": "code",
   "execution_count": null,
   "id": "5173211e-194f-4a17-aea9-7a148fdcf7c9",
   "metadata": {},
   "outputs": [],
   "source": [
    "df1"
   ]
  },
  {
   "cell_type": "code",
   "execution_count": null,
   "id": "e8eed410-9e98-487a-9329-635b587334e3",
   "metadata": {},
   "outputs": [],
   "source": [
    "df1 = df1.drop('005')\n",
    "df1"
   ]
  },
  {
   "cell_type": "code",
   "execution_count": null,
   "id": "3642c272-f7c2-4d1a-b780-a77253091891",
   "metadata": {},
   "outputs": [],
   "source": [
    "df1 = df1.drop(['006','007'])\n",
    "df1"
   ]
  },
  {
   "cell_type": "markdown",
   "id": "3a600413-e9c5-4e86-8e5b-78668e70d618",
   "metadata": {},
   "source": [
    "*对列进行删除，因为dataframe是一张表格由属性（列名→）+索引（↓）组成的二维数据结构<br>axis=0为默认，表示沿着索引纵向↓操作即对每一行数据操作，axis=1表示沿着属性横向操作即对每一个属性操作→<br>0↓  →1*"
   ]
  },
  {
   "cell_type": "code",
   "execution_count": null,
   "id": "66524d3b-6ecc-4766-9f7a-3e42673b2ac0",
   "metadata": {},
   "outputs": [],
   "source": [
    "df1.drop('成绩',axis=1)"
   ]
  },
  {
   "cell_type": "code",
   "execution_count": null,
   "id": "ec4ecdc8-ea01-4f03-9ec2-459e7c90bec5",
   "metadata": {},
   "outputs": [],
   "source": [
    "df1.drop(['性别','身高'],axis=1)"
   ]
  },
  {
   "cell_type": "markdown",
   "id": "66fdf59d-e84f-4d81-958b-a8abdd8300d3",
   "metadata": {
    "jp-MarkdownHeadingCollapsed": true
   },
   "source": [
    "# df于df间的操作"
   ]
  },
  {
   "cell_type": "markdown",
   "id": "64e9508c-4cb5-46a5-938e-62bcf87d11da",
   "metadata": {},
   "source": [
    "*TIPS:<br>创建df时候，你先想好该df具备哪些属性并用 该属性英文名=pd.Series()创建出df的每一列<br>如果你还想要df有标签索引就要在Series中加个index[]<br>最后用dict将属性名作为关键字：对应series变量即属性英文名*"
   ]
  },
  {
   "cell_type": "code",
   "execution_count": null,
   "id": "565f3efc-390a-4c8d-935f-e6a60125b021",
   "metadata": {},
   "outputs": [],
   "source": [
    "A = pd.Series([0,4,8,12],index=['001','003','005','007'])\n",
    "B = pd.Series([1,5,9,13],index=['001','003','005','007'])\n",
    "C = pd.Series([2,6,10,14],index=['001','003','005','007'])\n",
    "D = pd.Series([3,7,11,15],index=['001','003','005','007'])\n",
    "df1 = pd.DataFrame({ 'a':A,'b':B,'c':C,'d':D})\n",
    "df1"
   ]
  },
  {
   "cell_type": "code",
   "execution_count": null,
   "id": "a5511967-5ced-4b83-86d9-5a6987cbb620",
   "metadata": {},
   "outputs": [],
   "source": [
    "A = pd.Series([0,3,6],index=['0','1','2'])\n",
    "B = pd.Series([1,4,7],index=['0','1','2'])\n",
    "C = pd.Series([2,5,8],index=['0','1','2'])\n",
    "df2 = pd.DataFrame({ 'a':A,'b':B,'c':C})\n",
    "df2"
   ]
  },
  {
   "cell_type": "code",
   "execution_count": null,
   "id": "f79d8dfd-4788-466d-b6c3-a5e8c4be42ba",
   "metadata": {},
   "outputs": [],
   "source": [
    "df1 + df2"
   ]
  },
  {
   "cell_type": "code",
   "execution_count": null,
   "id": "3768a3b9-8570-46bc-8636-dfe54d8b7c1a",
   "metadata": {},
   "outputs": [],
   "source": [
    "A = pd.Series([0,3,6],index=['001','003','006'])\n",
    "B = pd.Series([1,4,7],index=['001','003','006'])\n",
    "C = pd.Series([2,5,8],index=['001','003','006'])\n",
    "df3 = pd.DataFrame({ 'a':A,'b':B,'c':C})\n",
    "df3"
   ]
  },
  {
   "cell_type": "code",
   "execution_count": null,
   "id": "3299f307-3601-43bb-b37c-6e85751ddaed",
   "metadata": {},
   "outputs": [],
   "source": [
    "df1+df3"
   ]
  },
  {
   "cell_type": "markdown",
   "id": "a3087d03-ccf7-4c80-9242-dcfe165d9701",
   "metadata": {},
   "source": [
    "*NaN即not a number索引未对得上，可以用fill_value来代替索引上对不上的值进行操作<br>df1.add(df2,fill_value=0)意思：当df1,df2在运算过程中发现df的一个值在另外一个df上有对不上的值时候就用0来代替那个对不上的值进行运算，而不是用NaN代替<br>因为会保留各df所有的属性与标签，所以会出现一个元素两个df都对不上此时用NaN表示*"
   ]
  },
  {
   "cell_type": "code",
   "execution_count": null,
   "id": "ecf065f9-5eb5-4dbb-99f8-564d269323ef",
   "metadata": {},
   "outputs": [],
   "source": [
    "df1.add(df3,fill_value=0)"
   ]
  },
  {
   "cell_type": "code",
   "execution_count": null,
   "id": "ea235986-5289-4dab-8c35-f8b9c4a1a4ea",
   "metadata": {},
   "outputs": [],
   "source": [
    "df1.div(df3,fill_value=1)"
   ]
  },
  {
   "cell_type": "code",
   "execution_count": null,
   "id": "ac056385-520d-4ad1-a431-d674a08c8e9e",
   "metadata": {},
   "outputs": [],
   "source": [
    "df1.mul(df3,fill_value=1)"
   ]
  },
  {
   "cell_type": "code",
   "execution_count": null,
   "id": "29376a5a-e160-44f8-9e0d-f7ec4120ea20",
   "metadata": {},
   "outputs": [],
   "source": [
    "df1.sub(df3,fill_value=0)"
   ]
  },
  {
   "cell_type": "markdown",
   "id": "5f9736f6-559e-4a5f-b5a4-f2e76df90e50",
   "metadata": {},
   "source": [
    "# df与series操作"
   ]
  },
  {
   "cell_type": "markdown",
   "id": "89973e9c-c442-44f8-8d38-15c3ee8843e0",
   "metadata": {},
   "source": [
    "**是将Series的索引与DataFrame的列名对应,操作作用于df的每一行上**"
   ]
  },
  {
   "cell_type": "code",
   "execution_count": 17,
   "id": "67159748-03a5-4004-b75f-459aaf35b716",
   "metadata": {},
   "outputs": [
    {
     "data": {
      "text/plain": [
       "a      0.1\n",
       "b      1.0\n",
       "c     10.0\n",
       "d    100.0\n",
       "dtype: float64"
      ]
     },
     "execution_count": 17,
     "metadata": {},
     "output_type": "execute_result"
    }
   ],
   "source": [
    "s1 = pd.Series([0.1,1,10,100],index=['a','b','c','d'])\n",
    "s1"
   ]
  },
  {
   "cell_type": "markdown",
   "id": "273504a3-f6a3-4d69-b7a0-28700227a537",
   "metadata": {},
   "source": [
    "*你也可以用嵌套dict创建df最外层键名为df属性，里面的键名为标签索引，值为元素*"
   ]
  },
  {
   "cell_type": "code",
   "execution_count": 15,
   "id": "5c1c2386-b5f4-42d9-bd81-fd8c7c8a84a7",
   "metadata": {},
   "outputs": [
    {
     "data": {
      "text/html": [
       "<div>\n",
       "<style scoped>\n",
       "    .dataframe tbody tr th:only-of-type {\n",
       "        vertical-align: middle;\n",
       "    }\n",
       "\n",
       "    .dataframe tbody tr th {\n",
       "        vertical-align: top;\n",
       "    }\n",
       "\n",
       "    .dataframe thead th {\n",
       "        text-align: right;\n",
       "    }\n",
       "</style>\n",
       "<table border=\"1\" class=\"dataframe\">\n",
       "  <thead>\n",
       "    <tr style=\"text-align: right;\">\n",
       "      <th></th>\n",
       "      <th>a</th>\n",
       "      <th>b</th>\n",
       "      <th>c</th>\n",
       "    </tr>\n",
       "  </thead>\n",
       "  <tbody>\n",
       "    <tr>\n",
       "      <th>01</th>\n",
       "      <td>1</td>\n",
       "      <td>1</td>\n",
       "      <td>1</td>\n",
       "    </tr>\n",
       "    <tr>\n",
       "      <th>02</th>\n",
       "      <td>2</td>\n",
       "      <td>2</td>\n",
       "      <td>2</td>\n",
       "    </tr>\n",
       "    <tr>\n",
       "      <th>03</th>\n",
       "      <td>3</td>\n",
       "      <td>3</td>\n",
       "      <td>3</td>\n",
       "    </tr>\n",
       "  </tbody>\n",
       "</table>\n",
       "</div>"
      ],
      "text/plain": [
       "    a  b  c\n",
       "01  1  1  1\n",
       "02  2  2  2\n",
       "03  3  3  3"
      ]
     },
     "execution_count": 15,
     "metadata": {},
     "output_type": "execute_result"
    }
   ],
   "source": [
    "df1 = pd.DataFrame({\n",
    "    'a':{'01':1,'02':2,'03':3},\n",
    "    'b':{'01':1,'02':2,'03':3},\n",
    "    'c':{'01':1,'02':2,'03':3},\n",
    "})\n",
    "df1"
   ]
  },
  {
   "cell_type": "code",
   "execution_count": 18,
   "id": "481c3f06-a4e8-49d5-a2b8-228c7ff08f73",
   "metadata": {},
   "outputs": [
    {
     "data": {
      "text/html": [
       "<div>\n",
       "<style scoped>\n",
       "    .dataframe tbody tr th:only-of-type {\n",
       "        vertical-align: middle;\n",
       "    }\n",
       "\n",
       "    .dataframe tbody tr th {\n",
       "        vertical-align: top;\n",
       "    }\n",
       "\n",
       "    .dataframe thead th {\n",
       "        text-align: right;\n",
       "    }\n",
       "</style>\n",
       "<table border=\"1\" class=\"dataframe\">\n",
       "  <thead>\n",
       "    <tr style=\"text-align: right;\">\n",
       "      <th></th>\n",
       "      <th>a</th>\n",
       "      <th>b</th>\n",
       "      <th>c</th>\n",
       "      <th>d</th>\n",
       "    </tr>\n",
       "  </thead>\n",
       "  <tbody>\n",
       "    <tr>\n",
       "      <th>01</th>\n",
       "      <td>0.1</td>\n",
       "      <td>1.0</td>\n",
       "      <td>10.0</td>\n",
       "      <td>NaN</td>\n",
       "    </tr>\n",
       "    <tr>\n",
       "      <th>02</th>\n",
       "      <td>0.2</td>\n",
       "      <td>2.0</td>\n",
       "      <td>20.0</td>\n",
       "      <td>NaN</td>\n",
       "    </tr>\n",
       "    <tr>\n",
       "      <th>03</th>\n",
       "      <td>0.3</td>\n",
       "      <td>3.0</td>\n",
       "      <td>30.0</td>\n",
       "      <td>NaN</td>\n",
       "    </tr>\n",
       "  </tbody>\n",
       "</table>\n",
       "</div>"
      ],
      "text/plain": [
       "      a    b     c   d\n",
       "01  0.1  1.0  10.0 NaN\n",
       "02  0.2  2.0  20.0 NaN\n",
       "03  0.3  3.0  30.0 NaN"
      ]
     },
     "execution_count": 18,
     "metadata": {},
     "output_type": "execute_result"
    }
   ],
   "source": [
    "df1 * s1"
   ]
  },
  {
   "cell_type": "markdown",
   "id": "13194f76-b2c9-48a1-8050-ce8e7e6212f8",
   "metadata": {},
   "source": [
    "**series中的a标签索引与df中a属性对应，操作作用于df的a属性下的每一行元素，只要这两个数据结构中有一个元素没有对应值就会nan**"
   ]
  },
  {
   "cell_type": "code",
   "execution_count": null,
   "id": "a8655312-49e0-4725-a5c0-bd616c61f6be",
   "metadata": {},
   "outputs": [],
   "source": [
    "df1 * 10"
   ]
  },
  {
   "cell_type": "code",
   "execution_count": null,
   "id": "028345d2-f09d-4420-bf37-c75b9dd5cab5",
   "metadata": {},
   "outputs": [],
   "source": [
    "df1[['a','b']] *100"
   ]
  },
  {
   "cell_type": "markdown",
   "id": "dab19f43-4834-43d5-9372-8cd493e8e8c0",
   "metadata": {},
   "source": [
    "series与df操作的时候并不会像df和df间操作有fill_value这个变量可以把NaN消灭，当出现没有对应值的情况时会出现nan"
   ]
  },
  {
   "cell_type": "markdown",
   "id": "1946d77e-b159-4c4d-b95e-2062b23a5746",
   "metadata": {},
   "source": [
    "**pandas会提取series标签索引映射的值x，再到df中找与series中标签名相同的属性下的各行数据a,b,c然后把x相应操作作用于abc上**"
   ]
  },
  {
   "cell_type": "markdown",
   "id": "98d819fb-9c72-46e2-948b-d7b81627e723",
   "metadata": {},
   "source": [
    "# 练习"
   ]
  },
  {
   "cell_type": "markdown",
   "id": "848bdd29-2c3a-46fc-8648-c379092f8a75",
   "metadata": {},
   "source": [
    "#### 写出导入pandas的语句，并且给pandas别名为`pd`。"
   ]
  },
  {
   "cell_type": "code",
   "execution_count": 1,
   "id": "91960a0f-328e-4260-b967-e3172b64196f",
   "metadata": {},
   "outputs": [],
   "source": [
    "import pandas as pd"
   ]
  },
  {
   "cell_type": "markdown",
   "id": "fa8c6e36-c51b-47ec-b9bd-ef714fe894fe",
   "metadata": {},
   "source": [
    "#### 创建一个名为`students`的DataFrame，包含数据如下：\n",
    "```\n",
    "{'001': {\"姓名\": \"小陈\", \"考试1\": 85, \"考试2\": 95, \"考试3\": 92},\n",
    " \"002\": {\"姓名\": \"小李\", \"考试1\": 91, \"考试2\": 92, \"考试3\": 94},\n",
    " \"003\": {\"姓名\": \"小王\", \"考试1\": 86, \"考试2\": 81, \"考试3\": 89},\n",
    " \"004\": {\"姓名\": \"小张\", \"考试1\": 79, \"考试2\": 89, \"考试3\": 95},\n",
    " \"005\": {\"姓名\": \"小赵\", \"考试1\": 96, \"考试2\": 91, \"考试3\": 91},\n",
    " \"006\": {\"姓名\": \"小周\", \"考试1\": 81, \"考试2\": 89, \"考试3\": 92}\n",
    " }```\n",
    " \n",
    " #### 要求索引为学号（001、002等），列名为姓名、考试1、考试2、考试3，并输出创建好的DataFrame。"
   ]
  },
  {
   "cell_type": "markdown",
   "id": "20597ae5-2f4d-481b-aecf-f465082cb42b",
   "metadata": {},
   "source": [
    "**通过内嵌dict创建df时最外一层键是df属性，里面的键是df的标签，里面的值是df的元素**"
   ]
  },
  {
   "cell_type": "code",
   "execution_count": 2,
   "id": "63f80c1a-3112-46a5-aae3-76c001fde377",
   "metadata": {},
   "outputs": [
    {
     "data": {
      "text/html": [
       "<div>\n",
       "<style scoped>\n",
       "    .dataframe tbody tr th:only-of-type {\n",
       "        vertical-align: middle;\n",
       "    }\n",
       "\n",
       "    .dataframe tbody tr th {\n",
       "        vertical-align: top;\n",
       "    }\n",
       "\n",
       "    .dataframe thead th {\n",
       "        text-align: right;\n",
       "    }\n",
       "</style>\n",
       "<table border=\"1\" class=\"dataframe\">\n",
       "  <thead>\n",
       "    <tr style=\"text-align: right;\">\n",
       "      <th></th>\n",
       "      <th>姓名</th>\n",
       "      <th>考试1</th>\n",
       "      <th>考试2</th>\n",
       "      <th>考试3</th>\n",
       "    </tr>\n",
       "  </thead>\n",
       "  <tbody>\n",
       "    <tr>\n",
       "      <th>001</th>\n",
       "      <td>小陈</td>\n",
       "      <td>85</td>\n",
       "      <td>95</td>\n",
       "      <td>92</td>\n",
       "    </tr>\n",
       "    <tr>\n",
       "      <th>002</th>\n",
       "      <td>小李</td>\n",
       "      <td>91</td>\n",
       "      <td>92</td>\n",
       "      <td>94</td>\n",
       "    </tr>\n",
       "    <tr>\n",
       "      <th>003</th>\n",
       "      <td>小王</td>\n",
       "      <td>86</td>\n",
       "      <td>81</td>\n",
       "      <td>89</td>\n",
       "    </tr>\n",
       "    <tr>\n",
       "      <th>004</th>\n",
       "      <td>小张</td>\n",
       "      <td>79</td>\n",
       "      <td>89</td>\n",
       "      <td>95</td>\n",
       "    </tr>\n",
       "    <tr>\n",
       "      <th>005</th>\n",
       "      <td>小赵</td>\n",
       "      <td>96</td>\n",
       "      <td>91</td>\n",
       "      <td>91</td>\n",
       "    </tr>\n",
       "    <tr>\n",
       "      <th>006</th>\n",
       "      <td>小周</td>\n",
       "      <td>81</td>\n",
       "      <td>89</td>\n",
       "      <td>92</td>\n",
       "    </tr>\n",
       "  </tbody>\n",
       "</table>\n",
       "</div>"
      ],
      "text/plain": [
       "     姓名 考试1 考试2 考试3\n",
       "001  小陈  85  95  92\n",
       "002  小李  91  92  94\n",
       "003  小王  86  81  89\n",
       "004  小张  79  89  95\n",
       "005  小赵  96  91  91\n",
       "006  小周  81  89  92"
      ]
     },
     "execution_count": 2,
     "metadata": {},
     "output_type": "execute_result"
    }
   ],
   "source": [
    "students = pd.DataFrame({\n",
    "    \n",
    " \"001\": {\"姓名\": \"小陈\", \"考试1\": 85, \"考试2\": 95, \"考试3\": 92},\n",
    " \"002\": {\"姓名\": \"小李\", \"考试1\": 91, \"考试2\": 92, \"考试3\": 94},\n",
    " \"003\": {\"姓名\": \"小王\", \"考试1\": 86, \"考试2\": 81, \"考试3\": 89},\n",
    " \"004\": {\"姓名\": \"小张\", \"考试1\": 79, \"考试2\": 89, \"考试3\": 95},\n",
    " \"005\": {\"姓名\": \"小赵\", \"考试1\": 96, \"考试2\": 91, \"考试3\": 91},\n",
    " \"006\": {\"姓名\": \"小周\", \"考试1\": 81, \"考试2\": 89, \"考试3\": 92}\n",
    " \n",
    "})\n",
    "students = students.T\n",
    "students"
   ]
  },
  {
   "cell_type": "markdown",
   "id": "8f50f0ad-d56a-46de-9e6b-72a8cdd44b72",
   "metadata": {},
   "source": [
    "#### 给`students`增加一列`考试4`，数据依次为：`[72, 69, 79, 83, 82, 76]`。"
   ]
  },
  {
   "cell_type": "code",
   "execution_count": 3,
   "id": "e942f544-9a11-4941-9f48-4d1cb2f10ae4",
   "metadata": {},
   "outputs": [
    {
     "data": {
      "text/html": [
       "<div>\n",
       "<style scoped>\n",
       "    .dataframe tbody tr th:only-of-type {\n",
       "        vertical-align: middle;\n",
       "    }\n",
       "\n",
       "    .dataframe tbody tr th {\n",
       "        vertical-align: top;\n",
       "    }\n",
       "\n",
       "    .dataframe thead th {\n",
       "        text-align: right;\n",
       "    }\n",
       "</style>\n",
       "<table border=\"1\" class=\"dataframe\">\n",
       "  <thead>\n",
       "    <tr style=\"text-align: right;\">\n",
       "      <th></th>\n",
       "      <th>姓名</th>\n",
       "      <th>考试1</th>\n",
       "      <th>考试2</th>\n",
       "      <th>考试3</th>\n",
       "      <th>考试4</th>\n",
       "    </tr>\n",
       "  </thead>\n",
       "  <tbody>\n",
       "    <tr>\n",
       "      <th>001</th>\n",
       "      <td>小陈</td>\n",
       "      <td>85</td>\n",
       "      <td>95</td>\n",
       "      <td>92</td>\n",
       "      <td>72</td>\n",
       "    </tr>\n",
       "    <tr>\n",
       "      <th>002</th>\n",
       "      <td>小李</td>\n",
       "      <td>91</td>\n",
       "      <td>92</td>\n",
       "      <td>94</td>\n",
       "      <td>69</td>\n",
       "    </tr>\n",
       "    <tr>\n",
       "      <th>003</th>\n",
       "      <td>小王</td>\n",
       "      <td>86</td>\n",
       "      <td>81</td>\n",
       "      <td>89</td>\n",
       "      <td>79</td>\n",
       "    </tr>\n",
       "    <tr>\n",
       "      <th>004</th>\n",
       "      <td>小张</td>\n",
       "      <td>79</td>\n",
       "      <td>89</td>\n",
       "      <td>95</td>\n",
       "      <td>83</td>\n",
       "    </tr>\n",
       "    <tr>\n",
       "      <th>005</th>\n",
       "      <td>小赵</td>\n",
       "      <td>96</td>\n",
       "      <td>91</td>\n",
       "      <td>91</td>\n",
       "      <td>82</td>\n",
       "    </tr>\n",
       "    <tr>\n",
       "      <th>006</th>\n",
       "      <td>小周</td>\n",
       "      <td>81</td>\n",
       "      <td>89</td>\n",
       "      <td>92</td>\n",
       "      <td>76</td>\n",
       "    </tr>\n",
       "  </tbody>\n",
       "</table>\n",
       "</div>"
      ],
      "text/plain": [
       "     姓名 考试1 考试2 考试3  考试4\n",
       "001  小陈  85  95  92   72\n",
       "002  小李  91  92  94   69\n",
       "003  小王  86  81  89   79\n",
       "004  小张  79  89  95   83\n",
       "005  小赵  96  91  91   82\n",
       "006  小周  81  89  92   76"
      ]
     },
     "execution_count": 3,
     "metadata": {},
     "output_type": "execute_result"
    }
   ],
   "source": [
    "students['考试4']=[72, 69, 79, 83, 82, 76]\n",
    "students"
   ]
  },
  {
   "cell_type": "markdown",
   "id": "f7869eb7-9e34-4c6c-bd2f-72080f7c65a0",
   "metadata": {},
   "source": [
    "#### 给`students`添加一行，索引为007，数据为：`\"小杨\", 79, 82, 81, 69`。"
   ]
  },
  {
   "cell_type": "code",
   "execution_count": 4,
   "id": "609bed92-4831-4c2e-a71c-6219ae8d4f11",
   "metadata": {},
   "outputs": [
    {
     "data": {
      "text/html": [
       "<div>\n",
       "<style scoped>\n",
       "    .dataframe tbody tr th:only-of-type {\n",
       "        vertical-align: middle;\n",
       "    }\n",
       "\n",
       "    .dataframe tbody tr th {\n",
       "        vertical-align: top;\n",
       "    }\n",
       "\n",
       "    .dataframe thead th {\n",
       "        text-align: right;\n",
       "    }\n",
       "</style>\n",
       "<table border=\"1\" class=\"dataframe\">\n",
       "  <thead>\n",
       "    <tr style=\"text-align: right;\">\n",
       "      <th></th>\n",
       "      <th>姓名</th>\n",
       "      <th>考试1</th>\n",
       "      <th>考试2</th>\n",
       "      <th>考试3</th>\n",
       "      <th>考试4</th>\n",
       "    </tr>\n",
       "  </thead>\n",
       "  <tbody>\n",
       "    <tr>\n",
       "      <th>001</th>\n",
       "      <td>小陈</td>\n",
       "      <td>85</td>\n",
       "      <td>95</td>\n",
       "      <td>92</td>\n",
       "      <td>72</td>\n",
       "    </tr>\n",
       "    <tr>\n",
       "      <th>002</th>\n",
       "      <td>小李</td>\n",
       "      <td>91</td>\n",
       "      <td>92</td>\n",
       "      <td>94</td>\n",
       "      <td>69</td>\n",
       "    </tr>\n",
       "    <tr>\n",
       "      <th>003</th>\n",
       "      <td>小王</td>\n",
       "      <td>86</td>\n",
       "      <td>81</td>\n",
       "      <td>89</td>\n",
       "      <td>79</td>\n",
       "    </tr>\n",
       "    <tr>\n",
       "      <th>004</th>\n",
       "      <td>小张</td>\n",
       "      <td>79</td>\n",
       "      <td>89</td>\n",
       "      <td>95</td>\n",
       "      <td>83</td>\n",
       "    </tr>\n",
       "    <tr>\n",
       "      <th>005</th>\n",
       "      <td>小赵</td>\n",
       "      <td>96</td>\n",
       "      <td>91</td>\n",
       "      <td>91</td>\n",
       "      <td>82</td>\n",
       "    </tr>\n",
       "    <tr>\n",
       "      <th>006</th>\n",
       "      <td>小周</td>\n",
       "      <td>81</td>\n",
       "      <td>89</td>\n",
       "      <td>92</td>\n",
       "      <td>76</td>\n",
       "    </tr>\n",
       "    <tr>\n",
       "      <th>007</th>\n",
       "      <td>小杨</td>\n",
       "      <td>79</td>\n",
       "      <td>82</td>\n",
       "      <td>81</td>\n",
       "      <td>69</td>\n",
       "    </tr>\n",
       "  </tbody>\n",
       "</table>\n",
       "</div>"
      ],
      "text/plain": [
       "     姓名 考试1 考试2 考试3  考试4\n",
       "001  小陈  85  95  92   72\n",
       "002  小李  91  92  94   69\n",
       "003  小王  86  81  89   79\n",
       "004  小张  79  89  95   83\n",
       "005  小赵  96  91  91   82\n",
       "006  小周  81  89  92   76\n",
       "007  小杨  79  82  81   69"
      ]
     },
     "execution_count": 4,
     "metadata": {},
     "output_type": "execute_result"
    }
   ],
   "source": [
    "students.loc['007']=[\"小杨\", 79, 82, 81, 69]\n",
    "students                    "
   ]
  },
  {
   "cell_type": "markdown",
   "id": "48e4259f-404a-4012-83e6-bc9f7162cb8e",
   "metadata": {},
   "source": [
    "#### 输出`students`删除索引为006、007的结果，但不要改变`students`本身。"
   ]
  },
  {
   "cell_type": "code",
   "execution_count": 5,
   "id": "c39bc04b-0541-4006-9d7b-8e1b41b49a96",
   "metadata": {},
   "outputs": [
    {
     "data": {
      "text/html": [
       "<div>\n",
       "<style scoped>\n",
       "    .dataframe tbody tr th:only-of-type {\n",
       "        vertical-align: middle;\n",
       "    }\n",
       "\n",
       "    .dataframe tbody tr th {\n",
       "        vertical-align: top;\n",
       "    }\n",
       "\n",
       "    .dataframe thead th {\n",
       "        text-align: right;\n",
       "    }\n",
       "</style>\n",
       "<table border=\"1\" class=\"dataframe\">\n",
       "  <thead>\n",
       "    <tr style=\"text-align: right;\">\n",
       "      <th></th>\n",
       "      <th>姓名</th>\n",
       "      <th>考试1</th>\n",
       "      <th>考试2</th>\n",
       "      <th>考试3</th>\n",
       "      <th>考试4</th>\n",
       "    </tr>\n",
       "  </thead>\n",
       "  <tbody>\n",
       "    <tr>\n",
       "      <th>001</th>\n",
       "      <td>小陈</td>\n",
       "      <td>85</td>\n",
       "      <td>95</td>\n",
       "      <td>92</td>\n",
       "      <td>72</td>\n",
       "    </tr>\n",
       "    <tr>\n",
       "      <th>002</th>\n",
       "      <td>小李</td>\n",
       "      <td>91</td>\n",
       "      <td>92</td>\n",
       "      <td>94</td>\n",
       "      <td>69</td>\n",
       "    </tr>\n",
       "    <tr>\n",
       "      <th>003</th>\n",
       "      <td>小王</td>\n",
       "      <td>86</td>\n",
       "      <td>81</td>\n",
       "      <td>89</td>\n",
       "      <td>79</td>\n",
       "    </tr>\n",
       "    <tr>\n",
       "      <th>004</th>\n",
       "      <td>小张</td>\n",
       "      <td>79</td>\n",
       "      <td>89</td>\n",
       "      <td>95</td>\n",
       "      <td>83</td>\n",
       "    </tr>\n",
       "    <tr>\n",
       "      <th>005</th>\n",
       "      <td>小赵</td>\n",
       "      <td>96</td>\n",
       "      <td>91</td>\n",
       "      <td>91</td>\n",
       "      <td>82</td>\n",
       "    </tr>\n",
       "  </tbody>\n",
       "</table>\n",
       "</div>"
      ],
      "text/plain": [
       "     姓名 考试1 考试2 考试3  考试4\n",
       "001  小陈  85  95  92   72\n",
       "002  小李  91  92  94   69\n",
       "003  小王  86  81  89   79\n",
       "004  小张  79  89  95   83\n",
       "005  小赵  96  91  91   82"
      ]
     },
     "execution_count": 5,
     "metadata": {},
     "output_type": "execute_result"
    }
   ],
   "source": [
    "students.drop(['006','007'])"
   ]
  },
  {
   "cell_type": "markdown",
   "id": "d236549b-e29b-45d9-ba07-1319a7ee683f",
   "metadata": {},
   "source": [
    "#### 输出`students`删除列名为“考试2”、“考试4”的结果，但不要改变`students`本身。"
   ]
  },
  {
   "cell_type": "code",
   "execution_count": 6,
   "id": "58cd468f-c5bc-4ae3-acbb-0251ca3e4f20",
   "metadata": {},
   "outputs": [
    {
     "data": {
      "text/html": [
       "<div>\n",
       "<style scoped>\n",
       "    .dataframe tbody tr th:only-of-type {\n",
       "        vertical-align: middle;\n",
       "    }\n",
       "\n",
       "    .dataframe tbody tr th {\n",
       "        vertical-align: top;\n",
       "    }\n",
       "\n",
       "    .dataframe thead th {\n",
       "        text-align: right;\n",
       "    }\n",
       "</style>\n",
       "<table border=\"1\" class=\"dataframe\">\n",
       "  <thead>\n",
       "    <tr style=\"text-align: right;\">\n",
       "      <th></th>\n",
       "      <th>姓名</th>\n",
       "      <th>考试1</th>\n",
       "      <th>考试3</th>\n",
       "    </tr>\n",
       "  </thead>\n",
       "  <tbody>\n",
       "    <tr>\n",
       "      <th>001</th>\n",
       "      <td>小陈</td>\n",
       "      <td>85</td>\n",
       "      <td>92</td>\n",
       "    </tr>\n",
       "    <tr>\n",
       "      <th>002</th>\n",
       "      <td>小李</td>\n",
       "      <td>91</td>\n",
       "      <td>94</td>\n",
       "    </tr>\n",
       "    <tr>\n",
       "      <th>003</th>\n",
       "      <td>小王</td>\n",
       "      <td>86</td>\n",
       "      <td>89</td>\n",
       "    </tr>\n",
       "    <tr>\n",
       "      <th>004</th>\n",
       "      <td>小张</td>\n",
       "      <td>79</td>\n",
       "      <td>95</td>\n",
       "    </tr>\n",
       "    <tr>\n",
       "      <th>005</th>\n",
       "      <td>小赵</td>\n",
       "      <td>96</td>\n",
       "      <td>91</td>\n",
       "    </tr>\n",
       "    <tr>\n",
       "      <th>006</th>\n",
       "      <td>小周</td>\n",
       "      <td>81</td>\n",
       "      <td>92</td>\n",
       "    </tr>\n",
       "    <tr>\n",
       "      <th>007</th>\n",
       "      <td>小杨</td>\n",
       "      <td>79</td>\n",
       "      <td>81</td>\n",
       "    </tr>\n",
       "  </tbody>\n",
       "</table>\n",
       "</div>"
      ],
      "text/plain": [
       "     姓名 考试1 考试3\n",
       "001  小陈  85  92\n",
       "002  小李  91  94\n",
       "003  小王  86  89\n",
       "004  小张  79  95\n",
       "005  小赵  96  91\n",
       "006  小周  81  92\n",
       "007  小杨  79  81"
      ]
     },
     "execution_count": 6,
     "metadata": {},
     "output_type": "execute_result"
    }
   ],
   "source": [
    "students.drop(['考试2','考试4'],axis=1)"
   ]
  },
  {
   "cell_type": "markdown",
   "id": "a91e9a83-d540-47c0-87b4-292bd08d2b85",
   "metadata": {},
   "source": [
    "#### 创建一个Series`bonus`，包含的值和值对应的索引分别为：`{\"考试1\": 2, \"考试2\": 3, \"考试3\": 2, \"考试4\": 5}`。输出这个Series与`students`里所有分数列相加后的结果，但不用更新`students`。"
   ]
  },
  {
   "cell_type": "code",
   "execution_count": 7,
   "id": "c5f865fa-d60b-4879-9413-3e62c18b52dd",
   "metadata": {},
   "outputs": [
    {
     "data": {
      "text/html": [
       "<div>\n",
       "<style scoped>\n",
       "    .dataframe tbody tr th:only-of-type {\n",
       "        vertical-align: middle;\n",
       "    }\n",
       "\n",
       "    .dataframe tbody tr th {\n",
       "        vertical-align: top;\n",
       "    }\n",
       "\n",
       "    .dataframe thead th {\n",
       "        text-align: right;\n",
       "    }\n",
       "</style>\n",
       "<table border=\"1\" class=\"dataframe\">\n",
       "  <thead>\n",
       "    <tr style=\"text-align: right;\">\n",
       "      <th></th>\n",
       "      <th>考试1</th>\n",
       "      <th>考试2</th>\n",
       "      <th>考试3</th>\n",
       "      <th>考试4</th>\n",
       "    </tr>\n",
       "  </thead>\n",
       "  <tbody>\n",
       "    <tr>\n",
       "      <th>001</th>\n",
       "      <td>87</td>\n",
       "      <td>98</td>\n",
       "      <td>94</td>\n",
       "      <td>77</td>\n",
       "    </tr>\n",
       "    <tr>\n",
       "      <th>002</th>\n",
       "      <td>93</td>\n",
       "      <td>95</td>\n",
       "      <td>96</td>\n",
       "      <td>74</td>\n",
       "    </tr>\n",
       "    <tr>\n",
       "      <th>003</th>\n",
       "      <td>88</td>\n",
       "      <td>84</td>\n",
       "      <td>91</td>\n",
       "      <td>84</td>\n",
       "    </tr>\n",
       "    <tr>\n",
       "      <th>004</th>\n",
       "      <td>81</td>\n",
       "      <td>92</td>\n",
       "      <td>97</td>\n",
       "      <td>88</td>\n",
       "    </tr>\n",
       "    <tr>\n",
       "      <th>005</th>\n",
       "      <td>98</td>\n",
       "      <td>94</td>\n",
       "      <td>93</td>\n",
       "      <td>87</td>\n",
       "    </tr>\n",
       "    <tr>\n",
       "      <th>006</th>\n",
       "      <td>83</td>\n",
       "      <td>92</td>\n",
       "      <td>94</td>\n",
       "      <td>81</td>\n",
       "    </tr>\n",
       "    <tr>\n",
       "      <th>007</th>\n",
       "      <td>81</td>\n",
       "      <td>85</td>\n",
       "      <td>83</td>\n",
       "      <td>74</td>\n",
       "    </tr>\n",
       "  </tbody>\n",
       "</table>\n",
       "</div>"
      ],
      "text/plain": [
       "    考试1 考试2 考试3  考试4\n",
       "001  87  98  94   77\n",
       "002  93  95  96   74\n",
       "003  88  84  91   84\n",
       "004  81  92  97   88\n",
       "005  98  94  93   87\n",
       "006  83  92  94   81\n",
       "007  81  85  83   74"
      ]
     },
     "execution_count": 7,
     "metadata": {},
     "output_type": "execute_result"
    }
   ],
   "source": [
    "bonus = pd.Series([2,3,2,5],index=['考试1','考试2','考试3','考试4'])\n",
    "bonus+students[['考试1','考试2','考试3','考试4']]"
   ]
  },
  {
   "cell_type": "code",
   "execution_count": 8,
   "id": "80bb5b0c-7bb3-4898-9747-feecb7458bd4",
   "metadata": {},
   "outputs": [
    {
     "data": {
      "text/html": [
       "<div>\n",
       "<style scoped>\n",
       "    .dataframe tbody tr th:only-of-type {\n",
       "        vertical-align: middle;\n",
       "    }\n",
       "\n",
       "    .dataframe tbody tr th {\n",
       "        vertical-align: top;\n",
       "    }\n",
       "\n",
       "    .dataframe thead th {\n",
       "        text-align: right;\n",
       "    }\n",
       "</style>\n",
       "<table border=\"1\" class=\"dataframe\">\n",
       "  <thead>\n",
       "    <tr style=\"text-align: right;\">\n",
       "      <th></th>\n",
       "      <th>姓名</th>\n",
       "      <th>考试1</th>\n",
       "      <th>考试2</th>\n",
       "      <th>考试3</th>\n",
       "      <th>考试4</th>\n",
       "    </tr>\n",
       "  </thead>\n",
       "  <tbody>\n",
       "    <tr>\n",
       "      <th>001</th>\n",
       "      <td>NaN</td>\n",
       "      <td>87.0</td>\n",
       "      <td>98.0</td>\n",
       "      <td>94.0</td>\n",
       "      <td>77.0</td>\n",
       "    </tr>\n",
       "    <tr>\n",
       "      <th>002</th>\n",
       "      <td>NaN</td>\n",
       "      <td>93.0</td>\n",
       "      <td>95.0</td>\n",
       "      <td>96.0</td>\n",
       "      <td>74.0</td>\n",
       "    </tr>\n",
       "    <tr>\n",
       "      <th>003</th>\n",
       "      <td>NaN</td>\n",
       "      <td>88.0</td>\n",
       "      <td>84.0</td>\n",
       "      <td>91.0</td>\n",
       "      <td>84.0</td>\n",
       "    </tr>\n",
       "    <tr>\n",
       "      <th>004</th>\n",
       "      <td>NaN</td>\n",
       "      <td>81.0</td>\n",
       "      <td>92.0</td>\n",
       "      <td>97.0</td>\n",
       "      <td>88.0</td>\n",
       "    </tr>\n",
       "    <tr>\n",
       "      <th>005</th>\n",
       "      <td>NaN</td>\n",
       "      <td>98.0</td>\n",
       "      <td>94.0</td>\n",
       "      <td>93.0</td>\n",
       "      <td>87.0</td>\n",
       "    </tr>\n",
       "    <tr>\n",
       "      <th>006</th>\n",
       "      <td>NaN</td>\n",
       "      <td>83.0</td>\n",
       "      <td>92.0</td>\n",
       "      <td>94.0</td>\n",
       "      <td>81.0</td>\n",
       "    </tr>\n",
       "    <tr>\n",
       "      <th>007</th>\n",
       "      <td>NaN</td>\n",
       "      <td>81.0</td>\n",
       "      <td>85.0</td>\n",
       "      <td>83.0</td>\n",
       "      <td>74.0</td>\n",
       "    </tr>\n",
       "  </tbody>\n",
       "</table>\n",
       "</div>"
      ],
      "text/plain": [
       "      姓名   考试1   考试2   考试3   考试4\n",
       "001  NaN  87.0  98.0  94.0  77.0\n",
       "002  NaN  93.0  95.0  96.0  74.0\n",
       "003  NaN  88.0  84.0  91.0  84.0\n",
       "004  NaN  81.0  92.0  97.0  88.0\n",
       "005  NaN  98.0  94.0  93.0  87.0\n",
       "006  NaN  83.0  92.0  94.0  81.0\n",
       "007  NaN  81.0  85.0  83.0  74.0"
      ]
     },
     "execution_count": 8,
     "metadata": {},
     "output_type": "execute_result"
    }
   ],
   "source": [
    "bonus+students"
   ]
  },
  {
   "cell_type": "markdown",
   "id": "2ccdc235-9e1c-447f-ba97-93109a2c118e",
   "metadata": {},
   "source": [
    "#### 更新`students`的`考试4`，让每项数据值增加10，并输出更新后的结果。"
   ]
  },
  {
   "cell_type": "code",
   "execution_count": 11,
   "id": "797f92b6-2019-4c6b-817b-87534370db62",
   "metadata": {},
   "outputs": [
    {
     "data": {
      "text/html": [
       "<div>\n",
       "<style scoped>\n",
       "    .dataframe tbody tr th:only-of-type {\n",
       "        vertical-align: middle;\n",
       "    }\n",
       "\n",
       "    .dataframe tbody tr th {\n",
       "        vertical-align: top;\n",
       "    }\n",
       "\n",
       "    .dataframe thead th {\n",
       "        text-align: right;\n",
       "    }\n",
       "</style>\n",
       "<table border=\"1\" class=\"dataframe\">\n",
       "  <thead>\n",
       "    <tr style=\"text-align: right;\">\n",
       "      <th></th>\n",
       "      <th>姓名</th>\n",
       "      <th>考试1</th>\n",
       "      <th>考试2</th>\n",
       "      <th>考试3</th>\n",
       "      <th>考试4</th>\n",
       "    </tr>\n",
       "  </thead>\n",
       "  <tbody>\n",
       "    <tr>\n",
       "      <th>001</th>\n",
       "      <td>小陈</td>\n",
       "      <td>85</td>\n",
       "      <td>95</td>\n",
       "      <td>92</td>\n",
       "      <td>92</td>\n",
       "    </tr>\n",
       "    <tr>\n",
       "      <th>002</th>\n",
       "      <td>小李</td>\n",
       "      <td>91</td>\n",
       "      <td>92</td>\n",
       "      <td>94</td>\n",
       "      <td>89</td>\n",
       "    </tr>\n",
       "    <tr>\n",
       "      <th>003</th>\n",
       "      <td>小王</td>\n",
       "      <td>86</td>\n",
       "      <td>81</td>\n",
       "      <td>89</td>\n",
       "      <td>99</td>\n",
       "    </tr>\n",
       "    <tr>\n",
       "      <th>004</th>\n",
       "      <td>小张</td>\n",
       "      <td>79</td>\n",
       "      <td>89</td>\n",
       "      <td>95</td>\n",
       "      <td>103</td>\n",
       "    </tr>\n",
       "    <tr>\n",
       "      <th>005</th>\n",
       "      <td>小赵</td>\n",
       "      <td>96</td>\n",
       "      <td>91</td>\n",
       "      <td>91</td>\n",
       "      <td>102</td>\n",
       "    </tr>\n",
       "    <tr>\n",
       "      <th>006</th>\n",
       "      <td>小周</td>\n",
       "      <td>81</td>\n",
       "      <td>89</td>\n",
       "      <td>92</td>\n",
       "      <td>96</td>\n",
       "    </tr>\n",
       "    <tr>\n",
       "      <th>007</th>\n",
       "      <td>小杨</td>\n",
       "      <td>79</td>\n",
       "      <td>82</td>\n",
       "      <td>81</td>\n",
       "      <td>89</td>\n",
       "    </tr>\n",
       "  </tbody>\n",
       "</table>\n",
       "</div>"
      ],
      "text/plain": [
       "     姓名 考试1 考试2 考试3  考试4\n",
       "001  小陈  85  95  92   92\n",
       "002  小李  91  92  94   89\n",
       "003  小王  86  81  89   99\n",
       "004  小张  79  89  95  103\n",
       "005  小赵  96  91  91  102\n",
       "006  小周  81  89  92   96\n",
       "007  小杨  79  82  81   89"
      ]
     },
     "execution_count": 11,
     "metadata": {},
     "output_type": "execute_result"
    }
   ],
   "source": [
    "students.考试4 = students['考试4']+10\n",
    "students"
   ]
  },
  {
   "cell_type": "code",
   "execution_count": null,
   "id": "147ea8ad-b014-4f0f-8a96-ef037b914b88",
   "metadata": {},
   "outputs": [],
   "source": []
  },
  {
   "cell_type": "code",
   "execution_count": null,
   "id": "902937c6-1bb7-4b64-a5c1-a0630a6976bc",
   "metadata": {},
   "outputs": [],
   "source": []
  },
  {
   "cell_type": "code",
   "execution_count": null,
   "id": "840d6eb9-a3fe-4006-b739-60205c5d851e",
   "metadata": {},
   "outputs": [],
   "source": []
  },
  {
   "cell_type": "code",
   "execution_count": null,
   "id": "1038ceca-dfc6-4c53-82f4-a2dc5ee1088f",
   "metadata": {},
   "outputs": [],
   "source": []
  },
  {
   "cell_type": "code",
   "execution_count": null,
   "id": "e3e3f5a3-087a-4949-bb4c-b0af4f58d528",
   "metadata": {},
   "outputs": [],
   "source": []
  },
  {
   "cell_type": "code",
   "execution_count": null,
   "id": "94047e35-7c35-4ca8-8b4a-c1872fd43597",
   "metadata": {},
   "outputs": [],
   "source": []
  },
  {
   "cell_type": "code",
   "execution_count": null,
   "id": "dc93ef96-9539-4074-a34f-7a5aa022fb83",
   "metadata": {},
   "outputs": [],
   "source": []
  },
  {
   "cell_type": "code",
   "execution_count": null,
   "id": "74729834-975b-41f1-b7a4-cfcd1848f463",
   "metadata": {},
   "outputs": [],
   "source": []
  },
  {
   "cell_type": "code",
   "execution_count": null,
   "id": "162295b3-6b21-400b-bbf2-275b51c44881",
   "metadata": {},
   "outputs": [],
   "source": []
  },
  {
   "cell_type": "code",
   "execution_count": null,
   "id": "7891a0a4-0ef9-4fda-a1b0-2926068c5c53",
   "metadata": {},
   "outputs": [],
   "source": []
  },
  {
   "cell_type": "code",
   "execution_count": null,
   "id": "d0e03717-791d-4aee-a9a3-b4ca7d758f37",
   "metadata": {},
   "outputs": [],
   "source": []
  },
  {
   "cell_type": "code",
   "execution_count": null,
   "id": "c4e174d8-3ad2-4785-98a4-2ccfebea8bfd",
   "metadata": {},
   "outputs": [],
   "source": []
  },
  {
   "cell_type": "code",
   "execution_count": null,
   "id": "3041ea45-cd7a-4d8d-bc03-8de67ff4c562",
   "metadata": {},
   "outputs": [],
   "source": []
  },
  {
   "cell_type": "code",
   "execution_count": null,
   "id": "5057f070-3e54-46e1-8512-887cff2ca0a7",
   "metadata": {},
   "outputs": [],
   "source": []
  },
  {
   "cell_type": "code",
   "execution_count": null,
   "id": "0c78b8c9-4053-4ea1-b84a-7872ba44903b",
   "metadata": {},
   "outputs": [],
   "source": []
  },
  {
   "cell_type": "code",
   "execution_count": null,
   "id": "7eca7ee6-5006-4833-9d71-dbe2a7fe26e5",
   "metadata": {},
   "outputs": [],
   "source": []
  },
  {
   "cell_type": "code",
   "execution_count": null,
   "id": "1582eea1-e288-4b81-91df-017f06d61715",
   "metadata": {},
   "outputs": [],
   "source": []
  },
  {
   "cell_type": "code",
   "execution_count": null,
   "id": "9cff4957-74d6-4490-b99f-540df1d3a1be",
   "metadata": {},
   "outputs": [],
   "source": []
  }
 ],
 "metadata": {
  "kernelspec": {
   "display_name": "Python 3 (ipykernel)",
   "language": "python",
   "name": "python3"
  },
  "language_info": {
   "codemirror_mode": {
    "name": "ipython",
    "version": 3
   },
   "file_extension": ".py",
   "mimetype": "text/x-python",
   "name": "python",
   "nbconvert_exporter": "python",
   "pygments_lexer": "ipython3",
   "version": "3.12.0"
  }
 },
 "nbformat": 4,
 "nbformat_minor": 5
}
